{
 "cells": [
  {
   "cell_type": "markdown",
   "metadata": {},
   "source": [
    "# Sentiment Analysis Web App\n",
    "\n",
    "_Deep Learning Nanodegree Program | Deployment_\n",
    "\n",
    "---\n",
    "\n",
    "In this notebook we will use Amazon's SageMaker service to construct a random tree model to predict the sentiment of a movie review. In addition, we will deploy this model to an endpoint and construct a very simple web app which will interact with our model's deployed endpoint.\n",
    "\n",
    "## General Outline\n",
    "\n",
    "Typically, when using a notebook instance with SageMaker, you will proceed through the following steps. Of course, not every step will need to be done with each project. Also, there is quite a lot of room for variation in many of the steps, as you will see throughout these lessons.\n",
    "\n",
    "1. Download or otherwise retrieve the data.\n",
    "2. Process / Prepare the data.\n",
    "3. Upload the processed data to S3.\n",
    "4. Train a chosen model.\n",
    "5. Test the trained model (typically using a batch transform job).\n",
    "6. Deploy the trained model.\n",
    "7. Use the deployed model.\n",
    "\n",
    "In this notebook we will progress through each of the steps above. We will also see that the final step, using the deployed model, can be quite challenging."
   ]
  },
  {
   "cell_type": "markdown",
   "metadata": {},
   "source": [
    "## Step 1: Downloading the data\n",
    "\n",
    "The dataset we are going to use is very popular among researchers in Natural Language Processing, usually referred to as the [IMDb dataset](http://ai.stanford.edu/~amaas/data/sentiment/). It consists of movie reviews from the website [imdb.com](http://www.imdb.com/), each labeled as either '**pos**itive', if the reviewer enjoyed the film, or '**neg**ative' otherwise.\n",
    "\n",
    "> Maas, Andrew L., et al. [Learning Word Vectors for Sentiment Analysis](http://ai.stanford.edu/~amaas/data/sentiment/). In _Proceedings of the 49th Annual Meeting of the Association for Computational Linguistics: Human Language Technologies_. Association for Computational Linguistics, 2011.\n",
    "\n",
    "We begin by using some Jupyter Notebook magic to download and extract the dataset."
   ]
  },
  {
   "cell_type": "code",
   "execution_count": 1,
   "metadata": {},
   "outputs": [
    {
     "name": "stdout",
     "output_type": "stream",
     "text": [
      "mkdir: cannot create directory ‘../data’: File exists\n",
      "--2020-07-16 12:50:03--  http://ai.stanford.edu/~amaas/data/sentiment/aclImdb_v1.tar.gz\n",
      "Resolving ai.stanford.edu (ai.stanford.edu)... 171.64.68.10\n",
      "Connecting to ai.stanford.edu (ai.stanford.edu)|171.64.68.10|:80... connected.\n",
      "HTTP request sent, awaiting response... 200 OK\n",
      "Length: 84125825 (80M) [application/x-gzip]\n",
      "Saving to: ‘../data/aclImdb_v1.tar.gz’\n",
      "\n",
      "../data/aclImdb_v1. 100%[===================>]  80.23M  22.3MB/s    in 4.8s    \n",
      "\n",
      "2020-07-16 12:50:08 (16.7 MB/s) - ‘../data/aclImdb_v1.tar.gz’ saved [84125825/84125825]\n",
      "\n"
     ]
    }
   ],
   "source": [
    "%mkdir ../data\n",
    "!wget -O ../data/aclImdb_v1.tar.gz http://ai.stanford.edu/~amaas/data/sentiment/aclImdb_v1.tar.gz\n",
    "!tar -zxf ../data/aclImdb_v1.tar.gz -C ../data"
   ]
  },
  {
   "cell_type": "markdown",
   "metadata": {},
   "source": [
    "## Step 2: Preparing and Processing the data\n",
    "\n",
    "The data we have downloaded is split into various files, each of which contains a single review. It will be much easier going forward if we combine these individual files into two large files, one for training and one for testing."
   ]
  },
  {
   "cell_type": "code",
   "execution_count": 2,
   "metadata": {},
   "outputs": [],
   "source": [
    "import os\n",
    "import glob\n",
    "\n",
    "def read_imdb_data(data_dir='../data/aclImdb'):\n",
    "    data = {}\n",
    "    labels = {}\n",
    "    \n",
    "    for data_type in ['train', 'test']:\n",
    "        data[data_type] = {}\n",
    "        labels[data_type] = {}\n",
    "        \n",
    "        for sentiment in ['pos', 'neg']:\n",
    "            data[data_type][sentiment] = []\n",
    "            labels[data_type][sentiment] = []\n",
    "            \n",
    "            path = os.path.join(data_dir, data_type, sentiment, '*.txt')\n",
    "            files = glob.glob(path)\n",
    "            \n",
    "            for f in files:\n",
    "                with open(f) as review:\n",
    "                    data[data_type][sentiment].append(review.read())\n",
    "                    # Here we represent a positive review by '1' and a negative review by '0'\n",
    "                    labels[data_type][sentiment].append(1 if sentiment == 'pos' else 0)\n",
    "                    \n",
    "            assert len(data[data_type][sentiment]) == len(labels[data_type][sentiment]), \\\n",
    "                    \"{}/{} data size does not match labels size\".format(data_type, sentiment)\n",
    "                \n",
    "    return data, labels"
   ]
  },
  {
   "cell_type": "code",
   "execution_count": 3,
   "metadata": {},
   "outputs": [
    {
     "name": "stdout",
     "output_type": "stream",
     "text": [
      "IMDB reviews: train = 12500 pos / 12500 neg, test = 12500 pos / 12500 neg\n"
     ]
    }
   ],
   "source": [
    "data, labels = read_imdb_data()\n",
    "print(\"IMDB reviews: train = {} pos / {} neg, test = {} pos / {} neg\".format(\n",
    "            len(data['train']['pos']), len(data['train']['neg']),\n",
    "            len(data['test']['pos']), len(data['test']['neg'])))"
   ]
  },
  {
   "cell_type": "code",
   "execution_count": 4,
   "metadata": {},
   "outputs": [],
   "source": [
    "from sklearn.utils import shuffle\n",
    "\n",
    "def prepare_imdb_data(data, labels):\n",
    "    \"\"\"Prepare training and test sets from IMDb movie reviews.\"\"\"\n",
    "    \n",
    "    #Combine positive and negative reviews and labels\n",
    "    data_train = data['train']['pos'] + data['train']['neg']\n",
    "    data_test = data['test']['pos'] + data['test']['neg']\n",
    "    labels_train = labels['train']['pos'] + labels['train']['neg']\n",
    "    labels_test = labels['test']['pos'] + labels['test']['neg']\n",
    "    \n",
    "    #Shuffle reviews and corresponding labels within training and test sets\n",
    "    data_train, labels_train = shuffle(data_train, labels_train)\n",
    "    data_test, labels_test = shuffle(data_test, labels_test)\n",
    "    \n",
    "    # Return a unified training data, test data, training labels, test labets\n",
    "    return data_train, data_test, labels_train, labels_test"
   ]
  },
  {
   "cell_type": "code",
   "execution_count": 5,
   "metadata": {},
   "outputs": [
    {
     "name": "stdout",
     "output_type": "stream",
     "text": [
      "IMDb reviews (combined): train = 25000, test = 25000\n"
     ]
    }
   ],
   "source": [
    "train_X, test_X, train_y, test_y = prepare_imdb_data(data, labels)\n",
    "print(\"IMDb reviews (combined): train = {}, test = {}\".format(len(train_X), len(test_X)))"
   ]
  },
  {
   "cell_type": "code",
   "execution_count": 6,
   "metadata": {},
   "outputs": [
    {
     "data": {
      "text/plain": [
       "\"This was longer than the Ten Commandments, All Lord of the Rings and the Matrix Trilogy combined. My oh My, what a nightmare. This is the single biggest over-hype of 2006. THere is not a moment that is not scripted and clichéd. Movie Musicals can be done brilliantly and bring genuine excitement to the viewer. Dreamgirls takes the route of Chinese Water Torture, in the form of endless music montages, shoddy acting, and poor directing choices (Seriously, Mr. Condon, did you HAVE to do the old Billboard countdown shots? It's at #58! No wait, look its rising up the charts and here is the passing Billboard notice to show you again....and again....and again)\""
      ]
     },
     "execution_count": 6,
     "metadata": {},
     "output_type": "execute_result"
    }
   ],
   "source": [
    "train_X[100]"
   ]
  },
  {
   "cell_type": "markdown",
   "metadata": {},
   "source": [
    "## Processing the data\n",
    "\n",
    "Now that we have our training and testing datasets merged and ready to use, we need to start processing the raw data into something that will be useable by our machine learning algorithm. To begin with, we remove any html formatting and any non-alpha numeric characters that may appear in the reviews. We will do this in a very simplistic way using Python's regular expression module. We will discuss the reason for this rather simplistic pre-processing later on."
   ]
  },
  {
   "cell_type": "code",
   "execution_count": 7,
   "metadata": {},
   "outputs": [],
   "source": [
    "import re\n",
    "\n",
    "REPLACE_NO_SPACE = re.compile(\"(\\.)|(\\;)|(\\:)|(\\!)|(\\')|(\\?)|(\\,)|(\\\")|(\\()|(\\))|(\\[)|(\\])\")\n",
    "REPLACE_WITH_SPACE = re.compile(\"(<br\\s*/><br\\s*/>)|(\\-)|(\\/)\")\n",
    "\n",
    "def review_to_words(review):\n",
    "    words = REPLACE_NO_SPACE.sub(\"\", review.lower())\n",
    "    words = REPLACE_WITH_SPACE.sub(\" \", words)\n",
    "    return words"
   ]
  },
  {
   "cell_type": "code",
   "execution_count": 8,
   "metadata": {},
   "outputs": [
    {
     "data": {
      "text/plain": [
       "'this was longer than the ten commandments all lord of the rings and the matrix trilogy combined my oh my what a nightmare this is the single biggest over hype of 2006 there is not a moment that is not scripted and clichéd movie musicals can be done brilliantly and bring genuine excitement to the viewer dreamgirls takes the route of chinese water torture in the form of endless music montages shoddy acting and poor directing choices seriously mr condon did you have to do the old billboard countdown shots its at #58 no wait look its rising up the charts and here is the passing billboard notice to show you againand againand again'"
      ]
     },
     "execution_count": 8,
     "metadata": {},
     "output_type": "execute_result"
    }
   ],
   "source": [
    "review_to_words(train_X[100])"
   ]
  },
  {
   "cell_type": "code",
   "execution_count": 9,
   "metadata": {},
   "outputs": [],
   "source": [
    "import pickle\n",
    "\n",
    "cache_dir = os.path.join(\"../cache\", \"sentiment_web_app\")  # where to store cache files\n",
    "os.makedirs(cache_dir, exist_ok=True)  # ensure cache directory exists\n",
    "\n",
    "def preprocess_data(data_train, data_test, labels_train, labels_test,\n",
    "                    cache_dir=cache_dir, cache_file=\"preprocessed_data.pkl\"):\n",
    "    \"\"\"Convert each review to words; read from cache if available.\"\"\"\n",
    "\n",
    "    # If cache_file is not None, try to read from it first\n",
    "    cache_data = None\n",
    "    if cache_file is not None:\n",
    "        try:\n",
    "            with open(os.path.join(cache_dir, cache_file), \"rb\") as f:\n",
    "                cache_data = pickle.load(f)\n",
    "            print(\"Read preprocessed data from cache file:\", cache_file)\n",
    "        except:\n",
    "            pass  # unable to read from cache, but that's okay\n",
    "    \n",
    "    # If cache is missing, then do the heavy lifting\n",
    "    if cache_data is None:\n",
    "        # Preprocess training and test data to obtain words for each review\n",
    "        #words_train = list(map(review_to_words, data_train))\n",
    "        #words_test = list(map(review_to_words, data_test))\n",
    "        words_train = [review_to_words(review) for review in data_train]\n",
    "        words_test = [review_to_words(review) for review in data_test]\n",
    "        \n",
    "        # Write to cache file for future runs\n",
    "        if cache_file is not None:\n",
    "            cache_data = dict(words_train=words_train, words_test=words_test,\n",
    "                              labels_train=labels_train, labels_test=labels_test)\n",
    "            with open(os.path.join(cache_dir, cache_file), \"wb\") as f:\n",
    "                pickle.dump(cache_data, f)\n",
    "            print(\"Wrote preprocessed data to cache file:\", cache_file)\n",
    "    else:\n",
    "        # Unpack data loaded from cache file\n",
    "        words_train, words_test, labels_train, labels_test = (cache_data['words_train'],\n",
    "                cache_data['words_test'], cache_data['labels_train'], cache_data['labels_test'])\n",
    "    \n",
    "    return words_train, words_test, labels_train, labels_test"
   ]
  },
  {
   "cell_type": "code",
   "execution_count": 10,
   "metadata": {},
   "outputs": [
    {
     "name": "stdout",
     "output_type": "stream",
     "text": [
      "Read preprocessed data from cache file: preprocessed_data.pkl\n"
     ]
    }
   ],
   "source": [
    "# Preprocess data\n",
    "train_X, test_X, train_y, test_y = preprocess_data(train_X, test_X, train_y, test_y)"
   ]
  },
  {
   "cell_type": "markdown",
   "metadata": {},
   "source": [
    "### Extract Bag-of-Words features\n",
    "\n",
    "For the model we will be implementing, rather than using the reviews directly, we are going to transform each review into a Bag-of-Words feature representation. Keep in mind that 'in the wild' we will only have access to the training set so our transformer can only use the training set to construct a representation."
   ]
  },
  {
   "cell_type": "code",
   "execution_count": 11,
   "metadata": {},
   "outputs": [
    {
     "name": "stderr",
     "output_type": "stream",
     "text": [
      "/home/ec2-user/anaconda3/envs/python3/lib/python3.6/site-packages/sklearn/externals/joblib/__init__.py:15: FutureWarning: sklearn.externals.joblib is deprecated in 0.21 and will be removed in 0.23. Please import this functionality directly from joblib, which can be installed with: pip install joblib. If this warning is raised when loading pickled models, you may need to re-serialize those models with scikit-learn 0.21+.\n",
      "  warnings.warn(msg, category=FutureWarning)\n"
     ]
    }
   ],
   "source": [
    "import numpy as np\n",
    "from sklearn.feature_extraction.text import CountVectorizer\n",
    "from sklearn.externals import joblib\n",
    "# joblib is an enhanced version of pickle that is more efficient for storing NumPy arrays\n",
    "\n",
    "def extract_BoW_features(words_train, words_test, vocabulary_size=5000,\n",
    "                         cache_dir=cache_dir, cache_file=\"bow_features-0.pkl\"):\n",
    "    \"\"\"Extract Bag-of-Words for a given set of documents, already preprocessed into words.\"\"\"\n",
    "    \n",
    "    # If cache_file is not None, try to read from it first\n",
    "    cache_data = None\n",
    "    if cache_file is not None:\n",
    "        try:\n",
    "            with open(os.path.join(cache_dir, cache_file), \"rb\") as f:\n",
    "                cache_data = joblib.load(f)\n",
    "            print(\"Read features from cache file:\", cache_file)\n",
    "        except:\n",
    "            pass  # unable to read from cache, but that's okay\n",
    "    \n",
    "    # If cache is missing, then do the heavy lifting\n",
    "    if cache_data is None:\n",
    "        # Fit a vectorizer to training documents and use it to transform them\n",
    "        # NOTE: Training documents have already been preprocessed and tokenized into words;\n",
    "        #       pass in dummy functions to skip those steps, e.g. preprocessor=lambda x: x\n",
    "        vectorizer = CountVectorizer(max_features=vocabulary_size)\n",
    "        features_train = vectorizer.fit_transform(words_train).toarray()\n",
    "\n",
    "        # Apply the same vectorizer to transform the test documents (ignore unknown words)\n",
    "        features_test = vectorizer.transform(words_test).toarray()\n",
    "        \n",
    "        # NOTE: Remember to convert the features using .toarray() for a compact representation\n",
    "        \n",
    "        # Write to cache file for future runs (store vocabulary as well)\n",
    "        if cache_file is not None:\n",
    "            vocabulary = vectorizer.vocabulary_\n",
    "            cache_data = dict(features_train=features_train, features_test=features_test,\n",
    "                             vocabulary=vocabulary)\n",
    "            with open(os.path.join(cache_dir, cache_file), \"wb\") as f:\n",
    "                joblib.dump(cache_data, f)\n",
    "            print(\"Wrote features to cache file:\", cache_file)\n",
    "    else:\n",
    "        # Unpack data loaded from cache file\n",
    "        features_train, features_test, vocabulary = (cache_data['features_train'],\n",
    "                cache_data['features_test'], cache_data['vocabulary'])\n",
    "    \n",
    "    # Return both the extracted features as well as the vocabulary\n",
    "    return features_train, features_test, vocabulary"
   ]
  },
  {
   "cell_type": "code",
   "execution_count": 12,
   "metadata": {},
   "outputs": [
    {
     "name": "stdout",
     "output_type": "stream",
     "text": [
      "Read features from cache file: bow_features-0.pkl\n"
     ]
    }
   ],
   "source": [
    "# Extract Bag of Words features for both training and test datasets\n",
    "train_X, test_X, vocabulary = extract_BoW_features(train_X, test_X)"
   ]
  },
  {
   "cell_type": "code",
   "execution_count": 13,
   "metadata": {},
   "outputs": [
    {
     "data": {
      "text/plain": [
       "5000"
      ]
     },
     "execution_count": 13,
     "metadata": {},
     "output_type": "execute_result"
    }
   ],
   "source": [
    "len(train_X[100])"
   ]
  },
  {
   "cell_type": "markdown",
   "metadata": {},
   "source": [
    "## Step 3: Upload data to S3\n",
    "\n",
    "Now that we have created the feature representation of our training (and testing) data, it is time to start setting up and using the XGBoost classifier provided by SageMaker.\n",
    "\n",
    "### Writing the datasets\n",
    "\n",
    "The XGBoost classifier that we will be using requires the dataset to be written to a file and stored using Amazon S3. To do this, we will start by splitting the training dataset into two parts, the data we will train the model with and a validation set. Then, we will write those datasets to a file locally and then upload the files to S3. In addition, we will write the test set to a file and upload that file to S3. This is so that we can use SageMakers Batch Transform functionality to test our model once we've fit it."
   ]
  },
  {
   "cell_type": "code",
   "execution_count": 14,
   "metadata": {},
   "outputs": [],
   "source": [
    "import pandas as pd\n",
    "\n",
    "# Earlier we shuffled the training dataset so to make things simple we can just assign\n",
    "# the first 10 000 reviews to the validation set and use the remaining reviews for training.\n",
    "val_X = pd.DataFrame(train_X[:10000])\n",
    "train_X = pd.DataFrame(train_X[10000:])\n",
    "\n",
    "val_y = pd.DataFrame(train_y[:10000])\n",
    "train_y = pd.DataFrame(train_y[10000:])"
   ]
  },
  {
   "cell_type": "markdown",
   "metadata": {},
   "source": [
    "The documentation for the XGBoost algorithm in SageMaker requires that the training and validation datasets should contain no headers or index and that the label should occur first for each sample.\n",
    "\n",
    "For more information about this and other algorithms, the SageMaker developer documentation can be found on __[Amazon's website.](https://docs.aws.amazon.com/sagemaker/latest/dg/)__"
   ]
  },
  {
   "cell_type": "code",
   "execution_count": 15,
   "metadata": {},
   "outputs": [],
   "source": [
    "# First we make sure that the local directory in which we'd like to store the training and validation csv files exists.\n",
    "data_dir = '../data/sentiment_web_app'\n",
    "if not os.path.exists(data_dir):\n",
    "    os.makedirs(data_dir)"
   ]
  },
  {
   "cell_type": "code",
   "execution_count": 16,
   "metadata": {},
   "outputs": [],
   "source": [
    "pd.DataFrame(test_X).to_csv(os.path.join(data_dir, 'test.csv'), header=False, index=False)\n",
    "\n",
    "pd.concat([val_y, val_X], axis=1).to_csv(os.path.join(data_dir, 'validation.csv'), header=False, index=False)\n",
    "pd.concat([train_y, train_X], axis=1).to_csv(os.path.join(data_dir, 'train.csv'), header=False, index=False)"
   ]
  },
  {
   "cell_type": "code",
   "execution_count": 17,
   "metadata": {},
   "outputs": [],
   "source": [
    "# To save a bit of memory we can set text_X, train_X, val_X, train_y and val_y to None.\n",
    "\n",
    "test_X = train_X = val_X = train_y = val_y = None"
   ]
  },
  {
   "cell_type": "markdown",
   "metadata": {},
   "source": [
    "### Uploading Training / Validation files to S3\n",
    "\n",
    "Amazon's S3 service allows us to store files that can be accessed by both the built-in training models such as the XGBoost model we will be using as well as custom models such as the one we will see a little later.\n",
    "\n",
    "For this and most other tasks we will be doing using SageMaker, there are two methods we could use. The first is to use the low level functionality of SageMaker which requires knowing each of the objects involved in the SageMaker environment. The second is to use the high level functionality in which certain choices have been made on the user's behalf. The low level approach benefits from allowing the user a great deal of flexibility while the high level approach makes development much quicker. For our purposes we will opt to use the high level approach although using the low-level approach is certainly an option.\n",
    "\n",
    "Recall the method `upload_data()` which is a member of the object representing our current SageMaker session. What this method does is upload the data to the default bucket (which is created if it does not exist) into the path described by the key_prefix variable. To see this for yourself, once you have uploaded the data files, go to the S3 console and look to see where the files have been uploaded.\n",
    "\n",
    "For additional resources, see the __[SageMaker API documentation](http://sagemaker.readthedocs.io/en/latest/)__ and in addition the __[SageMaker Developer Guide.](https://docs.aws.amazon.com/sagemaker/latest/dg/)__"
   ]
  },
  {
   "cell_type": "code",
   "execution_count": 18,
   "metadata": {},
   "outputs": [],
   "source": [
    "import sagemaker\n",
    "\n",
    "session = sagemaker.Session() # Store the current SageMaker session\n",
    "\n",
    "# S3 prefix (which folder will we use)\n",
    "prefix = 'sentiment-web-app'\n",
    "\n",
    "test_location = session.upload_data(os.path.join(data_dir, 'test.csv'), key_prefix=prefix)\n",
    "val_location = session.upload_data(os.path.join(data_dir, 'validation.csv'), key_prefix=prefix)\n",
    "train_location = session.upload_data(os.path.join(data_dir, 'train.csv'), key_prefix=prefix)"
   ]
  },
  {
   "cell_type": "markdown",
   "metadata": {},
   "source": [
    "## Step 4: Creating the XGBoost model\n",
    "\n",
    "Now that the data has been uploaded it is time to create the XGBoost model. To begin with, we need to do some setup. At this point it is worth discussing what a model is in SageMaker. It is easiest to think of a model of comprising three different objects in the SageMaker ecosystem, which interact with one another.\n",
    "\n",
    "- Model Artifacts\n",
    "- Training Code (Container)\n",
    "- Inference Code (Container)\n",
    "\n",
    "The Model Artifacts are what you might think of as the actual model itself. For example, if you were building a neural network, the model artifacts would be the weights of the various layers. In our case, for an XGBoost model, the artifacts are the actual trees that are created during training.\n",
    "\n",
    "The other two objects, the training code and the inference code are then used to manipulate the training artifacts. More precisely, the training code uses the training data that is provided and creates the model artifacts, while the inference code uses the model artifacts to make predictions on new data.\n",
    "\n",
    "The way that SageMaker runs the training and inference code is by making use of Docker containers. For now, think of a container as being a way of packaging code up so that dependencies aren't an issue."
   ]
  },
  {
   "cell_type": "code",
   "execution_count": 19,
   "metadata": {},
   "outputs": [],
   "source": [
    "from sagemaker import get_execution_role\n",
    "\n",
    "# Our current execution role is required when creating the model as the training\n",
    "# and inference code will need to access the model artifacts.\n",
    "role = get_execution_role()"
   ]
  },
  {
   "cell_type": "code",
   "execution_count": 20,
   "metadata": {},
   "outputs": [
    {
     "name": "stderr",
     "output_type": "stream",
     "text": [
      "'get_image_uri' method will be deprecated in favor of 'ImageURIProvider' class in SageMaker Python SDK v2.\n",
      "WARNING:root:There is a more up to date SageMaker XGBoost image. To use the newer image, please set 'repo_version'='1.0-1'. For example:\n",
      "\tget_image_uri(region, 'xgboost', '1.0-1').\n"
     ]
    }
   ],
   "source": [
    "# We need to retrieve the location of the container which is provided by Amazon for using XGBoost.\n",
    "# As a matter of convenience, the training and inference code both use the same container.\n",
    "from sagemaker.amazon.amazon_estimator import get_image_uri\n",
    "\n",
    "container = get_image_uri(session.boto_region_name, 'xgboost')"
   ]
  },
  {
   "cell_type": "code",
   "execution_count": 21,
   "metadata": {},
   "outputs": [
    {
     "name": "stderr",
     "output_type": "stream",
     "text": [
      "WARNING:root:Parameter image_name will be renamed to image_uri in SageMaker Python SDK v2.\n"
     ]
    }
   ],
   "source": [
    "# First we create a SageMaker estimator object for our model.\n",
    "xgb = sagemaker.estimator.Estimator(container, # The location of the container we wish to use\n",
    "                                    role,                                    # What is our current IAM Role\n",
    "                                    train_instance_count=1,                  # How many compute instances\n",
    "                                    train_instance_type='ml.m4.xlarge',      # What kind of compute instances\n",
    "                                    output_path='s3://{}/{}/output'.format(session.default_bucket(), prefix),\n",
    "                                    sagemaker_session=session)\n",
    "\n",
    "# And then set the algorithm specific parameters.\n",
    "xgb.set_hyperparameters(max_depth=5,\n",
    "                        eta=0.2,\n",
    "                        gamma=4,\n",
    "                        min_child_weight=6,\n",
    "                        subsample=0.8,\n",
    "                        silent=0,\n",
    "                        objective='binary:logistic',\n",
    "                        early_stopping_rounds=10,\n",
    "                        num_round=500)"
   ]
  },
  {
   "cell_type": "markdown",
   "metadata": {},
   "source": [
    "### Fit the XGBoost model\n",
    "\n",
    "Now that our model has been set up we simply need to attach the training and validation datasets and then ask SageMaker to set up the computation."
   ]
  },
  {
   "cell_type": "code",
   "execution_count": 22,
   "metadata": {},
   "outputs": [
    {
     "name": "stderr",
     "output_type": "stream",
     "text": [
      "WARNING:sagemaker:'s3_input' class will be renamed to 'TrainingInput' in SageMaker Python SDK v2.\n",
      "WARNING:sagemaker:'s3_input' class will be renamed to 'TrainingInput' in SageMaker Python SDK v2.\n"
     ]
    }
   ],
   "source": [
    "s3_input_train = sagemaker.s3_input(s3_data=train_location, content_type='csv')\n",
    "s3_input_validation = sagemaker.s3_input(s3_data=val_location, content_type='csv')"
   ]
  },
  {
   "cell_type": "code",
   "execution_count": 23,
   "metadata": {},
   "outputs": [
    {
     "name": "stdout",
     "output_type": "stream",
     "text": [
      "2020-07-16 13:12:17 Starting - Starting the training job...\n",
      "2020-07-16 13:12:19 Starting - Launching requested ML instances.........\n",
      "2020-07-16 13:14:04 Starting - Preparing the instances for training......\n",
      "2020-07-16 13:15:00 Downloading - Downloading input data...\n",
      "2020-07-16 13:15:34 Training - Downloading the training image..\u001b[34mArguments: train\u001b[0m\n",
      "\u001b[34m[2020-07-16:13:15:56:INFO] Running standalone xgboost training.\u001b[0m\n",
      "\u001b[34m[2020-07-16:13:15:56:INFO] File size need to be processed in the node: 238.5mb. Available memory size in the node: 8493.89mb\u001b[0m\n",
      "\u001b[34m[2020-07-16:13:15:56:INFO] Determined delimiter of CSV input is ','\u001b[0m\n",
      "\u001b[34m[13:15:56] S3DistributionType set as FullyReplicated\u001b[0m\n",
      "\u001b[34m[13:15:58] 15000x5000 matrix with 75000000 entries loaded from /opt/ml/input/data/train?format=csv&label_column=0&delimiter=,\u001b[0m\n",
      "\u001b[34m[2020-07-16:13:15:58:INFO] Determined delimiter of CSV input is ','\u001b[0m\n",
      "\u001b[34m[13:15:58] S3DistributionType set as FullyReplicated\u001b[0m\n",
      "\u001b[34m[13:15:59] 10000x5000 matrix with 50000000 entries loaded from /opt/ml/input/data/validation?format=csv&label_column=0&delimiter=,\u001b[0m\n",
      "\u001b[34m[13:16:02] src/tree/updater_prune.cc:74: tree pruning end, 1 roots, 36 extra nodes, 6 pruned nodes, max_depth=5\u001b[0m\n",
      "\u001b[34m[0]#011train-error:0.308133#011validation-error:0.3044\u001b[0m\n",
      "\u001b[34mMultiple eval metrics have been passed: 'validation-error' will be used for early stopping.\n",
      "\u001b[0m\n",
      "\u001b[34mWill train until validation-error hasn't improved in 10 rounds.\u001b[0m\n",
      "\u001b[34m[13:16:03] src/tree/updater_prune.cc:74: tree pruning end, 1 roots, 46 extra nodes, 0 pruned nodes, max_depth=5\u001b[0m\n",
      "\u001b[34m[1]#011train-error:0.289533#011validation-error:0.2955\u001b[0m\n",
      "\u001b[34m[13:16:05] src/tree/updater_prune.cc:74: tree pruning end, 1 roots, 38 extra nodes, 10 pruned nodes, max_depth=5\u001b[0m\n",
      "\u001b[34m[2]#011train-error:0.284667#011validation-error:0.2838\u001b[0m\n",
      "\u001b[34m[13:16:06] src/tree/updater_prune.cc:74: tree pruning end, 1 roots, 38 extra nodes, 4 pruned nodes, max_depth=5\u001b[0m\n",
      "\u001b[34m[3]#011train-error:0.278733#011validation-error:0.2795\u001b[0m\n",
      "\n",
      "2020-07-16 13:15:55 Training - Training image download completed. Training in progress.\u001b[34m[13:16:08] src/tree/updater_prune.cc:74: tree pruning end, 1 roots, 46 extra nodes, 4 pruned nodes, max_depth=5\u001b[0m\n",
      "\u001b[34m[4]#011train-error:0.2706#011validation-error:0.2741\u001b[0m\n",
      "\u001b[34m[13:16:09] src/tree/updater_prune.cc:74: tree pruning end, 1 roots, 30 extra nodes, 6 pruned nodes, max_depth=5\u001b[0m\n",
      "\u001b[34m[5]#011train-error:0.261533#011validation-error:0.2639\u001b[0m\n",
      "\u001b[34m[13:16:10] src/tree/updater_prune.cc:74: tree pruning end, 1 roots, 26 extra nodes, 8 pruned nodes, max_depth=5\u001b[0m\n",
      "\u001b[34m[6]#011train-error:0.248867#011validation-error:0.2549\u001b[0m\n",
      "\u001b[34m[13:16:12] src/tree/updater_prune.cc:74: tree pruning end, 1 roots, 32 extra nodes, 2 pruned nodes, max_depth=5\u001b[0m\n",
      "\u001b[34m[7]#011train-error:0.239933#011validation-error:0.2465\u001b[0m\n",
      "\u001b[34m[13:16:13] src/tree/updater_prune.cc:74: tree pruning end, 1 roots, 34 extra nodes, 0 pruned nodes, max_depth=5\u001b[0m\n",
      "\u001b[34m[8]#011train-error:0.234533#011validation-error:0.2419\u001b[0m\n",
      "\u001b[34m[13:16:14] src/tree/updater_prune.cc:74: tree pruning end, 1 roots, 30 extra nodes, 12 pruned nodes, max_depth=5\u001b[0m\n",
      "\u001b[34m[9]#011train-error:0.227467#011validation-error:0.2381\u001b[0m\n",
      "\u001b[34m[13:16:15] src/tree/updater_prune.cc:74: tree pruning end, 1 roots, 40 extra nodes, 8 pruned nodes, max_depth=5\u001b[0m\n",
      "\u001b[34m[10]#011train-error:0.222933#011validation-error:0.237\u001b[0m\n",
      "\u001b[34m[13:16:17] src/tree/updater_prune.cc:74: tree pruning end, 1 roots, 26 extra nodes, 4 pruned nodes, max_depth=5\u001b[0m\n",
      "\u001b[34m[11]#011train-error:0.220533#011validation-error:0.2338\u001b[0m\n",
      "\u001b[34m[13:16:18] src/tree/updater_prune.cc:74: tree pruning end, 1 roots, 26 extra nodes, 12 pruned nodes, max_depth=5\u001b[0m\n",
      "\u001b[34m[12]#011train-error:0.218533#011validation-error:0.2313\u001b[0m\n",
      "\u001b[34m[13:16:19] src/tree/updater_prune.cc:74: tree pruning end, 1 roots, 30 extra nodes, 8 pruned nodes, max_depth=5\u001b[0m\n",
      "\u001b[34m[13]#011train-error:0.214467#011validation-error:0.2277\u001b[0m\n",
      "\u001b[34m[13:16:21] src/tree/updater_prune.cc:74: tree pruning end, 1 roots, 38 extra nodes, 8 pruned nodes, max_depth=5\u001b[0m\n",
      "\u001b[34m[14]#011train-error:0.209333#011validation-error:0.2229\u001b[0m\n",
      "\u001b[34m[13:16:22] src/tree/updater_prune.cc:74: tree pruning end, 1 roots, 36 extra nodes, 6 pruned nodes, max_depth=5\u001b[0m\n",
      "\u001b[34m[15]#011train-error:0.2048#011validation-error:0.2193\u001b[0m\n",
      "\u001b[34m[13:16:23] src/tree/updater_prune.cc:74: tree pruning end, 1 roots, 20 extra nodes, 14 pruned nodes, max_depth=5\u001b[0m\n",
      "\u001b[34m[16]#011train-error:0.201067#011validation-error:0.2136\u001b[0m\n",
      "\u001b[34m[13:16:24] src/tree/updater_prune.cc:74: tree pruning end, 1 roots, 22 extra nodes, 12 pruned nodes, max_depth=5\u001b[0m\n",
      "\u001b[34m[17]#011train-error:0.197867#011validation-error:0.2112\u001b[0m\n",
      "\u001b[34m[13:16:26] src/tree/updater_prune.cc:74: tree pruning end, 1 roots, 28 extra nodes, 12 pruned nodes, max_depth=5\u001b[0m\n",
      "\u001b[34m[18]#011train-error:0.1986#011validation-error:0.2123\u001b[0m\n",
      "\u001b[34m[13:16:27] src/tree/updater_prune.cc:74: tree pruning end, 1 roots, 36 extra nodes, 2 pruned nodes, max_depth=5\u001b[0m\n",
      "\u001b[34m[19]#011train-error:0.1958#011validation-error:0.2092\u001b[0m\n",
      "\u001b[34m[13:16:28] src/tree/updater_prune.cc:74: tree pruning end, 1 roots, 24 extra nodes, 4 pruned nodes, max_depth=5\u001b[0m\n",
      "\u001b[34m[20]#011train-error:0.193333#011validation-error:0.2054\u001b[0m\n",
      "\u001b[34m[13:16:29] src/tree/updater_prune.cc:74: tree pruning end, 1 roots, 38 extra nodes, 6 pruned nodes, max_depth=5\u001b[0m\n",
      "\u001b[34m[21]#011train-error:0.1892#011validation-error:0.2034\u001b[0m\n",
      "\u001b[34m[13:16:31] src/tree/updater_prune.cc:74: tree pruning end, 1 roots, 38 extra nodes, 8 pruned nodes, max_depth=5\u001b[0m\n",
      "\u001b[34m[22]#011train-error:0.1864#011validation-error:0.2019\u001b[0m\n",
      "\u001b[34m[13:16:32] src/tree/updater_prune.cc:74: tree pruning end, 1 roots, 32 extra nodes, 12 pruned nodes, max_depth=5\u001b[0m\n",
      "\u001b[34m[23]#011train-error:0.182933#011validation-error:0.1999\u001b[0m\n",
      "\u001b[34m[13:16:33] src/tree/updater_prune.cc:74: tree pruning end, 1 roots, 34 extra nodes, 6 pruned nodes, max_depth=5\u001b[0m\n",
      "\u001b[34m[24]#011train-error:0.180267#011validation-error:0.2004\u001b[0m\n",
      "\u001b[34m[13:16:35] src/tree/updater_prune.cc:74: tree pruning end, 1 roots, 18 extra nodes, 10 pruned nodes, max_depth=5\u001b[0m\n",
      "\u001b[34m[25]#011train-error:0.178133#011validation-error:0.1989\u001b[0m\n",
      "\u001b[34m[13:16:36] src/tree/updater_prune.cc:74: tree pruning end, 1 roots, 22 extra nodes, 8 pruned nodes, max_depth=5\u001b[0m\n",
      "\u001b[34m[26]#011train-error:0.176933#011validation-error:0.196\u001b[0m\n",
      "\u001b[34m[13:16:37] src/tree/updater_prune.cc:74: tree pruning end, 1 roots, 24 extra nodes, 8 pruned nodes, max_depth=5\u001b[0m\n",
      "\u001b[34m[27]#011train-error:0.175267#011validation-error:0.1947\u001b[0m\n",
      "\u001b[34m[13:16:38] src/tree/updater_prune.cc:74: tree pruning end, 1 roots, 32 extra nodes, 6 pruned nodes, max_depth=5\u001b[0m\n",
      "\u001b[34m[28]#011train-error:0.173267#011validation-error:0.1931\u001b[0m\n",
      "\u001b[34m[13:16:40] src/tree/updater_prune.cc:74: tree pruning end, 1 roots, 20 extra nodes, 12 pruned nodes, max_depth=5\u001b[0m\n",
      "\u001b[34m[29]#011train-error:0.1706#011validation-error:0.1919\u001b[0m\n",
      "\u001b[34m[13:16:41] src/tree/updater_prune.cc:74: tree pruning end, 1 roots, 16 extra nodes, 6 pruned nodes, max_depth=5\u001b[0m\n",
      "\u001b[34m[30]#011train-error:0.1696#011validation-error:0.1896\u001b[0m\n",
      "\u001b[34m[13:16:42] src/tree/updater_prune.cc:74: tree pruning end, 1 roots, 34 extra nodes, 10 pruned nodes, max_depth=5\u001b[0m\n",
      "\u001b[34m[31]#011train-error:0.165867#011validation-error:0.1905\u001b[0m\n",
      "\u001b[34m[13:16:43] src/tree/updater_prune.cc:74: tree pruning end, 1 roots, 36 extra nodes, 4 pruned nodes, max_depth=5\u001b[0m\n",
      "\u001b[34m[32]#011train-error:0.163467#011validation-error:0.1881\u001b[0m\n",
      "\u001b[34m[13:16:45] src/tree/updater_prune.cc:74: tree pruning end, 1 roots, 32 extra nodes, 2 pruned nodes, max_depth=5\u001b[0m\n",
      "\u001b[34m[33]#011train-error:0.163467#011validation-error:0.1897\u001b[0m\n",
      "\u001b[34m[13:16:46] src/tree/updater_prune.cc:74: tree pruning end, 1 roots, 20 extra nodes, 4 pruned nodes, max_depth=5\u001b[0m\n",
      "\u001b[34m[34]#011train-error:0.163067#011validation-error:0.1874\u001b[0m\n",
      "\u001b[34m[13:16:47] src/tree/updater_prune.cc:74: tree pruning end, 1 roots, 24 extra nodes, 6 pruned nodes, max_depth=5\u001b[0m\n",
      "\u001b[34m[35]#011train-error:0.1606#011validation-error:0.1866\u001b[0m\n",
      "\u001b[34m[13:16:49] src/tree/updater_prune.cc:74: tree pruning end, 1 roots, 16 extra nodes, 4 pruned nodes, max_depth=5\u001b[0m\n",
      "\u001b[34m[36]#011train-error:0.158667#011validation-error:0.1856\u001b[0m\n",
      "\u001b[34m[13:16:50] src/tree/updater_prune.cc:74: tree pruning end, 1 roots, 28 extra nodes, 4 pruned nodes, max_depth=5\u001b[0m\n",
      "\u001b[34m[37]#011train-error:0.1576#011validation-error:0.1857\u001b[0m\n",
      "\u001b[34m[13:16:51] src/tree/updater_prune.cc:74: tree pruning end, 1 roots, 28 extra nodes, 16 pruned nodes, max_depth=5\u001b[0m\n",
      "\u001b[34m[38]#011train-error:0.156267#011validation-error:0.1843\u001b[0m\n",
      "\u001b[34m[13:16:52] src/tree/updater_prune.cc:74: tree pruning end, 1 roots, 30 extra nodes, 8 pruned nodes, max_depth=5\u001b[0m\n",
      "\u001b[34m[39]#011train-error:0.155933#011validation-error:0.1821\u001b[0m\n",
      "\u001b[34m[13:16:54] src/tree/updater_prune.cc:74: tree pruning end, 1 roots, 26 extra nodes, 12 pruned nodes, max_depth=5\u001b[0m\n",
      "\u001b[34m[40]#011train-error:0.155533#011validation-error:0.1814\u001b[0m\n",
      "\u001b[34m[13:16:55] src/tree/updater_prune.cc:74: tree pruning end, 1 roots, 24 extra nodes, 16 pruned nodes, max_depth=5\u001b[0m\n",
      "\u001b[34m[41]#011train-error:0.1518#011validation-error:0.1814\u001b[0m\n",
      "\u001b[34m[13:16:56] src/tree/updater_prune.cc:74: tree pruning end, 1 roots, 26 extra nodes, 8 pruned nodes, max_depth=5\u001b[0m\n",
      "\u001b[34m[42]#011train-error:0.150933#011validation-error:0.1802\u001b[0m\n",
      "\u001b[34m[13:16:57] src/tree/updater_prune.cc:74: tree pruning end, 1 roots, 22 extra nodes, 6 pruned nodes, max_depth=5\u001b[0m\n",
      "\u001b[34m[43]#011train-error:0.1498#011validation-error:0.1788\u001b[0m\n"
     ]
    },
    {
     "name": "stdout",
     "output_type": "stream",
     "text": [
      "\u001b[34m[13:16:59] src/tree/updater_prune.cc:74: tree pruning end, 1 roots, 18 extra nodes, 14 pruned nodes, max_depth=5\u001b[0m\n",
      "\u001b[34m[44]#011train-error:0.148333#011validation-error:0.1766\u001b[0m\n",
      "\u001b[34m[13:17:00] src/tree/updater_prune.cc:74: tree pruning end, 1 roots, 24 extra nodes, 4 pruned nodes, max_depth=5\u001b[0m\n",
      "\u001b[34m[45]#011train-error:0.146933#011validation-error:0.176\u001b[0m\n",
      "\u001b[34m[13:17:01] src/tree/updater_prune.cc:74: tree pruning end, 1 roots, 34 extra nodes, 4 pruned nodes, max_depth=5\u001b[0m\n",
      "\u001b[34m[46]#011train-error:0.1446#011validation-error:0.1762\u001b[0m\n",
      "\u001b[34m[13:17:03] src/tree/updater_prune.cc:74: tree pruning end, 1 roots, 34 extra nodes, 4 pruned nodes, max_depth=5\u001b[0m\n",
      "\u001b[34m[47]#011train-error:0.143533#011validation-error:0.1743\u001b[0m\n",
      "\u001b[34m[13:17:04] src/tree/updater_prune.cc:74: tree pruning end, 1 roots, 44 extra nodes, 2 pruned nodes, max_depth=5\u001b[0m\n",
      "\u001b[34m[48]#011train-error:0.143733#011validation-error:0.1728\u001b[0m\n",
      "\u001b[34m[13:17:05] src/tree/updater_prune.cc:74: tree pruning end, 1 roots, 20 extra nodes, 6 pruned nodes, max_depth=5\u001b[0m\n",
      "\u001b[34m[49]#011train-error:0.143467#011validation-error:0.1713\u001b[0m\n",
      "\u001b[34m[13:17:06] src/tree/updater_prune.cc:74: tree pruning end, 1 roots, 22 extra nodes, 6 pruned nodes, max_depth=5\u001b[0m\n",
      "\u001b[34m[50]#011train-error:0.141667#011validation-error:0.1704\u001b[0m\n",
      "\u001b[34m[13:17:08] src/tree/updater_prune.cc:74: tree pruning end, 1 roots, 16 extra nodes, 12 pruned nodes, max_depth=5\u001b[0m\n",
      "\u001b[34m[51]#011train-error:0.141#011validation-error:0.1699\u001b[0m\n",
      "\u001b[34m[13:17:09] src/tree/updater_prune.cc:74: tree pruning end, 1 roots, 12 extra nodes, 8 pruned nodes, max_depth=5\u001b[0m\n",
      "\u001b[34m[52]#011train-error:0.140267#011validation-error:0.1698\u001b[0m\n",
      "\u001b[34m[13:17:10] src/tree/updater_prune.cc:74: tree pruning end, 1 roots, 34 extra nodes, 6 pruned nodes, max_depth=5\u001b[0m\n",
      "\u001b[34m[53]#011train-error:0.138533#011validation-error:0.1701\u001b[0m\n",
      "\u001b[34m[13:17:11] src/tree/updater_prune.cc:74: tree pruning end, 1 roots, 20 extra nodes, 6 pruned nodes, max_depth=5\u001b[0m\n",
      "\u001b[34m[54]#011train-error:0.1364#011validation-error:0.1688\u001b[0m\n",
      "\u001b[34m[13:17:13] src/tree/updater_prune.cc:74: tree pruning end, 1 roots, 18 extra nodes, 8 pruned nodes, max_depth=5\u001b[0m\n",
      "\u001b[34m[55]#011train-error:0.136533#011validation-error:0.1692\u001b[0m\n",
      "\u001b[34m[13:17:14] src/tree/updater_prune.cc:74: tree pruning end, 1 roots, 14 extra nodes, 10 pruned nodes, max_depth=5\u001b[0m\n",
      "\u001b[34m[56]#011train-error:0.135733#011validation-error:0.1684\u001b[0m\n",
      "\u001b[34m[13:17:15] src/tree/updater_prune.cc:74: tree pruning end, 1 roots, 20 extra nodes, 4 pruned nodes, max_depth=5\u001b[0m\n",
      "\u001b[34m[57]#011train-error:0.1348#011validation-error:0.1665\u001b[0m\n",
      "\u001b[34m[13:17:16] src/tree/updater_prune.cc:74: tree pruning end, 1 roots, 24 extra nodes, 16 pruned nodes, max_depth=5\u001b[0m\n",
      "\u001b[34m[58]#011train-error:0.1344#011validation-error:0.1669\u001b[0m\n",
      "\u001b[34m[13:17:18] src/tree/updater_prune.cc:74: tree pruning end, 1 roots, 26 extra nodes, 4 pruned nodes, max_depth=5\u001b[0m\n",
      "\u001b[34m[59]#011train-error:0.132467#011validation-error:0.1653\u001b[0m\n",
      "\u001b[34m[13:17:19] src/tree/updater_prune.cc:74: tree pruning end, 1 roots, 24 extra nodes, 8 pruned nodes, max_depth=5\u001b[0m\n",
      "\u001b[34m[60]#011train-error:0.1314#011validation-error:0.1648\u001b[0m\n",
      "\u001b[34m[13:17:20] src/tree/updater_prune.cc:74: tree pruning end, 1 roots, 18 extra nodes, 2 pruned nodes, max_depth=5\u001b[0m\n",
      "\u001b[34m[61]#011train-error:0.1304#011validation-error:0.164\u001b[0m\n",
      "\u001b[34m[13:17:21] src/tree/updater_prune.cc:74: tree pruning end, 1 roots, 20 extra nodes, 14 pruned nodes, max_depth=5\u001b[0m\n",
      "\u001b[34m[62]#011train-error:0.129533#011validation-error:0.1639\u001b[0m\n",
      "\u001b[34m[13:17:23] src/tree/updater_prune.cc:74: tree pruning end, 1 roots, 24 extra nodes, 12 pruned nodes, max_depth=5\u001b[0m\n",
      "\u001b[34m[63]#011train-error:0.1286#011validation-error:0.1633\u001b[0m\n",
      "\u001b[34m[13:17:24] src/tree/updater_prune.cc:74: tree pruning end, 1 roots, 18 extra nodes, 2 pruned nodes, max_depth=5\u001b[0m\n",
      "\u001b[34m[64]#011train-error:0.127867#011validation-error:0.1628\u001b[0m\n",
      "\u001b[34m[13:17:25] src/tree/updater_prune.cc:74: tree pruning end, 1 roots, 12 extra nodes, 10 pruned nodes, max_depth=5\u001b[0m\n",
      "\u001b[34m[65]#011train-error:0.126467#011validation-error:0.1626\u001b[0m\n",
      "\u001b[34m[13:17:27] src/tree/updater_prune.cc:74: tree pruning end, 1 roots, 32 extra nodes, 8 pruned nodes, max_depth=5\u001b[0m\n",
      "\u001b[34m[66]#011train-error:0.124267#011validation-error:0.1634\u001b[0m\n",
      "\u001b[34m[13:17:28] src/tree/updater_prune.cc:74: tree pruning end, 1 roots, 16 extra nodes, 10 pruned nodes, max_depth=5\u001b[0m\n",
      "\u001b[34m[67]#011train-error:0.123533#011validation-error:0.1628\u001b[0m\n",
      "\u001b[34m[13:17:29] src/tree/updater_prune.cc:74: tree pruning end, 1 roots, 22 extra nodes, 6 pruned nodes, max_depth=5\u001b[0m\n",
      "\u001b[34m[68]#011train-error:0.1234#011validation-error:0.1626\u001b[0m\n",
      "\u001b[34m[13:17:30] src/tree/updater_prune.cc:74: tree pruning end, 1 roots, 20 extra nodes, 12 pruned nodes, max_depth=5\u001b[0m\n",
      "\u001b[34m[69]#011train-error:0.1234#011validation-error:0.1622\u001b[0m\n",
      "\u001b[34m[13:17:32] src/tree/updater_prune.cc:74: tree pruning end, 1 roots, 28 extra nodes, 4 pruned nodes, max_depth=5\u001b[0m\n",
      "\u001b[34m[70]#011train-error:0.122467#011validation-error:0.1616\u001b[0m\n",
      "\u001b[34m[13:17:33] src/tree/updater_prune.cc:74: tree pruning end, 1 roots, 18 extra nodes, 12 pruned nodes, max_depth=5\u001b[0m\n",
      "\u001b[34m[71]#011train-error:0.122267#011validation-error:0.1618\u001b[0m\n",
      "\u001b[34m[13:17:34] src/tree/updater_prune.cc:74: tree pruning end, 1 roots, 18 extra nodes, 6 pruned nodes, max_depth=5\u001b[0m\n",
      "\u001b[34m[72]#011train-error:0.1216#011validation-error:0.1623\u001b[0m\n",
      "\u001b[34m[13:17:35] src/tree/updater_prune.cc:74: tree pruning end, 1 roots, 20 extra nodes, 10 pruned nodes, max_depth=5\u001b[0m\n",
      "\u001b[34m[73]#011train-error:0.121267#011validation-error:0.1609\u001b[0m\n",
      "\u001b[34m[13:17:37] src/tree/updater_prune.cc:74: tree pruning end, 1 roots, 16 extra nodes, 0 pruned nodes, max_depth=5\u001b[0m\n",
      "\u001b[34m[74]#011train-error:0.121067#011validation-error:0.16\u001b[0m\n",
      "\u001b[34m[13:17:38] src/tree/updater_prune.cc:74: tree pruning end, 1 roots, 20 extra nodes, 4 pruned nodes, max_depth=5\u001b[0m\n",
      "\u001b[34m[75]#011train-error:0.1188#011validation-error:0.1601\u001b[0m\n",
      "\u001b[34m[13:17:39] src/tree/updater_prune.cc:74: tree pruning end, 1 roots, 26 extra nodes, 10 pruned nodes, max_depth=5\u001b[0m\n",
      "\u001b[34m[76]#011train-error:0.119067#011validation-error:0.159\u001b[0m\n",
      "\u001b[34m[13:17:40] src/tree/updater_prune.cc:74: tree pruning end, 1 roots, 22 extra nodes, 6 pruned nodes, max_depth=5\u001b[0m\n",
      "\u001b[34m[77]#011train-error:0.117667#011validation-error:0.1582\u001b[0m\n",
      "\u001b[34m[13:17:42] src/tree/updater_prune.cc:74: tree pruning end, 1 roots, 14 extra nodes, 8 pruned nodes, max_depth=5\u001b[0m\n",
      "\u001b[34m[78]#011train-error:0.117267#011validation-error:0.1578\u001b[0m\n",
      "\u001b[34m[13:17:43] src/tree/updater_prune.cc:74: tree pruning end, 1 roots, 30 extra nodes, 8 pruned nodes, max_depth=5\u001b[0m\n",
      "\u001b[34m[79]#011train-error:0.116667#011validation-error:0.1574\u001b[0m\n",
      "\u001b[34m[13:17:44] src/tree/updater_prune.cc:74: tree pruning end, 1 roots, 14 extra nodes, 12 pruned nodes, max_depth=5\u001b[0m\n",
      "\u001b[34m[80]#011train-error:0.116267#011validation-error:0.157\u001b[0m\n",
      "\u001b[34m[13:17:46] src/tree/updater_prune.cc:74: tree pruning end, 1 roots, 32 extra nodes, 6 pruned nodes, max_depth=5\u001b[0m\n",
      "\u001b[34m[81]#011train-error:0.114867#011validation-error:0.156\u001b[0m\n",
      "\u001b[34m[13:17:47] src/tree/updater_prune.cc:74: tree pruning end, 1 roots, 20 extra nodes, 14 pruned nodes, max_depth=5\u001b[0m\n",
      "\u001b[34m[82]#011train-error:0.115333#011validation-error:0.1549\u001b[0m\n",
      "\u001b[34m[13:17:48] src/tree/updater_prune.cc:74: tree pruning end, 1 roots, 22 extra nodes, 4 pruned nodes, max_depth=5\u001b[0m\n",
      "\u001b[34m[83]#011train-error:0.114667#011validation-error:0.1538\u001b[0m\n",
      "\u001b[34m[13:17:49] src/tree/updater_prune.cc:74: tree pruning end, 1 roots, 12 extra nodes, 6 pruned nodes, max_depth=5\u001b[0m\n",
      "\u001b[34m[84]#011train-error:0.114667#011validation-error:0.1543\u001b[0m\n",
      "\u001b[34m[13:17:51] src/tree/updater_prune.cc:74: tree pruning end, 1 roots, 26 extra nodes, 10 pruned nodes, max_depth=5\u001b[0m\n",
      "\u001b[34m[85]#011train-error:0.1132#011validation-error:0.1549\u001b[0m\n",
      "\u001b[34m[13:17:52] src/tree/updater_prune.cc:74: tree pruning end, 1 roots, 18 extra nodes, 8 pruned nodes, max_depth=5\u001b[0m\n",
      "\u001b[34m[86]#011train-error:0.112733#011validation-error:0.1548\u001b[0m\n",
      "\u001b[34m[13:17:53] src/tree/updater_prune.cc:74: tree pruning end, 1 roots, 20 extra nodes, 6 pruned nodes, max_depth=5\u001b[0m\n",
      "\u001b[34m[87]#011train-error:0.111533#011validation-error:0.154\u001b[0m\n",
      "\u001b[34m[13:17:54] src/tree/updater_prune.cc:74: tree pruning end, 1 roots, 36 extra nodes, 6 pruned nodes, max_depth=5\u001b[0m\n",
      "\u001b[34m[88]#011train-error:0.1108#011validation-error:0.1554\u001b[0m\n",
      "\u001b[34m[13:17:56] src/tree/updater_prune.cc:74: tree pruning end, 1 roots, 10 extra nodes, 16 pruned nodes, max_depth=5\u001b[0m\n",
      "\u001b[34m[89]#011train-error:0.1106#011validation-error:0.1551\u001b[0m\n",
      "\u001b[34m[13:17:57] src/tree/updater_prune.cc:74: tree pruning end, 1 roots, 20 extra nodes, 10 pruned nodes, max_depth=5\u001b[0m\n",
      "\u001b[34m[90]#011train-error:0.109#011validation-error:0.1545\u001b[0m\n",
      "\u001b[34m[13:17:58] src/tree/updater_prune.cc:74: tree pruning end, 1 roots, 22 extra nodes, 2 pruned nodes, max_depth=5\u001b[0m\n",
      "\u001b[34m[91]#011train-error:0.109#011validation-error:0.1535\u001b[0m\n"
     ]
    },
    {
     "name": "stdout",
     "output_type": "stream",
     "text": [
      "\u001b[34m[13:18:00] src/tree/updater_prune.cc:74: tree pruning end, 1 roots, 20 extra nodes, 8 pruned nodes, max_depth=5\u001b[0m\n",
      "\u001b[34m[92]#011train-error:0.108067#011validation-error:0.1542\u001b[0m\n",
      "\u001b[34m[13:18:01] src/tree/updater_prune.cc:74: tree pruning end, 1 roots, 20 extra nodes, 10 pruned nodes, max_depth=5\u001b[0m\n",
      "\u001b[34m[93]#011train-error:0.1078#011validation-error:0.1536\u001b[0m\n",
      "\u001b[34m[13:18:02] src/tree/updater_prune.cc:74: tree pruning end, 1 roots, 28 extra nodes, 4 pruned nodes, max_depth=5\u001b[0m\n",
      "\u001b[34m[94]#011train-error:0.107#011validation-error:0.154\u001b[0m\n",
      "\u001b[34m[13:18:03] src/tree/updater_prune.cc:74: tree pruning end, 1 roots, 22 extra nodes, 4 pruned nodes, max_depth=5\u001b[0m\n",
      "\u001b[34m[95]#011train-error:0.106133#011validation-error:0.1529\u001b[0m\n",
      "\u001b[34m[13:18:05] src/tree/updater_prune.cc:74: tree pruning end, 1 roots, 14 extra nodes, 12 pruned nodes, max_depth=5\u001b[0m\n",
      "\u001b[34m[96]#011train-error:0.106467#011validation-error:0.152\u001b[0m\n",
      "\u001b[34m[13:18:06] src/tree/updater_prune.cc:74: tree pruning end, 1 roots, 24 extra nodes, 10 pruned nodes, max_depth=5\u001b[0m\n",
      "\u001b[34m[97]#011train-error:0.105933#011validation-error:0.1531\u001b[0m\n",
      "\u001b[34m[13:18:07] src/tree/updater_prune.cc:74: tree pruning end, 1 roots, 20 extra nodes, 6 pruned nodes, max_depth=5\u001b[0m\n",
      "\u001b[34m[98]#011train-error:0.1044#011validation-error:0.1532\u001b[0m\n",
      "\u001b[34m[13:18:08] src/tree/updater_prune.cc:74: tree pruning end, 1 roots, 18 extra nodes, 8 pruned nodes, max_depth=5\u001b[0m\n",
      "\u001b[34m[99]#011train-error:0.103933#011validation-error:0.1521\u001b[0m\n",
      "\u001b[34m[13:18:10] src/tree/updater_prune.cc:74: tree pruning end, 1 roots, 18 extra nodes, 10 pruned nodes, max_depth=5\u001b[0m\n",
      "\u001b[34m[100]#011train-error:0.103267#011validation-error:0.1519\u001b[0m\n",
      "\u001b[34m[13:18:11] src/tree/updater_prune.cc:74: tree pruning end, 1 roots, 14 extra nodes, 8 pruned nodes, max_depth=5\u001b[0m\n",
      "\u001b[34m[101]#011train-error:0.102933#011validation-error:0.1515\u001b[0m\n",
      "\u001b[34m[13:18:12] src/tree/updater_prune.cc:74: tree pruning end, 1 roots, 16 extra nodes, 12 pruned nodes, max_depth=5\u001b[0m\n",
      "\u001b[34m[102]#011train-error:0.102467#011validation-error:0.1509\u001b[0m\n",
      "\u001b[34m[13:18:13] src/tree/updater_prune.cc:74: tree pruning end, 1 roots, 16 extra nodes, 10 pruned nodes, max_depth=5\u001b[0m\n",
      "\u001b[34m[103]#011train-error:0.102067#011validation-error:0.1515\u001b[0m\n",
      "\u001b[34m[13:18:15] src/tree/updater_prune.cc:74: tree pruning end, 1 roots, 16 extra nodes, 6 pruned nodes, max_depth=5\u001b[0m\n",
      "\u001b[34m[104]#011train-error:0.1018#011validation-error:0.1503\u001b[0m\n",
      "\u001b[34m[13:18:16] src/tree/updater_prune.cc:74: tree pruning end, 1 roots, 18 extra nodes, 2 pruned nodes, max_depth=5\u001b[0m\n",
      "\u001b[34m[105]#011train-error:0.101667#011validation-error:0.1495\u001b[0m\n",
      "\u001b[34m[13:18:17] src/tree/updater_prune.cc:74: tree pruning end, 1 roots, 14 extra nodes, 8 pruned nodes, max_depth=5\u001b[0m\n",
      "\u001b[34m[106]#011train-error:0.101267#011validation-error:0.1497\u001b[0m\n",
      "\u001b[34m[13:18:19] src/tree/updater_prune.cc:74: tree pruning end, 1 roots, 32 extra nodes, 6 pruned nodes, max_depth=5\u001b[0m\n",
      "\u001b[34m[107]#011train-error:0.099933#011validation-error:0.1491\u001b[0m\n",
      "\u001b[34m[13:18:20] src/tree/updater_prune.cc:74: tree pruning end, 1 roots, 24 extra nodes, 10 pruned nodes, max_depth=5\u001b[0m\n",
      "\u001b[34m[108]#011train-error:0.099133#011validation-error:0.1493\u001b[0m\n",
      "\u001b[34m[13:18:21] src/tree/updater_prune.cc:74: tree pruning end, 1 roots, 24 extra nodes, 4 pruned nodes, max_depth=5\u001b[0m\n",
      "\u001b[34m[109]#011train-error:0.0978#011validation-error:0.1495\u001b[0m\n",
      "\u001b[34m[13:18:22] src/tree/updater_prune.cc:74: tree pruning end, 1 roots, 10 extra nodes, 10 pruned nodes, max_depth=5\u001b[0m\n",
      "\u001b[34m[110]#011train-error:0.097933#011validation-error:0.1501\u001b[0m\n",
      "\u001b[34m[13:18:24] src/tree/updater_prune.cc:74: tree pruning end, 1 roots, 38 extra nodes, 12 pruned nodes, max_depth=5\u001b[0m\n",
      "\u001b[34m[111]#011train-error:0.0958#011validation-error:0.1509\u001b[0m\n",
      "\u001b[34m[13:18:25] src/tree/updater_prune.cc:74: tree pruning end, 1 roots, 14 extra nodes, 10 pruned nodes, max_depth=5\u001b[0m\n",
      "\u001b[34m[112]#011train-error:0.0958#011validation-error:0.1504\u001b[0m\n",
      "\u001b[34m[13:18:26] src/tree/updater_prune.cc:74: tree pruning end, 1 roots, 24 extra nodes, 14 pruned nodes, max_depth=5\u001b[0m\n",
      "\u001b[34m[113]#011train-error:0.095733#011validation-error:0.1497\u001b[0m\n",
      "\u001b[34m[13:18:28] src/tree/updater_prune.cc:74: tree pruning end, 1 roots, 10 extra nodes, 10 pruned nodes, max_depth=5\u001b[0m\n",
      "\u001b[34m[114]#011train-error:0.095467#011validation-error:0.1493\u001b[0m\n",
      "\u001b[34m[13:18:29] src/tree/updater_prune.cc:74: tree pruning end, 1 roots, 14 extra nodes, 8 pruned nodes, max_depth=5\u001b[0m\n",
      "\u001b[34m[115]#011train-error:0.094933#011validation-error:0.1482\u001b[0m\n",
      "\u001b[34m[13:18:30] src/tree/updater_prune.cc:74: tree pruning end, 1 roots, 12 extra nodes, 6 pruned nodes, max_depth=5\u001b[0m\n",
      "\u001b[34m[116]#011train-error:0.0948#011validation-error:0.1476\u001b[0m\n",
      "\u001b[34m[13:18:31] src/tree/updater_prune.cc:74: tree pruning end, 1 roots, 12 extra nodes, 4 pruned nodes, max_depth=5\u001b[0m\n",
      "\u001b[34m[117]#011train-error:0.094933#011validation-error:0.1472\u001b[0m\n",
      "\u001b[34m[13:18:33] src/tree/updater_prune.cc:74: tree pruning end, 1 roots, 18 extra nodes, 6 pruned nodes, max_depth=5\u001b[0m\n",
      "\u001b[34m[118]#011train-error:0.094267#011validation-error:0.1472\u001b[0m\n",
      "\u001b[34m[13:18:34] src/tree/updater_prune.cc:74: tree pruning end, 1 roots, 12 extra nodes, 8 pruned nodes, max_depth=5\u001b[0m\n",
      "\u001b[34m[119]#011train-error:0.094133#011validation-error:0.1466\u001b[0m\n",
      "\u001b[34m[13:18:35] src/tree/updater_prune.cc:74: tree pruning end, 1 roots, 16 extra nodes, 4 pruned nodes, max_depth=5\u001b[0m\n",
      "\u001b[34m[120]#011train-error:0.093867#011validation-error:0.1459\u001b[0m\n",
      "\u001b[34m[13:18:36] src/tree/updater_prune.cc:74: tree pruning end, 1 roots, 14 extra nodes, 10 pruned nodes, max_depth=5\u001b[0m\n",
      "\u001b[34m[121]#011train-error:0.093133#011validation-error:0.1458\u001b[0m\n",
      "\u001b[34m[13:18:38] src/tree/updater_prune.cc:74: tree pruning end, 1 roots, 10 extra nodes, 16 pruned nodes, max_depth=5\u001b[0m\n",
      "\u001b[34m[122]#011train-error:0.092733#011validation-error:0.1453\u001b[0m\n",
      "\u001b[34m[13:18:39] src/tree/updater_prune.cc:74: tree pruning end, 1 roots, 12 extra nodes, 8 pruned nodes, max_depth=5\u001b[0m\n",
      "\u001b[34m[123]#011train-error:0.091733#011validation-error:0.1454\u001b[0m\n",
      "\u001b[34m[13:18:40] src/tree/updater_prune.cc:74: tree pruning end, 1 roots, 32 extra nodes, 12 pruned nodes, max_depth=5\u001b[0m\n",
      "\u001b[34m[124]#011train-error:0.092267#011validation-error:0.1451\u001b[0m\n",
      "\u001b[34m[13:18:41] src/tree/updater_prune.cc:74: tree pruning end, 1 roots, 20 extra nodes, 8 pruned nodes, max_depth=5\u001b[0m\n",
      "\u001b[34m[125]#011train-error:0.0922#011validation-error:0.145\u001b[0m\n",
      "\u001b[34m[13:18:43] src/tree/updater_prune.cc:74: tree pruning end, 1 roots, 20 extra nodes, 0 pruned nodes, max_depth=5\u001b[0m\n",
      "\u001b[34m[126]#011train-error:0.091667#011validation-error:0.1443\u001b[0m\n",
      "\u001b[34m[13:18:44] src/tree/updater_prune.cc:74: tree pruning end, 1 roots, 16 extra nodes, 14 pruned nodes, max_depth=5\u001b[0m\n",
      "\u001b[34m[127]#011train-error:0.0914#011validation-error:0.145\u001b[0m\n",
      "\u001b[34m[13:18:45] src/tree/updater_prune.cc:74: tree pruning end, 1 roots, 10 extra nodes, 6 pruned nodes, max_depth=5\u001b[0m\n",
      "\u001b[34m[128]#011train-error:0.091333#011validation-error:0.1452\u001b[0m\n",
      "\u001b[34m[13:18:46] src/tree/updater_prune.cc:74: tree pruning end, 1 roots, 14 extra nodes, 10 pruned nodes, max_depth=5\u001b[0m\n",
      "\u001b[34m[129]#011train-error:0.0908#011validation-error:0.1456\u001b[0m\n",
      "\u001b[34m[13:18:48] src/tree/updater_prune.cc:74: tree pruning end, 1 roots, 22 extra nodes, 10 pruned nodes, max_depth=5\u001b[0m\n",
      "\u001b[34m[130]#011train-error:0.090733#011validation-error:0.1455\u001b[0m\n",
      "\u001b[34m[13:18:49] src/tree/updater_prune.cc:74: tree pruning end, 1 roots, 14 extra nodes, 6 pruned nodes, max_depth=5\u001b[0m\n",
      "\u001b[34m[131]#011train-error:0.090667#011validation-error:0.1455\u001b[0m\n",
      "\u001b[34m[13:18:50] src/tree/updater_prune.cc:74: tree pruning end, 1 roots, 16 extra nodes, 6 pruned nodes, max_depth=5\u001b[0m\n",
      "\u001b[34m[132]#011train-error:0.090533#011validation-error:0.1448\u001b[0m\n",
      "\u001b[34m[13:18:52] src/tree/updater_prune.cc:74: tree pruning end, 1 roots, 18 extra nodes, 6 pruned nodes, max_depth=5\u001b[0m\n",
      "\u001b[34m[133]#011train-error:0.090667#011validation-error:0.1445\u001b[0m\n",
      "\u001b[34m[13:18:53] src/tree/updater_prune.cc:74: tree pruning end, 1 roots, 10 extra nodes, 8 pruned nodes, max_depth=5\u001b[0m\n",
      "\u001b[34m[134]#011train-error:0.090467#011validation-error:0.1445\u001b[0m\n",
      "\u001b[34m[13:18:54] src/tree/updater_prune.cc:74: tree pruning end, 1 roots, 20 extra nodes, 12 pruned nodes, max_depth=5\u001b[0m\n",
      "\u001b[34m[135]#011train-error:0.089933#011validation-error:0.143\u001b[0m\n"
     ]
    },
    {
     "name": "stdout",
     "output_type": "stream",
     "text": [
      "\u001b[34m[13:18:55] src/tree/updater_prune.cc:74: tree pruning end, 1 roots, 16 extra nodes, 14 pruned nodes, max_depth=5\u001b[0m\n",
      "\u001b[34m[136]#011train-error:0.0892#011validation-error:0.1436\u001b[0m\n",
      "\u001b[34m[13:18:57] src/tree/updater_prune.cc:74: tree pruning end, 1 roots, 12 extra nodes, 8 pruned nodes, max_depth=5\u001b[0m\n",
      "\u001b[34m[137]#011train-error:0.089133#011validation-error:0.1432\u001b[0m\n",
      "\u001b[34m[13:18:58] src/tree/updater_prune.cc:74: tree pruning end, 1 roots, 12 extra nodes, 8 pruned nodes, max_depth=5\u001b[0m\n",
      "\u001b[34m[138]#011train-error:0.089133#011validation-error:0.1429\u001b[0m\n",
      "\u001b[34m[13:18:59] src/tree/updater_prune.cc:74: tree pruning end, 1 roots, 28 extra nodes, 14 pruned nodes, max_depth=5\u001b[0m\n",
      "\u001b[34m[139]#011train-error:0.0872#011validation-error:0.1417\u001b[0m\n",
      "\u001b[34m[13:19:00] src/tree/updater_prune.cc:74: tree pruning end, 1 roots, 10 extra nodes, 16 pruned nodes, max_depth=5\u001b[0m\n",
      "\u001b[34m[140]#011train-error:0.086933#011validation-error:0.1421\u001b[0m\n",
      "\u001b[34m[13:19:02] src/tree/updater_prune.cc:74: tree pruning end, 1 roots, 12 extra nodes, 4 pruned nodes, max_depth=5\u001b[0m\n",
      "\u001b[34m[141]#011train-error:0.087#011validation-error:0.1417\u001b[0m\n",
      "\u001b[34m[13:19:03] src/tree/updater_prune.cc:74: tree pruning end, 1 roots, 22 extra nodes, 10 pruned nodes, max_depth=5\u001b[0m\n",
      "\u001b[34m[142]#011train-error:0.086733#011validation-error:0.1408\u001b[0m\n",
      "\u001b[34m[13:19:04] src/tree/updater_prune.cc:74: tree pruning end, 1 roots, 20 extra nodes, 16 pruned nodes, max_depth=5\u001b[0m\n",
      "\u001b[34m[143]#011train-error:0.086067#011validation-error:0.1409\u001b[0m\n",
      "\u001b[34m[13:19:06] src/tree/updater_prune.cc:74: tree pruning end, 1 roots, 12 extra nodes, 14 pruned nodes, max_depth=5\u001b[0m\n",
      "\u001b[34m[144]#011train-error:0.086133#011validation-error:0.141\u001b[0m\n",
      "\u001b[34m[13:19:07] src/tree/updater_prune.cc:74: tree pruning end, 1 roots, 10 extra nodes, 4 pruned nodes, max_depth=5\u001b[0m\n",
      "\u001b[34m[145]#011train-error:0.0856#011validation-error:0.1406\u001b[0m\n",
      "\u001b[34m[13:19:08] src/tree/updater_prune.cc:74: tree pruning end, 1 roots, 16 extra nodes, 4 pruned nodes, max_depth=5\u001b[0m\n",
      "\u001b[34m[146]#011train-error:0.086533#011validation-error:0.1401\u001b[0m\n",
      "\u001b[34m[13:19:09] src/tree/updater_prune.cc:74: tree pruning end, 1 roots, 18 extra nodes, 10 pruned nodes, max_depth=5\u001b[0m\n",
      "\u001b[34m[147]#011train-error:0.0862#011validation-error:0.1411\u001b[0m\n",
      "\u001b[34m[13:19:11] src/tree/updater_prune.cc:74: tree pruning end, 1 roots, 18 extra nodes, 8 pruned nodes, max_depth=5\u001b[0m\n",
      "\u001b[34m[148]#011train-error:0.085667#011validation-error:0.1402\u001b[0m\n",
      "\u001b[34m[13:19:12] src/tree/updater_prune.cc:74: tree pruning end, 1 roots, 12 extra nodes, 12 pruned nodes, max_depth=5\u001b[0m\n",
      "\u001b[34m[149]#011train-error:0.085467#011validation-error:0.1392\u001b[0m\n",
      "\u001b[34m[13:19:13] src/tree/updater_prune.cc:74: tree pruning end, 1 roots, 12 extra nodes, 6 pruned nodes, max_depth=5\u001b[0m\n",
      "\u001b[34m[150]#011train-error:0.085333#011validation-error:0.1391\u001b[0m\n",
      "\u001b[34m[13:19:14] src/tree/updater_prune.cc:74: tree pruning end, 1 roots, 14 extra nodes, 8 pruned nodes, max_depth=5\u001b[0m\n",
      "\u001b[34m[151]#011train-error:0.084667#011validation-error:0.1394\u001b[0m\n",
      "\u001b[34m[13:19:16] src/tree/updater_prune.cc:74: tree pruning end, 1 roots, 22 extra nodes, 14 pruned nodes, max_depth=5\u001b[0m\n",
      "\u001b[34m[152]#011train-error:0.084#011validation-error:0.1391\u001b[0m\n",
      "\u001b[34m[13:19:17] src/tree/updater_prune.cc:74: tree pruning end, 1 roots, 12 extra nodes, 6 pruned nodes, max_depth=5\u001b[0m\n",
      "\u001b[34m[153]#011train-error:0.083867#011validation-error:0.1378\u001b[0m\n",
      "\u001b[34m[13:19:18] src/tree/updater_prune.cc:74: tree pruning end, 1 roots, 16 extra nodes, 2 pruned nodes, max_depth=5\u001b[0m\n",
      "\u001b[34m[154]#011train-error:0.084333#011validation-error:0.1388\u001b[0m\n",
      "\u001b[34m[13:19:19] src/tree/updater_prune.cc:74: tree pruning end, 1 roots, 16 extra nodes, 8 pruned nodes, max_depth=5\u001b[0m\n",
      "\u001b[34m[155]#011train-error:0.083667#011validation-error:0.1387\u001b[0m\n",
      "\u001b[34m[13:19:21] src/tree/updater_prune.cc:74: tree pruning end, 1 roots, 26 extra nodes, 4 pruned nodes, max_depth=5\u001b[0m\n",
      "\u001b[34m[156]#011train-error:0.082867#011validation-error:0.1382\u001b[0m\n",
      "\u001b[34m[13:19:22] src/tree/updater_prune.cc:74: tree pruning end, 1 roots, 12 extra nodes, 6 pruned nodes, max_depth=5\u001b[0m\n",
      "\u001b[34m[157]#011train-error:0.082733#011validation-error:0.1384\u001b[0m\n",
      "\u001b[34m[13:19:23] src/tree/updater_prune.cc:74: tree pruning end, 1 roots, 14 extra nodes, 8 pruned nodes, max_depth=5\u001b[0m\n",
      "\u001b[34m[158]#011train-error:0.082733#011validation-error:0.1389\u001b[0m\n",
      "\u001b[34m[13:19:24] src/tree/updater_prune.cc:74: tree pruning end, 1 roots, 16 extra nodes, 0 pruned nodes, max_depth=5\u001b[0m\n",
      "\u001b[34m[159]#011train-error:0.082467#011validation-error:0.1386\u001b[0m\n",
      "\u001b[34m[13:19:26] src/tree/updater_prune.cc:74: tree pruning end, 1 roots, 12 extra nodes, 6 pruned nodes, max_depth=5\u001b[0m\n",
      "\u001b[34m[160]#011train-error:0.082733#011validation-error:0.1388\u001b[0m\n",
      "\u001b[34m[13:19:27] src/tree/updater_prune.cc:74: tree pruning end, 1 roots, 14 extra nodes, 10 pruned nodes, max_depth=5\u001b[0m\n",
      "\u001b[34m[161]#011train-error:0.082#011validation-error:0.1377\u001b[0m\n",
      "\u001b[34m[13:19:28] src/tree/updater_prune.cc:74: tree pruning end, 1 roots, 10 extra nodes, 0 pruned nodes, max_depth=5\u001b[0m\n",
      "\u001b[34m[162]#011train-error:0.081733#011validation-error:0.1378\u001b[0m\n",
      "\u001b[34m[13:19:30] src/tree/updater_prune.cc:74: tree pruning end, 1 roots, 12 extra nodes, 2 pruned nodes, max_depth=5\u001b[0m\n",
      "\u001b[34m[163]#011train-error:0.0814#011validation-error:0.138\u001b[0m\n",
      "\u001b[34m[13:19:31] src/tree/updater_prune.cc:74: tree pruning end, 1 roots, 16 extra nodes, 24 pruned nodes, max_depth=5\u001b[0m\n",
      "\u001b[34m[164]#011train-error:0.081533#011validation-error:0.1377\u001b[0m\n",
      "\u001b[34m[13:19:32] src/tree/updater_prune.cc:74: tree pruning end, 1 roots, 20 extra nodes, 4 pruned nodes, max_depth=5\u001b[0m\n",
      "\u001b[34m[165]#011train-error:0.080933#011validation-error:0.1376\u001b[0m\n",
      "\u001b[34m[13:19:33] src/tree/updater_prune.cc:74: tree pruning end, 1 roots, 10 extra nodes, 6 pruned nodes, max_depth=5\u001b[0m\n",
      "\u001b[34m[166]#011train-error:0.0804#011validation-error:0.1365\u001b[0m\n",
      "\u001b[34m[13:19:35] src/tree/updater_prune.cc:74: tree pruning end, 1 roots, 18 extra nodes, 22 pruned nodes, max_depth=5\u001b[0m\n",
      "\u001b[34m[167]#011train-error:0.080133#011validation-error:0.1368\u001b[0m\n",
      "\u001b[34m[13:19:36] src/tree/updater_prune.cc:74: tree pruning end, 1 roots, 20 extra nodes, 8 pruned nodes, max_depth=5\u001b[0m\n",
      "\u001b[34m[168]#011train-error:0.080133#011validation-error:0.137\u001b[0m\n",
      "\u001b[34m[13:19:37] src/tree/updater_prune.cc:74: tree pruning end, 1 roots, 10 extra nodes, 2 pruned nodes, max_depth=5\u001b[0m\n",
      "\u001b[34m[169]#011train-error:0.079533#011validation-error:0.1362\u001b[0m\n",
      "\u001b[34m[13:19:38] src/tree/updater_prune.cc:74: tree pruning end, 1 roots, 14 extra nodes, 12 pruned nodes, max_depth=5\u001b[0m\n",
      "\u001b[34m[170]#011train-error:0.079267#011validation-error:0.136\u001b[0m\n",
      "\u001b[34m[13:19:40] src/tree/updater_prune.cc:74: tree pruning end, 1 roots, 12 extra nodes, 4 pruned nodes, max_depth=5\u001b[0m\n",
      "\u001b[34m[171]#011train-error:0.079533#011validation-error:0.136\u001b[0m\n",
      "\u001b[34m[13:19:41] src/tree/updater_prune.cc:74: tree pruning end, 1 roots, 14 extra nodes, 10 pruned nodes, max_depth=5\u001b[0m\n",
      "\u001b[34m[172]#011train-error:0.078667#011validation-error:0.1367\u001b[0m\n",
      "\u001b[34m[13:19:42] src/tree/updater_prune.cc:74: tree pruning end, 1 roots, 14 extra nodes, 14 pruned nodes, max_depth=5\u001b[0m\n",
      "\u001b[34m[173]#011train-error:0.078533#011validation-error:0.1371\u001b[0m\n",
      "\u001b[34m[13:19:43] src/tree/updater_prune.cc:74: tree pruning end, 1 roots, 16 extra nodes, 8 pruned nodes, max_depth=5\u001b[0m\n",
      "\u001b[34m[174]#011train-error:0.078133#011validation-error:0.1366\u001b[0m\n",
      "\u001b[34m[13:19:45] src/tree/updater_prune.cc:74: tree pruning end, 1 roots, 14 extra nodes, 4 pruned nodes, max_depth=5\u001b[0m\n",
      "\u001b[34m[175]#011train-error:0.077467#011validation-error:0.1364\u001b[0m\n",
      "\u001b[34m[13:19:46] src/tree/updater_prune.cc:74: tree pruning end, 1 roots, 16 extra nodes, 14 pruned nodes, max_depth=5\u001b[0m\n",
      "\u001b[34m[176]#011train-error:0.0776#011validation-error:0.1366\u001b[0m\n",
      "\u001b[34m[13:19:47] src/tree/updater_prune.cc:74: tree pruning end, 1 roots, 16 extra nodes, 16 pruned nodes, max_depth=5\u001b[0m\n",
      "\u001b[34m[177]#011train-error:0.0774#011validation-error:0.1355\u001b[0m\n",
      "\u001b[34m[13:19:49] src/tree/updater_prune.cc:74: tree pruning end, 1 roots, 22 extra nodes, 18 pruned nodes, max_depth=5\u001b[0m\n",
      "\u001b[34m[178]#011train-error:0.077533#011validation-error:0.1351\u001b[0m\n",
      "\u001b[34m[13:19:50] src/tree/updater_prune.cc:74: tree pruning end, 1 roots, 12 extra nodes, 6 pruned nodes, max_depth=5\u001b[0m\n",
      "\u001b[34m[179]#011train-error:0.077067#011validation-error:0.1355\u001b[0m\n",
      "\u001b[34m[13:19:51] src/tree/updater_prune.cc:74: tree pruning end, 1 roots, 14 extra nodes, 4 pruned nodes, max_depth=5\u001b[0m\n",
      "\u001b[34m[180]#011train-error:0.076467#011validation-error:0.1351\u001b[0m\n",
      "\u001b[34m[13:19:52] src/tree/updater_prune.cc:74: tree pruning end, 1 roots, 10 extra nodes, 2 pruned nodes, max_depth=5\u001b[0m\n",
      "\u001b[34m[181]#011train-error:0.076667#011validation-error:0.135\u001b[0m\n",
      "\u001b[34m[13:19:54] src/tree/updater_prune.cc:74: tree pruning end, 1 roots, 12 extra nodes, 6 pruned nodes, max_depth=5\u001b[0m\n",
      "\u001b[34m[182]#011train-error:0.076867#011validation-error:0.1348\u001b[0m\n",
      "\u001b[34m[13:19:55] src/tree/updater_prune.cc:74: tree pruning end, 1 roots, 14 extra nodes, 10 pruned nodes, max_depth=5\u001b[0m\n",
      "\u001b[34m[183]#011train-error:0.076667#011validation-error:0.1353\u001b[0m\n"
     ]
    },
    {
     "name": "stdout",
     "output_type": "stream",
     "text": [
      "\u001b[34m[13:19:56] src/tree/updater_prune.cc:74: tree pruning end, 1 roots, 16 extra nodes, 10 pruned nodes, max_depth=5\u001b[0m\n",
      "\u001b[34m[184]#011train-error:0.076667#011validation-error:0.1354\u001b[0m\n",
      "\u001b[34m[13:19:57] src/tree/updater_prune.cc:74: tree pruning end, 1 roots, 12 extra nodes, 10 pruned nodes, max_depth=5\u001b[0m\n",
      "\u001b[34m[185]#011train-error:0.076467#011validation-error:0.1354\u001b[0m\n",
      "\u001b[34m[13:19:59] src/tree/updater_prune.cc:74: tree pruning end, 1 roots, 10 extra nodes, 2 pruned nodes, max_depth=5\u001b[0m\n",
      "\u001b[34m[186]#011train-error:0.0764#011validation-error:0.1345\u001b[0m\n",
      "\u001b[34m[13:20:00] src/tree/updater_prune.cc:74: tree pruning end, 1 roots, 18 extra nodes, 2 pruned nodes, max_depth=5\u001b[0m\n",
      "\u001b[34m[187]#011train-error:0.076133#011validation-error:0.1344\u001b[0m\n",
      "\u001b[34m[13:20:01] src/tree/updater_prune.cc:74: tree pruning end, 1 roots, 10 extra nodes, 12 pruned nodes, max_depth=5\u001b[0m\n",
      "\u001b[34m[188]#011train-error:0.075933#011validation-error:0.1344\u001b[0m\n",
      "\u001b[34m[13:20:02] src/tree/updater_prune.cc:74: tree pruning end, 1 roots, 12 extra nodes, 8 pruned nodes, max_depth=5\u001b[0m\n",
      "\u001b[34m[189]#011train-error:0.075867#011validation-error:0.1347\u001b[0m\n",
      "\u001b[34m[13:20:04] src/tree/updater_prune.cc:74: tree pruning end, 1 roots, 10 extra nodes, 4 pruned nodes, max_depth=5\u001b[0m\n",
      "\u001b[34m[190]#011train-error:0.075467#011validation-error:0.1347\u001b[0m\n",
      "\u001b[34m[13:20:05] src/tree/updater_prune.cc:74: tree pruning end, 1 roots, 24 extra nodes, 10 pruned nodes, max_depth=5\u001b[0m\n",
      "\u001b[34m[191]#011train-error:0.074533#011validation-error:0.1345\u001b[0m\n",
      "\u001b[34m[13:20:06] src/tree/updater_prune.cc:74: tree pruning end, 1 roots, 14 extra nodes, 12 pruned nodes, max_depth=5\u001b[0m\n",
      "\u001b[34m[192]#011train-error:0.074133#011validation-error:0.134\u001b[0m\n",
      "\u001b[34m[13:20:08] src/tree/updater_prune.cc:74: tree pruning end, 1 roots, 14 extra nodes, 8 pruned nodes, max_depth=5\u001b[0m\n",
      "\u001b[34m[193]#011train-error:0.074267#011validation-error:0.1334\u001b[0m\n",
      "\u001b[34m[13:20:09] src/tree/updater_prune.cc:74: tree pruning end, 1 roots, 12 extra nodes, 10 pruned nodes, max_depth=5\u001b[0m\n",
      "\u001b[34m[194]#011train-error:0.074533#011validation-error:0.1334\u001b[0m\n",
      "\u001b[34m[13:20:10] src/tree/updater_prune.cc:74: tree pruning end, 1 roots, 12 extra nodes, 18 pruned nodes, max_depth=5\u001b[0m\n",
      "\u001b[34m[195]#011train-error:0.074333#011validation-error:0.1331\u001b[0m\n",
      "\u001b[34m[13:20:11] src/tree/updater_prune.cc:74: tree pruning end, 1 roots, 16 extra nodes, 4 pruned nodes, max_depth=5\u001b[0m\n",
      "\u001b[34m[196]#011train-error:0.073733#011validation-error:0.1328\u001b[0m\n",
      "\u001b[34m[13:20:13] src/tree/updater_prune.cc:74: tree pruning end, 1 roots, 10 extra nodes, 8 pruned nodes, max_depth=5\u001b[0m\n",
      "\u001b[34m[197]#011train-error:0.0736#011validation-error:0.1328\u001b[0m\n",
      "\u001b[34m[13:20:14] src/tree/updater_prune.cc:74: tree pruning end, 1 roots, 12 extra nodes, 4 pruned nodes, max_depth=5\u001b[0m\n",
      "\u001b[34m[198]#011train-error:0.073467#011validation-error:0.133\u001b[0m\n",
      "\u001b[34m[13:20:15] src/tree/updater_prune.cc:74: tree pruning end, 1 roots, 12 extra nodes, 2 pruned nodes, max_depth=5\u001b[0m\n",
      "\u001b[34m[199]#011train-error:0.0736#011validation-error:0.1326\u001b[0m\n",
      "\u001b[34m[13:20:16] src/tree/updater_prune.cc:74: tree pruning end, 1 roots, 22 extra nodes, 2 pruned nodes, max_depth=5\u001b[0m\n",
      "\u001b[34m[200]#011train-error:0.0734#011validation-error:0.1328\u001b[0m\n",
      "\u001b[34m[13:20:18] src/tree/updater_prune.cc:74: tree pruning end, 1 roots, 24 extra nodes, 6 pruned nodes, max_depth=5\u001b[0m\n",
      "\u001b[34m[201]#011train-error:0.0728#011validation-error:0.1334\u001b[0m\n",
      "\u001b[34m[13:20:19] src/tree/updater_prune.cc:74: tree pruning end, 1 roots, 12 extra nodes, 2 pruned nodes, max_depth=5\u001b[0m\n",
      "\u001b[34m[202]#011train-error:0.072733#011validation-error:0.1339\u001b[0m\n",
      "\u001b[34m[13:20:20] src/tree/updater_prune.cc:74: tree pruning end, 1 roots, 20 extra nodes, 6 pruned nodes, max_depth=5\u001b[0m\n",
      "\u001b[34m[203]#011train-error:0.072733#011validation-error:0.1344\u001b[0m\n",
      "\u001b[34m[13:20:21] src/tree/updater_prune.cc:74: tree pruning end, 1 roots, 16 extra nodes, 0 pruned nodes, max_depth=5\u001b[0m\n",
      "\u001b[34m[204]#011train-error:0.072733#011validation-error:0.134\u001b[0m\n",
      "\u001b[34m[13:20:23] src/tree/updater_prune.cc:74: tree pruning end, 1 roots, 12 extra nodes, 6 pruned nodes, max_depth=5\u001b[0m\n",
      "\u001b[34m[205]#011train-error:0.071667#011validation-error:0.1341\u001b[0m\n",
      "\u001b[34m[13:20:24] src/tree/updater_prune.cc:74: tree pruning end, 1 roots, 14 extra nodes, 8 pruned nodes, max_depth=5\u001b[0m\n",
      "\u001b[34m[206]#011train-error:0.071867#011validation-error:0.1342\u001b[0m\n",
      "\u001b[34m[13:20:25] src/tree/updater_prune.cc:74: tree pruning end, 1 roots, 22 extra nodes, 6 pruned nodes, max_depth=5\u001b[0m\n",
      "\u001b[34m[207]#011train-error:0.071733#011validation-error:0.1334\u001b[0m\n",
      "\u001b[34m[13:20:26] src/tree/updater_prune.cc:74: tree pruning end, 1 roots, 24 extra nodes, 18 pruned nodes, max_depth=5\u001b[0m\n",
      "\u001b[34m[208]#011train-error:0.071733#011validation-error:0.1327\u001b[0m\n",
      "\u001b[34m[13:20:28] src/tree/updater_prune.cc:74: tree pruning end, 1 roots, 10 extra nodes, 2 pruned nodes, max_depth=5\u001b[0m\n",
      "\u001b[34m[209]#011train-error:0.0712#011validation-error:0.1327\u001b[0m\n",
      "\u001b[34mStopping. Best iteration:\u001b[0m\n",
      "\u001b[34m[199]#011train-error:0.0736#011validation-error:0.1326\n",
      "\u001b[0m\n",
      "\n",
      "2020-07-16 13:21:06 Uploading - Uploading generated training model\n",
      "2020-07-16 13:21:06 Completed - Training job completed\n",
      "Training seconds: 366\n",
      "Billable seconds: 366\n"
     ]
    }
   ],
   "source": [
    "xgb.fit({'train': s3_input_train, 'validation': s3_input_validation})"
   ]
  },
  {
   "cell_type": "markdown",
   "metadata": {},
   "source": [
    "## Step 5: Testing the model\n",
    "\n",
    "Now that we've fit our XGBoost model, it's time to see how well it performs. To do this we will use SageMakers Batch Transform functionality. Batch Transform is a convenient way to perform inference on a large dataset in a way that is not realtime. That is, we don't necessarily need to use our model's results immediately and instead we can perform inference on a large number of samples. An example of this in industry might be performing an end of month report. This method of inference can also be useful to us as it means that we can perform inference on our entire test set. \n",
    "\n",
    "To perform a Batch Transformation we need to first create a transformer objects from our trained estimator object."
   ]
  },
  {
   "cell_type": "code",
   "execution_count": 24,
   "metadata": {},
   "outputs": [
    {
     "name": "stderr",
     "output_type": "stream",
     "text": [
      "WARNING:sagemaker:Parameter image will be renamed to image_uri in SageMaker Python SDK v2.\n"
     ]
    }
   ],
   "source": [
    "xgb_transformer = xgb.transformer(instance_count = 1, instance_type = 'ml.m4.xlarge')"
   ]
  },
  {
   "cell_type": "markdown",
   "metadata": {},
   "source": [
    "Next we actually perform the transform job. When doing so we need to make sure to specify the type of data we are sending so that it is serialized correctly in the background. In our case we are providing our model with csv data so we specify `text/csv`. Also, if the test data that we have provided is too large to process all at once then we need to specify how the data file should be split up. Since each line is a single entry in our data set we tell SageMaker that it can split the input on each line."
   ]
  },
  {
   "cell_type": "code",
   "execution_count": 25,
   "metadata": {},
   "outputs": [],
   "source": [
    "xgb_transformer.transform(test_location, content_type='text/csv', split_type='Line')"
   ]
  },
  {
   "cell_type": "markdown",
   "metadata": {},
   "source": [
    "Currently the transform job is running but it is doing so in the background. Since we wish to wait until the transform job is done and we would like a bit of feedback we can run the `wait()` method."
   ]
  },
  {
   "cell_type": "code",
   "execution_count": 26,
   "metadata": {},
   "outputs": [
    {
     "name": "stdout",
     "output_type": "stream",
     "text": [
      ".......................\u001b[34mArguments: serve\u001b[0m\n",
      "\u001b[34m[2020-07-16 13:25:18 +0000] [1] [INFO] Starting gunicorn 19.7.1\u001b[0m\n",
      "\u001b[34m[2020-07-16 13:25:18 +0000] [1] [INFO] Listening at: http://0.0.0.0:8080 (1)\u001b[0m\n",
      "\u001b[34m[2020-07-16 13:25:18 +0000] [1] [INFO] Using worker: gevent\u001b[0m\n",
      "\u001b[34m[2020-07-16 13:25:18 +0000] [37] [INFO] Booting worker with pid: 37\u001b[0m\n",
      "\u001b[34m[2020-07-16 13:25:18 +0000] [38] [INFO] Booting worker with pid: 38\u001b[0m\n",
      "\u001b[34m[2020-07-16 13:25:18 +0000] [39] [INFO] Booting worker with pid: 39\u001b[0m\n",
      "\u001b[34m[2020-07-16 13:25:18 +0000] [40] [INFO] Booting worker with pid: 40\u001b[0m\n",
      "\u001b[34m[2020-07-16:13:25:18:INFO] Model loaded successfully for worker : 37\u001b[0m\n",
      "\u001b[34m[2020-07-16:13:25:18:INFO] Model loaded successfully for worker : 39\u001b[0m\n",
      "\u001b[34m[2020-07-16:13:25:18:INFO] Model loaded successfully for worker : 40\u001b[0m\n",
      "\u001b[34m[2020-07-16:13:25:18:INFO] Model loaded successfully for worker : 38\u001b[0m\n",
      "\u001b[32m2020-07-16T13:25:47.276:[sagemaker logs]: MaxConcurrentTransforms=4, MaxPayloadInMB=6, BatchStrategy=MULTI_RECORD\u001b[0m\n",
      "\u001b[34m[2020-07-16:13:25:49:INFO] Sniff delimiter as ','\u001b[0m\n",
      "\u001b[35m[2020-07-16:13:25:49:INFO] Sniff delimiter as ','\u001b[0m\n",
      "\u001b[34m[2020-07-16:13:25:49:INFO] Determined delimiter of CSV input is ','\u001b[0m\n",
      "\u001b[34m[2020-07-16:13:25:50:INFO] Sniff delimiter as ','\u001b[0m\n",
      "\u001b[34m[2020-07-16:13:25:50:INFO] Determined delimiter of CSV input is ','\u001b[0m\n",
      "\u001b[35m[2020-07-16:13:25:49:INFO] Determined delimiter of CSV input is ','\u001b[0m\n",
      "\u001b[35m[2020-07-16:13:25:50:INFO] Sniff delimiter as ','\u001b[0m\n",
      "\u001b[35m[2020-07-16:13:25:50:INFO] Determined delimiter of CSV input is ','\u001b[0m\n",
      "\u001b[34m[2020-07-16:13:25:50:INFO] Sniff delimiter as ','\u001b[0m\n",
      "\u001b[34m[2020-07-16:13:25:50:INFO] Determined delimiter of CSV input is ','\u001b[0m\n",
      "\u001b[34m[2020-07-16:13:25:50:INFO] Sniff delimiter as ','\u001b[0m\n",
      "\u001b[34m[2020-07-16:13:25:50:INFO] Determined delimiter of CSV input is ','\u001b[0m\n",
      "\u001b[35m[2020-07-16:13:25:50:INFO] Sniff delimiter as ','\u001b[0m\n",
      "\u001b[35m[2020-07-16:13:25:50:INFO] Determined delimiter of CSV input is ','\u001b[0m\n",
      "\u001b[35m[2020-07-16:13:25:50:INFO] Sniff delimiter as ','\u001b[0m\n",
      "\u001b[35m[2020-07-16:13:25:50:INFO] Determined delimiter of CSV input is ','\u001b[0m\n",
      "\u001b[34m[2020-07-16:13:25:52:INFO] Sniff delimiter as ','\u001b[0m\n",
      "\u001b[34m[2020-07-16:13:25:52:INFO] Determined delimiter of CSV input is ','\u001b[0m\n",
      "\u001b[34m[2020-07-16:13:25:52:INFO] Sniff delimiter as ','\u001b[0m\n",
      "\u001b[34m[2020-07-16:13:25:52:INFO] Determined delimiter of CSV input is ','\u001b[0m\n",
      "\u001b[34m[2020-07-16:13:25:52:INFO] Sniff delimiter as ','\u001b[0m\n",
      "\u001b[34m[2020-07-16:13:25:52:INFO] Determined delimiter of CSV input is ','\u001b[0m\n",
      "\u001b[34m[2020-07-16:13:25:52:INFO] Sniff delimiter as ','\u001b[0m\n",
      "\u001b[34m[2020-07-16:13:25:52:INFO] Determined delimiter of CSV input is ','\u001b[0m\n",
      "\u001b[35m[2020-07-16:13:25:52:INFO] Sniff delimiter as ','\u001b[0m\n",
      "\u001b[35m[2020-07-16:13:25:52:INFO] Determined delimiter of CSV input is ','\u001b[0m\n",
      "\u001b[35m[2020-07-16:13:25:52:INFO] Sniff delimiter as ','\u001b[0m\n",
      "\u001b[35m[2020-07-16:13:25:52:INFO] Determined delimiter of CSV input is ','\u001b[0m\n",
      "\u001b[35m[2020-07-16:13:25:52:INFO] Sniff delimiter as ','\u001b[0m\n",
      "\u001b[35m[2020-07-16:13:25:52:INFO] Determined delimiter of CSV input is ','\u001b[0m\n",
      "\u001b[35m[2020-07-16:13:25:52:INFO] Sniff delimiter as ','\u001b[0m\n",
      "\u001b[35m[2020-07-16:13:25:52:INFO] Determined delimiter of CSV input is ','\u001b[0m\n",
      "\u001b[34m[2020-07-16:13:25:57:INFO] Sniff delimiter as ','\u001b[0m\n",
      "\u001b[34m[2020-07-16:13:25:57:INFO] Determined delimiter of CSV input is ','\u001b[0m\n",
      "\u001b[34m[2020-07-16:13:25:57:INFO] Sniff delimiter as ','\u001b[0m\n",
      "\u001b[34m[2020-07-16:13:25:57:INFO] Determined delimiter of CSV input is ','\u001b[0m\n",
      "\u001b[34m[2020-07-16:13:25:57:INFO] Sniff delimiter as ','\u001b[0m\n",
      "\u001b[34m[2020-07-16:13:25:57:INFO] Determined delimiter of CSV input is ','\u001b[0m\n",
      "\u001b[34m[2020-07-16:13:25:57:INFO] Sniff delimiter as ','\u001b[0m\n",
      "\u001b[34m[2020-07-16:13:25:57:INFO] Determined delimiter of CSV input is ','\u001b[0m\n",
      "\u001b[35m[2020-07-16:13:25:57:INFO] Sniff delimiter as ','\u001b[0m\n",
      "\u001b[35m[2020-07-16:13:25:57:INFO] Determined delimiter of CSV input is ','\u001b[0m\n",
      "\u001b[35m[2020-07-16:13:25:57:INFO] Sniff delimiter as ','\u001b[0m\n",
      "\u001b[35m[2020-07-16:13:25:57:INFO] Determined delimiter of CSV input is ','\u001b[0m\n",
      "\u001b[35m[2020-07-16:13:25:57:INFO] Sniff delimiter as ','\u001b[0m\n",
      "\u001b[35m[2020-07-16:13:25:57:INFO] Determined delimiter of CSV input is ','\u001b[0m\n",
      "\u001b[35m[2020-07-16:13:25:57:INFO] Sniff delimiter as ','\u001b[0m\n",
      "\u001b[35m[2020-07-16:13:25:57:INFO] Determined delimiter of CSV input is ','\u001b[0m\n",
      "\u001b[34m[2020-07-16:13:25:59:INFO] Sniff delimiter as ','\u001b[0m\n",
      "\u001b[34m[2020-07-16:13:25:59:INFO] Determined delimiter of CSV input is ','\u001b[0m\n",
      "\u001b[34m[2020-07-16:13:25:59:INFO] Sniff delimiter as ','\u001b[0m\n",
      "\u001b[34m[2020-07-16:13:25:59:INFO] Determined delimiter of CSV input is ','\u001b[0m\n",
      "\u001b[35m[2020-07-16:13:25:59:INFO] Sniff delimiter as ','\u001b[0m\n",
      "\u001b[35m[2020-07-16:13:25:59:INFO] Determined delimiter of CSV input is ','\u001b[0m\n",
      "\u001b[35m[2020-07-16:13:25:59:INFO] Sniff delimiter as ','\u001b[0m\n",
      "\u001b[35m[2020-07-16:13:25:59:INFO] Determined delimiter of CSV input is ','\u001b[0m\n",
      "\u001b[34m[2020-07-16:13:26:00:INFO] Sniff delimiter as ','\u001b[0m\n",
      "\u001b[34m[2020-07-16:13:26:00:INFO] Determined delimiter of CSV input is ','\u001b[0m\n",
      "\u001b[34m[2020-07-16:13:26:00:INFO] Sniff delimiter as ','\u001b[0m\n",
      "\u001b[34m[2020-07-16:13:26:00:INFO] Determined delimiter of CSV input is ','\u001b[0m\n",
      "\u001b[35m[2020-07-16:13:26:00:INFO] Sniff delimiter as ','\u001b[0m\n",
      "\u001b[35m[2020-07-16:13:26:00:INFO] Determined delimiter of CSV input is ','\u001b[0m\n",
      "\u001b[35m[2020-07-16:13:26:00:INFO] Sniff delimiter as ','\u001b[0m\n",
      "\u001b[35m[2020-07-16:13:26:00:INFO] Determined delimiter of CSV input is ','\u001b[0m\n",
      "\u001b[34m[2020-07-16:13:26:02:INFO] Sniff delimiter as ','\u001b[0m\n",
      "\u001b[34m[2020-07-16:13:26:02:INFO] Determined delimiter of CSV input is ','\u001b[0m\n",
      "\u001b[34m[2020-07-16:13:26:02:INFO] Sniff delimiter as ','\u001b[0m\n",
      "\u001b[34m[2020-07-16:13:26:02:INFO] Determined delimiter of CSV input is ','\u001b[0m\n",
      "\u001b[34m[2020-07-16:13:26:02:INFO] Sniff delimiter as ','\u001b[0m\n",
      "\u001b[34m[2020-07-16:13:26:02:INFO] Determined delimiter of CSV input is ','\u001b[0m\n",
      "\u001b[34m[2020-07-16:13:26:02:INFO] Sniff delimiter as ','\u001b[0m\n",
      "\u001b[34m[2020-07-16:13:26:02:INFO] Determined delimiter of CSV input is ','\u001b[0m\n",
      "\u001b[35m[2020-07-16:13:26:02:INFO] Sniff delimiter as ','\u001b[0m\n",
      "\u001b[35m[2020-07-16:13:26:02:INFO] Determined delimiter of CSV input is ','\u001b[0m\n",
      "\u001b[35m[2020-07-16:13:26:02:INFO] Sniff delimiter as ','\u001b[0m\n",
      "\u001b[35m[2020-07-16:13:26:02:INFO] Determined delimiter of CSV input is ','\u001b[0m\n",
      "\u001b[35m[2020-07-16:13:26:02:INFO] Sniff delimiter as ','\u001b[0m\n",
      "\u001b[35m[2020-07-16:13:26:02:INFO] Determined delimiter of CSV input is ','\u001b[0m\n",
      "\u001b[35m[2020-07-16:13:26:02:INFO] Sniff delimiter as ','\u001b[0m\n",
      "\u001b[35m[2020-07-16:13:26:02:INFO] Determined delimiter of CSV input is ','\u001b[0m\n",
      "\u001b[34m[2020-07-16:13:26:07:INFO] Sniff delimiter as ','\u001b[0m\n",
      "\u001b[35m[2020-07-16:13:26:07:INFO] Sniff delimiter as ','\u001b[0m\n",
      "\u001b[34m[2020-07-16:13:26:07:INFO] Determined delimiter of CSV input is ','\u001b[0m\n",
      "\u001b[34m[2020-07-16:13:26:07:INFO] Sniff delimiter as ','\u001b[0m\n",
      "\u001b[34m[2020-07-16:13:26:07:INFO] Determined delimiter of CSV input is ','\u001b[0m\n",
      "\u001b[34m[2020-07-16:13:26:07:INFO] Sniff delimiter as ','\u001b[0m\n",
      "\u001b[34m[2020-07-16:13:26:07:INFO] Determined delimiter of CSV input is ','\u001b[0m\n",
      "\u001b[34m[2020-07-16:13:26:07:INFO] Sniff delimiter as ','\u001b[0m\n",
      "\u001b[34m[2020-07-16:13:26:07:INFO] Determined delimiter of CSV input is ','\u001b[0m\n",
      "\u001b[35m[2020-07-16:13:26:07:INFO] Determined delimiter of CSV input is ','\u001b[0m\n",
      "\u001b[35m[2020-07-16:13:26:07:INFO] Sniff delimiter as ','\u001b[0m\n",
      "\u001b[35m[2020-07-16:13:26:07:INFO] Determined delimiter of CSV input is ','\u001b[0m\n",
      "\u001b[35m[2020-07-16:13:26:07:INFO] Sniff delimiter as ','\u001b[0m\n",
      "\u001b[35m[2020-07-16:13:26:07:INFO] Determined delimiter of CSV input is ','\u001b[0m\n",
      "\u001b[35m[2020-07-16:13:26:07:INFO] Sniff delimiter as ','\u001b[0m\n",
      "\u001b[35m[2020-07-16:13:26:07:INFO] Determined delimiter of CSV input is ','\u001b[0m\n",
      "\u001b[34m[2020-07-16:13:26:09:INFO] Sniff delimiter as ','\u001b[0m\n",
      "\u001b[34m[2020-07-16:13:26:09:INFO] Determined delimiter of CSV input is ','\u001b[0m\n",
      "\u001b[34m[2020-07-16:13:26:09:INFO] Sniff delimiter as ','\u001b[0m\n",
      "\u001b[34m[2020-07-16:13:26:09:INFO] Determined delimiter of CSV input is ','\u001b[0m\n",
      "\u001b[35m[2020-07-16:13:26:09:INFO] Sniff delimiter as ','\u001b[0m\n",
      "\u001b[35m[2020-07-16:13:26:09:INFO] Determined delimiter of CSV input is ','\u001b[0m\n",
      "\u001b[35m[2020-07-16:13:26:09:INFO] Sniff delimiter as ','\u001b[0m\n",
      "\u001b[35m[2020-07-16:13:26:09:INFO] Determined delimiter of CSV input is ','\u001b[0m\n",
      "\u001b[34m[2020-07-16:13:26:09:INFO] Sniff delimiter as ','\u001b[0m\n",
      "\u001b[34m[2020-07-16:13:26:09:INFO] Determined delimiter of CSV input is ','\u001b[0m\n",
      "\u001b[35m[2020-07-16:13:26:09:INFO] Sniff delimiter as ','\u001b[0m\n",
      "\u001b[35m[2020-07-16:13:26:09:INFO] Determined delimiter of CSV input is ','\u001b[0m\n",
      "\u001b[34m[2020-07-16:13:26:10:INFO] Sniff delimiter as ','\u001b[0m\n",
      "\u001b[34m[2020-07-16:13:26:10:INFO] Determined delimiter of CSV input is ','\u001b[0m\n",
      "\u001b[35m[2020-07-16:13:26:10:INFO] Sniff delimiter as ','\u001b[0m\n",
      "\u001b[35m[2020-07-16:13:26:10:INFO] Determined delimiter of CSV input is ','\u001b[0m\n",
      "\u001b[34m[2020-07-16:13:26:12:INFO] Sniff delimiter as ','\u001b[0m\n",
      "\u001b[34m[2020-07-16:13:26:12:INFO] Determined delimiter of CSV input is ','\u001b[0m\n",
      "\u001b[35m[2020-07-16:13:26:12:INFO] Sniff delimiter as ','\u001b[0m\n",
      "\u001b[35m[2020-07-16:13:26:12:INFO] Determined delimiter of CSV input is ','\u001b[0m\n",
      "\u001b[34m[2020-07-16:13:26:12:INFO] Sniff delimiter as ','\u001b[0m\n",
      "\u001b[34m[2020-07-16:13:26:12:INFO] Determined delimiter of CSV input is ','\u001b[0m\n",
      "\u001b[34m[2020-07-16:13:26:12:INFO] Sniff delimiter as ','\u001b[0m\n",
      "\u001b[34m[2020-07-16:13:26:12:INFO] Determined delimiter of CSV input is ','\u001b[0m\n",
      "\u001b[34m[2020-07-16:13:26:12:INFO] Sniff delimiter as ','\u001b[0m\n",
      "\u001b[35m[2020-07-16:13:26:12:INFO] Sniff delimiter as ','\u001b[0m\n",
      "\u001b[35m[2020-07-16:13:26:12:INFO] Determined delimiter of CSV input is ','\u001b[0m\n",
      "\u001b[35m[2020-07-16:13:26:12:INFO] Sniff delimiter as ','\u001b[0m\n",
      "\u001b[35m[2020-07-16:13:26:12:INFO] Determined delimiter of CSV input is ','\u001b[0m\n",
      "\u001b[35m[2020-07-16:13:26:12:INFO] Sniff delimiter as ','\u001b[0m\n",
      "\u001b[34m[2020-07-16:13:26:12:INFO] Determined delimiter of CSV input is ','\u001b[0m\n",
      "\u001b[35m[2020-07-16:13:26:12:INFO] Determined delimiter of CSV input is ','\u001b[0m\n"
     ]
    },
    {
     "name": "stdout",
     "output_type": "stream",
     "text": [
      "\n"
     ]
    }
   ],
   "source": [
    "xgb_transformer.wait()"
   ]
  },
  {
   "cell_type": "markdown",
   "metadata": {},
   "source": [
    "Now the transform job has executed and the result, the estimated sentiment of each review, has been saved on S3. Since we would rather work on this file locally we can perform a bit of notebook magic to copy the file to the `data_dir`."
   ]
  },
  {
   "cell_type": "code",
   "execution_count": 27,
   "metadata": {},
   "outputs": [
    {
     "name": "stdout",
     "output_type": "stream",
     "text": [
      "Completed 256.0 KiB/370.5 KiB (3.0 MiB/s) with 1 file(s) remaining\r",
      "Completed 370.5 KiB/370.5 KiB (4.2 MiB/s) with 1 file(s) remaining\r",
      "download: s3://sagemaker-us-east-1-929462117807/xgboost-2020-07-16-13-21-34-827/test.csv.out to ../data/sentiment_web_app/test.csv.out\r\n"
     ]
    }
   ],
   "source": [
    "!aws s3 cp --recursive $xgb_transformer.output_path $data_dir"
   ]
  },
  {
   "cell_type": "markdown",
   "metadata": {},
   "source": [
    "The last step is now to read in the output from our model, convert the output to something a little more usable, in this case we want the sentiment to be either `1` (positive) or `0` (negative), and then compare to the ground truth labels."
   ]
  },
  {
   "cell_type": "code",
   "execution_count": 28,
   "metadata": {},
   "outputs": [],
   "source": [
    "predictions = pd.read_csv(os.path.join(data_dir, 'test.csv.out'), header=None)\n",
    "predictions = [round(num) for num in predictions.squeeze().values]"
   ]
  },
  {
   "cell_type": "code",
   "execution_count": 29,
   "metadata": {},
   "outputs": [
    {
     "data": {
      "text/plain": [
       "0.86408"
      ]
     },
     "execution_count": 29,
     "metadata": {},
     "output_type": "execute_result"
    }
   ],
   "source": [
    "from sklearn.metrics import accuracy_score\n",
    "accuracy_score(test_y, predictions)"
   ]
  },
  {
   "cell_type": "markdown",
   "metadata": {},
   "source": [
    "## Step 6: Deploying the model\n",
    "\n",
    "Once we construct and fit our model, SageMaker stores the resulting model artifacts and we can use those to deploy an endpoint (inference code). To see this, look in the SageMaker console and you should see that a model has been created along with a link to the S3 location where the model artifacts have been stored.\n",
    "\n",
    "Deploying an endpoint is a lot like training the model with a few important differences. The first is that a deployed model doesn't change the model artifacts, so as you send it various testing instances the model won't change. Another difference is that since we aren't performing a fixed computation, as we were in the training step or while performing a batch transform, the compute instance that gets started stays running until we tell it to stop. This is important to note as if we forget and leave it running we will be charged the entire time.\n",
    "\n",
    "In other words **If you are no longer using a deployed endpoint, shut it down!**"
   ]
  },
  {
   "cell_type": "code",
   "execution_count": 30,
   "metadata": {},
   "outputs": [
    {
     "name": "stderr",
     "output_type": "stream",
     "text": [
      "WARNING:sagemaker:Parameter image will be renamed to image_uri in SageMaker Python SDK v2.\n",
      "WARNING:sagemaker:Using already existing model: xgboost-2020-07-16-13-12-17-761\n"
     ]
    },
    {
     "name": "stdout",
     "output_type": "stream",
     "text": [
      "---------------!"
     ]
    }
   ],
   "source": [
    "xgb_predictor = xgb.deploy(initial_instance_count = 1, instance_type = 'ml.m4.xlarge')"
   ]
  },
  {
   "cell_type": "markdown",
   "metadata": {},
   "source": [
    "### Testing the model (again)\n",
    "\n",
    "Now that we have deployed our endpoint, we can send the testing data to it and get back the inference results. We already did this earlier using the batch transform functionality of SageMaker, however, we will test our model again using the newly deployed endpoint so that we can make sure that it works properly and to get a bit of a feel for how the endpoint works.\n",
    "\n",
    "When using the created endpoint it is important to know that we are limited in the amount of information we can send in each call so we need to break the testing data up into chunks and then send each chunk. Also, we need to serialize our data before we send it to the endpoint to ensure that our data is transmitted properly. Fortunately, SageMaker can do the serialization part for us provided we tell it the format of our data."
   ]
  },
  {
   "cell_type": "code",
   "execution_count": 31,
   "metadata": {},
   "outputs": [],
   "source": [
    "from sagemaker.predictor import csv_serializer\n",
    "\n",
    "# We need to tell the endpoint what format the data we are sending is in so that SageMaker can perform the serialization.\n",
    "xgb_predictor.content_type = 'text/csv'\n",
    "xgb_predictor.serializer = csv_serializer"
   ]
  },
  {
   "cell_type": "code",
   "execution_count": 32,
   "metadata": {},
   "outputs": [],
   "source": [
    "# We split the data into chunks and send each chunk seperately, accumulating the results.\n",
    "\n",
    "def predict(data, rows=512):\n",
    "    split_array = np.array_split(data, int(data.shape[0] / float(rows) + 1))\n",
    "    predictions = ''\n",
    "    for array in split_array:\n",
    "        predictions = ','.join([predictions, xgb_predictor.predict(array).decode('utf-8')])\n",
    "    \n",
    "    return np.fromstring(predictions[1:], sep=',')"
   ]
  },
  {
   "cell_type": "code",
   "execution_count": 33,
   "metadata": {},
   "outputs": [],
   "source": [
    "test_X = pd.read_csv(os.path.join(data_dir, 'test.csv'), header=None).values\n",
    "\n",
    "predictions = predict(test_X)\n",
    "predictions = [round(num) for num in predictions]"
   ]
  },
  {
   "cell_type": "markdown",
   "metadata": {},
   "source": [
    "Lastly, we check to see what the accuracy of our model is."
   ]
  },
  {
   "cell_type": "code",
   "execution_count": 34,
   "metadata": {},
   "outputs": [
    {
     "data": {
      "text/plain": [
       "0.86408"
      ]
     },
     "execution_count": 34,
     "metadata": {},
     "output_type": "execute_result"
    }
   ],
   "source": [
    "from sklearn.metrics import accuracy_score\n",
    "accuracy_score(test_y, predictions)"
   ]
  },
  {
   "cell_type": "markdown",
   "metadata": {},
   "source": [
    "And the results here should agree with the model testing that we did earlier using the batch transform job.\n",
    "\n",
    "### Cleaning up\n",
    "\n",
    "Now that we've determined that deploying our model works as expected, we are going to shut it down. Remember that the longer the endpoint is left running, the greater the cost and since we have a bit more work to do before we are able to use our endpoint with our simple web app, we should shut everything down."
   ]
  },
  {
   "cell_type": "code",
   "execution_count": 35,
   "metadata": {},
   "outputs": [],
   "source": [
    "xgb_predictor.delete_endpoint()"
   ]
  },
  {
   "cell_type": "markdown",
   "metadata": {},
   "source": [
    "## Step 7: Putting our model to work\n",
    "\n",
    "As we've mentioned a few times now, our goal is to have our model deployed and then access it using a very simple web app. The intent is for this web app to take some user submitted data (a review), send it off to our endpoint (the model) and then display the result.\n",
    "\n",
    "However, there is a small catch. Currently the only way we can access the endpoint to send it data is using the SageMaker API. We can, if we wish, expose the actual URL that our model's endpoint is receiving data from, however, if we just send it data ourselves we will not get anything in return. This is because the endpoint created by SageMaker requires the entity accessing it have the correct permissions. So, we would need to somehow authenticate our web app with AWS.\n",
    "\n",
    "Having a website that authenticates to AWS seems a bit beyond the scope of this lesson so we will opt for an alternative approach. Namely, we will create a new endpoint which does not require authentication and which acts as a proxy for the SageMaker endpoint.\n",
    "\n",
    "As an additional constraint, we will try to avoid doing any data processing in the web app itself. Remember that when we constructed and tested our model we started with a movie review, then we simplified it by removing any html formatting and punctuation, then we constructed a bag of words embedding and the resulting vector is what we sent to our model. All of this needs to be done to our user input as well.\n",
    "\n",
    "Fortunately we can do all of this data processing in the backend, using Amazon's Lambda service.\n",
    "\n",
    "<img src=\"Web App Diagram.svg\">\n",
    "\n",
    "The diagram above gives an overview of how the various services will work together. On the far right is the model which we trained above and which will be deployed using SageMaker. On the far left is our web app that collects a user's movie review, sends it off and expects a positive or negative sentiment in return.\n",
    "\n",
    "In the middle is where some of the magic happens. We will construct a Lambda function, which you can think of as a straightforward Python function that can be executed whenever a specified event occurs. This Python function will do the data processing we need to perform on a user submitted review. In addition, we will give this function permission to send and recieve data from a SageMaker endpoint.\n",
    "\n",
    "Lastly, the method we will use to execute the Lambda function is a new endpoint that we will create using API Gateway. This endpoint will be a url that listens for data to be sent to it. Once it gets some data it will pass that data on to the Lambda function and then return whatever the Lambda function returns. Essentially it will act as an interface that lets our web app communicate with the Lambda function.\n",
    "\n",
    "### Processing a single review\n",
    "\n",
    "For now, suppose we are given a movie review by our user in the form of a string, like so:"
   ]
  },
  {
   "cell_type": "code",
   "execution_count": 36,
   "metadata": {},
   "outputs": [],
   "source": [
    "test_review = \"Nothing but a disgusting materialistic pageant of glistening abed remote control greed zombies, totally devoid of any heart or heat. A romantic comedy that has zero romantic chemestry and zero laughs!\""
   ]
  },
  {
   "cell_type": "markdown",
   "metadata": {},
   "source": [
    "How do we go from this string to the bag of words feature vector that is expected by our model?\n",
    "\n",
    "If we recall at the beginning of this notebook, the first step is to remove any unnecessary characters using the `review_to_words` method. Remember that we intentionally did this in a very simplistic way. This is because we are going to have to copy this method to our (eventual) Lambda function (we will go into more detail later) and this means it needs to be rather simplistic."
   ]
  },
  {
   "cell_type": "code",
   "execution_count": 37,
   "metadata": {},
   "outputs": [
    {
     "name": "stdout",
     "output_type": "stream",
     "text": [
      "nothing but a disgusting materialistic pageant of glistening abed remote control greed zombies totally devoid of any heart or heat a romantic comedy that has zero romantic chemestry and zero laughs\n"
     ]
    }
   ],
   "source": [
    "test_words = review_to_words(test_review)\n",
    "print(test_words)"
   ]
  },
  {
   "cell_type": "markdown",
   "metadata": {},
   "source": [
    "Next, we need to construct a bag of words embedding of the `test_words` string. To do this, remember that a bag of words embedding uses a `vocabulary` consisting of the most frequently appearing words in a set of documents. Then, for each word in the vocabulary we record the number of times that word appears in `test_words`. We constructed the `vocabulary` earlier using the training set for our problem so encoding `test_words` is relatively straightforward."
   ]
  },
  {
   "cell_type": "code",
   "execution_count": 38,
   "metadata": {},
   "outputs": [],
   "source": [
    "def bow_encoding(words, vocabulary):\n",
    "    bow = [0] * len(vocabulary) # Start by setting the count for each word in the vocabulary to zero.\n",
    "    for word in words.split():  # For each word in the string\n",
    "        if word in vocabulary:  # If the word is one that occurs in the vocabulary, increase its count.\n",
    "            bow[vocabulary[word]] += 1\n",
    "    return bow"
   ]
  },
  {
   "cell_type": "code",
   "execution_count": 39,
   "metadata": {},
   "outputs": [
    {
     "name": "stdout",
     "output_type": "stream",
     "text": [
      "[0, 0, 0, 0, 0, 0, 0, 0, 0, 0, 0, 0, 0, 0, 0, 0, 0, 0, 0, 0, 0, 0, 0, 0, 0, 0, 0, 0, 0, 0, 0, 0, 0, 0, 0, 0, 0, 0, 0, 0, 0, 0, 0, 0, 0, 0, 0, 0, 0, 0, 0, 0, 0, 0, 0, 0, 0, 0, 0, 0, 0, 0, 0, 0, 0, 0, 0, 0, 0, 0, 0, 0, 0, 0, 0, 0, 0, 0, 0, 0, 0, 0, 0, 0, 0, 0, 0, 0, 0, 0, 0, 0, 0, 0, 0, 0, 0, 0, 0, 0, 0, 0, 0, 0, 0, 0, 0, 0, 0, 0, 0, 0, 0, 0, 0, 0, 0, 0, 0, 0, 0, 0, 0, 0, 0, 0, 0, 0, 0, 0, 0, 0, 0, 0, 0, 0, 0, 0, 0, 0, 0, 0, 0, 0, 0, 0, 0, 0, 0, 0, 0, 0, 0, 0, 0, 0, 0, 0, 0, 0, 0, 0, 0, 0, 0, 0, 0, 0, 0, 0, 0, 0, 0, 0, 0, 0, 0, 0, 0, 0, 0, 0, 0, 0, 0, 0, 0, 0, 0, 0, 0, 0, 0, 0, 0, 0, 0, 0, 0, 0, 0, 0, 0, 0, 0, 0, 0, 0, 0, 0, 0, 0, 0, 0, 0, 0, 0, 0, 0, 0, 0, 0, 0, 0, 0, 0, 1, 0, 0, 0, 0, 0, 0, 0, 0, 0, 0, 0, 0, 0, 0, 0, 0, 0, 0, 0, 0, 0, 0, 0, 0, 0, 0, 0, 0, 0, 1, 0, 0, 0, 0, 0, 0, 0, 0, 0, 0, 0, 0, 0, 0, 0, 0, 0, 0, 0, 0, 0, 0, 0, 0, 0, 0, 0, 0, 0, 0, 0, 0, 0, 0, 0, 0, 0, 0, 0, 0, 0, 0, 0, 0, 0, 0, 0, 0, 0, 0, 0, 0, 0, 0, 0, 0, 0, 0, 0, 0, 0, 0, 0, 0, 0, 0, 0, 0, 0, 0, 0, 0, 0, 0, 0, 0, 0, 0, 0, 0, 0, 0, 0, 0, 0, 0, 0, 0, 0, 0, 0, 0, 0, 0, 0, 0, 0, 0, 0, 0, 0, 0, 0, 0, 0, 0, 0, 0, 0, 0, 0, 0, 0, 0, 0, 0, 0, 0, 0, 0, 0, 0, 0, 0, 0, 0, 0, 0, 0, 0, 0, 0, 0, 0, 0, 0, 0, 0, 0, 0, 0, 0, 0, 0, 0, 0, 0, 0, 0, 0, 0, 0, 0, 0, 0, 0, 0, 0, 0, 0, 0, 0, 0, 0, 0, 0, 0, 0, 0, 0, 0, 0, 0, 0, 0, 0, 0, 0, 0, 0, 0, 0, 0, 0, 0, 0, 0, 0, 0, 0, 0, 0, 0, 0, 0, 0, 0, 0, 0, 0, 0, 0, 0, 0, 0, 0, 0, 0, 0, 0, 0, 0, 0, 0, 0, 0, 0, 0, 0, 0, 0, 0, 0, 0, 0, 0, 0, 0, 0, 0, 0, 0, 0, 0, 0, 0, 0, 0, 0, 0, 0, 0, 0, 0, 0, 0, 0, 0, 0, 0, 0, 0, 0, 0, 0, 0, 0, 0, 0, 0, 0, 0, 0, 0, 0, 0, 0, 0, 0, 0, 0, 0, 0, 0, 0, 0, 0, 0, 0, 0, 0, 0, 0, 0, 0, 0, 0, 0, 0, 0, 0, 0, 0, 0, 0, 0, 0, 0, 0, 0, 0, 0, 0, 0, 0, 0, 0, 0, 0, 0, 0, 0, 0, 0, 0, 0, 0, 0, 0, 0, 0, 0, 0, 0, 0, 0, 0, 0, 0, 0, 0, 0, 0, 0, 0, 0, 0, 0, 0, 0, 0, 0, 0, 0, 0, 0, 0, 0, 0, 0, 0, 0, 0, 0, 0, 0, 0, 0, 0, 0, 0, 0, 0, 0, 0, 0, 0, 0, 0, 0, 0, 0, 0, 0, 0, 0, 0, 0, 0, 1, 0, 0, 0, 0, 0, 0, 0, 0, 0, 0, 0, 0, 0, 0, 0, 0, 0, 0, 0, 0, 0, 0, 0, 0, 0, 0, 0, 0, 0, 0, 0, 0, 0, 0, 0, 0, 0, 0, 0, 0, 0, 0, 0, 0, 0, 0, 0, 0, 0, 0, 0, 0, 0, 0, 0, 0, 0, 0, 0, 0, 0, 0, 0, 0, 0, 0, 0, 0, 0, 0, 0, 0, 0, 0, 0, 0, 0, 0, 0, 0, 0, 0, 0, 0, 0, 0, 0, 0, 0, 0, 0, 0, 0, 0, 0, 0, 0, 0, 0, 0, 0, 0, 0, 0, 0, 0, 0, 0, 0, 0, 0, 0, 0, 0, 0, 0, 0, 0, 0, 0, 0, 0, 0, 0, 0, 0, 0, 0, 0, 0, 0, 0, 0, 0, 0, 0, 0, 0, 0, 0, 0, 0, 0, 0, 0, 0, 0, 0, 0, 0, 0, 0, 0, 0, 0, 0, 0, 0, 0, 0, 0, 0, 0, 0, 0, 0, 0, 0, 0, 0, 0, 0, 0, 0, 0, 0, 0, 0, 0, 0, 0, 0, 0, 0, 0, 0, 0, 0, 0, 0, 0, 0, 0, 0, 0, 0, 0, 0, 0, 0, 0, 0, 0, 0, 0, 0, 0, 0, 0, 0, 0, 0, 0, 0, 0, 0, 0, 0, 0, 0, 0, 0, 0, 0, 0, 0, 0, 0, 0, 0, 0, 0, 0, 0, 0, 0, 0, 0, 0, 0, 0, 0, 0, 0, 0, 0, 0, 0, 0, 0, 0, 0, 0, 1, 0, 0, 0, 0, 0, 0, 0, 0, 0, 0, 0, 0, 0, 0, 0, 0, 0, 0, 0, 0, 0, 0, 0, 0, 0, 0, 0, 0, 0, 0, 0, 0, 0, 0, 0, 0, 0, 0, 0, 0, 0, 0, 0, 0, 0, 0, 0, 0, 0, 0, 0, 0, 0, 0, 0, 0, 0, 0, 0, 0, 0, 0, 0, 0, 0, 0, 0, 0, 0, 0, 0, 0, 0, 0, 0, 0, 0, 0, 0, 0, 0, 0, 0, 0, 0, 0, 1, 0, 0, 0, 0, 0, 0, 0, 0, 0, 0, 0, 0, 0, 0, 0, 0, 0, 0, 0, 0, 0, 0, 0, 0, 0, 0, 0, 0, 0, 0, 0, 0, 0, 0, 0, 0, 0, 0, 0, 0, 0, 0, 0, 0, 0, 0, 0, 0, 0, 0, 0, 0, 0, 0, 0, 0, 0, 0, 0, 0, 0, 0, 0, 0, 0, 0, 0, 0, 0, 0, 0, 0, 0, 0, 0, 0, 0, 0, 0, 0, 0, 0, 0, 0, 0, 0, 0, 0, 0, 0, 0, 0, 0, 0, 0, 0, 0, 0, 0, 0, 0, 0, 0, 0, 0, 0, 0, 0, 0, 0, 0, 0, 0, 0, 0, 0, 0, 0, 0, 0, 0, 0, 0, 0, 0, 0, 0, 0, 0, 0, 0, 0, 0, 0, 0, 0, 0, 0, 0, 0, 0, 0, 0, 0, 0, 0, 0, 0, 0, 0, 0, 0, 0, 0, 0, 0, 0, 0, 0, 0, 0, 0, 0, 0, 0, 0, 0, 0, 0, 0, 0, 0, 0, 0, 0, 0, 0, 0, 0, 0, 0, 0, 0, 0, 0, 0, 0, 0, 0, 0, 0, 0, 0, 0, 0, 0, 0, 0, 0, 0, 0, 0, 0, 0, 0, 0, 0, 0, 0, 0, 0, 0, 0, 0, 0, 0, 0, 0, 0, 0, 0, 0, 0, 0, 0, 0, 0, 0, 0, 0, 0, 0, 0, 0, 0, 0, 0, 0, 0, 0, 0, 0, 0, 0, 0, 0, 0, 0, 0, 0, 0, 0, 1, 0, 0, 0, 0, 0, 0, 0, 0, 0, 0, 0, 0, 0, 0, 0, 0, 0, 0, 0, 0, 0, 0, 0, 0, 0, 0, 0, 0, 0, 0, 0, 0, 0, 0, 0, 0, 0, 0, 0, 0, 0, 0, 0, 0, 0, 0, 0, 0, 0, 0, 0, 0, 0, 0, 0, 1, 0, 0, 0, 0, 0, 0, 0, 0, 0, 0, 0, 0, 0, 0, 0, 0, 0, 0, 0, 0, 0, 0, 0, 0, 0, 0, 0, 0, 0, 0, 0, 0, 0, 0, 0, 0, 0, 0, 0, 0, 0, 0, 0, 0, 0, 0, 0, 0, 0, 0, 0, 0, 0, 0, 0, 0, 0, 0, 0, 0, 0, 0, 0, 0, 0, 0, 0, 0, 0, 0, 0, 0, 0, 0, 0, 0, 0, 0, 0, 0, 0, 0, 0, 0, 0, 0, 0, 0, 0, 0, 0, 0, 0, 0, 0, 0, 0, 0, 0, 0, 0, 0, 0, 0, 0, 0, 0, 0, 0, 0, 0, 0, 0, 0, 0, 0, 0, 0, 0, 0, 0, 0, 0, 0, 0, 0, 0, 0, 0, 0, 0, 0, 0, 0, 0, 0, 0, 0, 0, 0, 0, 0, 0, 0, 0, 0, 0, 0, 0, 0, 0, 0, 0, 0, 0, 0, 0, 0, 0, 0, 0, 0, 0, 0, 0, 0, 0, 0, 0, 0, 0, 0, 0, 0, 0, 0, 0, 0, 0, 0, 0, 0, 0, 0, 0, 0, 0, 0, 0, 0, 0, 0, 0, 0, 0, 0, 0, 0, 0, 0, 0, 0, 0, 0, 0, 0, 0, 0, 0, 0, 0, 0, 0, 0, 0, 0, 0, 0, 0, 0, 0, 0, 0, 0, 0, 0, 0, 0, 0, 0, 0, 0, 0, 0, 0, 0, 0, 0, 0, 0, 0, 0, 0, 0, 0, 0, 0, 0, 0, 0, 0, 0, 0, 0, 0, 0, 0, 0, 0, 0, 0, 0, 0, 0, 0, 0, 0, 0, 0, 0, 0, 0, 0, 0, 0, 0, 0, 0, 0, 0, 0, 0, 0, 0, 0, 0, 0, 0, 0, 0, 0, 0, 0, 0, 0, 0, 0, 0, 0, 0, 0, 0, 0, 0, 0, 0, 0, 0, 0, 0, 0, 0, 0, 0, 0, 0, 0, 0, 0, 0, 0, 0, 0, 0, 0, 0, 0, 0, 0, 0, 0, 0, 0, 0, 0, 0, 0, 0, 0, 0, 0, 0, 0, 0, 0, 0, 0, 0, 0, 0, 0, 0, 0, 0, 0, 0, 0, 0, 0, 0, 0, 0, 0, 0, 0, 0, 0, 0, 0, 0, 0, 0, 0, 0, 0, 0, 0, 0, 0, 0, 0, 0, 0, 0, 0, 0, 0, 0, 0, 0, 0, 0, 0, 0, 0, 0, 0, 0, 0, 0, 0, 0, 0, 0, 0, 0, 0, 0, 0, 0, 0, 0, 0, 0, 0, 0, 0, 0, 0, 0, 0, 0, 0, 0, 0, 0, 0, 0, 0, 0, 0, 0, 0, 0, 0, 0, 0, 0, 0, 0, 0, 0, 0, 0, 0, 0, 0, 0, 0, 0, 0, 0, 0, 0, 0, 0, 0, 0, 0, 0, 0, 0, 0, 0, 0, 0, 0, 0, 0, 0, 0, 0, 0, 0, 0, 0, 0, 0, 0, 0, 0, 0, 0, 0, 0, 0, 0, 0, 0, 0, 0, 0, 0, 0, 0, 0, 0, 0, 0, 0, 0, 0, 0, 0, 0, 0, 0, 0, 0, 0, 0, 0, 0, 0, 0, 0, 0, 0, 0, 0, 0, 0, 0, 0, 0, 0, 0, 0, 0, 0, 0, 0, 0, 0, 0, 0, 0, 0, 0, 0, 0, 0, 0, 0, 0, 0, 0, 0, 0, 0, 0, 0, 0, 0, 0, 0, 0, 0, 0, 0, 0, 0, 0, 0, 0, 0, 0, 0, 0, 0, 0, 0, 0, 0, 0, 0, 0, 0, 0, 0, 0, 0, 0, 0, 0, 0, 0, 0, 0, 0, 0, 0, 0, 0, 0, 0, 0, 0, 0, 0, 0, 0, 0, 0, 0, 0, 0, 0, 0, 0, 0, 0, 0, 0, 0, 0, 0, 0, 0, 0, 0, 0, 0, 0, 0, 0, 0, 0, 0, 0, 0, 0, 0, 0, 0, 0, 0, 0, 0, 0, 0, 0, 0, 0, 0, 0, 0, 0, 0, 0, 0, 0, 0, 0, 0, 0, 0, 0, 0, 0, 0, 0, 0, 0, 0, 0, 0, 0, 0, 0, 0, 0, 0, 0, 0, 0, 0, 0, 0, 0, 0, 1, 0, 0, 0, 0, 0, 0, 0, 0, 0, 0, 0, 0, 0, 0, 0, 0, 0, 0, 0, 0, 0, 0, 0, 0, 0, 0, 0, 0, 0, 0, 0, 0, 0, 0, 0, 0, 0, 0, 0, 0, 0, 0, 0, 0, 0, 0, 0, 0, 0, 0, 0, 0, 0, 0, 0, 0, 0, 0, 0, 0, 0, 0, 0, 0, 0, 0, 0, 0, 0, 0, 0, 0, 0, 0, 1, 0, 0, 0, 0, 0, 0, 0, 0, 0, 0, 0, 0, 0, 0, 0, 0, 0, 0, 0, 0, 1, 0, 0, 1, 0, 0, 0, 0, 0, 0, 0, 0, 0, 0, 0, 0, 0, 0, 0, 0, 0, 0, 0, 0, 0, 0, 0, 0, 0, 0, 0, 0, 0, 0, 0, 0, 0, 0, 0, 0, 0, 0, 0, 0, 0, 0, 0, 0, 0, 0, 0, 0, 0, 0, 0, 0, 0, 0, 0, 0, 0, 0, 0, 0, 0, 0, 0, 0, 0, 0, 0, 0, 0, 0, 0, 0, 0, 0, 0, 0, 0, 0, 0, 0, 0, 0, 0, 0, 0, 0, 0, 0, 0, 0, 0, 0, 0, 0, 0, 0, 0, 0, 0, 0, 0, 0, 0, 0, 0, 0, 0, 0, 0, 0, 0, 0, 0, 0, 0, 0, 0, 0, 0, 0, 0, 0, 0, 0, 0, 0, 0, 0, 0, 0, 0, 0, 0, 0, 0, 0, 0, 0, 0, 0, 0, 0, 0, 0, 0, 0, 0, 0, 0, 0, 0, 0, 0, 0, 0, 0, 0, 0, 0, 0, 0, 0, 0, 0, 0, 0, 0, 0, 0, 0, 0, 0, 0, 0, 0, 0, 0, 0, 0, 0, 0, 0, 0, 0, 0, 0, 0, 0, 0, 0, 0, 0, 0, 0, 0, 0, 0, 0, 0, 0, 0, 0, 0, 0, 0, 0, 0, 0, 0, 0, 0, 0, 0, 0, 0, 0, 0, 0, 0, 0, 0, 0, 0, 0, 0, 0, 0, 0, 0, 0, 0, 0, 0, 0, 0, 0, 0, 0, 0, 0, 0, 0, 0, 0, 0, 0, 0, 0, 0, 0, 0, 0, 0, 0, 0, 0, 0, 0, 0, 0, 0, 0, 0, 0, 0, 0, 0, 0, 0, 0, 0, 0, 0, 0, 0, 0, 0, 0, 0, 0, 0, 0, 0, 0, 0, 0, 0, 0, 0, 0, 0, 0, 0, 0, 0, 0, 0, 0, 0, 0, 0, 0, 0, 0, 0, 0, 0, 0, 0, 0, 0, 0, 0, 0, 0, 0, 0, 0, 0, 0, 0, 0, 0, 0, 0, 0, 0, 0, 0, 0, 0, 0, 0, 0, 0, 0, 0, 0, 0, 0, 0, 0, 0, 0, 0, 0, 0, 0, 0, 0, 0, 0, 0, 0, 0, 0, 0, 0, 0, 0, 0, 0, 0, 0, 0, 0, 0, 0, 0, 0, 0, 0, 0, 0, 0, 0, 0, 0, 0, 0, 0, 0, 0, 0, 0, 0, 0, 0, 0, 0, 0, 0, 0, 0, 0, 0, 0, 0, 0, 0, 0, 0, 0, 0, 0, 0, 0, 0, 0, 0, 0, 0, 0, 0, 0, 0, 0, 0, 0, 0, 0, 0, 0, 0, 0, 0, 0, 0, 0, 0, 0, 0, 0, 0, 0, 0, 0, 0, 0, 0, 0, 0, 0, 0, 0, 0, 0, 0, 0, 0, 0, 0, 0, 0, 0, 0, 0, 0, 0, 0, 0, 0, 0, 0, 0, 0, 1, 0, 0, 0, 0, 0, 0, 0, 0, 0, 0, 0, 0, 0, 0, 0, 0, 0, 0, 0, 0, 0, 0, 0, 0, 0, 0, 0, 0, 0, 0, 0, 0, 0, 0, 0, 0, 0, 0, 0, 0, 0, 0, 0, 0, 0, 0, 0, 0, 0, 0, 0, 0, 0, 0, 0, 0, 0, 0, 0, 0, 0, 0, 0, 0, 0, 0, 0, 0, 0, 0, 0, 0, 0, 0, 0, 0, 0, 0, 0, 0, 0, 0, 0, 0, 0, 0, 0, 0, 0, 0, 0, 0, 0, 0, 0, 0, 0, 0, 0, 0, 0, 0, 0, 0, 0, 0, 0, 0, 0, 0, 0, 0, 0, 0, 0, 0, 0, 0, 0, 0, 0, 0, 0, 0, 0, 0, 0, 0, 0, 0, 0, 0, 0, 0, 0, 0, 0, 0, 0, 0, 0, 0, 0, 0, 0, 0, 0, 0, 0, 0, 0, 0, 0, 0, 0, 0, 0, 0, 0, 0, 0, 0, 0, 0, 0, 0, 0, 0, 0, 0, 0, 0, 0, 0, 0, 0, 0, 0, 0, 0, 0, 0, 0, 0, 0, 0, 0, 0, 0, 0, 0, 0, 0, 0, 0, 0, 0, 0, 0, 0, 0, 0, 0, 0, 0, 0, 0, 0, 0, 0, 0, 0, 0, 0, 0, 0, 0, 0, 0, 0, 0, 0, 0, 0, 0, 0, 0, 0, 0, 0, 0, 0, 0, 0, 0, 0, 0, 0, 0, 0, 0, 0, 0, 0, 0, 0, 0, 0, 0, 0, 0, 0, 0, 0, 0, 0, 0, 0, 0, 0, 0, 0, 0, 0, 0, 0, 0, 0, 0, 0, 0, 0, 0, 0, 0, 0, 0, 0, 0, 0, 0, 0, 0, 0, 0, 0, 0, 0, 0, 0, 0, 0, 0, 0, 0, 0, 0, 0, 0, 0, 0, 0, 0, 0, 0, 0, 0, 0, 0, 0, 0, 0, 0, 0, 0, 0, 0, 0, 0, 0, 0, 0, 0, 0, 0, 0, 0, 0, 0, 0, 0, 0, 0, 0, 0, 0, 0, 0, 0, 0, 0, 0, 0, 0, 0, 0, 0, 0, 0, 0, 0, 0, 0, 0, 0, 0, 0, 0, 0, 0, 0, 0, 0, 0, 0, 0, 0, 0, 0, 0, 0, 0, 0, 0, 0, 0, 0, 0, 0, 0, 0, 0, 0, 0, 0, 0, 0, 0, 0, 0, 0, 0, 0, 0, 0, 0, 0, 0, 0, 0, 0, 0, 0, 0, 0, 0, 0, 0, 0, 0, 0, 0, 0, 0, 0, 0, 0, 0, 0, 0, 0, 0, 0, 0, 0, 0, 0, 0, 0, 0, 0, 0, 0, 0, 0, 0, 0, 0, 0, 0, 0, 0, 0, 0, 0, 0, 0, 0, 0, 0, 0, 0, 0, 0, 0, 0, 0, 0, 0, 0, 0, 0, 0, 0, 0, 0, 0, 0, 0, 0, 0, 0, 0, 0, 0, 0, 0, 0, 0, 0, 0, 0, 0, 0, 0, 0, 0, 0, 0, 0, 0, 0, 0, 0, 0, 0, 0, 0, 0, 0, 0, 0, 0, 0, 0, 0, 0, 0, 0, 0, 0, 0, 1, 0, 0, 0, 0, 0, 0, 0, 0, 0, 0, 0, 0, 0, 0, 0, 0, 0, 0, 0, 0, 0, 0, 0, 0, 0, 0, 0, 0, 0, 0, 0, 0, 0, 0, 0, 2, 0, 0, 0, 0, 0, 0, 0, 0, 0, 0, 0, 0, 0, 0, 0, 0, 0, 0, 0, 0, 0, 0, 0, 0, 0, 0, 0, 0, 0, 0, 0, 0, 0, 0, 0, 0, 0, 0, 0, 0, 1, 0, 0, 0, 0, 0, 0, 0, 0, 0, 0, 0, 0, 0, 0, 0, 0, 0, 0, 0, 0, 0, 0, 0, 0, 0, 0, 0, 0, 0, 0, 0, 0, 0, 0, 0, 0, 0, 0, 0, 0, 0, 0, 0, 0, 0, 0, 0, 0, 0, 0, 0, 0, 0, 0, 0, 0, 0, 0, 0, 0, 0, 0, 0, 0, 0, 0, 0, 0, 0, 0, 0, 0, 0, 0, 0, 0, 0, 0, 0, 0, 0, 0, 0, 0, 0, 0, 0, 0, 0, 0, 0, 0, 0, 0, 0, 0, 0, 0, 0, 0, 0, 0, 0, 0, 0, 0, 0, 0, 0, 0, 0, 0, 0, 0, 0, 0, 0, 0, 0, 0, 0, 0, 0, 0, 0, 0, 0, 0, 0, 0, 0, 0, 0, 0, 0, 0, 0, 0, 0, 0, 0, 0, 0, 0, 0, 0, 0, 0, 0, 0, 0, 0, 0, 0, 0, 0, 0, 0, 0, 0, 0, 0, 0, 0, 0, 0, 0, 0, 0, 0, 0, 0, 0, 0, 0, 0, 0, 0, 0, 0, 0, 0, 0, 0, 0, 0, 0, 0, 0, 0, 0, 0, 0, 0, 0, 0, 0, 0, 0, 0, 0, 0, 0, 0, 0, 0, 0, 0, 0, 0, 0, 0, 0, 0, 0, 0, 0, 0, 0, 0, 0, 0, 0, 0, 0, 0, 0, 0, 0, 0, 0, 0, 0, 0, 0, 0, 0, 0, 0, 0, 0, 0, 0, 0, 0, 0, 0, 0, 0, 0, 0, 0, 0, 0, 0, 0, 0, 0, 0, 0, 0, 0, 0, 0, 0, 0, 0, 0, 0, 0, 0, 0, 0, 0, 0, 0, 0, 0, 0, 0, 0, 0, 0, 0, 0, 0, 0, 0, 0, 0, 0, 0, 0, 0, 0, 0, 0, 0, 0, 0, 0, 0, 0, 0, 0, 0, 0, 0, 0, 0, 0, 0, 0, 0, 0, 0, 0, 0, 0, 0, 0, 0, 0, 0, 0, 0, 0, 0, 0, 0, 0, 0, 0, 0, 0, 0, 0, 0, 0, 0, 0, 0, 0, 0, 0, 0, 0, 0, 0, 0, 0, 0, 0, 0, 0, 0, 0, 0, 0, 0, 0, 0, 0, 0, 0, 0, 0, 0, 0, 0, 0, 0, 0, 0, 0, 0, 0, 0, 0, 0, 0, 0, 0, 0, 0, 0, 0, 0, 0, 0, 0, 0, 0, 0, 0, 0, 0, 0, 0, 0, 0, 0, 0, 0, 0, 0, 0, 0, 0, 0, 0, 0, 0, 0, 0, 0, 0, 0, 0, 0, 0, 0, 0, 0, 0, 0, 0, 0, 0, 0, 0, 0, 0, 0, 0, 0, 0, 0, 0, 0, 0, 0, 0, 0, 0, 0, 0, 0, 0, 0, 0, 0, 0, 0, 0, 0, 0, 0, 0, 0, 0, 0, 0, 0, 0, 0, 0, 0, 0, 0, 0, 0, 0, 0, 0, 0, 0, 0, 0, 0, 0, 0, 0, 0, 0, 0, 0, 0, 0, 0, 0, 0, 0, 0, 0, 0, 0, 1, 0, 0, 0, 0, 0, 0, 0, 0, 0, 0, 0, 0, 0, 0, 0, 0, 0, 0, 0, 0, 0, 0, 0, 0, 0, 0, 0, 0, 0, 0, 0, 0, 0, 0, 0, 0, 0, 0, 0, 0, 0, 0, 0, 0, 0, 0, 0, 0, 0, 0, 0, 0, 0, 0, 0, 0, 0, 0, 0, 0, 0, 0, 0, 0, 0, 0, 0, 0, 0, 0, 0, 0, 0, 0, 0, 0, 0, 0, 0, 0, 0, 0, 0, 0, 0, 0, 0, 0, 0, 0, 0, 0, 0, 0, 0, 0, 0, 0, 0, 0, 0, 0, 0, 0, 0, 0, 0, 0, 0, 0, 2, 0, 0, 0, 0, 0, 0, 0, 0, 0, 0, 0, 0, 0, 0, 0, 0, 0, 0, 0, 0, 0, 0, 0, 0, 0, 0, 0, 0, 0, 0, 0, 0, 0, 0, 0, 0, 0, 0, 0, 0, 0, 0, 0, 0, 0, 0, 0, 0, 0, 0, 0, 0, 0, 0, 0, 0, 0, 0, 0, 0, 0, 0, 0, 0, 0, 0, 0, 0, 0, 0, 0, 0, 0, 0, 0, 0, 0, 0, 0, 0, 0, 0, 0, 0, 0, 0, 0, 0, 0, 0, 0, 0, 0, 0, 0, 0, 0, 0, 0, 0, 0, 0, 0, 0, 0, 0, 0, 0, 0, 0, 0, 0, 0, 0, 0, 0, 0, 0, 0, 0, 0, 0, 0, 0, 0, 0, 0, 0, 0, 0, 0, 0, 0, 0, 0, 0, 0, 0, 0, 0, 0, 0, 0, 0, 0, 0, 0, 0, 0, 0, 0, 0, 0, 0, 0, 0, 0, 0, 0, 0, 0, 0, 0, 0, 0, 0, 0, 0, 0, 0, 0, 0, 0, 0, 0, 0, 0, 0, 0, 0, 0, 0, 0, 0, 0, 0, 0, 0, 0, 0, 0, 0, 0, 0, 0, 0, 0, 0, 0, 0, 0, 0, 0, 0, 0, 0, 0, 0, 0, 0, 0, 0, 0, 0, 0, 0, 0, 0, 0, 0, 0, 0, 0, 0, 0, 0, 0, 0, 0, 0, 0, 0, 0, 0, 0, 0, 0, 0, 0, 0, 0, 0, 0, 0, 0, 0, 0, 0, 0, 0, 0, 0, 0, 0, 0, 0, 0, 0, 0, 0, 0, 0, 0, 0, 0, 0, 0, 0, 0, 0, 0, 0, 0, 0, 0, 0, 0, 0, 0, 0, 0, 0, 0, 0, 0, 0, 0, 0, 0, 0, 0, 0, 0, 0, 0, 0, 0, 0, 0, 0, 0, 0, 0, 0, 0, 0, 0, 0, 0, 0, 0, 0, 0, 0, 0, 0, 0, 0, 0, 0, 0, 0, 0, 0, 0, 0, 0, 0, 0, 0, 0, 0, 0, 0, 0, 0, 0, 0, 0, 0, 0, 0, 0, 0, 0, 0, 0, 0, 0, 0, 0, 0, 0, 0, 0, 0, 0, 0, 0, 0, 0, 0, 0, 0, 0, 0, 0, 0, 0, 0, 0, 0, 0, 0, 0, 0, 0, 0, 0, 0, 0, 0, 0, 0, 0, 0, 0, 0, 0, 0, 0, 0, 0, 0, 0, 0, 0, 0, 0, 0, 0, 0, 0, 0, 0, 0, 0, 0, 0, 0, 0, 0, 0, 0, 0, 0, 0, 0, 0, 0, 0, 0, 0, 0, 0, 0, 0, 0, 0, 0, 0, 0, 0, 0, 0, 0, 0, 0, 0, 0, 0, 0, 0, 0, 0, 0, 0, 0, 0, 0, 0, 0, 0, 0, 0, 0, 0, 0, 0, 0, 0, 0, 0, 0, 0, 0, 0, 0, 0, 0, 0, 0, 0, 0, 0, 0, 0, 0, 0, 0, 0, 0, 0, 0, 0, 0, 0, 0, 0, 0, 0, 0, 0, 0, 0, 0, 0, 0, 0, 0, 0, 0, 0, 0, 0, 0, 0, 0, 0, 0, 0, 0, 0, 0, 0, 0, 0, 0, 0, 0, 0, 0, 0, 0, 0, 0, 0, 0, 0, 0, 0, 0, 0, 0, 0, 0, 0, 0, 0, 0, 0, 0, 0, 0, 0, 0, 0, 0, 0, 0, 0, 0, 0, 0, 0, 0, 0, 0, 0, 0, 0, 0, 0, 0, 0, 0, 0, 0, 0, 0, 0, 0, 0, 0, 0, 0, 0, 0, 0, 0, 0, 0, 0, 0, 0, 0, 0, 0, 0, 0, 0, 0, 0, 0, 0, 0, 0, 0, 0, 0, 0, 0, 0, 0, 0, 0, 0, 0, 0, 0, 0, 0, 0, 0, 0, 0, 0, 0, 0, 0, 0, 0, 0, 0, 0, 0, 0, 0, 0, 0, 0, 0, 0, 0, 0, 0, 0, 0, 0, 0, 0, 0, 0, 0, 0, 0, 0, 0, 0, 0, 0, 0, 0, 0, 0, 0, 0, 0, 0, 0, 0, 0, 0, 0, 0, 0, 0, 0, 0, 0, 0, 0, 0, 0, 0, 0, 0, 0, 0, 0, 0, 0, 0, 0, 0, 0, 0, 0, 0, 0, 1, 0, 0, 0, 0, 0, 0, 0, 0, 0, 0, 0, 0, 0, 0, 0, 0, 0, 0, 0, 0, 0, 0, 0, 0, 0, 0, 0, 0, 0, 0, 0, 0, 0, 0, 0, 0, 0, 0, 0, 0, 0, 0, 0, 0, 0, 0, 0, 0, 0, 0, 0, 0, 0, 0, 0, 0, 0, 0, 0, 0, 0, 0, 0, 0, 0, 0, 0, 0, 0, 0, 0, 0, 0, 0, 0, 0, 0, 0, 0, 0, 0, 0, 0, 0, 0, 0, 0, 0, 0, 0, 0, 0, 0, 0, 0, 0, 0, 0, 0, 0, 0, 0, 0, 0, 0, 0, 0, 1, 0, 0, 0, 0, 0, 0, 0, 0, 0, 0, 0, 0, 0, 0, 0, 0, 0, 0, 0, 0, 0, 0, 0, 0, 0, 0, 0, 0, 0, 0, 0, 0, 0, 0, 0, 0, 0, 0, 0, 0, 0, 0, 0, 0, 0, 0, 0, 0, 0, 0, 0, 0, 0, 0, 0, 0, 0, 0, 0, 0, 0, 0, 0, 0, 0, 0, 0, 0, 0, 0, 0, 0, 0, 0, 0, 0, 0, 0, 0, 0, 0, 0, 0, 0, 0, 0, 0, 0, 0, 0, 0, 0, 0, 0, 0, 0, 0, 0, 0, 0, 0, 0, 0, 0, 0, 0, 0, 0, 0, 0, 0, 0, 0, 0, 0, 0, 0, 0, 0, 0, 0, 0, 0, 0, 0, 0, 0, 0, 0, 0, 0, 0, 0, 0, 0, 0, 0, 0, 0, 0, 0, 0, 0, 0, 0, 0, 0, 0, 0, 0, 0, 0, 0, 0, 0, 0, 0, 0, 0, 0, 0, 0, 0, 0, 0, 0, 0, 0, 0, 0, 0, 0, 0, 0, 0, 0, 0, 0, 0, 0, 0, 0, 0, 0, 0, 0, 0, 0, 0, 0, 0, 0, 0, 0, 0, 0, 0, 0, 0, 0, 0, 0, 0, 0, 0, 0, 0, 0, 0, 0, 0, 0, 0, 0, 0, 0, 0, 0, 0, 0, 0, 0, 0, 0, 0, 0, 0, 0, 0, 0, 0, 0, 0, 0, 0, 0, 0, 0, 0, 0, 0, 0, 0, 0, 0, 0, 0, 0, 0, 0, 0, 0, 0, 0, 0, 0, 0, 0, 0, 0, 0, 0, 0, 0, 0, 0, 0, 0, 0, 0, 0, 0, 0, 0, 0, 0, 0, 0, 0, 0, 0, 0, 0, 0, 0, 0, 0, 0, 0, 0, 0, 0, 0, 0, 0, 0, 0, 0, 0, 0, 0, 0, 0, 0, 0, 0, 0, 0, 0, 0, 0, 0, 0, 0, 0, 0, 0, 0, 0, 0, 0, 0, 0, 0, 0, 0, 0, 0, 0, 0, 0, 0, 0, 0, 0, 0, 0, 0, 0, 0, 0, 0, 0, 0, 0, 0, 0, 0, 0, 0, 0, 0, 0, 0, 0, 0, 0, 0, 0, 0, 0, 0, 0, 0, 0, 0, 0, 0, 0, 0, 0, 0, 0, 0, 0, 0, 0, 0, 0, 0, 0, 0, 0, 0, 0, 0, 0, 0, 0, 0, 0, 0, 0, 0, 0, 0, 0, 0, 0, 0, 0, 0, 0, 0, 0, 0, 0, 0, 0, 0, 0, 0, 0, 0, 0, 0, 0, 0, 0, 0, 0, 0, 0, 0, 0, 0, 0, 0, 0, 0, 0, 0, 0, 0, 0, 0, 0, 0, 0, 0, 0, 0, 0, 0, 0, 0, 0, 0, 0, 0, 0, 0, 0, 0, 0, 0, 0, 0, 0, 0, 0, 0, 0, 2, 0, 1, 0]\n"
     ]
    }
   ],
   "source": [
    "test_bow = bow_encoding(test_words, vocabulary)\n",
    "print(test_bow)"
   ]
  },
  {
   "cell_type": "code",
   "execution_count": 40,
   "metadata": {},
   "outputs": [
    {
     "data": {
      "text/plain": [
       "5000"
      ]
     },
     "execution_count": 40,
     "metadata": {},
     "output_type": "execute_result"
    }
   ],
   "source": [
    "len(test_bow)"
   ]
  },
  {
   "cell_type": "markdown",
   "metadata": {},
   "source": [
    "So now we know how to construct a bag of words encoding of a user provided review, how to we send it to our endpoint? First, we need to start the endpoint back up."
   ]
  },
  {
   "cell_type": "code",
   "execution_count": 42,
   "metadata": {},
   "outputs": [
    {
     "name": "stderr",
     "output_type": "stream",
     "text": [
      "WARNING:sagemaker:Parameter image will be renamed to image_uri in SageMaker Python SDK v2.\n",
      "WARNING:sagemaker:Using already existing model: xgboost-2020-07-16-13-12-17-761\n"
     ]
    },
    {
     "name": "stdout",
     "output_type": "stream",
     "text": [
      "------------------!"
     ]
    }
   ],
   "source": [
    "xgb_predictor = xgb.deploy(initial_instance_count = 1, instance_type = 'ml.m4.xlarge')"
   ]
  },
  {
   "cell_type": "markdown",
   "metadata": {},
   "source": [
    "At this point we could just do the same thing that we did earlier when we tested our deployed model and send `test_bow` to our endpoint using the `xgb_predictor` object. However, when we eventually construct our Lambda function we won't have access to this object, so how do we call a SageMaker endpoint?\n",
    "\n",
    "It turns out that Python functions that are used in Lambda have access to another Amazon library called `boto3`. This library provides an API for working with Amazon services, including SageMaker. To start with, we need to get a handle to the SageMaker runtime."
   ]
  },
  {
   "cell_type": "code",
   "execution_count": 43,
   "metadata": {},
   "outputs": [],
   "source": [
    "import boto3\n",
    "\n",
    "runtime = boto3.Session().client('sagemaker-runtime')"
   ]
  },
  {
   "cell_type": "markdown",
   "metadata": {},
   "source": [
    "And now that we have access to the SageMaker runtime, we can ask it to make use of (invoke) an endpoint that has already been created. However, we need to provide SageMaker with the name of the deployed endpoint. To find this out we can print it out using the `xgb_predictor` object."
   ]
  },
  {
   "cell_type": "code",
   "execution_count": 44,
   "metadata": {},
   "outputs": [
    {
     "data": {
      "text/plain": [
       "'xgboost-2020-07-16-13-12-17-761'"
      ]
     },
     "execution_count": 44,
     "metadata": {},
     "output_type": "execute_result"
    }
   ],
   "source": [
    "xgb_predictor.endpoint"
   ]
  },
  {
   "cell_type": "markdown",
   "metadata": {},
   "source": [
    "Using the SageMaker runtime and the name of our endpoint, we can invoke the endpoint and send it the `test_bow` data."
   ]
  },
  {
   "cell_type": "code",
   "execution_count": 45,
   "metadata": {},
   "outputs": [
    {
     "ename": "ParamValidationError",
     "evalue": "Parameter validation failed:\nInvalid type for parameter Body, value: [0, 0, 0, 0, 0, 0, 0, 0, 0, 0, 0, 0, 0, 0, 0, 0, 0, 0, 0, 0, 0, 0, 0, 0, 0, 0, 0, 0, 0, 0, 0, 0, 0, 0, 0, 0, 0, 0, 0, 0, 0, 0, 0, 0, 0, 0, 0, 0, 0, 0, 0, 0, 0, 0, 0, 0, 0, 0, 0, 0, 0, 0, 0, 0, 0, 0, 0, 0, 0, 0, 0, 0, 0, 0, 0, 0, 0, 0, 0, 0, 0, 0, 0, 0, 0, 0, 0, 0, 0, 0, 0, 0, 0, 0, 0, 0, 0, 0, 0, 0, 0, 0, 0, 0, 0, 0, 0, 0, 0, 0, 0, 0, 0, 0, 0, 0, 0, 0, 0, 0, 0, 0, 0, 0, 0, 0, 0, 0, 0, 0, 0, 0, 0, 0, 0, 0, 0, 0, 0, 0, 0, 0, 0, 0, 0, 0, 0, 0, 0, 0, 0, 0, 0, 0, 0, 0, 0, 0, 0, 0, 0, 0, 0, 0, 0, 0, 0, 0, 0, 0, 0, 0, 0, 0, 0, 0, 0, 0, 0, 0, 0, 0, 0, 0, 0, 0, 0, 0, 0, 0, 0, 0, 0, 0, 0, 0, 0, 0, 0, 0, 0, 0, 0, 0, 0, 0, 0, 0, 0, 0, 0, 0, 0, 0, 0, 0, 0, 0, 0, 0, 0, 0, 0, 0, 0, 0, 1, 0, 0, 0, 0, 0, 0, 0, 0, 0, 0, 0, 0, 0, 0, 0, 0, 0, 0, 0, 0, 0, 0, 0, 0, 0, 0, 0, 0, 0, 1, 0, 0, 0, 0, 0, 0, 0, 0, 0, 0, 0, 0, 0, 0, 0, 0, 0, 0, 0, 0, 0, 0, 0, 0, 0, 0, 0, 0, 0, 0, 0, 0, 0, 0, 0, 0, 0, 0, 0, 0, 0, 0, 0, 0, 0, 0, 0, 0, 0, 0, 0, 0, 0, 0, 0, 0, 0, 0, 0, 0, 0, 0, 0, 0, 0, 0, 0, 0, 0, 0, 0, 0, 0, 0, 0, 0, 0, 0, 0, 0, 0, 0, 0, 0, 0, 0, 0, 0, 0, 0, 0, 0, 0, 0, 0, 0, 0, 0, 0, 0, 0, 0, 0, 0, 0, 0, 0, 0, 0, 0, 0, 0, 0, 0, 0, 0, 0, 0, 0, 0, 0, 0, 0, 0, 0, 0, 0, 0, 0, 0, 0, 0, 0, 0, 0, 0, 0, 0, 0, 0, 0, 0, 0, 0, 0, 0, 0, 0, 0, 0, 0, 0, 0, 0, 0, 0, 0, 0, 0, 0, 0, 0, 0, 0, 0, 0, 0, 0, 0, 0, 0, 0, 0, 0, 0, 0, 0, 0, 0, 0, 0, 0, 0, 0, 0, 0, 0, 0, 0, 0, 0, 0, 0, 0, 0, 0, 0, 0, 0, 0, 0, 0, 0, 0, 0, 0, 0, 0, 0, 0, 0, 0, 0, 0, 0, 0, 0, 0, 0, 0, 0, 0, 0, 0, 0, 0, 0, 0, 0, 0, 0, 0, 0, 0, 0, 0, 0, 0, 0, 0, 0, 0, 0, 0, 0, 0, 0, 0, 0, 0, 0, 0, 0, 0, 0, 0, 0, 0, 0, 0, 0, 0, 0, 0, 0, 0, 0, 0, 0, 0, 0, 0, 0, 0, 0, 0, 0, 0, 0, 0, 0, 0, 0, 0, 0, 0, 0, 0, 0, 0, 0, 0, 0, 0, 0, 0, 0, 0, 0, 0, 0, 0, 0, 0, 0, 0, 0, 0, 0, 0, 0, 0, 0, 0, 0, 0, 0, 0, 0, 0, 0, 0, 0, 0, 0, 0, 0, 0, 0, 0, 0, 0, 0, 0, 0, 0, 0, 0, 0, 0, 0, 0, 0, 0, 0, 0, 0, 0, 0, 0, 0, 0, 0, 0, 0, 0, 0, 0, 0, 0, 0, 0, 0, 0, 0, 0, 0, 0, 0, 0, 0, 0, 0, 0, 0, 0, 0, 0, 0, 1, 0, 0, 0, 0, 0, 0, 0, 0, 0, 0, 0, 0, 0, 0, 0, 0, 0, 0, 0, 0, 0, 0, 0, 0, 0, 0, 0, 0, 0, 0, 0, 0, 0, 0, 0, 0, 0, 0, 0, 0, 0, 0, 0, 0, 0, 0, 0, 0, 0, 0, 0, 0, 0, 0, 0, 0, 0, 0, 0, 0, 0, 0, 0, 0, 0, 0, 0, 0, 0, 0, 0, 0, 0, 0, 0, 0, 0, 0, 0, 0, 0, 0, 0, 0, 0, 0, 0, 0, 0, 0, 0, 0, 0, 0, 0, 0, 0, 0, 0, 0, 0, 0, 0, 0, 0, 0, 0, 0, 0, 0, 0, 0, 0, 0, 0, 0, 0, 0, 0, 0, 0, 0, 0, 0, 0, 0, 0, 0, 0, 0, 0, 0, 0, 0, 0, 0, 0, 0, 0, 0, 0, 0, 0, 0, 0, 0, 0, 0, 0, 0, 0, 0, 0, 0, 0, 0, 0, 0, 0, 0, 0, 0, 0, 0, 0, 0, 0, 0, 0, 0, 0, 0, 0, 0, 0, 0, 0, 0, 0, 0, 0, 0, 0, 0, 0, 0, 0, 0, 0, 0, 0, 0, 0, 0, 0, 0, 0, 0, 0, 0, 0, 0, 0, 0, 0, 0, 0, 0, 0, 0, 0, 0, 0, 0, 0, 0, 0, 0, 0, 0, 0, 0, 0, 0, 0, 0, 0, 0, 0, 0, 0, 0, 0, 0, 0, 0, 0, 0, 0, 0, 0, 0, 0, 0, 0, 0, 0, 0, 0, 0, 0, 0, 0, 1, 0, 0, 0, 0, 0, 0, 0, 0, 0, 0, 0, 0, 0, 0, 0, 0, 0, 0, 0, 0, 0, 0, 0, 0, 0, 0, 0, 0, 0, 0, 0, 0, 0, 0, 0, 0, 0, 0, 0, 0, 0, 0, 0, 0, 0, 0, 0, 0, 0, 0, 0, 0, 0, 0, 0, 0, 0, 0, 0, 0, 0, 0, 0, 0, 0, 0, 0, 0, 0, 0, 0, 0, 0, 0, 0, 0, 0, 0, 0, 0, 0, 0, 0, 0, 0, 0, 1, 0, 0, 0, 0, 0, 0, 0, 0, 0, 0, 0, 0, 0, 0, 0, 0, 0, 0, 0, 0, 0, 0, 0, 0, 0, 0, 0, 0, 0, 0, 0, 0, 0, 0, 0, 0, 0, 0, 0, 0, 0, 0, 0, 0, 0, 0, 0, 0, 0, 0, 0, 0, 0, 0, 0, 0, 0, 0, 0, 0, 0, 0, 0, 0, 0, 0, 0, 0, 0, 0, 0, 0, 0, 0, 0, 0, 0, 0, 0, 0, 0, 0, 0, 0, 0, 0, 0, 0, 0, 0, 0, 0, 0, 0, 0, 0, 0, 0, 0, 0, 0, 0, 0, 0, 0, 0, 0, 0, 0, 0, 0, 0, 0, 0, 0, 0, 0, 0, 0, 0, 0, 0, 0, 0, 0, 0, 0, 0, 0, 0, 0, 0, 0, 0, 0, 0, 0, 0, 0, 0, 0, 0, 0, 0, 0, 0, 0, 0, 0, 0, 0, 0, 0, 0, 0, 0, 0, 0, 0, 0, 0, 0, 0, 0, 0, 0, 0, 0, 0, 0, 0, 0, 0, 0, 0, 0, 0, 0, 0, 0, 0, 0, 0, 0, 0, 0, 0, 0, 0, 0, 0, 0, 0, 0, 0, 0, 0, 0, 0, 0, 0, 0, 0, 0, 0, 0, 0, 0, 0, 0, 0, 0, 0, 0, 0, 0, 0, 0, 0, 0, 0, 0, 0, 0, 0, 0, 0, 0, 0, 0, 0, 0, 0, 0, 0, 0, 0, 0, 0, 0, 0, 0, 0, 0, 0, 0, 0, 0, 0, 0, 0, 0, 1, 0, 0, 0, 0, 0, 0, 0, 0, 0, 0, 0, 0, 0, 0, 0, 0, 0, 0, 0, 0, 0, 0, 0, 0, 0, 0, 0, 0, 0, 0, 0, 0, 0, 0, 0, 0, 0, 0, 0, 0, 0, 0, 0, 0, 0, 0, 0, 0, 0, 0, 0, 0, 0, 0, 0, 1, 0, 0, 0, 0, 0, 0, 0, 0, 0, 0, 0, 0, 0, 0, 0, 0, 0, 0, 0, 0, 0, 0, 0, 0, 0, 0, 0, 0, 0, 0, 0, 0, 0, 0, 0, 0, 0, 0, 0, 0, 0, 0, 0, 0, 0, 0, 0, 0, 0, 0, 0, 0, 0, 0, 0, 0, 0, 0, 0, 0, 0, 0, 0, 0, 0, 0, 0, 0, 0, 0, 0, 0, 0, 0, 0, 0, 0, 0, 0, 0, 0, 0, 0, 0, 0, 0, 0, 0, 0, 0, 0, 0, 0, 0, 0, 0, 0, 0, 0, 0, 0, 0, 0, 0, 0, 0, 0, 0, 0, 0, 0, 0, 0, 0, 0, 0, 0, 0, 0, 0, 0, 0, 0, 0, 0, 0, 0, 0, 0, 0, 0, 0, 0, 0, 0, 0, 0, 0, 0, 0, 0, 0, 0, 0, 0, 0, 0, 0, 0, 0, 0, 0, 0, 0, 0, 0, 0, 0, 0, 0, 0, 0, 0, 0, 0, 0, 0, 0, 0, 0, 0, 0, 0, 0, 0, 0, 0, 0, 0, 0, 0, 0, 0, 0, 0, 0, 0, 0, 0, 0, 0, 0, 0, 0, 0, 0, 0, 0, 0, 0, 0, 0, 0, 0, 0, 0, 0, 0, 0, 0, 0, 0, 0, 0, 0, 0, 0, 0, 0, 0, 0, 0, 0, 0, 0, 0, 0, 0, 0, 0, 0, 0, 0, 0, 0, 0, 0, 0, 0, 0, 0, 0, 0, 0, 0, 0, 0, 0, 0, 0, 0, 0, 0, 0, 0, 0, 0, 0, 0, 0, 0, 0, 0, 0, 0, 0, 0, 0, 0, 0, 0, 0, 0, 0, 0, 0, 0, 0, 0, 0, 0, 0, 0, 0, 0, 0, 0, 0, 0, 0, 0, 0, 0, 0, 0, 0, 0, 0, 0, 0, 0, 0, 0, 0, 0, 0, 0, 0, 0, 0, 0, 0, 0, 0, 0, 0, 0, 0, 0, 0, 0, 0, 0, 0, 0, 0, 0, 0, 0, 0, 0, 0, 0, 0, 0, 0, 0, 0, 0, 0, 0, 0, 0, 0, 0, 0, 0, 0, 0, 0, 0, 0, 0, 0, 0, 0, 0, 0, 0, 0, 0, 0, 0, 0, 0, 0, 0, 0, 0, 0, 0, 0, 0, 0, 0, 0, 0, 0, 0, 0, 0, 0, 0, 0, 0, 0, 0, 0, 0, 0, 0, 0, 0, 0, 0, 0, 0, 0, 0, 0, 0, 0, 0, 0, 0, 0, 0, 0, 0, 0, 0, 0, 0, 0, 0, 0, 0, 0, 0, 0, 0, 0, 0, 0, 0, 0, 0, 0, 0, 0, 0, 0, 0, 0, 0, 0, 0, 0, 0, 0, 0, 0, 0, 0, 0, 0, 0, 0, 0, 0, 0, 0, 0, 0, 0, 0, 0, 0, 0, 0, 0, 0, 0, 0, 0, 0, 0, 0, 0, 0, 0, 0, 0, 0, 0, 0, 0, 0, 0, 0, 0, 0, 0, 0, 0, 0, 0, 0, 0, 0, 0, 0, 0, 0, 0, 0, 0, 0, 0, 0, 0, 0, 0, 0, 0, 0, 0, 0, 0, 0, 0, 0, 0, 0, 0, 0, 0, 0, 0, 0, 0, 0, 0, 0, 0, 0, 0, 0, 0, 0, 0, 0, 0, 0, 0, 0, 0, 0, 0, 0, 0, 0, 0, 0, 0, 0, 0, 0, 0, 0, 0, 0, 0, 0, 0, 0, 0, 0, 0, 0, 0, 0, 0, 0, 0, 0, 0, 0, 0, 0, 0, 0, 0, 0, 0, 0, 0, 0, 0, 0, 0, 0, 0, 0, 0, 0, 0, 0, 0, 0, 0, 0, 0, 0, 0, 0, 0, 0, 0, 0, 0, 0, 0, 0, 0, 0, 0, 0, 0, 0, 0, 0, 0, 0, 0, 0, 0, 0, 0, 0, 0, 0, 0, 0, 0, 0, 0, 0, 0, 0, 0, 0, 0, 0, 0, 0, 0, 0, 0, 0, 0, 0, 0, 0, 0, 0, 0, 0, 0, 0, 0, 0, 0, 0, 0, 0, 0, 0, 0, 0, 0, 0, 0, 0, 0, 0, 0, 0, 0, 0, 0, 0, 0, 0, 0, 0, 0, 0, 0, 0, 0, 1, 0, 0, 0, 0, 0, 0, 0, 0, 0, 0, 0, 0, 0, 0, 0, 0, 0, 0, 0, 0, 0, 0, 0, 0, 0, 0, 0, 0, 0, 0, 0, 0, 0, 0, 0, 0, 0, 0, 0, 0, 0, 0, 0, 0, 0, 0, 0, 0, 0, 0, 0, 0, 0, 0, 0, 0, 0, 0, 0, 0, 0, 0, 0, 0, 0, 0, 0, 0, 0, 0, 0, 0, 0, 0, 1, 0, 0, 0, 0, 0, 0, 0, 0, 0, 0, 0, 0, 0, 0, 0, 0, 0, 0, 0, 0, 1, 0, 0, 1, 0, 0, 0, 0, 0, 0, 0, 0, 0, 0, 0, 0, 0, 0, 0, 0, 0, 0, 0, 0, 0, 0, 0, 0, 0, 0, 0, 0, 0, 0, 0, 0, 0, 0, 0, 0, 0, 0, 0, 0, 0, 0, 0, 0, 0, 0, 0, 0, 0, 0, 0, 0, 0, 0, 0, 0, 0, 0, 0, 0, 0, 0, 0, 0, 0, 0, 0, 0, 0, 0, 0, 0, 0, 0, 0, 0, 0, 0, 0, 0, 0, 0, 0, 0, 0, 0, 0, 0, 0, 0, 0, 0, 0, 0, 0, 0, 0, 0, 0, 0, 0, 0, 0, 0, 0, 0, 0, 0, 0, 0, 0, 0, 0, 0, 0, 0, 0, 0, 0, 0, 0, 0, 0, 0, 0, 0, 0, 0, 0, 0, 0, 0, 0, 0, 0, 0, 0, 0, 0, 0, 0, 0, 0, 0, 0, 0, 0, 0, 0, 0, 0, 0, 0, 0, 0, 0, 0, 0, 0, 0, 0, 0, 0, 0, 0, 0, 0, 0, 0, 0, 0, 0, 0, 0, 0, 0, 0, 0, 0, 0, 0, 0, 0, 0, 0, 0, 0, 0, 0, 0, 0, 0, 0, 0, 0, 0, 0, 0, 0, 0, 0, 0, 0, 0, 0, 0, 0, 0, 0, 0, 0, 0, 0, 0, 0, 0, 0, 0, 0, 0, 0, 0, 0, 0, 0, 0, 0, 0, 0, 0, 0, 0, 0, 0, 0, 0, 0, 0, 0, 0, 0, 0, 0, 0, 0, 0, 0, 0, 0, 0, 0, 0, 0, 0, 0, 0, 0, 0, 0, 0, 0, 0, 0, 0, 0, 0, 0, 0, 0, 0, 0, 0, 0, 0, 0, 0, 0, 0, 0, 0, 0, 0, 0, 0, 0, 0, 0, 0, 0, 0, 0, 0, 0, 0, 0, 0, 0, 0, 0, 0, 0, 0, 0, 0, 0, 0, 0, 0, 0, 0, 0, 0, 0, 0, 0, 0, 0, 0, 0, 0, 0, 0, 0, 0, 0, 0, 0, 0, 0, 0, 0, 0, 0, 0, 0, 0, 0, 0, 0, 0, 0, 0, 0, 0, 0, 0, 0, 0, 0, 0, 0, 0, 0, 0, 0, 0, 0, 0, 0, 0, 0, 0, 0, 0, 0, 0, 0, 0, 0, 0, 0, 0, 0, 0, 0, 0, 0, 0, 0, 0, 0, 0, 0, 0, 0, 0, 0, 0, 0, 0, 0, 0, 0, 0, 0, 0, 0, 0, 0, 0, 0, 0, 0, 0, 0, 0, 0, 0, 0, 0, 0, 0, 0, 0, 0, 0, 0, 0, 0, 0, 0, 0, 0, 0, 0, 0, 0, 0, 0, 0, 0, 0, 0, 0, 0, 0, 0, 0, 0, 0, 0, 0, 0, 0, 0, 0, 0, 0, 0, 0, 0, 0, 0, 0, 0, 0, 0, 0, 0, 0, 0, 0, 0, 0, 0, 0, 1, 0, 0, 0, 0, 0, 0, 0, 0, 0, 0, 0, 0, 0, 0, 0, 0, 0, 0, 0, 0, 0, 0, 0, 0, 0, 0, 0, 0, 0, 0, 0, 0, 0, 0, 0, 0, 0, 0, 0, 0, 0, 0, 0, 0, 0, 0, 0, 0, 0, 0, 0, 0, 0, 0, 0, 0, 0, 0, 0, 0, 0, 0, 0, 0, 0, 0, 0, 0, 0, 0, 0, 0, 0, 0, 0, 0, 0, 0, 0, 0, 0, 0, 0, 0, 0, 0, 0, 0, 0, 0, 0, 0, 0, 0, 0, 0, 0, 0, 0, 0, 0, 0, 0, 0, 0, 0, 0, 0, 0, 0, 0, 0, 0, 0, 0, 0, 0, 0, 0, 0, 0, 0, 0, 0, 0, 0, 0, 0, 0, 0, 0, 0, 0, 0, 0, 0, 0, 0, 0, 0, 0, 0, 0, 0, 0, 0, 0, 0, 0, 0, 0, 0, 0, 0, 0, 0, 0, 0, 0, 0, 0, 0, 0, 0, 0, 0, 0, 0, 0, 0, 0, 0, 0, 0, 0, 0, 0, 0, 0, 0, 0, 0, 0, 0, 0, 0, 0, 0, 0, 0, 0, 0, 0, 0, 0, 0, 0, 0, 0, 0, 0, 0, 0, 0, 0, 0, 0, 0, 0, 0, 0, 0, 0, 0, 0, 0, 0, 0, 0, 0, 0, 0, 0, 0, 0, 0, 0, 0, 0, 0, 0, 0, 0, 0, 0, 0, 0, 0, 0, 0, 0, 0, 0, 0, 0, 0, 0, 0, 0, 0, 0, 0, 0, 0, 0, 0, 0, 0, 0, 0, 0, 0, 0, 0, 0, 0, 0, 0, 0, 0, 0, 0, 0, 0, 0, 0, 0, 0, 0, 0, 0, 0, 0, 0, 0, 0, 0, 0, 0, 0, 0, 0, 0, 0, 0, 0, 0, 0, 0, 0, 0, 0, 0, 0, 0, 0, 0, 0, 0, 0, 0, 0, 0, 0, 0, 0, 0, 0, 0, 0, 0, 0, 0, 0, 0, 0, 0, 0, 0, 0, 0, 0, 0, 0, 0, 0, 0, 0, 0, 0, 0, 0, 0, 0, 0, 0, 0, 0, 0, 0, 0, 0, 0, 0, 0, 0, 0, 0, 0, 0, 0, 0, 0, 0, 0, 0, 0, 0, 0, 0, 0, 0, 0, 0, 0, 0, 0, 0, 0, 0, 0, 0, 0, 0, 0, 0, 0, 0, 0, 0, 0, 0, 0, 0, 0, 0, 0, 0, 0, 0, 0, 0, 0, 0, 0, 0, 0, 0, 0, 0, 0, 0, 0, 0, 0, 0, 0, 0, 0, 0, 0, 0, 0, 0, 0, 0, 0, 0, 0, 0, 0, 0, 0, 0, 0, 0, 0, 0, 0, 0, 0, 0, 0, 0, 0, 0, 0, 0, 0, 0, 0, 0, 0, 0, 0, 0, 0, 0, 0, 0, 0, 0, 0, 0, 0, 0, 0, 0, 0, 0, 0, 0, 0, 0, 0, 0, 0, 0, 0, 0, 0, 0, 0, 0, 0, 0, 0, 0, 0, 0, 0, 0, 0, 0, 0, 0, 0, 0, 0, 0, 0, 0, 0, 0, 0, 0, 0, 0, 0, 0, 0, 0, 1, 0, 0, 0, 0, 0, 0, 0, 0, 0, 0, 0, 0, 0, 0, 0, 0, 0, 0, 0, 0, 0, 0, 0, 0, 0, 0, 0, 0, 0, 0, 0, 0, 0, 0, 0, 2, 0, 0, 0, 0, 0, 0, 0, 0, 0, 0, 0, 0, 0, 0, 0, 0, 0, 0, 0, 0, 0, 0, 0, 0, 0, 0, 0, 0, 0, 0, 0, 0, 0, 0, 0, 0, 0, 0, 0, 0, 1, 0, 0, 0, 0, 0, 0, 0, 0, 0, 0, 0, 0, 0, 0, 0, 0, 0, 0, 0, 0, 0, 0, 0, 0, 0, 0, 0, 0, 0, 0, 0, 0, 0, 0, 0, 0, 0, 0, 0, 0, 0, 0, 0, 0, 0, 0, 0, 0, 0, 0, 0, 0, 0, 0, 0, 0, 0, 0, 0, 0, 0, 0, 0, 0, 0, 0, 0, 0, 0, 0, 0, 0, 0, 0, 0, 0, 0, 0, 0, 0, 0, 0, 0, 0, 0, 0, 0, 0, 0, 0, 0, 0, 0, 0, 0, 0, 0, 0, 0, 0, 0, 0, 0, 0, 0, 0, 0, 0, 0, 0, 0, 0, 0, 0, 0, 0, 0, 0, 0, 0, 0, 0, 0, 0, 0, 0, 0, 0, 0, 0, 0, 0, 0, 0, 0, 0, 0, 0, 0, 0, 0, 0, 0, 0, 0, 0, 0, 0, 0, 0, 0, 0, 0, 0, 0, 0, 0, 0, 0, 0, 0, 0, 0, 0, 0, 0, 0, 0, 0, 0, 0, 0, 0, 0, 0, 0, 0, 0, 0, 0, 0, 0, 0, 0, 0, 0, 0, 0, 0, 0, 0, 0, 0, 0, 0, 0, 0, 0, 0, 0, 0, 0, 0, 0, 0, 0, 0, 0, 0, 0, 0, 0, 0, 0, 0, 0, 0, 0, 0, 0, 0, 0, 0, 0, 0, 0, 0, 0, 0, 0, 0, 0, 0, 0, 0, 0, 0, 0, 0, 0, 0, 0, 0, 0, 0, 0, 0, 0, 0, 0, 0, 0, 0, 0, 0, 0, 0, 0, 0, 0, 0, 0, 0, 0, 0, 0, 0, 0, 0, 0, 0, 0, 0, 0, 0, 0, 0, 0, 0, 0, 0, 0, 0, 0, 0, 0, 0, 0, 0, 0, 0, 0, 0, 0, 0, 0, 0, 0, 0, 0, 0, 0, 0, 0, 0, 0, 0, 0, 0, 0, 0, 0, 0, 0, 0, 0, 0, 0, 0, 0, 0, 0, 0, 0, 0, 0, 0, 0, 0, 0, 0, 0, 0, 0, 0, 0, 0, 0, 0, 0, 0, 0, 0, 0, 0, 0, 0, 0, 0, 0, 0, 0, 0, 0, 0, 0, 0, 0, 0, 0, 0, 0, 0, 0, 0, 0, 0, 0, 0, 0, 0, 0, 0, 0, 0, 0, 0, 0, 0, 0, 0, 0, 0, 0, 0, 0, 0, 0, 0, 0, 0, 0, 0, 0, 0, 0, 0, 0, 0, 0, 0, 0, 0, 0, 0, 0, 0, 0, 0, 0, 0, 0, 0, 0, 0, 0, 0, 0, 0, 0, 0, 0, 0, 0, 0, 0, 0, 0, 0, 0, 0, 0, 0, 0, 0, 0, 0, 0, 0, 0, 0, 0, 0, 0, 0, 0, 0, 0, 0, 0, 0, 0, 0, 0, 0, 0, 0, 0, 0, 0, 0, 0, 0, 0, 0, 0, 0, 0, 0, 0, 0, 0, 0, 0, 0, 0, 0, 0, 0, 0, 0, 0, 0, 0, 0, 0, 0, 0, 0, 0, 0, 0, 0, 0, 0, 0, 0, 1, 0, 0, 0, 0, 0, 0, 0, 0, 0, 0, 0, 0, 0, 0, 0, 0, 0, 0, 0, 0, 0, 0, 0, 0, 0, 0, 0, 0, 0, 0, 0, 0, 0, 0, 0, 0, 0, 0, 0, 0, 0, 0, 0, 0, 0, 0, 0, 0, 0, 0, 0, 0, 0, 0, 0, 0, 0, 0, 0, 0, 0, 0, 0, 0, 0, 0, 0, 0, 0, 0, 0, 0, 0, 0, 0, 0, 0, 0, 0, 0, 0, 0, 0, 0, 0, 0, 0, 0, 0, 0, 0, 0, 0, 0, 0, 0, 0, 0, 0, 0, 0, 0, 0, 0, 0, 0, 0, 0, 0, 0, 2, 0, 0, 0, 0, 0, 0, 0, 0, 0, 0, 0, 0, 0, 0, 0, 0, 0, 0, 0, 0, 0, 0, 0, 0, 0, 0, 0, 0, 0, 0, 0, 0, 0, 0, 0, 0, 0, 0, 0, 0, 0, 0, 0, 0, 0, 0, 0, 0, 0, 0, 0, 0, 0, 0, 0, 0, 0, 0, 0, 0, 0, 0, 0, 0, 0, 0, 0, 0, 0, 0, 0, 0, 0, 0, 0, 0, 0, 0, 0, 0, 0, 0, 0, 0, 0, 0, 0, 0, 0, 0, 0, 0, 0, 0, 0, 0, 0, 0, 0, 0, 0, 0, 0, 0, 0, 0, 0, 0, 0, 0, 0, 0, 0, 0, 0, 0, 0, 0, 0, 0, 0, 0, 0, 0, 0, 0, 0, 0, 0, 0, 0, 0, 0, 0, 0, 0, 0, 0, 0, 0, 0, 0, 0, 0, 0, 0, 0, 0, 0, 0, 0, 0, 0, 0, 0, 0, 0, 0, 0, 0, 0, 0, 0, 0, 0, 0, 0, 0, 0, 0, 0, 0, 0, 0, 0, 0, 0, 0, 0, 0, 0, 0, 0, 0, 0, 0, 0, 0, 0, 0, 0, 0, 0, 0, 0, 0, 0, 0, 0, 0, 0, 0, 0, 0, 0, 0, 0, 0, 0, 0, 0, 0, 0, 0, 0, 0, 0, 0, 0, 0, 0, 0, 0, 0, 0, 0, 0, 0, 0, 0, 0, 0, 0, 0, 0, 0, 0, 0, 0, 0, 0, 0, 0, 0, 0, 0, 0, 0, 0, 0, 0, 0, 0, 0, 0, 0, 0, 0, 0, 0, 0, 0, 0, 0, 0, 0, 0, 0, 0, 0, 0, 0, 0, 0, 0, 0, 0, 0, 0, 0, 0, 0, 0, 0, 0, 0, 0, 0, 0, 0, 0, 0, 0, 0, 0, 0, 0, 0, 0, 0, 0, 0, 0, 0, 0, 0, 0, 0, 0, 0, 0, 0, 0, 0, 0, 0, 0, 0, 0, 0, 0, 0, 0, 0, 0, 0, 0, 0, 0, 0, 0, 0, 0, 0, 0, 0, 0, 0, 0, 0, 0, 0, 0, 0, 0, 0, 0, 0, 0, 0, 0, 0, 0, 0, 0, 0, 0, 0, 0, 0, 0, 0, 0, 0, 0, 0, 0, 0, 0, 0, 0, 0, 0, 0, 0, 0, 0, 0, 0, 0, 0, 0, 0, 0, 0, 0, 0, 0, 0, 0, 0, 0, 0, 0, 0, 0, 0, 0, 0, 0, 0, 0, 0, 0, 0, 0, 0, 0, 0, 0, 0, 0, 0, 0, 0, 0, 0, 0, 0, 0, 0, 0, 0, 0, 0, 0, 0, 0, 0, 0, 0, 0, 0, 0, 0, 0, 0, 0, 0, 0, 0, 0, 0, 0, 0, 0, 0, 0, 0, 0, 0, 0, 0, 0, 0, 0, 0, 0, 0, 0, 0, 0, 0, 0, 0, 0, 0, 0, 0, 0, 0, 0, 0, 0, 0, 0, 0, 0, 0, 0, 0, 0, 0, 0, 0, 0, 0, 0, 0, 0, 0, 0, 0, 0, 0, 0, 0, 0, 0, 0, 0, 0, 0, 0, 0, 0, 0, 0, 0, 0, 0, 0, 0, 0, 0, 0, 0, 0, 0, 0, 0, 0, 0, 0, 0, 0, 0, 0, 0, 0, 0, 0, 0, 0, 0, 0, 0, 0, 0, 0, 0, 0, 0, 0, 0, 0, 0, 0, 0, 0, 0, 0, 0, 0, 0, 0, 0, 0, 0, 0, 0, 0, 0, 0, 0, 0, 0, 0, 0, 0, 0, 0, 0, 0, 0, 0, 0, 0, 0, 0, 0, 0, 0, 0, 0, 0, 0, 0, 0, 0, 0, 0, 0, 0, 0, 0, 0, 0, 0, 0, 0, 0, 0, 0, 0, 0, 0, 0, 0, 0, 0, 0, 0, 0, 0, 0, 0, 0, 0, 0, 0, 0, 0, 0, 0, 0, 0, 0, 0, 0, 0, 0, 0, 0, 0, 0, 0, 0, 0, 0, 0, 0, 0, 0, 0, 0, 0, 0, 0, 0, 0, 0, 0, 0, 0, 0, 0, 0, 0, 0, 0, 0, 0, 0, 0, 0, 0, 0, 0, 0, 0, 0, 0, 0, 0, 0, 0, 0, 0, 0, 0, 0, 0, 0, 0, 0, 0, 0, 0, 0, 1, 0, 0, 0, 0, 0, 0, 0, 0, 0, 0, 0, 0, 0, 0, 0, 0, 0, 0, 0, 0, 0, 0, 0, 0, 0, 0, 0, 0, 0, 0, 0, 0, 0, 0, 0, 0, 0, 0, 0, 0, 0, 0, 0, 0, 0, 0, 0, 0, 0, 0, 0, 0, 0, 0, 0, 0, 0, 0, 0, 0, 0, 0, 0, 0, 0, 0, 0, 0, 0, 0, 0, 0, 0, 0, 0, 0, 0, 0, 0, 0, 0, 0, 0, 0, 0, 0, 0, 0, 0, 0, 0, 0, 0, 0, 0, 0, 0, 0, 0, 0, 0, 0, 0, 0, 0, 0, 0, 1, 0, 0, 0, 0, 0, 0, 0, 0, 0, 0, 0, 0, 0, 0, 0, 0, 0, 0, 0, 0, 0, 0, 0, 0, 0, 0, 0, 0, 0, 0, 0, 0, 0, 0, 0, 0, 0, 0, 0, 0, 0, 0, 0, 0, 0, 0, 0, 0, 0, 0, 0, 0, 0, 0, 0, 0, 0, 0, 0, 0, 0, 0, 0, 0, 0, 0, 0, 0, 0, 0, 0, 0, 0, 0, 0, 0, 0, 0, 0, 0, 0, 0, 0, 0, 0, 0, 0, 0, 0, 0, 0, 0, 0, 0, 0, 0, 0, 0, 0, 0, 0, 0, 0, 0, 0, 0, 0, 0, 0, 0, 0, 0, 0, 0, 0, 0, 0, 0, 0, 0, 0, 0, 0, 0, 0, 0, 0, 0, 0, 0, 0, 0, 0, 0, 0, 0, 0, 0, 0, 0, 0, 0, 0, 0, 0, 0, 0, 0, 0, 0, 0, 0, 0, 0, 0, 0, 0, 0, 0, 0, 0, 0, 0, 0, 0, 0, 0, 0, 0, 0, 0, 0, 0, 0, 0, 0, 0, 0, 0, 0, 0, 0, 0, 0, 0, 0, 0, 0, 0, 0, 0, 0, 0, 0, 0, 0, 0, 0, 0, 0, 0, 0, 0, 0, 0, 0, 0, 0, 0, 0, 0, 0, 0, 0, 0, 0, 0, 0, 0, 0, 0, 0, 0, 0, 0, 0, 0, 0, 0, 0, 0, 0, 0, 0, 0, 0, 0, 0, 0, 0, 0, 0, 0, 0, 0, 0, 0, 0, 0, 0, 0, 0, 0, 0, 0, 0, 0, 0, 0, 0, 0, 0, 0, 0, 0, 0, 0, 0, 0, 0, 0, 0, 0, 0, 0, 0, 0, 0, 0, 0, 0, 0, 0, 0, 0, 0, 0, 0, 0, 0, 0, 0, 0, 0, 0, 0, 0, 0, 0, 0, 0, 0, 0, 0, 0, 0, 0, 0, 0, 0, 0, 0, 0, 0, 0, 0, 0, 0, 0, 0, 0, 0, 0, 0, 0, 0, 0, 0, 0, 0, 0, 0, 0, 0, 0, 0, 0, 0, 0, 0, 0, 0, 0, 0, 0, 0, 0, 0, 0, 0, 0, 0, 0, 0, 0, 0, 0, 0, 0, 0, 0, 0, 0, 0, 0, 0, 0, 0, 0, 0, 0, 0, 0, 0, 0, 0, 0, 0, 0, 0, 0, 0, 0, 0, 0, 0, 0, 0, 0, 0, 0, 0, 0, 0, 0, 0, 0, 0, 0, 0, 0, 0, 0, 0, 0, 0, 0, 0, 0, 0, 0, 0, 0, 0, 0, 0, 0, 0, 0, 0, 0, 0, 0, 0, 0, 0, 0, 0, 0, 0, 0, 0, 0, 0, 0, 0, 0, 0, 0, 0, 0, 0, 0, 0, 0, 0, 0, 0, 0, 0, 0, 0, 0, 0, 0, 0, 0, 0, 0, 0, 0, 0, 0, 2, 0, 1, 0], type: <class 'list'>, valid types: <class 'bytes'>, <class 'bytearray'>, file-like object",
     "output_type": "error",
     "traceback": [
      "\u001b[0;31m---------------------------------------------------------------------------\u001b[0m",
      "\u001b[0;31mParamValidationError\u001b[0m                      Traceback (most recent call last)",
      "\u001b[0;32m<ipython-input-45-c9ab54ae3a48>\u001b[0m in \u001b[0;36m<module>\u001b[0;34m\u001b[0m\n\u001b[1;32m      1\u001b[0m response = runtime.invoke_endpoint(EndpointName = xgb_predictor.endpoint, # The name of the endpoint we created\n\u001b[1;32m      2\u001b[0m                                        \u001b[0mContentType\u001b[0m \u001b[0;34m=\u001b[0m \u001b[0;34m'text/csv'\u001b[0m\u001b[0;34m,\u001b[0m                     \u001b[0;31m# The data format that is expected\u001b[0m\u001b[0;34m\u001b[0m\u001b[0;34m\u001b[0m\u001b[0m\n\u001b[0;32m----> 3\u001b[0;31m                                        Body = test_bow)\n\u001b[0m",
      "\u001b[0;32m~/anaconda3/envs/python3/lib/python3.6/site-packages/botocore/client.py\u001b[0m in \u001b[0;36m_api_call\u001b[0;34m(self, *args, **kwargs)\u001b[0m\n\u001b[1;32m    314\u001b[0m                     \"%s() only accepts keyword arguments.\" % py_operation_name)\n\u001b[1;32m    315\u001b[0m             \u001b[0;31m# The \"self\" in this scope is referring to the BaseClient.\u001b[0m\u001b[0;34m\u001b[0m\u001b[0;34m\u001b[0m\u001b[0;34m\u001b[0m\u001b[0m\n\u001b[0;32m--> 316\u001b[0;31m             \u001b[0;32mreturn\u001b[0m \u001b[0mself\u001b[0m\u001b[0;34m.\u001b[0m\u001b[0m_make_api_call\u001b[0m\u001b[0;34m(\u001b[0m\u001b[0moperation_name\u001b[0m\u001b[0;34m,\u001b[0m \u001b[0mkwargs\u001b[0m\u001b[0;34m)\u001b[0m\u001b[0;34m\u001b[0m\u001b[0;34m\u001b[0m\u001b[0m\n\u001b[0m\u001b[1;32m    317\u001b[0m \u001b[0;34m\u001b[0m\u001b[0m\n\u001b[1;32m    318\u001b[0m         \u001b[0m_api_call\u001b[0m\u001b[0;34m.\u001b[0m\u001b[0m__name__\u001b[0m \u001b[0;34m=\u001b[0m \u001b[0mstr\u001b[0m\u001b[0;34m(\u001b[0m\u001b[0mpy_operation_name\u001b[0m\u001b[0;34m)\u001b[0m\u001b[0;34m\u001b[0m\u001b[0;34m\u001b[0m\u001b[0m\n",
      "\u001b[0;32m~/anaconda3/envs/python3/lib/python3.6/site-packages/botocore/client.py\u001b[0m in \u001b[0;36m_make_api_call\u001b[0;34m(self, operation_name, api_params)\u001b[0m\n\u001b[1;32m    606\u001b[0m         }\n\u001b[1;32m    607\u001b[0m         request_dict = self._convert_to_request_dict(\n\u001b[0;32m--> 608\u001b[0;31m             api_params, operation_model, context=request_context)\n\u001b[0m\u001b[1;32m    609\u001b[0m \u001b[0;34m\u001b[0m\u001b[0m\n\u001b[1;32m    610\u001b[0m         \u001b[0mservice_id\u001b[0m \u001b[0;34m=\u001b[0m \u001b[0mself\u001b[0m\u001b[0;34m.\u001b[0m\u001b[0m_service_model\u001b[0m\u001b[0;34m.\u001b[0m\u001b[0mservice_id\u001b[0m\u001b[0;34m.\u001b[0m\u001b[0mhyphenize\u001b[0m\u001b[0;34m(\u001b[0m\u001b[0;34m)\u001b[0m\u001b[0;34m\u001b[0m\u001b[0;34m\u001b[0m\u001b[0m\n",
      "\u001b[0;32m~/anaconda3/envs/python3/lib/python3.6/site-packages/botocore/client.py\u001b[0m in \u001b[0;36m_convert_to_request_dict\u001b[0;34m(self, api_params, operation_model, context)\u001b[0m\n\u001b[1;32m    654\u001b[0m             api_params, operation_model, context)\n\u001b[1;32m    655\u001b[0m         request_dict = self._serializer.serialize_to_request(\n\u001b[0;32m--> 656\u001b[0;31m             api_params, operation_model)\n\u001b[0m\u001b[1;32m    657\u001b[0m         \u001b[0;32mif\u001b[0m \u001b[0;32mnot\u001b[0m \u001b[0mself\u001b[0m\u001b[0;34m.\u001b[0m\u001b[0m_client_config\u001b[0m\u001b[0;34m.\u001b[0m\u001b[0minject_host_prefix\u001b[0m\u001b[0;34m:\u001b[0m\u001b[0;34m\u001b[0m\u001b[0;34m\u001b[0m\u001b[0m\n\u001b[1;32m    658\u001b[0m             \u001b[0mrequest_dict\u001b[0m\u001b[0;34m.\u001b[0m\u001b[0mpop\u001b[0m\u001b[0;34m(\u001b[0m\u001b[0;34m'host_prefix'\u001b[0m\u001b[0;34m,\u001b[0m \u001b[0;32mNone\u001b[0m\u001b[0;34m)\u001b[0m\u001b[0;34m\u001b[0m\u001b[0;34m\u001b[0m\u001b[0m\n",
      "\u001b[0;32m~/anaconda3/envs/python3/lib/python3.6/site-packages/botocore/validate.py\u001b[0m in \u001b[0;36mserialize_to_request\u001b[0;34m(self, parameters, operation_model)\u001b[0m\n\u001b[1;32m    295\u001b[0m                                                     operation_model.input_shape)\n\u001b[1;32m    296\u001b[0m             \u001b[0;32mif\u001b[0m \u001b[0mreport\u001b[0m\u001b[0;34m.\u001b[0m\u001b[0mhas_errors\u001b[0m\u001b[0;34m(\u001b[0m\u001b[0;34m)\u001b[0m\u001b[0;34m:\u001b[0m\u001b[0;34m\u001b[0m\u001b[0;34m\u001b[0m\u001b[0m\n\u001b[0;32m--> 297\u001b[0;31m                 \u001b[0;32mraise\u001b[0m \u001b[0mParamValidationError\u001b[0m\u001b[0;34m(\u001b[0m\u001b[0mreport\u001b[0m\u001b[0;34m=\u001b[0m\u001b[0mreport\u001b[0m\u001b[0;34m.\u001b[0m\u001b[0mgenerate_report\u001b[0m\u001b[0;34m(\u001b[0m\u001b[0;34m)\u001b[0m\u001b[0;34m)\u001b[0m\u001b[0;34m\u001b[0m\u001b[0;34m\u001b[0m\u001b[0m\n\u001b[0m\u001b[1;32m    298\u001b[0m         return self._serializer.serialize_to_request(parameters,\n\u001b[1;32m    299\u001b[0m                                                      operation_model)\n",
      "\u001b[0;31mParamValidationError\u001b[0m: Parameter validation failed:\nInvalid type for parameter Body, value: [0, 0, 0, 0, 0, 0, 0, 0, 0, 0, 0, 0, 0, 0, 0, 0, 0, 0, 0, 0, 0, 0, 0, 0, 0, 0, 0, 0, 0, 0, 0, 0, 0, 0, 0, 0, 0, 0, 0, 0, 0, 0, 0, 0, 0, 0, 0, 0, 0, 0, 0, 0, 0, 0, 0, 0, 0, 0, 0, 0, 0, 0, 0, 0, 0, 0, 0, 0, 0, 0, 0, 0, 0, 0, 0, 0, 0, 0, 0, 0, 0, 0, 0, 0, 0, 0, 0, 0, 0, 0, 0, 0, 0, 0, 0, 0, 0, 0, 0, 0, 0, 0, 0, 0, 0, 0, 0, 0, 0, 0, 0, 0, 0, 0, 0, 0, 0, 0, 0, 0, 0, 0, 0, 0, 0, 0, 0, 0, 0, 0, 0, 0, 0, 0, 0, 0, 0, 0, 0, 0, 0, 0, 0, 0, 0, 0, 0, 0, 0, 0, 0, 0, 0, 0, 0, 0, 0, 0, 0, 0, 0, 0, 0, 0, 0, 0, 0, 0, 0, 0, 0, 0, 0, 0, 0, 0, 0, 0, 0, 0, 0, 0, 0, 0, 0, 0, 0, 0, 0, 0, 0, 0, 0, 0, 0, 0, 0, 0, 0, 0, 0, 0, 0, 0, 0, 0, 0, 0, 0, 0, 0, 0, 0, 0, 0, 0, 0, 0, 0, 0, 0, 0, 0, 0, 0, 0, 1, 0, 0, 0, 0, 0, 0, 0, 0, 0, 0, 0, 0, 0, 0, 0, 0, 0, 0, 0, 0, 0, 0, 0, 0, 0, 0, 0, 0, 0, 1, 0, 0, 0, 0, 0, 0, 0, 0, 0, 0, 0, 0, 0, 0, 0, 0, 0, 0, 0, 0, 0, 0, 0, 0, 0, 0, 0, 0, 0, 0, 0, 0, 0, 0, 0, 0, 0, 0, 0, 0, 0, 0, 0, 0, 0, 0, 0, 0, 0, 0, 0, 0, 0, 0, 0, 0, 0, 0, 0, 0, 0, 0, 0, 0, 0, 0, 0, 0, 0, 0, 0, 0, 0, 0, 0, 0, 0, 0, 0, 0, 0, 0, 0, 0, 0, 0, 0, 0, 0, 0, 0, 0, 0, 0, 0, 0, 0, 0, 0, 0, 0, 0, 0, 0, 0, 0, 0, 0, 0, 0, 0, 0, 0, 0, 0, 0, 0, 0, 0, 0, 0, 0, 0, 0, 0, 0, 0, 0, 0, 0, 0, 0, 0, 0, 0, 0, 0, 0, 0, 0, 0, 0, 0, 0, 0, 0, 0, 0, 0, 0, 0, 0, 0, 0, 0, 0, 0, 0, 0, 0, 0, 0, 0, 0, 0, 0, 0, 0, 0, 0, 0, 0, 0, 0, 0, 0, 0, 0, 0, 0, 0, 0, 0, 0, 0, 0, 0, 0, 0, 0, 0, 0, 0, 0, 0, 0, 0, 0, 0, 0, 0, 0, 0, 0, 0, 0, 0, 0, 0, 0, 0, 0, 0, 0, 0, 0, 0, 0, 0, 0, 0, 0, 0, 0, 0, 0, 0, 0, 0, 0, 0, 0, 0, 0, 0, 0, 0, 0, 0, 0, 0, 0, 0, 0, 0, 0, 0, 0, 0, 0, 0, 0, 0, 0, 0, 0, 0, 0, 0, 0, 0, 0, 0, 0, 0, 0, 0, 0, 0, 0, 0, 0, 0, 0, 0, 0, 0, 0, 0, 0, 0, 0, 0, 0, 0, 0, 0, 0, 0, 0, 0, 0, 0, 0, 0, 0, 0, 0, 0, 0, 0, 0, 0, 0, 0, 0, 0, 0, 0, 0, 0, 0, 0, 0, 0, 0, 0, 0, 0, 0, 0, 0, 0, 0, 0, 0, 0, 0, 0, 0, 0, 0, 0, 0, 0, 0, 0, 0, 0, 0, 0, 0, 0, 0, 0, 0, 0, 0, 0, 0, 0, 0, 0, 0, 0, 0, 0, 0, 0, 0, 0, 0, 0, 0, 0, 0, 0, 0, 0, 0, 0, 0, 0, 0, 0, 0, 0, 0, 0, 1, 0, 0, 0, 0, 0, 0, 0, 0, 0, 0, 0, 0, 0, 0, 0, 0, 0, 0, 0, 0, 0, 0, 0, 0, 0, 0, 0, 0, 0, 0, 0, 0, 0, 0, 0, 0, 0, 0, 0, 0, 0, 0, 0, 0, 0, 0, 0, 0, 0, 0, 0, 0, 0, 0, 0, 0, 0, 0, 0, 0, 0, 0, 0, 0, 0, 0, 0, 0, 0, 0, 0, 0, 0, 0, 0, 0, 0, 0, 0, 0, 0, 0, 0, 0, 0, 0, 0, 0, 0, 0, 0, 0, 0, 0, 0, 0, 0, 0, 0, 0, 0, 0, 0, 0, 0, 0, 0, 0, 0, 0, 0, 0, 0, 0, 0, 0, 0, 0, 0, 0, 0, 0, 0, 0, 0, 0, 0, 0, 0, 0, 0, 0, 0, 0, 0, 0, 0, 0, 0, 0, 0, 0, 0, 0, 0, 0, 0, 0, 0, 0, 0, 0, 0, 0, 0, 0, 0, 0, 0, 0, 0, 0, 0, 0, 0, 0, 0, 0, 0, 0, 0, 0, 0, 0, 0, 0, 0, 0, 0, 0, 0, 0, 0, 0, 0, 0, 0, 0, 0, 0, 0, 0, 0, 0, 0, 0, 0, 0, 0, 0, 0, 0, 0, 0, 0, 0, 0, 0, 0, 0, 0, 0, 0, 0, 0, 0, 0, 0, 0, 0, 0, 0, 0, 0, 0, 0, 0, 0, 0, 0, 0, 0, 0, 0, 0, 0, 0, 0, 0, 0, 0, 0, 0, 0, 0, 0, 0, 0, 0, 0, 0, 0, 0, 1, 0, 0, 0, 0, 0, 0, 0, 0, 0, 0, 0, 0, 0, 0, 0, 0, 0, 0, 0, 0, 0, 0, 0, 0, 0, 0, 0, 0, 0, 0, 0, 0, 0, 0, 0, 0, 0, 0, 0, 0, 0, 0, 0, 0, 0, 0, 0, 0, 0, 0, 0, 0, 0, 0, 0, 0, 0, 0, 0, 0, 0, 0, 0, 0, 0, 0, 0, 0, 0, 0, 0, 0, 0, 0, 0, 0, 0, 0, 0, 0, 0, 0, 0, 0, 0, 0, 1, 0, 0, 0, 0, 0, 0, 0, 0, 0, 0, 0, 0, 0, 0, 0, 0, 0, 0, 0, 0, 0, 0, 0, 0, 0, 0, 0, 0, 0, 0, 0, 0, 0, 0, 0, 0, 0, 0, 0, 0, 0, 0, 0, 0, 0, 0, 0, 0, 0, 0, 0, 0, 0, 0, 0, 0, 0, 0, 0, 0, 0, 0, 0, 0, 0, 0, 0, 0, 0, 0, 0, 0, 0, 0, 0, 0, 0, 0, 0, 0, 0, 0, 0, 0, 0, 0, 0, 0, 0, 0, 0, 0, 0, 0, 0, 0, 0, 0, 0, 0, 0, 0, 0, 0, 0, 0, 0, 0, 0, 0, 0, 0, 0, 0, 0, 0, 0, 0, 0, 0, 0, 0, 0, 0, 0, 0, 0, 0, 0, 0, 0, 0, 0, 0, 0, 0, 0, 0, 0, 0, 0, 0, 0, 0, 0, 0, 0, 0, 0, 0, 0, 0, 0, 0, 0, 0, 0, 0, 0, 0, 0, 0, 0, 0, 0, 0, 0, 0, 0, 0, 0, 0, 0, 0, 0, 0, 0, 0, 0, 0, 0, 0, 0, 0, 0, 0, 0, 0, 0, 0, 0, 0, 0, 0, 0, 0, 0, 0, 0, 0, 0, 0, 0, 0, 0, 0, 0, 0, 0, 0, 0, 0, 0, 0, 0, 0, 0, 0, 0, 0, 0, 0, 0, 0, 0, 0, 0, 0, 0, 0, 0, 0, 0, 0, 0, 0, 0, 0, 0, 0, 0, 0, 0, 0, 0, 0, 0, 0, 0, 0, 0, 0, 1, 0, 0, 0, 0, 0, 0, 0, 0, 0, 0, 0, 0, 0, 0, 0, 0, 0, 0, 0, 0, 0, 0, 0, 0, 0, 0, 0, 0, 0, 0, 0, 0, 0, 0, 0, 0, 0, 0, 0, 0, 0, 0, 0, 0, 0, 0, 0, 0, 0, 0, 0, 0, 0, 0, 0, 1, 0, 0, 0, 0, 0, 0, 0, 0, 0, 0, 0, 0, 0, 0, 0, 0, 0, 0, 0, 0, 0, 0, 0, 0, 0, 0, 0, 0, 0, 0, 0, 0, 0, 0, 0, 0, 0, 0, 0, 0, 0, 0, 0, 0, 0, 0, 0, 0, 0, 0, 0, 0, 0, 0, 0, 0, 0, 0, 0, 0, 0, 0, 0, 0, 0, 0, 0, 0, 0, 0, 0, 0, 0, 0, 0, 0, 0, 0, 0, 0, 0, 0, 0, 0, 0, 0, 0, 0, 0, 0, 0, 0, 0, 0, 0, 0, 0, 0, 0, 0, 0, 0, 0, 0, 0, 0, 0, 0, 0, 0, 0, 0, 0, 0, 0, 0, 0, 0, 0, 0, 0, 0, 0, 0, 0, 0, 0, 0, 0, 0, 0, 0, 0, 0, 0, 0, 0, 0, 0, 0, 0, 0, 0, 0, 0, 0, 0, 0, 0, 0, 0, 0, 0, 0, 0, 0, 0, 0, 0, 0, 0, 0, 0, 0, 0, 0, 0, 0, 0, 0, 0, 0, 0, 0, 0, 0, 0, 0, 0, 0, 0, 0, 0, 0, 0, 0, 0, 0, 0, 0, 0, 0, 0, 0, 0, 0, 0, 0, 0, 0, 0, 0, 0, 0, 0, 0, 0, 0, 0, 0, 0, 0, 0, 0, 0, 0, 0, 0, 0, 0, 0, 0, 0, 0, 0, 0, 0, 0, 0, 0, 0, 0, 0, 0, 0, 0, 0, 0, 0, 0, 0, 0, 0, 0, 0, 0, 0, 0, 0, 0, 0, 0, 0, 0, 0, 0, 0, 0, 0, 0, 0, 0, 0, 0, 0, 0, 0, 0, 0, 0, 0, 0, 0, 0, 0, 0, 0, 0, 0, 0, 0, 0, 0, 0, 0, 0, 0, 0, 0, 0, 0, 0, 0, 0, 0, 0, 0, 0, 0, 0, 0, 0, 0, 0, 0, 0, 0, 0, 0, 0, 0, 0, 0, 0, 0, 0, 0, 0, 0, 0, 0, 0, 0, 0, 0, 0, 0, 0, 0, 0, 0, 0, 0, 0, 0, 0, 0, 0, 0, 0, 0, 0, 0, 0, 0, 0, 0, 0, 0, 0, 0, 0, 0, 0, 0, 0, 0, 0, 0, 0, 0, 0, 0, 0, 0, 0, 0, 0, 0, 0, 0, 0, 0, 0, 0, 0, 0, 0, 0, 0, 0, 0, 0, 0, 0, 0, 0, 0, 0, 0, 0, 0, 0, 0, 0, 0, 0, 0, 0, 0, 0, 0, 0, 0, 0, 0, 0, 0, 0, 0, 0, 0, 0, 0, 0, 0, 0, 0, 0, 0, 0, 0, 0, 0, 0, 0, 0, 0, 0, 0, 0, 0, 0, 0, 0, 0, 0, 0, 0, 0, 0, 0, 0, 0, 0, 0, 0, 0, 0, 0, 0, 0, 0, 0, 0, 0, 0, 0, 0, 0, 0, 0, 0, 0, 0, 0, 0, 0, 0, 0, 0, 0, 0, 0, 0, 0, 0, 0, 0, 0, 0, 0, 0, 0, 0, 0, 0, 0, 0, 0, 0, 0, 0, 0, 0, 0, 0, 0, 0, 0, 0, 0, 0, 0, 0, 0, 0, 0, 0, 0, 0, 0, 0, 0, 0, 0, 0, 0, 0, 0, 0, 0, 0, 0, 0, 0, 0, 0, 0, 0, 0, 0, 0, 0, 0, 0, 0, 0, 0, 0, 0, 0, 0, 0, 0, 0, 0, 0, 0, 0, 0, 0, 0, 0, 0, 0, 0, 0, 0, 0, 0, 0, 0, 0, 0, 0, 0, 0, 0, 0, 0, 0, 0, 0, 0, 0, 0, 0, 0, 0, 0, 0, 0, 0, 0, 0, 0, 0, 0, 0, 0, 0, 0, 0, 0, 0, 0, 0, 0, 0, 0, 0, 0, 0, 0, 0, 0, 0, 0, 0, 0, 0, 0, 0, 0, 0, 0, 0, 0, 0, 0, 0, 0, 0, 0, 0, 0, 0, 0, 0, 0, 0, 0, 0, 0, 0, 0, 0, 0, 0, 0, 0, 0, 0, 0, 0, 0, 0, 0, 0, 0, 0, 0, 0, 0, 0, 0, 0, 0, 0, 0, 0, 0, 0, 0, 0, 0, 0, 0, 0, 0, 0, 0, 0, 0, 0, 0, 0, 0, 0, 0, 1, 0, 0, 0, 0, 0, 0, 0, 0, 0, 0, 0, 0, 0, 0, 0, 0, 0, 0, 0, 0, 0, 0, 0, 0, 0, 0, 0, 0, 0, 0, 0, 0, 0, 0, 0, 0, 0, 0, 0, 0, 0, 0, 0, 0, 0, 0, 0, 0, 0, 0, 0, 0, 0, 0, 0, 0, 0, 0, 0, 0, 0, 0, 0, 0, 0, 0, 0, 0, 0, 0, 0, 0, 0, 0, 1, 0, 0, 0, 0, 0, 0, 0, 0, 0, 0, 0, 0, 0, 0, 0, 0, 0, 0, 0, 0, 1, 0, 0, 1, 0, 0, 0, 0, 0, 0, 0, 0, 0, 0, 0, 0, 0, 0, 0, 0, 0, 0, 0, 0, 0, 0, 0, 0, 0, 0, 0, 0, 0, 0, 0, 0, 0, 0, 0, 0, 0, 0, 0, 0, 0, 0, 0, 0, 0, 0, 0, 0, 0, 0, 0, 0, 0, 0, 0, 0, 0, 0, 0, 0, 0, 0, 0, 0, 0, 0, 0, 0, 0, 0, 0, 0, 0, 0, 0, 0, 0, 0, 0, 0, 0, 0, 0, 0, 0, 0, 0, 0, 0, 0, 0, 0, 0, 0, 0, 0, 0, 0, 0, 0, 0, 0, 0, 0, 0, 0, 0, 0, 0, 0, 0, 0, 0, 0, 0, 0, 0, 0, 0, 0, 0, 0, 0, 0, 0, 0, 0, 0, 0, 0, 0, 0, 0, 0, 0, 0, 0, 0, 0, 0, 0, 0, 0, 0, 0, 0, 0, 0, 0, 0, 0, 0, 0, 0, 0, 0, 0, 0, 0, 0, 0, 0, 0, 0, 0, 0, 0, 0, 0, 0, 0, 0, 0, 0, 0, 0, 0, 0, 0, 0, 0, 0, 0, 0, 0, 0, 0, 0, 0, 0, 0, 0, 0, 0, 0, 0, 0, 0, 0, 0, 0, 0, 0, 0, 0, 0, 0, 0, 0, 0, 0, 0, 0, 0, 0, 0, 0, 0, 0, 0, 0, 0, 0, 0, 0, 0, 0, 0, 0, 0, 0, 0, 0, 0, 0, 0, 0, 0, 0, 0, 0, 0, 0, 0, 0, 0, 0, 0, 0, 0, 0, 0, 0, 0, 0, 0, 0, 0, 0, 0, 0, 0, 0, 0, 0, 0, 0, 0, 0, 0, 0, 0, 0, 0, 0, 0, 0, 0, 0, 0, 0, 0, 0, 0, 0, 0, 0, 0, 0, 0, 0, 0, 0, 0, 0, 0, 0, 0, 0, 0, 0, 0, 0, 0, 0, 0, 0, 0, 0, 0, 0, 0, 0, 0, 0, 0, 0, 0, 0, 0, 0, 0, 0, 0, 0, 0, 0, 0, 0, 0, 0, 0, 0, 0, 0, 0, 0, 0, 0, 0, 0, 0, 0, 0, 0, 0, 0, 0, 0, 0, 0, 0, 0, 0, 0, 0, 0, 0, 0, 0, 0, 0, 0, 0, 0, 0, 0, 0, 0, 0, 0, 0, 0, 0, 0, 0, 0, 0, 0, 0, 0, 0, 0, 0, 0, 0, 0, 0, 0, 0, 0, 0, 0, 0, 0, 0, 0, 0, 0, 0, 0, 0, 0, 0, 0, 0, 0, 0, 0, 0, 0, 0, 0, 0, 0, 0, 0, 0, 0, 0, 0, 0, 0, 0, 0, 0, 0, 0, 0, 0, 0, 0, 0, 0, 0, 0, 0, 0, 0, 0, 0, 0, 0, 0, 0, 0, 0, 0, 0, 0, 0, 0, 0, 0, 0, 0, 0, 0, 0, 0, 0, 0, 0, 0, 0, 0, 1, 0, 0, 0, 0, 0, 0, 0, 0, 0, 0, 0, 0, 0, 0, 0, 0, 0, 0, 0, 0, 0, 0, 0, 0, 0, 0, 0, 0, 0, 0, 0, 0, 0, 0, 0, 0, 0, 0, 0, 0, 0, 0, 0, 0, 0, 0, 0, 0, 0, 0, 0, 0, 0, 0, 0, 0, 0, 0, 0, 0, 0, 0, 0, 0, 0, 0, 0, 0, 0, 0, 0, 0, 0, 0, 0, 0, 0, 0, 0, 0, 0, 0, 0, 0, 0, 0, 0, 0, 0, 0, 0, 0, 0, 0, 0, 0, 0, 0, 0, 0, 0, 0, 0, 0, 0, 0, 0, 0, 0, 0, 0, 0, 0, 0, 0, 0, 0, 0, 0, 0, 0, 0, 0, 0, 0, 0, 0, 0, 0, 0, 0, 0, 0, 0, 0, 0, 0, 0, 0, 0, 0, 0, 0, 0, 0, 0, 0, 0, 0, 0, 0, 0, 0, 0, 0, 0, 0, 0, 0, 0, 0, 0, 0, 0, 0, 0, 0, 0, 0, 0, 0, 0, 0, 0, 0, 0, 0, 0, 0, 0, 0, 0, 0, 0, 0, 0, 0, 0, 0, 0, 0, 0, 0, 0, 0, 0, 0, 0, 0, 0, 0, 0, 0, 0, 0, 0, 0, 0, 0, 0, 0, 0, 0, 0, 0, 0, 0, 0, 0, 0, 0, 0, 0, 0, 0, 0, 0, 0, 0, 0, 0, 0, 0, 0, 0, 0, 0, 0, 0, 0, 0, 0, 0, 0, 0, 0, 0, 0, 0, 0, 0, 0, 0, 0, 0, 0, 0, 0, 0, 0, 0, 0, 0, 0, 0, 0, 0, 0, 0, 0, 0, 0, 0, 0, 0, 0, 0, 0, 0, 0, 0, 0, 0, 0, 0, 0, 0, 0, 0, 0, 0, 0, 0, 0, 0, 0, 0, 0, 0, 0, 0, 0, 0, 0, 0, 0, 0, 0, 0, 0, 0, 0, 0, 0, 0, 0, 0, 0, 0, 0, 0, 0, 0, 0, 0, 0, 0, 0, 0, 0, 0, 0, 0, 0, 0, 0, 0, 0, 0, 0, 0, 0, 0, 0, 0, 0, 0, 0, 0, 0, 0, 0, 0, 0, 0, 0, 0, 0, 0, 0, 0, 0, 0, 0, 0, 0, 0, 0, 0, 0, 0, 0, 0, 0, 0, 0, 0, 0, 0, 0, 0, 0, 0, 0, 0, 0, 0, 0, 0, 0, 0, 0, 0, 0, 0, 0, 0, 0, 0, 0, 0, 0, 0, 0, 0, 0, 0, 0, 0, 0, 0, 0, 0, 0, 0, 0, 0, 0, 0, 0, 0, 0, 0, 0, 0, 0, 0, 0, 0, 0, 0, 0, 0, 0, 0, 0, 0, 0, 0, 0, 0, 0, 0, 0, 0, 0, 0, 0, 0, 0, 0, 0, 0, 0, 0, 0, 0, 0, 0, 0, 0, 0, 0, 0, 0, 0, 0, 0, 0, 0, 0, 0, 0, 0, 0, 0, 0, 0, 0, 0, 0, 0, 0, 0, 0, 0, 0, 0, 0, 0, 0, 0, 0, 0, 0, 0, 0, 0, 0, 0, 0, 0, 0, 0, 0, 0, 0, 0, 0, 0, 0, 0, 1, 0, 0, 0, 0, 0, 0, 0, 0, 0, 0, 0, 0, 0, 0, 0, 0, 0, 0, 0, 0, 0, 0, 0, 0, 0, 0, 0, 0, 0, 0, 0, 0, 0, 0, 0, 2, 0, 0, 0, 0, 0, 0, 0, 0, 0, 0, 0, 0, 0, 0, 0, 0, 0, 0, 0, 0, 0, 0, 0, 0, 0, 0, 0, 0, 0, 0, 0, 0, 0, 0, 0, 0, 0, 0, 0, 0, 1, 0, 0, 0, 0, 0, 0, 0, 0, 0, 0, 0, 0, 0, 0, 0, 0, 0, 0, 0, 0, 0, 0, 0, 0, 0, 0, 0, 0, 0, 0, 0, 0, 0, 0, 0, 0, 0, 0, 0, 0, 0, 0, 0, 0, 0, 0, 0, 0, 0, 0, 0, 0, 0, 0, 0, 0, 0, 0, 0, 0, 0, 0, 0, 0, 0, 0, 0, 0, 0, 0, 0, 0, 0, 0, 0, 0, 0, 0, 0, 0, 0, 0, 0, 0, 0, 0, 0, 0, 0, 0, 0, 0, 0, 0, 0, 0, 0, 0, 0, 0, 0, 0, 0, 0, 0, 0, 0, 0, 0, 0, 0, 0, 0, 0, 0, 0, 0, 0, 0, 0, 0, 0, 0, 0, 0, 0, 0, 0, 0, 0, 0, 0, 0, 0, 0, 0, 0, 0, 0, 0, 0, 0, 0, 0, 0, 0, 0, 0, 0, 0, 0, 0, 0, 0, 0, 0, 0, 0, 0, 0, 0, 0, 0, 0, 0, 0, 0, 0, 0, 0, 0, 0, 0, 0, 0, 0, 0, 0, 0, 0, 0, 0, 0, 0, 0, 0, 0, 0, 0, 0, 0, 0, 0, 0, 0, 0, 0, 0, 0, 0, 0, 0, 0, 0, 0, 0, 0, 0, 0, 0, 0, 0, 0, 0, 0, 0, 0, 0, 0, 0, 0, 0, 0, 0, 0, 0, 0, 0, 0, 0, 0, 0, 0, 0, 0, 0, 0, 0, 0, 0, 0, 0, 0, 0, 0, 0, 0, 0, 0, 0, 0, 0, 0, 0, 0, 0, 0, 0, 0, 0, 0, 0, 0, 0, 0, 0, 0, 0, 0, 0, 0, 0, 0, 0, 0, 0, 0, 0, 0, 0, 0, 0, 0, 0, 0, 0, 0, 0, 0, 0, 0, 0, 0, 0, 0, 0, 0, 0, 0, 0, 0, 0, 0, 0, 0, 0, 0, 0, 0, 0, 0, 0, 0, 0, 0, 0, 0, 0, 0, 0, 0, 0, 0, 0, 0, 0, 0, 0, 0, 0, 0, 0, 0, 0, 0, 0, 0, 0, 0, 0, 0, 0, 0, 0, 0, 0, 0, 0, 0, 0, 0, 0, 0, 0, 0, 0, 0, 0, 0, 0, 0, 0, 0, 0, 0, 0, 0, 0, 0, 0, 0, 0, 0, 0, 0, 0, 0, 0, 0, 0, 0, 0, 0, 0, 0, 0, 0, 0, 0, 0, 0, 0, 0, 0, 0, 0, 0, 0, 0, 0, 0, 0, 0, 0, 0, 0, 0, 0, 0, 0, 0, 0, 0, 0, 0, 0, 0, 0, 0, 0, 0, 0, 0, 0, 0, 0, 0, 0, 0, 0, 0, 0, 0, 0, 0, 0, 0, 0, 0, 0, 0, 0, 0, 0, 0, 0, 0, 0, 0, 0, 0, 0, 0, 0, 0, 0, 0, 0, 0, 0, 0, 0, 0, 0, 0, 0, 0, 0, 0, 0, 0, 0, 0, 0, 0, 0, 0, 0, 0, 0, 0, 0, 0, 0, 0, 0, 0, 0, 0, 0, 0, 0, 0, 0, 0, 0, 0, 1, 0, 0, 0, 0, 0, 0, 0, 0, 0, 0, 0, 0, 0, 0, 0, 0, 0, 0, 0, 0, 0, 0, 0, 0, 0, 0, 0, 0, 0, 0, 0, 0, 0, 0, 0, 0, 0, 0, 0, 0, 0, 0, 0, 0, 0, 0, 0, 0, 0, 0, 0, 0, 0, 0, 0, 0, 0, 0, 0, 0, 0, 0, 0, 0, 0, 0, 0, 0, 0, 0, 0, 0, 0, 0, 0, 0, 0, 0, 0, 0, 0, 0, 0, 0, 0, 0, 0, 0, 0, 0, 0, 0, 0, 0, 0, 0, 0, 0, 0, 0, 0, 0, 0, 0, 0, 0, 0, 0, 0, 0, 2, 0, 0, 0, 0, 0, 0, 0, 0, 0, 0, 0, 0, 0, 0, 0, 0, 0, 0, 0, 0, 0, 0, 0, 0, 0, 0, 0, 0, 0, 0, 0, 0, 0, 0, 0, 0, 0, 0, 0, 0, 0, 0, 0, 0, 0, 0, 0, 0, 0, 0, 0, 0, 0, 0, 0, 0, 0, 0, 0, 0, 0, 0, 0, 0, 0, 0, 0, 0, 0, 0, 0, 0, 0, 0, 0, 0, 0, 0, 0, 0, 0, 0, 0, 0, 0, 0, 0, 0, 0, 0, 0, 0, 0, 0, 0, 0, 0, 0, 0, 0, 0, 0, 0, 0, 0, 0, 0, 0, 0, 0, 0, 0, 0, 0, 0, 0, 0, 0, 0, 0, 0, 0, 0, 0, 0, 0, 0, 0, 0, 0, 0, 0, 0, 0, 0, 0, 0, 0, 0, 0, 0, 0, 0, 0, 0, 0, 0, 0, 0, 0, 0, 0, 0, 0, 0, 0, 0, 0, 0, 0, 0, 0, 0, 0, 0, 0, 0, 0, 0, 0, 0, 0, 0, 0, 0, 0, 0, 0, 0, 0, 0, 0, 0, 0, 0, 0, 0, 0, 0, 0, 0, 0, 0, 0, 0, 0, 0, 0, 0, 0, 0, 0, 0, 0, 0, 0, 0, 0, 0, 0, 0, 0, 0, 0, 0, 0, 0, 0, 0, 0, 0, 0, 0, 0, 0, 0, 0, 0, 0, 0, 0, 0, 0, 0, 0, 0, 0, 0, 0, 0, 0, 0, 0, 0, 0, 0, 0, 0, 0, 0, 0, 0, 0, 0, 0, 0, 0, 0, 0, 0, 0, 0, 0, 0, 0, 0, 0, 0, 0, 0, 0, 0, 0, 0, 0, 0, 0, 0, 0, 0, 0, 0, 0, 0, 0, 0, 0, 0, 0, 0, 0, 0, 0, 0, 0, 0, 0, 0, 0, 0, 0, 0, 0, 0, 0, 0, 0, 0, 0, 0, 0, 0, 0, 0, 0, 0, 0, 0, 0, 0, 0, 0, 0, 0, 0, 0, 0, 0, 0, 0, 0, 0, 0, 0, 0, 0, 0, 0, 0, 0, 0, 0, 0, 0, 0, 0, 0, 0, 0, 0, 0, 0, 0, 0, 0, 0, 0, 0, 0, 0, 0, 0, 0, 0, 0, 0, 0, 0, 0, 0, 0, 0, 0, 0, 0, 0, 0, 0, 0, 0, 0, 0, 0, 0, 0, 0, 0, 0, 0, 0, 0, 0, 0, 0, 0, 0, 0, 0, 0, 0, 0, 0, 0, 0, 0, 0, 0, 0, 0, 0, 0, 0, 0, 0, 0, 0, 0, 0, 0, 0, 0, 0, 0, 0, 0, 0, 0, 0, 0, 0, 0, 0, 0, 0, 0, 0, 0, 0, 0, 0, 0, 0, 0, 0, 0, 0, 0, 0, 0, 0, 0, 0, 0, 0, 0, 0, 0, 0, 0, 0, 0, 0, 0, 0, 0, 0, 0, 0, 0, 0, 0, 0, 0, 0, 0, 0, 0, 0, 0, 0, 0, 0, 0, 0, 0, 0, 0, 0, 0, 0, 0, 0, 0, 0, 0, 0, 0, 0, 0, 0, 0, 0, 0, 0, 0, 0, 0, 0, 0, 0, 0, 0, 0, 0, 0, 0, 0, 0, 0, 0, 0, 0, 0, 0, 0, 0, 0, 0, 0, 0, 0, 0, 0, 0, 0, 0, 0, 0, 0, 0, 0, 0, 0, 0, 0, 0, 0, 0, 0, 0, 0, 0, 0, 0, 0, 0, 0, 0, 0, 0, 0, 0, 0, 0, 0, 0, 0, 0, 0, 0, 0, 0, 0, 0, 0, 0, 0, 0, 0, 0, 0, 0, 0, 0, 0, 0, 0, 0, 0, 0, 0, 0, 0, 0, 0, 0, 0, 0, 0, 0, 0, 0, 0, 0, 0, 0, 0, 0, 0, 0, 0, 0, 0, 0, 0, 0, 0, 0, 0, 0, 0, 0, 0, 0, 0, 0, 0, 0, 0, 0, 0, 0, 0, 0, 0, 0, 0, 0, 0, 0, 0, 0, 0, 0, 0, 0, 0, 0, 0, 0, 0, 0, 0, 0, 0, 0, 0, 0, 0, 0, 0, 0, 0, 0, 0, 0, 0, 0, 0, 0, 0, 0, 0, 0, 0, 0, 0, 0, 0, 0, 0, 0, 0, 0, 0, 0, 0, 0, 0, 0, 1, 0, 0, 0, 0, 0, 0, 0, 0, 0, 0, 0, 0, 0, 0, 0, 0, 0, 0, 0, 0, 0, 0, 0, 0, 0, 0, 0, 0, 0, 0, 0, 0, 0, 0, 0, 0, 0, 0, 0, 0, 0, 0, 0, 0, 0, 0, 0, 0, 0, 0, 0, 0, 0, 0, 0, 0, 0, 0, 0, 0, 0, 0, 0, 0, 0, 0, 0, 0, 0, 0, 0, 0, 0, 0, 0, 0, 0, 0, 0, 0, 0, 0, 0, 0, 0, 0, 0, 0, 0, 0, 0, 0, 0, 0, 0, 0, 0, 0, 0, 0, 0, 0, 0, 0, 0, 0, 0, 1, 0, 0, 0, 0, 0, 0, 0, 0, 0, 0, 0, 0, 0, 0, 0, 0, 0, 0, 0, 0, 0, 0, 0, 0, 0, 0, 0, 0, 0, 0, 0, 0, 0, 0, 0, 0, 0, 0, 0, 0, 0, 0, 0, 0, 0, 0, 0, 0, 0, 0, 0, 0, 0, 0, 0, 0, 0, 0, 0, 0, 0, 0, 0, 0, 0, 0, 0, 0, 0, 0, 0, 0, 0, 0, 0, 0, 0, 0, 0, 0, 0, 0, 0, 0, 0, 0, 0, 0, 0, 0, 0, 0, 0, 0, 0, 0, 0, 0, 0, 0, 0, 0, 0, 0, 0, 0, 0, 0, 0, 0, 0, 0, 0, 0, 0, 0, 0, 0, 0, 0, 0, 0, 0, 0, 0, 0, 0, 0, 0, 0, 0, 0, 0, 0, 0, 0, 0, 0, 0, 0, 0, 0, 0, 0, 0, 0, 0, 0, 0, 0, 0, 0, 0, 0, 0, 0, 0, 0, 0, 0, 0, 0, 0, 0, 0, 0, 0, 0, 0, 0, 0, 0, 0, 0, 0, 0, 0, 0, 0, 0, 0, 0, 0, 0, 0, 0, 0, 0, 0, 0, 0, 0, 0, 0, 0, 0, 0, 0, 0, 0, 0, 0, 0, 0, 0, 0, 0, 0, 0, 0, 0, 0, 0, 0, 0, 0, 0, 0, 0, 0, 0, 0, 0, 0, 0, 0, 0, 0, 0, 0, 0, 0, 0, 0, 0, 0, 0, 0, 0, 0, 0, 0, 0, 0, 0, 0, 0, 0, 0, 0, 0, 0, 0, 0, 0, 0, 0, 0, 0, 0, 0, 0, 0, 0, 0, 0, 0, 0, 0, 0, 0, 0, 0, 0, 0, 0, 0, 0, 0, 0, 0, 0, 0, 0, 0, 0, 0, 0, 0, 0, 0, 0, 0, 0, 0, 0, 0, 0, 0, 0, 0, 0, 0, 0, 0, 0, 0, 0, 0, 0, 0, 0, 0, 0, 0, 0, 0, 0, 0, 0, 0, 0, 0, 0, 0, 0, 0, 0, 0, 0, 0, 0, 0, 0, 0, 0, 0, 0, 0, 0, 0, 0, 0, 0, 0, 0, 0, 0, 0, 0, 0, 0, 0, 0, 0, 0, 0, 0, 0, 0, 0, 0, 0, 0, 0, 0, 0, 0, 0, 0, 0, 0, 0, 0, 0, 0, 0, 0, 0, 0, 0, 0, 0, 0, 0, 0, 0, 0, 0, 0, 0, 0, 0, 0, 0, 0, 0, 0, 0, 0, 0, 0, 0, 0, 0, 0, 0, 0, 0, 0, 0, 0, 0, 0, 0, 0, 0, 0, 0, 0, 0, 0, 0, 0, 0, 0, 0, 0, 0, 0, 0, 0, 0, 0, 0, 0, 0, 0, 0, 0, 0, 0, 0, 0, 0, 0, 0, 0, 0, 0, 0, 0, 0, 0, 0, 0, 0, 0, 0, 0, 0, 0, 0, 2, 0, 1, 0], type: <class 'list'>, valid types: <class 'bytes'>, <class 'bytearray'>, file-like object"
     ]
    }
   ],
   "source": [
    "response = runtime.invoke_endpoint(EndpointName = xgb_predictor.endpoint, # The name of the endpoint we created\n",
    "                                       ContentType = 'text/csv',                     # The data format that is expected\n",
    "                                       Body = test_bow)"
   ]
  },
  {
   "cell_type": "markdown",
   "metadata": {},
   "source": [
    "So why did we get an error?\n",
    "\n",
    "Because we tried to send the endpoint a list of integers but it expected us to send data of type `text/csv`. So, we need to convert it."
   ]
  },
  {
   "cell_type": "code",
   "execution_count": 46,
   "metadata": {},
   "outputs": [],
   "source": [
    "response = runtime.invoke_endpoint(EndpointName = xgb_predictor.endpoint, # The name of the endpoint we created\n",
    "                                       ContentType = 'text/csv',                     # The data format that is expected\n",
    "                                       Body = ','.join([str(val) for val in test_bow]).encode('utf-8'))"
   ]
  },
  {
   "cell_type": "code",
   "execution_count": 47,
   "metadata": {},
   "outputs": [
    {
     "name": "stdout",
     "output_type": "stream",
     "text": [
      "{'ResponseMetadata': {'RequestId': '22497702-e6d6-4726-9a0b-ea87a35b331e', 'HTTPStatusCode': 200, 'HTTPHeaders': {'x-amzn-requestid': '22497702-e6d6-4726-9a0b-ea87a35b331e', 'x-amzn-invoked-production-variant': 'AllTraffic', 'date': 'Thu, 16 Jul 2020 13:54:09 GMT', 'content-type': 'text/csv; charset=utf-8', 'content-length': '14'}, 'RetryAttempts': 0}, 'ContentType': 'text/csv; charset=utf-8', 'InvokedProductionVariant': 'AllTraffic', 'Body': <botocore.response.StreamingBody object at 0x7f8e38bbbc88>}\n"
     ]
    }
   ],
   "source": [
    "print(response)"
   ]
  },
  {
   "cell_type": "markdown",
   "metadata": {},
   "source": [
    "As we can see, the response from our model is a somewhat complicated looking dict that contains a bunch of information. The bit that we are most interested in is `'Body'` object which is a streaming object that we need to `read` in order to make use of."
   ]
  },
  {
   "cell_type": "code",
   "execution_count": 48,
   "metadata": {},
   "outputs": [
    {
     "name": "stdout",
     "output_type": "stream",
     "text": [
      "0.253158509731\n"
     ]
    }
   ],
   "source": [
    "response = response['Body'].read().decode('utf-8')\n",
    "print(response)"
   ]
  },
  {
   "cell_type": "markdown",
   "metadata": {},
   "source": [
    "Now that we know how to process the incoming user data we can start setting up the infrastructure to make our simple web app work. To do this we will make use of two different services. Amazon's Lambda and API Gateway services.\n",
    "\n",
    "Lambda is a service which allows someone to write some relatively simple code and have it executed whenever a chosen trigger occurs. For example, you may want to update a database whenever new data is uploaded to a folder stored on S3.\n",
    "\n",
    "API Gateway is a service that allows you to create HTTP endpoints (url addresses) which are connected to other AWS services. One of the benefits to this is that you get to decide what credentials, if any, are required to access these endpoints.\n",
    "\n",
    "In our case we are going to set up an HTTP endpoint through API Gateway which is open to the public. Then, whenever anyone sends data to our public endpoint we will trigger a Lambda function which will send the input (in our case a review) to our model's endpoint and then return the result."
   ]
  },
  {
   "cell_type": "markdown",
   "metadata": {},
   "source": [
    "### Setting up a Lambda function\n",
    "\n",
    "The first thing we are going to do is set up a Lambda function. This Lambda function will be executed whenever our public API has data sent to it. When it is executed it will receive the data, perform any sort of processing that is required, send the data (the review) to the SageMaker endpoint we've created and then return the result.\n",
    "\n",
    "#### Part A: Create an IAM Role for the Lambda function\n",
    "\n",
    "Since we want the Lambda function to call a SageMaker endpoint, we need to make sure that it has permission to do so. To do this, we will construct a role that we can later give the Lambda function.\n",
    "\n",
    "Using the AWS Console, navigate to the **IAM** page and click on **Roles**. Then, click on **Create role**. Make sure that the **AWS service** is the type of trusted entity selected and choose **Lambda** as the service that will use this role, then click **Next: Permissions**.\n",
    "\n",
    "In the search box type `sagemaker` and select the check box next to the **AmazonSageMakerFullAccess** policy. Then, click on **Next: Review**.\n",
    "\n",
    "Lastly, give this role a name. Make sure you use a name that you will remember later on, for example `LambdaSageMakerRole`. Then, click on **Create role**."
   ]
  },
  {
   "cell_type": "markdown",
   "metadata": {},
   "source": [
    "#### Part B: Create a Lambda function\n",
    "\n",
    "Now it is time to actually create the Lambda function. Remember from earlier that in order to process the user provided input and send it to our endpoint we need to gather two pieces of information:\n",
    "\n",
    " - The name of the endpoint, and\n",
    " - the vocabulary object.\n",
    "\n",
    "We will copy these pieces of information to our Lambda function after we create it.\n",
    "\n",
    "To start, using the AWS Console, navigate to the AWS Lambda page and click on **Create a function**. When you get to the next page, make sure that **Author from scratch** is selected. Now, name your Lambda function, using a name that you will remember later on, for example `sentiment_analysis_xgboost_func`. Make sure that the **Python 3.6** runtime is selected and then choose the role that you created in the previous part. Then, click on **Create Function**.\n",
    "\n",
    "On the next page you will see some information about the Lambda function you've just created. If you scroll down you should see an editor in which you can write the code that will be executed when your Lambda function is triggered. Collecting the code we wrote above to process a single review and adding it to the provided example `lambda_handler` we arrive at the following.\n",
    "\n",
    "```python\n",
    "# We need to use the low-level library to interact with SageMaker since the SageMaker API\n",
    "# is not available natively through Lambda.\n",
    "import boto3\n",
    "\n",
    "# And we need the regular expression library to do some of the data processing\n",
    "import re\n",
    "\n",
    "REPLACE_NO_SPACE = re.compile(\"(\\.)|(\\;)|(\\:)|(\\!)|(\\')|(\\?)|(\\,)|(\\\")|(\\()|(\\))|(\\[)|(\\])\")\n",
    "REPLACE_WITH_SPACE = re.compile(\"(<br\\s*/><br\\s*/>)|(\\-)|(\\/)\")\n",
    "\n",
    "def review_to_words(review):\n",
    "    words = REPLACE_NO_SPACE.sub(\"\", review.lower())\n",
    "    words = REPLACE_WITH_SPACE.sub(\" \", words)\n",
    "    return words\n",
    "    \n",
    "def bow_encoding(words, vocabulary):\n",
    "    bow = [0] * len(vocabulary) # Start by setting the count for each word in the vocabulary to zero.\n",
    "    for word in words.split():  # For each word in the string\n",
    "        if word in vocabulary:  # If the word is one that occurs in the vocabulary, increase its count.\n",
    "            bow[vocabulary[word]] += 1\n",
    "    return bow\n",
    "\n",
    "\n",
    "def lambda_handler(event, context):\n",
    "    \n",
    "    vocab = \"*** ACTUAL VOCABULARY GOES HERE ***\"\n",
    "    \n",
    "    words = review_to_words(event['body'])\n",
    "    bow = bow_encoding(words, vocab)\n",
    "\n",
    "    # The SageMaker runtime is what allows us to invoke the endpoint that we've created.\n",
    "    runtime = boto3.Session().client('sagemaker-runtime')\n",
    "\n",
    "    # Now we use the SageMaker runtime to invoke our endpoint, sending the review we were given\n",
    "    response = runtime.invoke_endpoint(EndpointName = '***ENDPOINT NAME HERE***',# The name of the endpoint we created\n",
    "                                       ContentType = 'text/csv',                 # The data format that is expected\n",
    "                                       Body = ','.join([str(val) for val in bow]).encode('utf-8')) # The actual review\n",
    "\n",
    "    # The response is an HTTP response whose body contains the result of our inference\n",
    "    result = response['Body'].read().decode('utf-8')\n",
    "    \n",
    "    # Round the result so that our web app only gets '1' or '0' as a response.\n",
    "    result = round(float(result))\n",
    "\n",
    "    return {\n",
    "        'statusCode' : 200,\n",
    "        'headers' : { 'Content-Type' : 'text/plain', 'Access-Control-Allow-Origin' : '*' },\n",
    "        'body' : str(result)\n",
    "    }\n",
    "```"
   ]
  },
  {
   "cell_type": "markdown",
   "metadata": {},
   "source": [
    "Once you have copy and pasted the code above into the Lambda code editor, replace the `**ENDPOINT NAME HERE**` portion with the name of the endpoint that we deployed earlier. You can determine the name of the endpoint using the code cell below."
   ]
  },
  {
   "cell_type": "code",
   "execution_count": 49,
   "metadata": {},
   "outputs": [
    {
     "data": {
      "text/plain": [
       "'xgboost-2020-07-16-13-12-17-761'"
      ]
     },
     "execution_count": 49,
     "metadata": {},
     "output_type": "execute_result"
    }
   ],
   "source": [
    "xgb_predictor.endpoint"
   ]
  },
  {
   "cell_type": "markdown",
   "metadata": {},
   "source": [
    "In addition, you will need to copy the vocabulary dict to the appropriate place in the code at the beginning of the `lambda_handler` method. The cell below prints out the vocabulary dict in a way that is easy to copy and paste."
   ]
  },
  {
   "cell_type": "code",
   "execution_count": 50,
   "metadata": {},
   "outputs": [
    {
     "name": "stdout",
     "output_type": "stream",
     "text": [
      "{'john': 2409, 'is': 2360, 'an': 223, 'excellent': 1555, 'actor': 103, 'have': 2052, 'to': 4507, 'admit': 122, 'that': 4424, 'was': 4805, 'impressed': 2251, 'by': 642, 'his': 2118, 'range': 3516, 'in': 2257, 'the': 4426, 'role': 3726, 'of': 3083, 'old': 3100, 'who': 4871, 'agrees': 157, 'take': 4349, 'from': 1840, 'streets': 4217, 'london': 2641, 'wwii': 4975, 'time': 4495, 'era': 1513, 'being': 448, 'said': 3774, 'film': 1716, 'also': 199, 'very': 4723, 'moving': 2928, 'story': 4207, 'with': 4911, 'satisfying': 3791, 'ending': 1471, 'some': 4061, 'characters': 760, 'are': 285, 'little': 2624, 'school': 3813, 'teacher': 4375, 'particular': 3194, 'but': 636, 'none': 3028, 'them': 4432, 'essential': 1522, 'plot': 3309, 'basically': 407, 'about': 67, 'man': 2721, 'and': 226, 'boy': 557, 'needs': 2990, 'else': 1448, 'can': 665, 'hardly': 2036, 'believe': 454, 'watched': 4813, 'this': 4457, 'again': 146, 'last': 2521, 'night': 3013, 'after': 143, 'more': 2904, 'than': 4420, '25': 40, 'years': 4979, 'back': 378, 'fu': 1844, 'films': 1721, 'row': 3744, 'karloff': 2445, 'all': 187, 'chris': 806, 'lees': 2560, 'both': 547, 'directed': 1259, 'use': 4692, 'word': 4937, 'loosely': 2651, 'franco': 1820, 'were': 4848, 'at': 331, 'one': 3107, 'ways': 4822, 'it': 2366, 'even': 1533, 'worse': 4951, 'well': 4843, 'never': 3001, 'you': 4986, 'know': 2489, 'whats': 4860, 'really': 3556, 'made': 2697, 'piece': 3272, 'thats': 4425, 'what': 4858, 'good': 1937, 'looking': 2648, 'movie': 2926, 'great': 1964, 'production': 3419, 'design': 1202, 'sets': 3899, 'costumes': 1006, 'music': 2946, 'photography': 3260, 'editing': 1421, 'mostly': 2910, 'cast': 710, 'decent': 1147, 'acting': 99, 'absolutely': 72, 'worst': 4952, 'scripts': 3836, 'history': 2121, 'first': 1736, 'minute': 2858, 'so': 4046, 'might': 2835, 'mistake': 2871, 'for': 1784, 'then': 4436, 'they': 4442, 'start': 4156, 'singing': 3995, 'happy': 2032, 'birthday': 487, 'goes': 1930, 'downhill': 1336, 'having': 2054, 'burt': 629, 'whom': 4875, 'master': 2757, 'says': 3801, 'your': 4991, 'face': 1616, 'familiar': 1643, 'accidentally': 85, 'out': 3141, 'put': 3480, 'fire': 1734, 'resulting': 3661, 'torture': 4529, 'ears': 1402, 'cut': 1089, 'off': 3084, 'closest': 857, 'thing': 4450, 'funny': 1852, 'had': 2003, 'like': 2599, 'someone': 4064, 'decided': 1149, 'wanted': 4789, 'do': 1302, 'campy': 664, 'ridiculous': 3693, 'would': 4957, 'be': 418, 'aint': 163, 'its': 2370, 'sad': 3767, 'because': 432, 'clear': 839, 'few': 1700, 'minutes': 2859, 'did': 1241, 'lot': 2661, 'research': 3644, 'into': 2332, 'series': 3890, 'order': 3126, 'get': 1899, 'much': 2934, 'right': 3696, 'different': 1248, 'script': 3834, 'either': 1438, 'or': 3124, 'dead': 1132, 'serious': 3891, 'could': 1007, 'should': 3951, 'classic': 835, 'on': 3105, 'their': 4431, 'hands': 2020, 'forget': 1793, 'horror': 2168, 'those': 4460, 'instead': 2307, 'making': 2718, 'want': 4788, 'dig': 1250, 'as': 311, 'masterpieces': 2760, 'comparison': 914, 'there': 4438, 'period': 3236, 'late': 2523, '70s': 56, 'when': 4862, 'whole': 4873, '30s': 44, 'movies': 2927, 'awful': 372, 'buck': 605, 'rogers': 3725, 'flash': 1745, 'gordon': 1940, 'tarzan': 4367, 'lone': 2642, 'charlie': 765, 'chan': 746, 'doc': 1303, 'savage': 3793, 'im': 2232, 'not': 3040, 'sure': 4308, 'may': 2775, 'took': 4523, 'self': 3869, 'control': 977, 'fast': 1661, 'forward': 1808, 'over': 3148, 'especially': 1520, 'any': 256, 'scenes': 3811, 'sid': 3964, 'fbi': 1675, 'chief': 788, 'al': 170, 'cousin': 1021, 'see': 3855, 'mean': 2779, 'isnt': 2362, 'just': 2437, 'ideas': 2215, 'arent': 288, 'often': 3095, 'make': 2713, 'no': 3020, 'sense': 3877, 'whatsoever': 4861, 'police': 3322, 'officers': 3093, 'king': 2479, 'queen': 3485, 'we': 4823, 'wind': 4893, 'up': 4683, 'seeing': 3857, 'people': 3221, 'dance': 1103, 'hall': 2009, 'dancing': 1107, 'riding': 3695, 'how': 2181, 'many': 2732, 'drugs': 1374, 'writers': 4969, 'shame': 3918, 'real': 3547, 'waste': 4808, 'talent': 4354, 'including': 2264, 'peter': 3247, 'sellers': 3872, 'played': 3297, 'smith': 4038, 'been': 438, 'lee': 2559, 'helen': 2075, 'woman': 4921, 'falls': 1640, 'love': 2669, 'villain': 4744, 'damn': 1100, 'near': 2979, 'steals': 4172, 'half': 2007, 'hour': 2176, 'begin': 442, 'wonder': 4926, 'if': 2222, 'anyone': 259, 'will': 4886, 'ever': 1538, 'proper': 3436, 'fans': 1650, 'settle': 3902, 'almost': 193, 'only': 3110, 'audiences': 353, 'still': 4188, 'individuals': 2278, 'kind': 2476, 'cheap': 774, 'shows': 3960, 'superficial': 4298, 'brutal': 603, 'child': 789, 'plays': 3301, 'difference': 1246, 'other': 3135, 'such': 4268, 'sub': 4252, 'claim': 828, 'art': 304, '40': 48, 'ago': 154, 'la': 2500, 'followed': 1773, 'another': 250, 'nice': 3008, 'enough': 1491, 'tries': 4585, 'works': 4945, 'unfortunately': 4654, 'he': 2056, 'masters': 2761, 'way': 4820, 'too': 4522, 'limited': 2606, 'level': 2584, 'specifically': 4100, 'means': 2783, 'expression': 1602, 'offers': 3090, 'merit': 2816, 'ron': 3734, 'marry': 2745, 'mel': 2796, 'deeply': 1156, 'certain': 737, 'perfect': 3224, 'each': 1395, 'though': 4461, 'met': 2822, 'months': 2897, 'todd': 4510, 'brother': 598, 'law': 2538, 'afraid': 140, 'marriage': 2743, 'threat': 4467, 'job': 2405, 'family': 1645, 'business': 633, 'decides': 1150, 'party': 3200, 'plan': 3287, 'situation': 4008, 'evidence': 1546, 'break': 569, 'comments': 901, 'supposed': 4306, 'sequel': 3885, 'comedy': 890, 'show': 3953, 'juvenile': 2441, 'excuse': 1564, 'women': 4923, 'actually': 109, 'impressive': 2253, 'everywhere': 1545, 'signs': 3973, 'cant': 671, 'support': 4303, 'itself': 2371, 'simply': 3986, 'has': 2043, 'three': 4469, 'redeeming': 3577, 'points': 3319, 'actors': 104, 'worth': 4953, 'better': 472, 'lead': 2545, 'manages': 2725, 'give': 1912, 'impression': 2252, 'common': 906, 'foster': 1809, 'seem': 3861, 'jokes': 2415, 'bad': 382, 'rather': 3528, '10': 0, 'trying': 4601, 'daughters': 1122, 'while': 4868, 'fathers': 1667, 'go': 1924, 'attempts': 343, 'cry': 1073, 'aid': 160, 'results': 3662, 'rape': 3521, 'cult': 1077, 'waiting': 4772, 'happen': 2026, 'my': 2951, 'comment': 898, 'part': 3193, 'these': 4441, 'two': 4620, 'most': 2909, 'science': 3816, 'fiction': 1702, 'scenario': 3808, 'second': 3846, 'dont': 1324, 'destruction': 1216, 'human': 2188, 'civilization': 827, 'thousands': 4466, 'tiny': 4500, 'space': 4090, 'powerful': 3360, 'appears': 278, 'carrying': 701, 'battle': 414, 'okay': 3099, 'bit': 488, 'mad': 2696, 'max': 2774, 'fight': 1707, 'travel': 4567, 'find': 1726, 'distant': 1295, 'earth': 1403, 'me': 2778, 'thrilling': 4474, 'entertainment': 1500, 'featuring': 1681, 'fine': 1729, 'special': 4097, 'effects': 1431, 'tend': 4400, 'repeat': 3630, 'themselves': 4435, 'say': 3799, 'least': 2554, 'loved': 2670, 'board': 522, 'got': 1944, 'name': 2960, 'proved': 3446, 'worked': 4941, 'before': 440, 'feature': 1678, 'chosen': 805, 'thumbs': 4485, 'down': 1335, 'productions': 3420, '1980': 20, 'seems': 3864, 'lost': 2660, 'early': 1400, '80s': 59, 'since': 3990, 'without': 4913, 'crying': 1074, 'originally': 3131, 'southern': 4088, 'tv': 4610, 'sunday': 4293, 'tea': 4373, 'viewing': 4740, 'although': 201, 'remember': 3616, 'deal': 1135, 'program': 3424, 'things': 4451, 'stuck': 4237, 'mind': 2849, 'notable': 3041, 'unforgettable': 4652, 'titles': 4506, 'attempted': 341, 'escape': 1517, 'across': 96, 'east': 1407, 'european': 1530, 'border': 539, 'subsequent': 4257, 'car': 680, 'crash': 1033, 'scene': 3809, 'left': 2561, 'models': 2881, 'used': 4693, 'wasnt': 4807, 'obvious': 3071, 'solution': 4059, 'mystery': 2956, 'young': 4989, 'student': 4238, 'happened': 2027, 'discovers': 1281, 'lots': 2662, 'twists': 4619, 'turns': 4609, 'surprisingly': 4316, 'adult': 125, 'childrens': 793, 'drama': 1346, 'taylor': 4372, 'billy': 482, 'didnt': 1242, 'quality': 3484, 'dvd': 1391, 'release': 3602, 'hope': 2155, 'ill': 2228, 'chance': 747, 're': 3535, 'myself': 2953, 'future': 1856, 'fond': 1776, 'memory': 2804, 'childhood': 790, 'saw': 3798, 'trailer': 4554, 'barely': 399, '16': 8, 'oh': 3096, 'excited': 1561, 'best': 469, 'friend': 1835, 'couldnt': 1008, 'wait': 4770, 'month': 2896, 'until': 4680, 'come': 886, '17': 9, 'times': 4497, 'year': 4978, 'theatre': 4429, 'kinda': 2477, 'trashy': 4566, 'shy': 3962, 'endearing': 1469, 'watch': 4811, 'sing': 3992, 'studio': 4240, 'voice': 4761, 'notes': 3046, 'coming': 896, 'her': 2085, 'always': 203, 'thought': 4462, 'looks': 2649, 'every': 1539, 'day': 1129, 'tried': 4584, 'dress': 1357, 'long': 2644, 'she': 3923, 'wore': 4939, 'came': 656, 'teens': 4392, 'maybe': 2776, 'caught': 722, 'age': 148, 'everything': 1544, 'extreme': 1609, 'tears': 4380, 'today': 4508, 'think': 4452, 'terribly': 4408, 'disappointed': 1273, 'american': 213, 'felt': 1692, 'far': 1653, 'went': 4847, 'mistakes': 2873, 'here': 2086, 'appeared': 276, 'perhaps': 3235, 'six': 4010, 'actual': 108, 'fighting': 1709, 'overall': 3150, 'spirit': 4113, 'sequences': 3888, 'included': 2262, 'pretty': 3384, 'meaningless': 2782, 'subplot': 4255, 'involving': 2349, 'difficult': 1249, 'romance': 3732, 'between': 475, 'poor': 3328, 'rich': 3685, 'served': 3894, 'seemed': 3862, 'device': 1227, 'honest': 2146, 'goodness': 1938, 'fact': 1621, 'dumb': 1385, 'cliché': 844, 'sight': 3969, 'annoying': 249, 'however': 2183, 'spite': 4117, 'truly': 4597, 'interesting': 2325, 'inspiring': 2302, 'plus': 3311, 'later': 2525, 'evil': 1548, 'leader': 2546, 'british': 589, 'using': 4698, 'horrible': 2163, 'against': 147, 'secret': 3849, 'intention': 2319, 'starting': 4158, 'own': 3158, 'nation': 2969, 'america': 212, 'major': 2711, 'set': 3898, 'north': 3036, 'rest': 3657, 'doesnt': 1309, 'likely': 2601, 'stories': 4205, 'created': 1037, 'ps': 3453, 'despite': 1211, 'liking': 2604, 'does': 1308, 'deserve': 1199, 'once': 3106, 'burn': 625, 'hell': 2077, 'white': 4870, 'portray': 3340, 'black': 493, 'sick': 3963, 'birth': 486, 'gotta': 1946, 'assume': 328, 'based': 404, 'portrays': 3344, 'blacks': 494, 'ok': 3098, 'quite': 3495, 'meant': 2784, 'wonderful': 4928, 'hard': 2033, 'words': 4938, 'describe': 1194, 'decide': 1148, 'which': 4867, 'book': 535, 'goldberg': 1933, 'awesome': 371, 'actress': 105, 'miserable': 2863, 'same': 3778, 'together': 4511, 'steven': 4182, 'passed': 3202, 'clever': 841, 'gritty': 1977, 'witty': 4917, 'paced': 3162, 'sexy': 3911, 'sleazy': 4023, 'erotic': 1515, 'corny': 997, 'class': 833, 'realistic': 3550, 'treatment': 4574, 'gives': 1914, 'fresh': 1833, 'edge': 1418, 'material': 2766, 'pace': 3161, 'line': 2610, 'delivery': 1173, 'breathtaking': 574, 'started': 4157, 'talking': 4360, 'pictures': 3270, 'brilliance': 582, 'dialogue': 1234, 'cannot': 670, 'matched': 2763, 'anywhere': 263, 'considering': 952, 'realism': 3549, 'taken': 4350, 'contemporary': 965, 'cinema': 816, 'code': 869, 'content': 966, 'ignored': 2225, 'result': 3660, 'critical': 1062, 'living': 2629, 'spoke': 4125, 'directly': 1263, 'suffering': 4277, 'through': 4477, 'depression': 1189, 'general': 1880, 'id': 2212, 'recommend': 3571, 'watching': 4815, 'vision': 4754, 'popular': 3333, 'potentially': 3356, 'ive': 2372, 'seen': 3865, 'yet': 4984, 'sci': 3815, 'fi': 1701, 'original': 3129, 'makes': 2716, 'fun': 1848, 'dinosaur': 1255, 'meat': 2787, 'done': 1322, 'probably': 3407, 'quote': 3496, 'sounds': 4084, 'something': 4066, 'pot': 3354, 'dream': 1354, 'imagine': 2238, 'now': 3054, 'getting': 1901, 'high': 2100, 'playing': 3300, 'revolution': 3680, 'putting': 3482, 'alien': 183, 'planet': 3289, 'dinosaurs': 1256, 'houses': 2180, 'protect': 3443, 'team': 4378, 'idea': 2213, 'fits': 1741, 'complete': 921, 'guns': 1998, 'terrible': 4407, 'buy': 640, 'performance': 3228, 'artist': 307, 'wealthy': 4827, 'local': 2634, 'club': 863, 'promise': 3430, 'romantic': 3733, 'turn': 4605, 'murder': 2939, 'kills': 2474, 'sex': 3907, 'possible': 3350, 'form': 1798, 'task': 4368, 'pulling': 3463, 'killing': 2472, 'comes': 891, 'places': 3284, 'murders': 2943, 'within': 4912, 'committed': 905, 'dreams': 1355, 'place': 3282, 'reality': 3551, 'asked': 317, 'work': 4940, 'elegant': 1441, 'youve': 4995, 'read': 3543, 'user': 4696, 'large': 2517, 'portion': 3338, 'takes': 4351, 'surreal': 4317, 'atmosphere': 333, 'mentioned': 2811, 'interview': 2329, 'heavily': 2069, 'influenced': 2287, 'career': 686, 'style': 4249, 'narrative': 2966, 'structure': 4233, 'favor': 1670, 'create': 1036, 'type': 4621, 'experience': 1580, 'reaction': 3541, 'decision': 1151, 'others': 3136, 'dull': 1384, 'head': 2057, 'himself': 2111, 'critics': 1064, 'understand': 4643, 'merely': 2815, 'considered': 951, 'faithful': 1634, 'where': 4864, 'protagonist': 3441, 'whether': 4866, 'imagined': 2239, 'given': 1913, 'exactly': 1551, 'going': 1931, 'help': 2079, 'matters': 2770, 'types': 4622, 'speak': 4094, 'blood': 512, 'personal': 3240, 'favorite': 1671, 'lesbian': 2573, 'meets': 2795, 'bizarre': 492, 'fantasy': 1652, 'sequence': 3887, 'locations': 2636, 'jazz': 2387, 'liked': 2600, 'why': 4878, 'receive': 3563, 'negative': 2991, 'drunk': 1375, 'floor': 1759, 'gorgeous': 1942, 'evening': 1534, 'channel': 753, 'reason': 3557, 'kept': 2456, 'interested': 2324, 'stop': 4201, 'asking': 318, 'spoilers': 4124, 'cheesy': 781, 'guy': 2000, 'involved': 2346, 'kill': 2468, 'killings': 2473, 'stanley': 4148, 'killed': 2469, 'director': 1264, 'due': 1382, 'creative': 1041, 'differences': 1247, 'captured': 677, 'co': 867, 'writer': 4968, 'look': 2646, 'died': 1244, 'budget': 610, 'course': 1019, 'girl': 1909, 'gets': 1900, 'away': 369, 'ends': 1474, 'messed': 2821, 'potential': 3355, 'cabin': 643, 'lake': 2509, 'nelson': 2997, 'hes': 2093, 'pathetic': 3210, 'attempt': 340, 'apparently': 270, 'justify': 2439, 'actions': 101, 'mary': 2751, 'ann': 244, '12': 3, '13': 4, 'everyone': 1542, 'allowed': 190, 'boyfriend': 558, 'grade': 1951, 'definition': 1163, 'include': 2261, 'children': 792, 'need': 2987, 'care': 684, 'unhappy': 4656, 'responsibility': 3655, 'students': 4239, 'live': 2625, 'understandable': 4644, 'thinking': 4453, 'hopes': 2159, 'married': 2744, 'clearly': 840, 'aside': 315, 'miller': 2846, 'totally': 4532, 'convincing': 985, 'casting': 711, 'whoever': 4872, 'play': 3296, 'games': 1865, 'video': 4733, 'anybody': 257, 'notice': 3048, 'city': 825, 'mansion': 2731, 'inside': 2297, 'game': 1864, 'weapons': 4829, 'connected': 945, 'inspired': 2301, 'makers': 2715, 'copy': 994, 'questions': 3489, 'finally': 1724, 'audience': 352, 'guessing': 1991, 'end': 1468, 'lives': 2628, 'brothers': 599, 'andy': 230, 'hoffman': 2128, 'hank': 2024, 'towards': 4540, 'superb': 4296, 'usual': 4699, 'younger': 4990, 'told': 4513, 'element': 1442, 'add': 115, 'mix': 2876, 'wife': 4884, 'perfectly': 3226, 'cheating': 776, 'company': 910, 'pay': 3216, 'drug': 1373, 'father': 1666, 'robbery': 3711, 'hoping': 2160, 'musical': 2947, 'entire': 1502, 'rip': 3700, 'simple': 3983, 'life': 2592, 'amanda': 205, 'moments': 2887, 'hand': 2015, 'interest': 2323, 'french': 1830, 'accent': 78, 'completely': 922, 'adorable': 124, 'michael': 2829, 'keep': 2449, 'aired': 165, 'department': 1182, 'public': 3460, 'safety': 3772, 'check': 777, 'sometimes': 4067, 'beats': 426, 'blame': 499, 'him': 2110, 'boss': 546, 'ready': 3546, 'along': 195, 'training': 4558, 'somewhat': 4068, 'naive': 2958, 'beginning': 443, 'realize': 3552, 'danger': 1109, 'fault': 1668, 'starts': 4159, 'obsession': 3070, 'finding': 1727, 'missing': 2869, 'officer': 3092, 'fairly': 1631, 'crazy': 1035, 'outside': 3146, 'scope': 3821, 'practice': 3363, 'sake': 3775, 'figured': 1712, 'wrote': 4974, 'hilarious': 2106, 'poignant': 3315, 'ten': 4399, 'reduced': 3579, 'home': 2142, 'alone': 194, 'equally': 1510, 'uninspired': 4657, 'sadistic': 3768, 'four': 1812, 'revolutionary': 3681, 'change': 749, 'metal': 2823, 'paint': 3173, 'ha': 2002, 'new': 3003, 'kid': 2464, 'less': 2575, 'charming': 768, 'youd': 4987, 'key': 2458, 'players': 3299, 'surprise': 4312, 'turned': 4606, 'university': 4667, 'uk': 4626, 'hollywood': 2137, 'quirky': 3493, 'humorous': 2193, 'wants': 4791, 'terms': 4406, 'generic': 1885, 'viewers': 4739, 'havent': 2053, 'written': 4972, 'review': 3676, 'imdb': 2240, 'ages': 152, 'mention': 2810, 'during': 1387, '30': 42, 'classes': 834, 'essentially': 1523, 'nothing': 3047, 'main': 2707, 'world': 4946, 'hate': 2046, 'majority': 2712, 'run': 3755, 'consists': 955, 'house': 2178, 'vast': 4716, 'empty': 1465, 'stellar': 4174, 'performances': 3229, 'offer': 3087, 'laughs': 2534, 'able': 66, 'significant': 3972, 'emotional': 1459, 'depth': 1190, 'roles': 3727, 'write': 4967, 'am': 204, 'try': 4600, 'unique': 4662, 'concept': 930, 'brought': 600, 'screen': 3829, 'coherent': 871, 'executed': 1565, 'fashion': 1659, 'combination': 883, 'strong': 4229, 'sound': 4081, 'visuals': 4759, 'creating': 1039, 'entertaining': 1499, 'entry': 1504, 'nurse': 3063, 'detective': 1220, 'group': 1980, 'relatives': 3601, 'known': 2492, 'character': 758, 'relative': 3599, 'sorts': 4078, 'mysterious': 2955, 'couple': 1016, 'creepy': 1052, 'lets': 2580, 'stargate': 4151, 'jack': 2373, 'round': 3742, 'creates': 1038, 'ability': 65, 'worlds': 4947, 'relate': 3593, 'jump': 2429, 'learn': 2550, 'names': 2963, 'thanks': 4423, 'likes': 2602, 'theres': 4440, 'action': 100, 'humor': 2192, 'enjoy': 1484, 'loads': 2633, 'youre': 4992, 'ones': 3108, 'amount': 219, 'holly': 2136, 'issue': 2364, 'million': 2847, 'tall': 4362, 'success': 4265, 'stars': 4155, 'alongside': 196, 'bring': 585, 'notorious': 3051, 'heavy': 2070, 'topic': 4526, 'holds': 2131, 'laughter': 2535, 'close': 853, 'keeping': 2450, 'glad': 1916, 'bringing': 586, 'attention': 345, 'problem': 3408, 'stopped': 4202, 'step': 4175, 'must': 2950, 'weak': 4824, 'continuity': 972, 'lousy': 2667, 'feel': 1684, 'falk': 1636, 'reasons': 3560, 'lines': 2612, 'entirely': 1503, 'efforts': 1433, 'direction': 1261, 'straight': 4210, 'point': 3316, 'desert': 1198, 'island': 2361, 'player': 3298, 'free': 1827, 'involve': 2345, 'feelings': 1686, 'stage': 4139, 'follow': 1772, 'anymore': 258, 'sensitive': 3879, 'cameras': 660, 'movements': 2924, 'youll': 4988, 'fascinated': 1657, 'camera': 659, 'moves': 2925, 'flow': 1762, 'theatrical': 4430, 'private': 3404, 'amazing': 209, 'brilliant': 583, 'tale': 4353, 'politics': 3326, 'broadway': 592, 'exciting': 1563, 'theater': 4427, 'let': 2579, 'rob': 3710, 'roy': 3745, '90s': 61, 'achievement': 94, 'jessica': 2398, 'hurt': 2202, 'brian': 576, 'cox': 1026, 'tim': 4494, 'jones': 2418, 'painted': 3174, 'portrait': 3339, 'honor': 2150, 'men': 2805, 'represent': 3637, 'alas': 172, 'constantly': 958, 'compared': 912, 'similar': 3978, 'historical': 2119, 'frequently': 1832, 'assumed': 329, 'comparing': 913, 'insulting': 2310, 'shadow': 3912, 'william': 4887, 'wallace': 4782, 'person': 3238, 'legend': 2564, 'larger': 2519, 'depiction': 1185, 'doing': 1312, 'wrong': 4973, 'showing': 3958, 'promised': 3431, 'land': 2511, 'fail': 1625, 'jesus': 2399, 'freedom': 1828, 'effective': 1429, 'intrigue': 2333, 'perfection': 3225, 'christ': 807, 'kings': 2481, 'heroic': 2090, 'brave': 567, 'several': 3905, 'affected': 137, 'false': 1641, 'duke': 1383, 'act': 97, 'courage': 1018, 'us': 4690, 'claimed': 829, 'driven': 1365, 'homeless': 2143, 'ask': 316, 'normal': 3033, 'shes': 3930, 'beautiful': 428, 'wear': 4830, 'makeup': 2717, 'allows': 192, 'natural': 2973, 'beauty': 430, 'compare': 911, 'loves': 2674, 'view': 4736, 'ladies': 2506, 'hot': 2174, 'looked': 2647, 'lay': 2542, 'persons': 3244, 'fair': 1630, 'example': 1553, 'throughout': 4478, 'vicious': 4728, 'feels': 1687, 'compelled': 915, 'tell': 4395, 'struggle': 4234, 'knows': 2493, 'seek': 3858, 'revenge': 3675, 'surely': 4309, 'death': 1141, 'prepared': 3371, 'sacrifice': 3766, 'villains': 4745, 'compelling': 916, 'enemies': 1476, 'robert': 3713, 'bruce': 602, 'moral': 2902, 'decisions': 1152, 'fictional': 1703, 'godfather': 1927, 'ii': 2226, 'dimensional': 1253, 'stand': 4143, 'direct': 1258, 'contrast': 975, 'obsessed': 3069, 'image': 2233, 'willing': 4889, 'innocent': 2294, 'suffer': 4275, 'factor': 1622, 'power': 3359, 'upset': 4687, 'noble': 3021, 'greater': 1965, 'comical': 894, 'anything': 260, 'maintain': 2710, 'includes': 2263, 'raised': 3508, 'whatever': 4859, 'status': 4165, 'therefore': 4439, 'opportunity': 3121, 'wealth': 4826, 'modern': 2882, 'centered': 733, 'cares': 690, 'consequences': 947, 'overacting': 3149, 'around': 297, 'shooting': 3943, 'random': 3514, 'unbelievable': 4634, 'society': 4050, 'value': 4709, 'circumstances': 822, 'changed': 750, 'heart': 2064, 'allow': 189, 'exist': 1569, 'our': 3139, 'fascinating': 1658, 'true': 4596, 'values': 4710, 'honesty': 2148, 'hopefully': 2157, 'exception': 1557, 'rule': 3753, 'final': 1722, 'tired': 4501, 'telling': 4396, 'tradition': 4549, 'important': 2247, 'context': 968, 'except': 1556, 'greatest': 1966, 'explain': 1586, 'dangerous': 1110, 'uses': 4697, 'sword': 4340, 'fights': 1710, 'quick': 3490, 'deliberately': 1166, 'slow': 4031, 'leading': 2547, 'moment': 2886, 'stuff': 4243, 'menacing': 2807, 'upper': 4685, 'literally': 2622, 'wins': 4899, 'chilling': 794, 'dude': 1381, 'hey': 2095, 'talked': 4359, 'capture': 676, 'speech': 4102, 'bored': 541, 'saying': 3800, 'case': 707, 'expect': 1575, 'australian': 357, 'talk': 4358, 'thus': 4486, 'become': 433, 'increasingly': 2268, 'lazy': 2543, 'complex': 923, 'epic': 1506, 'english': 1483, 'heroes': 2089, 'language': 2516, 'sounding': 4083, 'star': 4150, 'trek': 4578, 'fit': 1740, 'prove': 3445, 'proves': 3447, 'knowledge': 2491, 'themes': 4434, 'todays': 4509, 'score': 3822, 'independent': 2272, 'amateur': 206, 'boys': 559, 'civil': 826, 'service': 3896, 'plane': 3288, 'flies': 1756, 'tree': 4576, 'directors': 1266, 'aware': 368, 'trees': 4577, 'yes': 4982, 'wedding': 4836, 'leaving': 2557, 'ticket': 4487, 'filmed': 1717, 'express': 1600, 'ship': 3934, 'guys': 2001, 'details': 1219, 'separate': 3883, 'christian': 808, 'arthur': 305, 'hair': 2005, 'band': 391, 'minor': 2857, 'laughable': 2530, 'gay': 1876, 'next': 3007, 'easy': 1410, 'target': 4366, 'convoluted': 987, 'genre': 1888, 'noir': 3023, 'classics': 837, 'screenplay': 3831, 'stretch': 4221, 'pieces': 3273, 'surprises': 4314, 'viewer': 4738, 'surprised': 4313, 'stone': 4197, 'truth': 4599, 'speaks': 4096, 'double': 1331, 'dialog': 1232, 'question': 3487, 'hours': 2177, 'addition': 118, 'effectively': 1430, 'creation': 1040, 'dark': 1115, 'stones': 4198, 'frame': 1815, 'press': 3379, 'eye': 1611, 'builds': 617, 'particularly': 3195, 'shocking': 3940, 'becomes': 434, 'treated': 4573, 'matter': 2769, 'typically': 4624, 'sexuality': 3909, 'effect': 1428, 'shock': 3938, 'wont': 4932, 'bound': 553, 'intended': 2315, 'boring': 543, 'horribly': 2164, 'acted': 98, 'days': 1130, 'hitler': 2124, 'plain': 3286, 'despair': 1207, 'simon': 3982, 'nazi': 2977, 'enjoyable': 1485, 'background': 380, 'rubbish': 3748, 'finest': 1730, 'strength': 4219, 'under': 4639, 'supporting': 4304, 'disappeared': 1271, 'past': 3207, 'fake': 1635, 'german': 1896, 'accents': 79, 'mother': 2911, 'sat': 3786, 'voices': 4763, 'sentence': 3881, 'cardboard': 682, 'store': 4204, 'splendid': 4119, 'innocence': 2293, 'confusion': 943, 'tragic': 4552, 'ultimately': 4628, 'ended': 1470, 'fantastic': 1651, 'historically': 2120, 'accurate': 90, 'account': 89, 'war': 4792, 'rent': 3626, 'third': 4455, '1983': 22, 'starring': 4154, 'albert': 174, 'derek': 1192, 'honestly': 2147, 'reaching': 3539, 'books': 536, 'ice': 2210, 'animated': 241, 'village': 4743, 'destroyed': 1214, 'giant': 1905, 'lord': 2652, 'named': 2961, 'survivor': 4324, 'princess': 3397, 'kidnapped': 2466, 'creatures': 1046, 'ralph': 3510, 'bakshi': 386, 'favourite': 1673, 'version': 4720, 'cat': 713, 'nearly': 2981, 'found': 1811, 'animation': 242, 'parts': 3199, 'basic': 406, 'wish': 4904, 'thin': 4449, 'longer': 2645, '80': 58, 'running': 3756, 'adventure': 130, 'unlike': 4670, 'appropriate': 283, 'kids': 2467, 'older': 3101, 'developed': 1223, 'husband': 2204, 'bought': 552, 'street': 4216, 'dvds': 1392, 'daughter': 1121, 'episodes': 1508, 'baby': 376, 'bear': 420, 'useless': 4695, 'teach': 4374, 'mr': 2929, 'definitely': 1162, 'breaking': 570, 'news': 3005, 'dolls': 1316, 'educational': 1425, 'suffered': 4276, 'hit': 2122, 'boredom': 542, 'jim': 2402, 'passing': 3204, '1990': 24, 'versions': 4721, 'full': 1846, 'non': 3027, 'producers': 3416, 'parents': 3188, 'sit': 4003, 'front': 1841, 'theyll': 4444, 'per': 3223, 'suggest': 4280, 'museum': 2945, 'female': 1693, 'pat': 3208, 'attacked': 338, 'begins': 444, 'eyes': 1613, 'mouth': 2920, 'ties': 4490, 'joe': 2407, 'subject': 4253, 'physical': 3262, 'mental': 2808, 'controversial': 978, 'sadly': 3769, 'terrific': 4409, 'diana': 1237, 'security': 3854, 'golden': 1934, 'entertain': 1497, 'asks': 319, 'poorly': 3329, 'generally': 1881, 'walken': 4777, 'sounded': 4082, 'fourth': 1813, 'wall': 4781, 'praise': 3364, 'rights': 3697, 'shouldnt': 3952, 'christopher': 811, 'fairy': 1632, 'sings': 3997, 'dances': 1106, 'deeper': 1155, 'trouble': 4592, 'seven': 3903, 'eight': 1436, 'advance': 127, 'dust': 1388, 'trap': 4563, 'enjoys': 1489, 'randomly': 3515, 'absolute': 71, 'gave': 1875, 'gory': 1943, 'term': 4405, 'abysmal': 76, 'please': 3304, 'spent': 4108, 'money': 2888, 'cost': 1003, 'project': 3427, 'clue': 864, 'twin': 4615, 'bobby': 525, 'dozens': 1339, 'sheer': 3925, 'oliver': 3102, 'beach': 419, 'nobody': 3022, 'calls': 654, 'price': 3389, 'weird': 4841, 'andrew': 228, 'occasionally': 3075, 'frightening': 1839, 'fooled': 1780, 'tune': 4602, 'side': 3965, 'simplistic': 3985, 'sitcom': 4004, 'comic': 893, 'fully': 1847, 'emotions': 1461, 'bill': 481, 'supposedly': 4307, 'haunted': 2050, 'curse': 1086, 'ben': 463, 'examples': 1554, 'taking': 4352, 'incredibly': 2270, 'smile': 4036, 'gold': 1932, 'hold': 2129, 'touch': 4533, 'kim': 2475, 'luke': 2687, 'listed': 2618, 'credits': 1050, 'outstanding': 3147, 'tear': 4379, 'guess': 1989, 'category': 718, 'portraying': 3343, 'feeling': 1685, 'events': 1536, 'led': 2558, 'opening': 3114, 'website': 4834, 'sophisticated': 4075, 'suicide': 4283, 'gas': 1874, 'ruin': 3750, 'brains': 563, 'biggest': 480, 'miss': 2866, '45': 50, 'system': 4345, 'zero': 4996, 'deserves': 1201, 'jean': 2389, 'gonna': 1936, 'dislike': 1288, 'international': 2326, 'color': 877, 'cinematic': 818, 'opera': 3116, 'masses': 2755, 'succeeded': 4263, 'exotic': 1574, 'lovers': 2673, 'ancient': 225, 'typical': 4623, 'equipment': 1511, 'glorious': 1921, 'properly': 3437, 'hence': 2083, 'visual': 4757, 'handsome': 2021, 'ms': 2931, 'believable': 453, 'giving': 1915, 'lovely': 2671, 'otherwise': 3137, 'altogether': 202, 'introduction': 2339, 'junior': 2435, 'certainly': 738, 'regard': 3588, 'highly': 2105, 'appreciate': 279, 'accompanied': 86, 'average': 362, 'appear': 273, 'premise': 3370, 'stupid': 4247, 'keaton': 2448, 'batman': 413, 'loses': 2657, 'author': 359, 'anna': 245, 'accident': 84, 'possibly': 3351, 'caused': 724, 'driving': 1368, 'bugs': 613, 'apartment': 265, 'recording': 3575, 'learned': 2551, 'fat': 1663, 'murdered': 2940, 'lived': 2626, 'soon': 4074, 'send': 3875, 'messages': 2820, 'tape': 4365, 'cell': 730, 'calling': 653, 'ghosts': 1903, 'explanation': 1590, 'etc': 1527, 'paper': 3183, 'knock': 2488, 'explained': 1587, 'anyway': 261, 'eventually': 1537, 'nick': 3012, 'enter': 1494, 'leaves': 2556, 'tracks': 4545, 'lady': 2507, 'finds': 1728, 'serial': 3889, 'killer': 2470, 'working': 4944, 'demons': 1178, 'cartoons': 705, 'save': 3794, 'funeral': 1849, 'message': 2819, 'beyond': 476, 'grave': 1962, 'son': 4070, 'idiot': 2218, 'horrors': 2169, 'dad': 1095, 'someones': 4065, 'phone': 3255, 'wow': 4962, 'reviews': 3679, 'devils': 1229, 'experiment': 1583, 'steve': 4181, 'pig': 3274, 'writing': 4971, 'em': 1452, 'throat': 4476, 'fulci': 1845, 'underground': 4640, 'blockbuster': 509, 'hide': 2097, '1st': 28, 'devoid': 1230, 'gore': 1941, 'delivers': 1172, 'pure': 3471, 'violence': 4747, 'yeah': 4977, 'cause': 723, 'hidden': 2096, 'behind': 447, 'wrapped': 4964, 'meaning': 2780, 'whenever': 4863, 'released': 3603, 'famous': 1647, 'top': 4525, 'everybody': 1540, 'thrill': 4471, 'jason': 2383, 'freddy': 1826, 'stick': 4185, 'disgusting': 1286, 'mom': 2885, 'unless': 4669, 'cool': 989, 'luck': 2681, 'dennis': 1179, 'office': 3091, 'shocked': 3939, 'heard': 2062, 'gone': 1935, 'interviews': 2330, 'intelligent': 2314, 'touches': 4535, 'motives': 2916, 'blunt': 520, 'flaws': 1752, 'portrayal': 3341, 'angles': 237, 'shot': 3949, 'court': 1020, 'already': 197, 'slaughter': 4021, 'animal': 239, 'cats': 721, 'dogs': 1311, 'methods': 2825, 'animals': 240, 'victims': 4730, 'faces': 1618, 'cared': 685, 'knew': 2486, 'tells': 4397, 'badly': 383, 'porno': 3337, 'expecting': 1578, 'damage': 1099, 'incoherent': 2265, 'called': 652, 'toy': 4542, 'low': 2676, 'bin': 483, 'lie': 2590, 'drive': 1363, 'walk': 4775, 'lose': 2654, 'short': 3946, 'nominated': 3025, 'academy': 77, 'award': 366, 'won': 4925, 'talented': 4355, 'incredible': 2269, 'rare': 3523, 'added': 116, 'list': 2617, 'runs': 3757, 'march': 2734, 'oscar': 3133, 'tribute': 4581, 'shots': 3950, 'smooth': 4041, 'moved': 2922, 'recommended': 3572, 'davis': 1126, 'terrorists': 4414, 'commentary': 899, 'bunch': 623, 'presents': 3377, 'fred': 1825, 'church': 813, 'adding': 117, 'call': 651, 'suffers': 4278, 'lack': 2502, 'standards': 4145, 'radio': 3504, 'listen': 2619, 'rush': 3759, 'intellectual': 2312, 'analysis': 224, 'return': 3665, 'lacking': 2504, 'regular': 3592, 'odd': 3080, 'blend': 504, 'worthwhile': 4955, 'caring': 691, 'sandra': 3782, 'pretentious': 3383, 'acts': 107, 'irony': 2357, 'suited': 4286, 'friends': 1837, 'meet': 2793, 'halfway': 2008, 'seriously': 3892, 'filmmaker': 1719, 'executive': 1567, 'producer': 3415, 'share': 3920, 'documentary': 1307, 'rarely': 3524, 'awe': 370, 'lately': 2524, 'happens': 2029, 'hear': 2061, 'triumph': 4590, 'covered': 1023, 'convinced': 984, 'letting': 2583, 'capturing': 679, 'involvement': 2347, 'tense': 4403, 'touching': 4536, 'mountain': 2917, 'intensity': 2317, 'engaging': 1481, 'documentaries': 1306, 'happily': 2030, 'inventive': 2341, 'length': 2569, 'remarkable': 3613, 'cinematography': 820, 'korean': 2495, 'provides': 3450, 'images': 2235, 'philosophy': 3254, 'thoughts': 4464, 'vague': 4705, 'tremendous': 4579, 'ups': 4686, 'intense': 2316, 'lonely': 2643, 'depressed': 1187, 'vacation': 4704, 'summer': 4291, 'quiet': 3492, 'annoyed': 248, 'keeps': 2451, 'present': 3374, 'confusing': 942, 'pointless': 3318, 'ahead': 159, 'tons': 4520, 'holes': 2133, 'hospital': 2172, 'breaks': 571, 'town': 4541, 'body': 527, 'sitting': 4007, 'blank': 501, 'sexual': 3908, 'male': 2719, 'nudity': 3059, 'kissing': 2484, 'explicit': 1591, 'helps': 2082, 'nude': 3058, 'roger': 3724, 'manager': 2724, 'factory': 1623, 'china': 795, 'sold': 4052, 'claims': 830, 'girls': 1911, 'opportunities': 3120, 'bleak': 503, 'shown': 3959, 'david': 1124, 'footage': 1782, 'everyday': 1541, 'chinese': 796, 'landing': 2512, 'revealing': 3672, 'serves': 3895, 'purpose': 3474, 'window': 4894, 'lies': 2591, 'fatal': 1664, 'open': 3112, 'door': 1328, 'medical': 2790, 'walks': 4780, 'enters': 1496, 'predictable': 3367, 'canada': 666, 'received': 3564, 'government': 1948, 'grant': 1956, 'television': 4394, 'pulp': 3465, 'bullets': 621, '1972': 18, 'sinister': 3998, 'core': 995, 'unusual': 4681, 'visible': 4753, 'seemingly': 3863, 'small': 4033, 'expensive': 1579, 'figure': 1711, 'territory': 4411, 'limits': 2607, 'trip': 4588, 'stereotypes': 4179, 'suspense': 4330, 'jon': 2416, 'cowboy': 1025, 'enemy': 1477, 'state': 4160, 'nights': 3016, 'voight': 4764, 'transformation': 4560, 'warrior': 4802, 'reynolds': 3684, 'whose': 4877, 'ned': 2986, 'extremely': 1610, 'raped': 3522, 'terrifying': 4410, 'dear': 1140, 'teen': 4388, 'quotes': 3497, 'hitting': 2126, 'sister': 4001, 'eat': 1411, 'kiss': 2483, 'baseball': 403, 'slap': 4018, 'thank': 4421, 'big': 478, 'disappointment': 1275, 'weve': 4856, 'move': 2921, 'reviewer': 3677, 'april': 284, 'noticed': 3049, 'actresses': 106, 'werent': 4849, 'previous': 3387, 'de': 1131, 'west': 4852, 'protagonists': 3442, 'cooper': 990, 'wild': 4885, 'jane': 2380, 'hang': 2022, 'marvelous': 2750, 'indian': 2274, 'anthony': 253, 'don': 1320, 'baker': 385, 'soundtrack': 4085, '3000': 43, 'dancers': 1105, 'justice': 2438, 'locked': 2637, 'stinker': 4191, 'rating': 3529, 'emily': 1456, 'settings': 3901, 'detailed': 1218, 'produced': 3414, 'thoroughly': 4459, 'awards': 367, 'powell': 3358, 'costume': 1005, 'broadcast': 591, '11': 2, 'title': 4504, 'yourself': 4993, 'personally': 3243, 'held': 2074, 'mainly': 2708, 'disagree': 1269, 'following': 1774, 'tom': 4514, 'scott': 3824, 'relationship': 3597, 'unrealistic': 4677, 'behavior': 446, 'beat': 423, 'genius': 1887, 'priest': 3392, 'dies': 1245, 'peace': 3219, 'wouldnt': 4958, 'stomach': 4196, 'absurd': 73, 'country': 1014, 'deadly': 1133, 'cuts': 1091, 'relevant': 3604, 'became': 431, 'reminds': 3620, 'clothes': 860, 'provoking': 3452, 'catholic': 720, 'corruption': 1002, 'pride': 3391, '90': 60, 'drag': 1342, 'dreary': 1356, 'humble': 2191, 'impossible': 2249, 'text': 4419, 'quickly': 3491, 'finished': 1733, 'collection': 874, 'merits': 2817, 'sort': 4077, 'empathy': 1462, 'victim': 4729, 'fighter': 1708, 'viewed': 4737, 'views': 4742, 'kinds': 2478, 'directions': 1262, 'laugh': 2529, 'tension': 4404, 'maria': 2736, 'ear': 1397, 'failed': 1626, 'miserably': 2864, 'uninteresting': 4660, 'gotten': 1947, 'college': 875, 'russian': 3762, 'section': 3853, 'soviet': 4089, 'poster': 3353, 'generation': 1883, 'reference': 3582, 'neighbor': 2992, 'laughing': 2533, 'soldier': 4053, 'immediately': 2242, 'powers': 3361, 'united': 4664, 'states': 4163, 'continues': 971, 'blown': 516, 'propaganda': 3435, 'japanese': 2382, 'shorts': 3948, 'dr': 1340, 'providing': 3451, 'mob': 2879, 'vietnam': 4735, 'jail': 2376, 'corrupt': 1001, 'prisoner': 3402, 'illegal': 2229, 'experiments': 1584, 'cia': 814, 'agent': 150, 'various': 4715, 'prisoners': 3403, 'super': 4295, 'zombies': 4998, 'sole': 4055, 'directorial': 1265, 'date': 1118, 'lacks': 2505, 'idiotic': 2219, 'forever': 1792, 'fan': 1648, 'indeed': 2271, 'expectations': 1576, 'candy': 668, 'topless': 4527, 'orson': 3132, 'welles': 4844, 'irish': 2353, 'appealing': 272, 'blonde': 511, 'hung': 2197, 'citizen': 824, 'kane': 2442, 'interaction': 2322, 'meeting': 2794, 'lawyer': 2541, 'mike': 2838, 'fall': 1637, 'partner': 3198, 'bite': 489, 'describes': 1196, 'climax': 849, 'gun': 1996, 'borrowed': 545, 'murderer': 2941, 'centers': 734, 'sea': 3838, 'subtle': 4260, 'adds': 119, 'pink': 3277, 'fill': 1714, 'mundane': 2938, 'fare': 1655, 'stole': 4194, 'former': 1800, 'snl': 4044, 'middle': 2833, 'ground': 1979, 'suppose': 4305, 'hits': 2125, 'avoid': 363, 'plague': 3285, 'drunken': 1376, 'soldiers': 4054, 'statement': 4162, 'nazis': 2978, 'agents': 151, 'believed': 455, 'political': 3324, 'politically': 3325, 'stinks': 4192, 'hero': 2088, 'berlin': 467, 'contains': 964, 'errors': 1516, 'phony': 3256, 'higher': 2101, 'easily': 1406, 'setting': 3900, 'charm': 767, 'granted': 1957, '1980s': 21, 'credit': 1049, 'timothy': 4499, 'manage': 2722, 'wells': 4845, 'sucks': 4271, 'ed': 1415, 'wood': 4933, '20': 29, 'dollar': 1314, 'flawed': 1750, 'computer': 927, 'dinner': 1254, 'atrocious': 335, 'risk': 3704, 'offensive': 3086, 'principal': 3398, 'countryside': 1015, 'heat': 2067, 'wars': 4804, 'neat': 2982, 'ray': 3533, 'theyre': 4445, 'rented': 3628, 'presumably': 3380, 'military': 2844, 'unfortunate': 4653, 'troops': 4591, 'spanish': 4092, 'correct': 1000, 'subtlety': 4261, 'wicked': 4879, 'oddly': 3081, 'drawn': 1351, 'described': 1195, 'ships': 3935, 'constructed': 959, 'machines': 2694, 'hole': 2132, 'couldve': 1009, 'titanic': 4503, 'survived': 4322, 'royal': 3746, 'navy': 2976, 'lowest': 2678, 'army': 295, 'homage': 2141, 'western': 4853, 'obviously': 3072, 'england': 1482, 'mixture': 2878, 'scottish': 3825, 'contrary': 974, 'genuine': 1891, 'authentic': 358, 'nine': 3017, 'driver': 1366, 'horse': 2170, 'box': 555, 'ride': 3692, 'horses': 2171, 'scores': 3823, 'growing': 1983, 'reading': 3544, 'novel': 3052, 'cruise': 1071, 'vice': 4727, 'somebody': 4062, 'caine': 647, 'masterpiece': 2759, 'guilty': 1995, 'pleasure': 3306, 'sent': 3880, 'burned': 626, 'intent': 2318, 'dubbed': 1379, 'improvement': 2256, 'treat': 4572, 'hated': 2047, 'dreadful': 1353, 'asian': 314, 'stereotype': 4178, 'hideous': 2098, 'goofy': 1939, 'secrets': 3852, 'encounters': 1467, 'jay': 2386, 'enjoyed': 1486, 'comedian': 887, 'ie': 2221, 'comedic': 888, 'neighborhood': 2993, 'spoil': 4121, 'race': 3499, 'relations': 3596, 'community': 908, 'enthusiasm': 1501, 'screening': 3830, 'tales': 4357, 'huge': 2185, 'joke': 2414, 'soap': 4047, 'elements': 1443, 'manner': 2729, 'silly': 3976, 'paid': 3169, 'battles': 415, 'strange': 4211, 'matrix': 2767, 'utter': 4701, 'poem': 3312, 'pitt': 3280, 'effort': 1432, 'sean': 3840, 'plenty': 3307, 'dragged': 1343, 'test': 4416, 'managed': 2723, 'button': 639, 'opinion': 3118, 'development': 1225, 'jerry': 2396, 'cartoon': 704, 'join': 2412, 'foreign': 1790, 'respect': 3652, 'apart': 264, 'emotion': 1458, 'anger': 235, 'thrown': 4481, 'finish': 1732, 'immensely': 2243, 'captivating': 675, 'usually': 4700, 'mistaken': 2872, 'washington': 4806, 'puts': 3481, 'brings': 587, 'superior': 4300, 'instant': 2305, 'directing': 1260, 'mexico': 2827, 'alive': 186, 'portrayed': 3342, 'brilliantly': 584, 'journey': 2421, 'tap': 4364, 'genuinely': 1892, 'fitting': 1742, 'songs': 4072, 'household': 2179, 'priceless': 3390, 'drags': 1345, 'diamond': 1236, 'profound': 3423, 'mission': 2870, '2000': 30, 'lesson': 2577, 'succeed': 4262, 'obscure': 3068, 'forgotten': 1797, 'slasher': 4020, 'inevitably': 2283, 'monster': 2892, 'song': 4071, 'lyrics': 2692, 'useful': 4694, 'forest': 1791, 'hopeless': 2158, 'admittedly': 123, 'dozen': 1338, 'cover': 1022, 'ordinary': 3128, 'teenagers': 4391, 'solid': 4057, 'successful': 4266, 'plausible': 3295, 'couples': 1017, 'isolated': 2363, 'woods': 4935, 'california': 650, 'bet': 470, 'wives': 4918, 'husbands': 2205, 'visits': 4756, 'whos': 4876, 'hunting': 2201, 'flesh': 1753, 'demented': 1176, 'arrive': 300, 'encounter': 1466, 'slightly': 4029, 'appeal': 271, 'minded': 2850, 'gruesome': 1986, 'painful': 3171, 'massacre': 2754, 'filming': 1718, 'advice': 133, 'above': 68, 'donald': 1321, 'responsible': 3656, 'exploitation': 1592, 'fails': 1628, 'dick': 1239, 'chuck': 812, 'drink': 1361, 'nose': 3037, 'ashamed': 312, 'herself': 2092, 'object': 3066, 'pick': 3265, 'tooth': 4524, 'guts': 1999, 'darkness': 1117, 'reviewers': 3678, 'mood': 2898, 'warning': 4800, 'eddie': 1416, 'murphy': 2944, 'provided': 3449, 'hollow': 2135, 'draw': 1349, 'jerk': 2395, 'coffee': 870, 'shallow': 3917, 'losers': 2656, 'dare': 1113, 'toilet': 4512, 'nowhere': 3056, 'below': 462, 'ignore': 2224, 'adults': 126, 'flicks': 1755, 'unintentional': 4658, 'stale': 4141, 'scientist': 3818, 'god': 1926, 'violent': 4748, 'presence': 3373, 'scientists': 3819, 'rural': 3758, 'lab': 2501, 'wooden': 4934, 'prefer': 3368, 'available': 361, 'host': 2173, 'necessary': 2984, 'features': 1680, 'mill': 2845, 'clichéd': 845, 'pacing': 3163, 'smart': 4035, 'crafted': 1029, 'sutherland': 4333, 'attitudes': 347, 'eva': 1531, 'affair': 135, 'utterly': 4702, 'implausible': 2245, 'thriller': 4472, 'desperately': 1209, 'medium': 2792, 'recently': 3567, 'capable': 672, 'barbara': 397, 'stanwyck': 4149, 'barry': 401, 'sullivan': 4288, 'careers': 687, 'glory': 1922, 'carry': 700, 'achieved': 93, 'hoped': 2156, 'professional': 3421, 'escaped': 1518, 'trapped': 4564, 'rising': 3703, 'brando': 566, 'lacked': 2503, 'charisma': 762, 'saving': 3797, 'intriguing': 2335, 'formula': 1802, 'picture': 3269, 'possibility': 3349, 'remains': 3611, 'wished': 4905, 'location': 2635, 'underrated': 4642, 'grew': 1972, 'loving': 2675, 'flying': 1764, 'fabulous': 1615, 'warming': 4795, 'robin': 3715, 'hood': 2151, 'single': 3996, 'harder': 2035, 'doom': 1326, 'pass': 3201, 'struggling': 4236, 'shakespeare': 3915, 'loose': 2650, 'sidekick': 3966, 'flynn': 1765, 'delivering': 1171, 'naturally': 2974, 'hed': 2072, 'handle': 2018, 'sheriff': 3929, 'delivered': 1170, 'reminded': 3619, 'appreciation': 281, 'credible': 1048, 'frankly': 1823, 'improve': 2254, 'bed': 436, 'week': 4837, 'stilted': 4190, 'required': 3641, 'ease': 1404, 'episode': 1507, 'doctor': 1304, 'pity': 3281, 'soft': 4051, 'spot': 4131, 'adventures': 131, 'douglas': 1334, 'richard': 3686, 'slightest': 4028, 'focused': 1767, 'relationships': 3598, 'swimming': 4338, 'teachers': 4376, 'represented': 3638, 'determined': 1221, 'confused': 941, 'feet': 1688, 'sports': 4130, 'lips': 2615, 'appearance': 274, 'grows': 1985, 'physically': 3263, 'swim': 4337, 'suit': 4284, 'blond': 510, 'crush': 1072, 'deals': 1137, 'spend': 4105, 'porn': 3336, 'covers': 1024, 'partly': 3197, 'expressed': 1601, 'satisfied': 3789, 'bus': 631, 'wing': 4896, 'reveals': 3673, 'virgin': 4749, 'closer': 856, 'shed': 3924, 'rid': 3690, 'sexually': 3910, 'performs': 3234, 'experienced': 1581, 'follows': 1775, 'room': 3735, 'staring': 4152, 'neither': 2996, 'stands': 4147, 'slowly': 4032, 'reaches': 3538, 'steps': 4177, 'smiling': 4037, 'description': 1197, 'initially': 2291, 'treats': 4575, 'irrelevant': 2358, 'lover': 2672, 'satisfy': 3790, 'louise': 2666, 'member': 2800, 'trio': 4587, 'suggests': 4282, 'fox': 1814, 'leads': 2548, 'leave': 2555, 'creature': 1045, 'pet': 3246, 'wanting': 4790, 'screaming': 3827, 'site': 4005, 'standing': 4146, 'bone': 533, 'drivel': 1364, 'ridiculously': 3694, 'crew': 1053, 'finale': 1723, 'record': 3573, 'number': 3060, 'graphics': 1959, 'walking': 4779, 'dirty': 1268, 'extent': 1605, 'invisible': 2344, 'mans': 2730, 'extended': 1604, 'breasts': 572, 'whilst': 4869, 'kevin': 2457, 'twisted': 4618, 'dire': 1257, 'hint': 2112, 'par': 3184, 'terror': 4412, 'speed': 4103, 'seconds': 3848, 'humour': 2194, 'pool': 3327, 'failing': 1627, 'laid': 2508, 'faster': 1662, 'progresses': 3426, 'disbelief': 1277, 'endless': 1473, 'numbers': 3061, 'appearing': 277, 'bomb': 531, 'explosion': 1596, 'burns': 628, 'falling': 1639, 'stops': 4203, 'bar': 396, 'lesser': 2576, 'total': 4531, 'pop': 3330, 'watches': 4814, 'exceptionally': 1559, 'avoided': 364, 'costs': 1004, 'shoes': 3941, 'parent': 3187, 'members': 2801, 'occurs': 3078, 'showed': 3956, 'prevent': 3385, 'happening': 2028, 'agree': 155, 'technical': 4381, 'racist': 3503, 'chased': 770, 'sorry': 4076, 'crap': 1031, 'maker': 2714, 'remain': 3609, 'ghost': 1902, 'trailers': 4555, '14': 6, 'anyways': 262, 'amusing': 221, 'lame': 2510, 'sucked': 4270, 'samurai': 3779, 'warriors': 4803, 'rough': 3741, 'exaggerated': 1552, 'arm': 292, 'facial': 1619, 'silent': 3975, 'garbo': 1871, 'understood': 4647, 'holding': 2130, 'meaningful': 2781, 'returns': 3668, 'becoming': 435, 'sits': 4006, 'green': 1971, 'embarrassment': 1455, 'mini': 2854, 'needed': 2988, 'filmmakers': 1720, 'amazed': 208, 'bang': 393, 'expected': 1577, 'kicking': 2462, 'ass': 323, 'twice': 4613, 'size': 4012, 'nasty': 2968, 'americans': 214, 'nonsense': 3030, 'smaller': 4034, 'scale': 3802, 'touched': 4534, 'decades': 1145, 'taste': 4369, 'redemption': 3578, 'crowd': 1067, 'extra': 1606, 'faced': 1617, 'experiences': 1582, 'forced': 1787, 'spiritual': 4116, 'ignorant': 2223, 'attack': 337, 'problems': 3409, 'notably': 3042, '1950s': 14, 'marie': 2737, 'source': 4086, 'wisdom': 4902, 'answers': 252, 'garbage': 1870, 'pages': 3168, 'unfunny': 4655, 'montage': 2894, 'itll': 2369, 'till': 4493, 'woody': 4936, 'allen': 188, 'highlight': 2103, 'mindless': 2851, 'ridden': 3691, '75': 57, 'exists': 1573, 'prior': 3400, 'forgive': 1795, 'cutting': 1092, 'belief': 451, 'saved': 3795, 'lower': 2677, 'jaws': 2385, 'drop': 1369, 'plots': 3310, 'needless': 2989, 'likable': 2598, 'moody': 2899, 'lighting': 2596, 'vaguely': 4706, 'haunting': 2051, 'classical': 836, 'snow': 4045, 'demon': 1177, 'football': 1783, 'japan': 2381, 'storm': 4206, 'survivors': 4325, 'discover': 1279, 'cold': 872, 'survival': 4320, 'reach': 3536, 'variety': 4714, 'dubbing': 1380, 'beast': 422, 'paul': 3214, 'alright': 198, 'cross': 1066, 'cannibal': 669, 'survive': 4321, 'legendary': 2565, 'flick': 1754, 'defend': 1158, 'breath': 573, 'heaven': 2068, 'gripping': 1976, 'thinks': 4454, 'originality': 3130, 'load': 2631, 'rangers': 3517, 'foot': 1781, 'search': 3841, 'sticks': 4186, 'bird': 484, 'twist': 4617, 'cgi': 740, 'loud': 2664, 'embarrassing': 1454, 'jumping': 2431, 'ripped': 3701, 'bodies': 526, 'splatter': 4118, 'legs': 2566, 'according': 88, 'reasonable': 3558, 'harsh': 2040, 'resort': 3650, 'somewhere': 4069, 'pleasantly': 3303, 'warm': 4794, 'watchable': 4812, 'blatant': 502, 'commercial': 902, 'quest': 3486, 'scripted': 3835, 'expressions': 1603, 'wasting': 4810, 'sweet': 4336, 'normally': 3034, 'ex': 1549, 'cute': 1090, 'womens': 4924, 'mature': 2773, 'heroine': 2091, 'stay': 4166, 'glimpse': 1919, 'continued': 970, 'nonetheless': 3029, 'complain': 919, 'narrator': 2967, 'scenery': 3810, 'reminiscent': 3621, 'loyal': 2679, 'abc': 63, 'prime': 3395, 'strike': 4224, 'occurred': 3077, 'ireland': 2352, 'faith': 1633, 'carradine': 695, 'reasonably': 3559, 'mild': 2839, 'pg': 3250, 'print': 3399, 'catches': 715, 'guard': 1988, 'skill': 4013, 'memorable': 2802, 'trite': 4589, 'tight': 4492, 'cd': 728, 'complaint': 920, 'brain': 562, 'machine': 2693, 'subjects': 4254, 'backgrounds': 381, 'intelligence': 2313, 'scientific': 3817, 'study': 4242, 'environment': 1505, 'among': 217, 'missed': 2867, 'creep': 1051, 'wishes': 4906, 'treasure': 4571, '1970s': 17, 'technology': 4385, 'repeated': 3631, 'quit': 3494, 'basis': 408, 'alternate': 200, 'consider': 949, 'suggested': 4281, 'titled': 4505, 'stress': 4220, 'alike': 185, 'weapon': 4828, 'boom': 537, 'catch': 714, 'die': 1243, 'james': 2378, 'pretend': 3381, 'buffs': 612, 'century': 736, 'theaters': 4428, 'cases': 708, 'wise': 4903, 'standard': 4144, 'horrid': 2165, 'resources': 3651, 'stock': 4193, 'gene': 1879, 'light': 2595, 'mixed': 2877, 'starred': 4153, 'similarities': 3979, 'shines': 3932, 'strangely': 4212, 'williams': 4888, 'zombie': 4997, 'mine': 2853, 'dan': 1102, 'whereas': 4865, 'intentionally': 2320, 'opposite': 3123, 'witnessed': 4915, 'hysterical': 2208, 'sloppy': 4030, 'downright': 1337, 'spoiler': 4123, 'opens': 3115, 'sees': 3866, 'somehow': 4063, 'pulled': 3462, 'string': 4227, 'onto': 3111, 'neck': 2985, 'heads': 2059, 'air': 164, 'mess': 2818, 'bland': 500, 'martin': 2748, 'iii': 2227, 'resolution': 3649, 'betty': 474, 'buddy': 609, 'crime': 1055, 'theme': 4433, 'seasons': 3844, 'miscast': 2862, 'remembered': 3617, 'manipulative': 2727, 'inducing': 2279, 'bette': 471, 'warned': 4798, 'storyline': 4208, 'kate': 2446, 'george': 1893, 'train': 4556, 'spare': 4093, 'misses': 2868, 'carries': 699, 'shall': 3916, 'thick': 4447, 'psycho': 3457, 'texas': 4418, 'scream': 3826, 'laughed': 2532, 'folks': 1771, 'behave': 445, 'dialogues': 1235, 'crappy': 1032, 'trash': 4565, 'youth': 4994, 'festival': 1697, 'shoot': 3942, 'accomplished': 87, 'listening': 2620, 'tone': 4517, 'campbell': 663, 'alan': 171, 'amounts': 220, 'teeth': 4393, 'dentist': 1180, 'dynamic': 1394, 'witness': 4914, 'focuses': 1768, 'punch': 3466, 'patient': 3211, 'brad': 560, 'fever': 1699, 'travels': 4569, 'visit': 4755, 'picks': 3268, 'hints': 2113, 'dedicated': 1153, 'build': 614, 'conclusion': 936, 'awkward': 374, 'upon': 4684, 'disappointing': 1274, 'population': 3335, 'forth': 1804, 'challenging': 744, 'represents': 3639, 'bush': 632, 'ran': 3513, 'latin': 2527, 'five': 1743, 'stolen': 4195, 'philosophical': 3253, 'challenge': 743, 'crucial': 1068, 'carrie': 697, 'picked': 3266, 'disaster': 1276, 'performers': 3232, 'clips': 852, 'leonard': 2572, 'gentle': 1890, 'busy': 635, 'st': 4137, 'testament': 4417, 'forgettable': 1794, 'striking': 4226, 'distance': 1294, 'pseudo': 3454, 'focus': 1766, 'red': 3576, 'concert': 935, 'digital': 1251, 'spooky': 4128, 'segments': 3868, 'bbc': 417, 'kong': 2494, 'vs': 4767, 'godzilla': 1929, 'attraction': 350, 'mistress': 2874, 'involves': 2348, 'dog': 1310, 'businessman': 634, 'purposes': 3475, 'vote': 4766, 'depressing': 1188, 'dropped': 1370, 'funniest': 1851, 'chemistry': 782, 'christmas': 810, 'gary': 1873, 'screens': 3832, 'jennifer': 2392, 'polished': 3323, 'jenny': 2393, 'slave': 4022, 'ludicrous': 2685, 'african': 142, 'bothered': 549, 'chose': 804, 'choose': 799, 'daniel': 1111, 'nuclear': 3057, '50s': 52, 'card': 681, 'rise': 3702, 'individual': 2277, 'steal': 4170, 'fancy': 1649, '50': 51, 'wears': 4832, 'dignity': 1252, 'broad': 590, 'throw': 4479, 'unconvincing': 4638, 'routine': 3743, 'movement': 2923, 'colour': 880, 'suspect': 4327, 'pleased': 3305, 'loser': 2655, 'learns': 2553, 'celebrity': 729, 'besides': 468, 'qualities': 3483, 'tedious': 4387, 'tough': 4537, 'match': 2762, 'anderson': 227, 'skills': 4014, 'jeff': 2390, 'sudden': 4272, 'anti': 254, 'bother': 548, 'wondering': 4930, 'introduced': 2337, 'uncle': 4636, 'rolling': 3730, 'crisis': 1060, 'virus': 4752, 'orders': 3127, 'helped': 2080, 'eyed': 1612, 'forces': 1788, 'assigned': 325, 'lynch': 2691, 'spell': 4104, 'dry': 1377, 'scary': 3807, 'dramatic': 1348, 'seat': 3845, 'suspenseful': 4331, 'lena': 2568, 'revolves': 3682, 'sisters': 4002, 'broken': 594, 'instance': 2304, 'mirror': 2861, 'hanging': 2023, 'lit': 2621, 'scare': 3803, 'threatening': 4468, 'thrills': 4475, 'stylish': 4251, 'hire': 2116, 'imaginative': 2237, 'screenwriter': 3833, 'flight': 1757, 'theory': 4437, 'logic': 2638, 'hearing': 2063, 'post': 3352, 'firstly': 1737, 'nonsensical': 3031, 'christians': 809, 'mass': 2753, 'force': 1786, 'attractive': 351, 'remotely': 3623, 'kicks': 2463, 'pair': 3176, 'park': 3190, 'relation': 3595, 'pops': 3332, 'warn': 4797, 'eating': 1413, 'naked': 2959, 'foul': 1810, 'unintentionally': 4659, '15': 7, '100': 1, 'blow': 514, 'versus': 4722, 'painfully': 3172, 'slapstick': 4019, 'camp': 662, 'cash': 709, 'selfish': 3870, 'chooses': 800, 'choice': 797, 'subplots': 4256, 'beautifully': 429, 'timing': 4498, 'symbolism': 4341, 'timeless': 4496, 'kick': 2460, 'grandfather': 1954, 'elderly': 1440, 'darker': 1116, 'visually': 4758, 'crude': 1069, 'pie': 3271, 'funnier': 1850, 'extras': 1608, 'fly': 1763, 'acceptable': 81, 'vincent': 4746, 'hammer': 2014, 'mst3k': 2932, 'devil': 1228, 'doll': 1313, 'practically': 3362, 'rats': 3531, 'wearing': 4831, 'rubber': 3747, 'path': 3209, 'eric': 1514, 'roberts': 3714, 'meanwhile': 2785, 'werewolf': 4850, 'assistant': 326, 'girlfriend': 1910, 'secretary': 3850, 'bottom': 551, 'saturday': 3792, 'spoof': 4127, 'dressed': 1358, 'parody': 3192, 'graphic': 1958, 'nature': 2975, 'appalling': 268, 'skin': 4015, 'huh': 2187, 'forbidden': 1785, 'pre': 3365, 'note': 3044, 'gang': 1867, 'winter': 4900, 'information': 2288, 'occur': 3076, 'pull': 3461, 'characterization': 759, 'hal': 2006, 'pilot': 3276, 'explains': 1589, 'positive': 3346, 'studios': 4241, 'olivier': 3103, 'mexican': 2826, 'obnoxious': 3067, 'choreography': 802, 'angel': 231, 'turkey': 4604, 'stiller': 4189, 'amy': 222, 'workers': 4943, 'afford': 138, 'disappear': 1270, 'product': 3418, 'refuses': 3587, 'millions': 2848, 'spending': 4106, 'earlier': 1399, 'offended': 3085, 'bathroom': 412, 'depicted': 1183, 'block': 508, 'doubt': 1332, 'recognize': 3569, 'further': 1853, 'vivid': 4760, 'activities': 102, 'losing': 2658, 'bath': 411, 'paris': 3189, 'york': 4985, 'albeit': 173, 'brutally': 604, 'revealed': 3671, 'goal': 1925, 'bucks': 606, 'desperate': 1208, 'insane': 2296, 'prison': 3401, 'ashley': 313, 'fame': 1642, 'hunter': 2199, 'jobs': 2406, 'fired': 1735, 'artists': 309, 'leslie': 2574, 'ryan': 3765, 'matt': 2768, 'admire': 121, 'constant': 957, 'blue': 518, 'marks': 2742, 'sky': 4017, 'base': 402, 'advanced': 128, 'captain': 674, 'hundreds': 2196, 'eighties': 1437, 'teenager': 4390, 'elephant': 1444, 'rate': 3526, 'food': 1778, 'acid': 95, 'tour': 4538, 'bag': 384, 'caliber': 649, 'oscars': 3134, 'cinematographer': 819, 'rex': 3683, 'joan': 2404, 'shop': 3945, 'corner': 996, 'pleasant': 3302, 'reputation': 3640, 'trademark': 4548, 'planned': 3290, 'conflicts': 940, 'stewart': 4184, 'margaret': 2735, 'frank': 1821, 'morgan': 2905, 'nevertheless': 3002, 'massive': 2756, 'influence': 2286, 'mail': 2706, 'surface': 4310, 'alfred': 181, 'knowing': 2490, 'gift': 1906, 'owner': 3159, 'families': 1644, 'memories': 2803, 'europe': 1529, 'personality': 3242, 'sympathy': 4343, 'bitter': 491, 'eve': 1532, 'charles': 764, 'warmth': 4796, 'strikes': 4225, 'jackson': 2375, 'fortune': 1806, 'talents': 4356, 'harry': 2039, 'namely': 2962, 'lisa': 2616, 'worker': 4942, 'annie': 247, 'trust': 4598, '1960s': 15, 'nor': 3032, 'rated': 3527, 'uneven': 4649, 'broke': 593, 'plans': 3292, 'georges': 1894, 'destroying': 1215, 'disturbing': 1300, 'larry': 2520, 'gods': 1928, 'clichés': 846, 'awfully': 373, 'dialogs': 1233, 'situations': 4009, 'neil': 2995, 'hamilton': 2012, 'fellow': 1691, 'dean': 1139, 'turning': 4608, 'sport': 4129, 'atmospheric': 334, 'junk': 2436, 'italian': 2367, '2003': 33, 'remake': 3612, 'glover': 1923, 'recent': 3566, 'rat': 3525, 'nuts': 3064, 'bride': 577, 'translation': 4562, 'tony': 4521, 'parker': 3191, 'theyd': 4443, 'placed': 3283, 'sidney': 3968, 'offered': 3088, 'surprising': 4315, 'chances': 748, 'adaptation': 113, 'disappoint': 1272, 'chases': 771, 'blowing': 515, 'helping': 2081, 'jake': 2377, 'bond': 532, 'ultimate': 4627, 'road': 3709, 'dropping': 1371, 'vampire': 4711, 'teenage': 4389, 'joey': 2408, 'mechanical': 2788, 'shark': 3921, 'attitude': 346, 'moon': 2900, 'hype': 2207, 'win': 4892, 'indians': 2275, 'cameron': 661, 'realized': 3553, 'shell': 3927, 'convey': 982, 'deep': 1154, 'bits': 490, 'apparent': 269, 'beings': 449, 'gain': 1863, 'operation': 3117, 'counter': 1011, 'rebel': 3561, 'gundam': 1997, 'anime': 243, 'stunning': 4244, 'suits': 4287, 'oz': 3160, 'extraordinary': 1607, 'command': 897, 'signed': 3971, 'necessarily': 2983, 'essence': 1521, 'punk': 3468, 'toward': 4539, 'flop': 1760, 'kingdom': 2480, 'measure': 2786, 'garden': 1872, 'heck': 2071, 'skip': 4016, 'weight': 4840, 'desire': 1205, 'solve': 4060, 'crimes': 1056, 'van': 4713, 'flat': 1748, 'chasing': 772, 'wound': 4960, 'continue': 969, 'edition': 1422, 'stiff': 4187, 'westerns': 4854, 'dickens': 1240, 'scrooge': 3837, 'edward': 1426, 'current': 1084, 'patrick': 3213, 'morning': 2906, 'realizes': 3554, 'hasnt': 2044, 'convince': 983, 'carol': 693, 'holiday': 2134, 'motion': 2913, 'singer': 3993, 'rock': 3720, 'process': 3412, 'monsters': 2893, 'phantom': 3251, 'accused': 91, 'smoking': 4040, 'smoke': 4039, 'hip': 2114, 'hop': 2154, 'rap': 3520, 'thief': 4448, 'cars': 702, 'cage': 645, 'retired': 3664, 'mainstream': 2709, 'wet': 4855, 'mrs': 2930, 'nowadays': 3055, 'con': 928, 'snake': 4042, 'thrillers': 4473, 'jackie': 2374, 'mark': 2739, 'latter': 2528, 'harris': 2038, 'outfit': 3144, 'silver': 3977, 'sharp': 3922, 'purple': 3473, 'bob': 524, 'sons': 4073, 'laurel': 2537, 'hardy': 2037, 'grand': 1953, 'trail': 4553, 'winning': 4898, 'soul': 4079, 'joy': 2422, 'discussion': 1284, 'pain': 3170, 'presentation': 3375, 'handful': 2017, '2005': 35, 'solely': 4056, 'figures': 1713, 'greek': 1970, 'roman': 3731, 'forty': 1807, 'letters': 2582, 'investigation': 2343, 'religion': 3607, 'sam': 3777, 'creator': 1043, 'heston': 2094, 'sun': 4292, 'passion': 3205, 'detail': 1217, 'childish': 791, 'commit': 904, 'prize': 3405, 'recognition': 3568, 'social': 4049, 'argument': 291, 'aspects': 322, 'union': 4661, 'believes': 456, 'doubts': 1333, 'scheme': 3812, 'spread': 4133, 'regardless': 3590, 'conceived': 929, 'field': 1704, 'combat': 882, 'religious': 3608, 'consistently': 954, '1930s': 11, 'hearts': 2066, 'hill': 2108, 'beloved': 461, 'secretly': 3851, 'countless': 1012, 'weeks': 4839, 'discovery': 1282, 'industry': 2280, 'numerous': 3062, 'explosions': 1597, 'headed': 2058, 'sir': 4000, 'likewise': 2603, 'existence': 1571, 'relief': 3605, 'happiness': 2031, 'demand': 1174, 'troubles': 4594, 'media': 2789, 'engaged': 1480, 'plight': 3308, 'alexander': 180, 'charismatic': 763, 'progress': 3425, 'refreshing': 3586, 'impress': 2250, 'hitchcock': 2123, 'imagination': 2236, 'disney': 1289, 'afternoon': 144, 'searching': 3842, 'channels': 754, 'finger': 1731, 'surfing': 4311, 'instantly': 2306, 'cruel': 1070, 'accept': 80, '40s': 49, 'antics': 255, 'overcome': 3151, 'curiosity': 1082, 'hat': 2045, 'changing': 752, 'contact': 961, 'hooked': 2153, 'supernatural': 4302, 'noise': 3024, 'shelf': 3926, 'entertained': 1498, '60': 53, 'generated': 1882, 'tragedy': 4551, 'scares': 3806, 'mtv': 2933, 'bigger': 479, 'connection': 946, 'impact': 2244, 'map': 2733, 'shape': 3919, 'successfully': 4267, 'stooges': 4200, 'alice': 182, 'spring': 4134, 'destroy': 1213, 'wonders': 4931, 'sadness': 3770, 'robbins': 3712, 'artistic': 308, 'favorites': 1672, 'jr': 2423, 'outer': 3143, 'companion': 909, 'surviving': 4323, 'nostalgic': 3039, 'sentimental': 3882, 'ratings': 3530, 'existent': 1572, 'cheated': 775, 'joseph': 2419, 'position': 3345, 'germany': 1898, 'presented': 3376, 'format': 1799, 'psychological': 3458, 'track': 4544, 'angry': 238, 'germans': 1897, 'ingredients': 2289, 'criticism': 1063, 'amazingly': 210, 'sleep': 4024, 'walked': 4776, 'jungle': 2434, 'illness': 2230, 'summary': 4290, 'display': 1291, 'eastern': 1408, 'idiots': 2220, 'guessed': 1990, 'edited': 1420, 'incomprehensible': 2267, 'weekend': 4838, 'suck': 4269, 'grow': 1982, 'serving': 3897, 'craft': 1028, 'poetry': 3314, 'designed': 1203, 'inevitable': 2282, 'trick': 4582, 'vehicle': 4718, 'kelly': 2452, 'struck': 4232, 'lawrence': 2539, 'provide': 3448, 'russell': 3761, 'walter': 4784, 'balance': 387, 'largely': 2518, 'closing': 859, 'brazil': 568, 'danny': 1112, 'julia': 2427, 'jewish': 2401, 'sympathetic': 4342, 'references': 3583, 'jonathan': 2417, 'winters': 4901, 'station': 4164, 'president': 3378, 'racial': 3501, 'elsewhere': 1449, 'neighbors': 2994, '20th': 38, 'strongly': 4231, 'madonna': 2699, 'dancer': 1104, 'event': 1535, 'lasted': 2522, 'network': 3000, 'reporter': 3636, 'chicago': 785, 'underlying': 4641, 'editor': 1423, 'suspend': 4329, 'adams': 112, 'tracy': 4546, 'walker': 4778, 'strip': 4228, 'twenty': 4612, 'peters': 3248, 'professor': 3422, 'discovered': 1280, 'escapes': 1519, 'discuss': 1283, 'blake': 498, 'hired': 2117, 'adam': 111, 'hiding': 2099, 'associated': 327, 'shower': 3957, 'birds': 485, 'mile': 2842, 'henry': 2084, '1984': 23, 'aspect': 321, 'angle': 236, 'doors': 1329, 'afterwards': 145, 'occasion': 3073, 'deserved': 1200, 'unnecessary': 4672, 'planning': 3291, 'ring': 3698, 'dressing': 1359, 'exact': 1550, 'buying': 641, 'clip': 851, 'belong': 459, 'humans': 2190, 'species': 4098, 'banned': 395, 'market': 2740, 'removed': 3624, 'recall': 3562, 'draws': 1352, 'blair': 497, 'witch': 4909, 'raw': 3532, 'mentally': 2809, 'began': 441, 'easier': 1405, 'endure': 1475, 'focusing': 1769, 'ford': 1789, 'ultra': 4629, 'eg': 1434, 'traditional': 4550, 'reveal': 3670, 'corporate': 998, 'briefly': 580, 'estate': 1525, 'winner': 4897, 'countries': 1013, 'jet': 2400, 'advertising': 132, 'selling': 3873, 'receives': 3565, 'ad': 110, 'unexpected': 4650, 'specific': 4099, 'outcome': 3142, 'abilities': 64, 'opposed': 3122, 'tie': 4488, 'notch': 3043, 'engage': 1479, 'restaurant': 3658, 'chess': 783, 'infamous': 2284, 'loss': 2659, 'rules': 3754, 'competition': 918, 'performing': 3233, 'integrity': 2311, 'ego': 1435, 'strictly': 4223, 'overlooked': 3154, 'overlook': 3153, 'jimmy': 2403, 'definite': 1161, 'witches': 4910, 'magic': 2703, 'lemmon': 2567, 'mildly': 2840, 'exceptional': 1558, 'inspector': 2299, 'gadget': 1860, 'saves': 3796, 'season': 3843, '2002': 32, 'resist': 3648, 'related': 3594, 'purchased': 3470, 'equal': 1509, 'fifteen': 1706, 'voiced': 4762, 'louis': 2665, 'choices': 798, 'fix': 1744, '2006': 36, 'urge': 4689, 'purchase': 3469, 'fashioned': 1660, 'contrived': 976, 'ward': 4793, 'doctors': 1305, 'concerned': 932, 'mothers': 2912, 'boat': 523, 'nervous': 2999, 'devoted': 1231, 'alcoholic': 177, 'drinking': 1362, 'water': 4816, 'bottle': 550, 'filled': 1715, 'twins': 4616, 'born': 544, 'unit': 4663, 'warner': 4799, 'dawn': 1127, 'bears': 421, 'grown': 1984, 'inner': 2292, 'persona': 3239, 'matthau': 2771, 'wit': 4908, 'kicked': 2461, 'cheese': 780, 'reel': 3581, 'roll': 3728, 'cliff': 847, 'fury': 1855, 'contained': 963, 'attached': 336, 'wandering': 4785, 'bloody': 513, 'changes': 751, 'grace': 1950, 'halloween': 2010, 'twelve': 4611, 'sappy': 3784, 'wonderfully': 4929, 'lovable': 2668, 'excitement': 1562, 'thirty': 4456, 'highest': 2102, 'reflect': 3584, 'lifetime': 2594, 'enormous': 1490, 'ought': 3138, 'schools': 3814, 'lessons': 2578, 'wasted': 4809, 'magnificent': 2705, 'recorded': 3574, 'realise': 3548, 'defeat': 1157, 'forms': 1801, 'domestic': 1318, 'improved': 2255, 'craig': 1030, 'wrestling': 4966, 'trained': 4557, 'pro': 3406, 'checking': 778, 'hook': 2152, 'videos': 4734, 'satan': 3787, 'pit': 3278, 'possessed': 3347, 'rose': 3739, 'shut': 3961, 'dying': 1393, '2nd': 41, 'scared': 3805, 'nomination': 3026, 'synopsis': 4344, 'hadnt': 2004, 'warren': 4801, 'bergman': 466, 'clark': 832, 'regarding': 3589, 'julie': 2428, 'shadows': 3913, 'fear': 1676, 'achieve': 92, 'gem': 1877, 'celluloid': 731, 'felix': 1689, 'liners': 2611, 'requires': 3642, 'viewings': 4741, 'victoria': 4732, 'peoples': 3222, 'perspective': 3245, 'richardson': 3688, 'appreciated': 280, 'dramas': 1347, 'chicks': 787, 'vampires': 4712, 'wrap': 4963, 'clean': 838, 'alcohol': 176, 'troubled': 4593, 'daily': 1097, '3d': 46, 'count': 1010, 'unable': 4631, 'mentioning': 2812, 'arrogant': 303, 'hanks': 2025, 'area': 286, 'glass': 1917, 'lily': 2605, 'waitress': 4773, 'tame': 4363, '1933': 12, '2004': 34, 'jumps': 2432, 'sleeping': 4025, 'cook': 988, 'wayne': 4821, 'ugly': 4625, 'closet': 858, 'mask': 2752, 'menace': 2806, 'lucas': 2680, 'rocks': 3722, 'sides': 3967, 'spectacular': 4101, 'claire': 831, 'comfortable': 892, 'combined': 885, 'combine': 884, 'fields': 1705, 'friendly': 1836, 'regret': 3591, 'guarantee': 1987, 'similarly': 3980, 'disturbed': 1299, 'culture': 1079, 'arnold': 296, 'richards': 3687, 'dawson': 1128, 'damon': 1101, 'jesse': 2397, 'screams': 3828, 'buddies': 608, 'judge': 2424, '1990s': 25, 'fetched': 1698, 'wed': 4835, 'guide': 1993, 'pushing': 3479, 'national': 2970, 'remaining': 3610, 'replaced': 3634, 'contract': 973, 'september': 3884, 'buildings': 616, 'generations': 1884, 'conspiracy': 956, 'aliens': 184, 'enjoyment': 1488, 'succeeds': 4264, 'carefully': 689, 'elaborate': 1439, 'nicholas': 3010, 'tomatoes': 4515, 'fest': 1696, 'remote': 3622, 'fate': 1665, 'opinions': 3119, 'americas': 215, 'butt': 638, 'pulls': 3464, 'pan': 3180, 'chest': 784, 'invasion': 2340, 'purely': 3472, 'doomed': 1327, 'health': 2060, 'waited': 4771, 'catchy': 717, 'grey': 1973, 'highlights': 2104, 'hbo': 2055, 'interpretation': 2328, 'handed': 2016, 'gags': 1862, 'grab': 1949, 'carrey': 696, 'odds': 3082, 'grinch': 1975, 'method': 2824, 'madness': 2698, 'jeffrey': 2391, 'universal': 4665, 'competent': 917, 'miracle': 2860, 'primary': 3394, 'personalities': 3241, 'stronger': 4230, 'humanity': 2189, 'matches': 2764, 'duo': 1386, 'ranks': 3519, 'ted': 4386, 'cole': 873, 'beliefs': 452, 'speaking': 4095, 'split': 4120, 'rendition': 3625, 'manhattan': 2726, 'groups': 1981, 'carried': 698, 'usa': 4691, 'brady': 561, 'streep': 4215, 'hatred': 2049, 'causing': 726, 'throws': 4482, 'precious': 3366, 'answer': 251, 'stranger': 4213, 'attacks': 339, 'wake': 4774, 'laws': 2540, 'criminals': 1058, 'buff': 611, 'june': 2433, 'brand': 565, 'le': 2544, 'appearances': 275, 'howard': 2182, 'france': 1816, '60s': 54, 'dealt': 1138, 'virginia': 4750, 'brief': 579, 'lively': 2627, 'novels': 3053, 'pile': 3275, 'castle': 712, 'arrives': 302, 'welcome': 4842, 'arrival': 299, 'canadian': 667, 'repeatedly': 3632, 'tortured': 4530, 'unseen': 4678, 'stays': 4169, 'advantage': 129, 'surrounding': 4319, 'tad': 4347, 'burton': 630, 'cusack': 1088, 'oil': 3097, 'torn': 4528, 'journalist': 2420, 'trade': 4547, 'center': 732, 'inept': 2281, 'worthy': 4956, 'iraq': 2351, 'zone': 4999, 'hurts': 2203, 'conservative': 948, 'swedish': 4335, 'sign': 3970, 'parties': 3196, 'unpredictable': 4675, 'nancy': 2964, 'colors': 879, 'gabriel': 1859, 'literature': 2623, 'enjoying': 1487, 'poverty': 3357, 'reed': 3580, '13th': 5, 'thousand': 4465, 'unaware': 4632, 'britain': 588, 'melodramatic': 2798, 'danes': 1108, 'un': 4630, 'parallel': 3185, 'abraham': 69, 'lincoln': 2608, 'transfer': 4559, 'considerable': 950, 'absence': 70, 'minimum': 2856, 'audio': 354, 'nicely': 3009, 'paranoia': 3186, 'polanski': 3321, 'horrifying': 2167, 'develops': 1226, 'boot': 538, 'intrigued': 2334, 'criminal': 1057, 'curious': 1083, 'library': 2589, 'restored': 3659, '2001': 31, 'insight': 2298, 'brown': 601, 'gray': 1963, 'sunshine': 4294, 'talks': 4361, 'dutch': 1389, 'contest': 967, 'vengeance': 4719, 'mann': 2728, 'decade': 1144, 'hudson': 2184, 'photographer': 3259, 'model': 2880, 'fed': 1682, 'flashback': 1746, 'asleep': 320, 'suitable': 4285, 'belongs': 460, 'sinatra': 3989, 'pal': 3177, 'attorney': 348, 'thomas': 4458, 'exposure': 1599, 'whale': 4857, 'album': 175, '1996': 26, 'donna': 1323, 'proceeds': 3411, 'initial': 2290, 'repetitive': 3633, 'kung': 2498, 'jumped': 2430, 'misery': 2865, 'relatively': 3600, 'vhs': 4725, 'rental': 3627, 'fool': 1779, 'valley': 4707, 'ball': 388, 'condition': 937, 'martial': 2747, 'arts': 310, 'li': 2587, 'cop': 991, 'riveting': 3708, 'anne': 246, 'jamie': 2379, 'overly': 3155, 'dollars': 1315, 'killers': 2471, 'ruthless': 3764, 'innovative': 2295, 'hello': 2078, 'iron': 2354, 'composed': 926, 'spends': 4107, 'narration': 2965, 'spike': 4111, 'shoots': 3944, 'chain': 741, 'root': 3737, 'explaining': 1588, 'irritating': 2359, 'via': 4726, 'liberal': 2588, 'franchise': 1817, 'molly': 2884, 'petty': 3249, 'da': 1094, 'internet': 2327, 'fallen': 1638, 'angels': 234, 'stephen': 4176, 'technically': 4382, 'catching': 716, 'cameo': 657, 'charge': 761, 'gradually': 1952, 'closely': 855, 'resembles': 3646, 'intentions': 2321, 'everyones': 1543, 'legal': 2563, 'ironically': 2356, 'abandoned': 62, 'morris': 2908, 'aged': 149, 'amateurish': 207, 'wounded': 4961, 'suddenly': 4273, 'pack': 3165, 'buried': 624, 'backdrop': 379, 'cinderella': 815, 'kapoor': 2443, 'omen': 3104, 'kirk': 2482, 'nyc': 3065, 'bible': 477, 'holy': 2140, 'comedies': 889, 'degree': 1164, 'giallo': 1904, 'heres': 2087, 'knife': 2487, 'cops': 993, 'retarded': 3663, 'plastic': 3294, 'raise': 3507, 'chorus': 803, 'musicals': 2948, 'recognized': 3570, 'directs': 1267, 'transition': 4561, 'flawless': 1751, 'chick': 786, 'insult': 2309, 'pacino': 3164, 'ambitious': 211, 'expert': 1585, 'horrific': 2166, 'ellen': 1446, 'remind': 3618, 'poetic': 3313, 'newly': 3004, 'italy': 2368, 'friendship': 1838, 'ballet': 389, 'central': 735, 'promises': 3432, 'rescue': 3643, 'bay': 416, 'luckily': 2682, 'revelation': 3674, 'jealous': 2388, 'wolf': 4920, 'mountains': 2918, 'senseless': 3878, 'investigate': 2342, 'secondly': 3847, 'taught': 4370, 'tied': 4489, 'pitch': 3279, 'logical': 2639, 'bore': 540, '1968': 16, 'dave': 1123, 'mouse': 2919, 'disease': 1285, 'deaths': 1142, 'understated': 4646, 'throwing': 4480, 'desperation': 1210, 'pursuit': 3476, 'johnny': 2410, 'execution': 1566, 'sincere': 3991, 'semi': 3874, 'twilight': 4614, 'gothic': 1945, 'leo': 2571, 'distinct': 1296, 'ironic': 2355, 'understanding': 4645, 'cynical': 1093, 'imagery': 2234, 'beating': 425, 'confidence': 938, 'hotel': 2175, 'bedroom': 437, 'conversations': 981, 'causes': 725, 'link': 2613, 'spain': 4091, 'existed': 1570, 'proof': 3434, 'stated': 4161, 'sarah': 3785, 'michelle': 2830, 'worthless': 4954, 'fell': 1690, 'commented': 900, 'conflict': 939, 'ken': 2453, 'chase': 769, 'packed': 3166, 'importance': 2246, 'hearted': 2065, 'featured': 1679, 'johnson': 2411, 'satire': 3788, 'spirited': 4114, 'uncomfortable': 4637, 'wave': 4818, 'widely': 4881, 'moore': 2901, 'attempting': 342, 'defense': 1159, 'overrated': 3156, 'approach': 282, 'magazine': 2701, 'wanna': 4786, 'river': 3707, 'serve': 3893, 'wishing': 4907, 'respected': 3653, 'page': 3167, 'teaching': 4377, 'pregnant': 3369, 'hunters': 2200, 'hunt': 2198, 'trilogy': 4586, 'universe': 4666, 'arms': 294, 'performer': 3231, 'gangster': 1868, 'prequel': 3372, 'india': 2273, 'currently': 1085, 'myers': 2952, 'psychiatrist': 3455, 'emotionally': 1460, 'illogical': 2231, 'souls': 4080, 'aimed': 162, 'incident': 2260, 'guilt': 1994, 'bell': 458, 'identity': 2217, 'amongst': 218, 'womans': 4922, 'curtis': 1087, 'trial': 4580, 'arrived': 301, 'wreck': 4965, 'fears': 1677, 'witnesses': 4916, 'rings': 3699, 'agreed': 156, 'midnight': 2834, 'frustration': 1843, 'nail': 2957, 'rick': 3689, 'dated': 1119, 'brooks': 596, 'wilson': 4891, 'perry': 3237, 'tricks': 4583, 'lloyd': 2630, 'sixties': 4011, 'basement': 405, 'switch': 4339, 'calm': 655, 'waters': 4817, 'bank': 394, 'passes': 3203, 'yesterday': 4983, 'stayed': 4167, 'embarrassed': 1453, 'stood': 4199, 'gross': 1978, 'showcase': 3954, 'mgm': 2828, 'ocean': 3079, 'san': 3780, 'tommy': 4516, 'spirits': 4115, 'nearby': 2980, 'abuse': 74, 'connect': 944, 'established': 1524, 'del': 1165, 'mid': 2832, 'relies': 3606, 'catherine': 719, 'superman': 4301, 'issues': 2365, 'ensues': 1493, 'blows': 517, 'designs': 1204, 'aforementioned': 139, 'floating': 1758, 'dating': 1120, 'susan': 4326, 'picking': 3267, 'unreal': 4676, 'deliver': 1169, 'denzel': 1181, 'inappropriate': 2259, 'financial': 1725, 'undoubtedly': 4648, 'unbelievably': 4635, 'artificial': 306, 'introduces': 2338, 'mafia': 2700, 'eerie': 1427, 'reached': 3537, '2007': 37, 'levels': 2585, 'tongue': 4518, 'cheek': 779, '24': 39, 'spy': 4135, 'exploration': 1593, 'cup': 1080, 'sneak': 4043, 'exposed': 1598, 'questionable': 3488, 'soccer': 4048, 'familys': 1646, 'punishment': 3467, 'iran': 2350, 'proud': 3444, 'cinemas': 817, 'gender': 1878, 'cultural': 1078, 'bare': 398, 'bettie': 473, 'turner': 4607, 'icon': 2211, 'kudos': 2497, 'fortunately': 1805, 'rain': 3506, 'sequels': 3886, 'debut': 1143, 'energy': 1478, 'alex': 179, 'shelley': 3928, 'shirley': 3936, 'temple': 4398, 'piano': 3264, 'bela': 450, 'lugosi': 2686, 'letter': 2581, 'psychic': 3456, 'hundred': 2195, 'staff': 4138, 'cards': 683, 'critic': 1061, '1973': 19, 'morality': 2903, 'spin': 4112, 'earned': 1401, 'colonel': 876, 'babe': 375, 'cary': 706, 'veteran': 4724, 'credibility': 1047, 'generous': 1886, 'segment': 3867, 'noted': 3045, 'widmark': 4882, 'sell': 3871, 'bridge': 578, 'explore': 1594, 'winds': 4895, 'pretending': 3382, 'feed': 1683, 'captures': 678, 'holmes': 2139, 'seventies': 3904, 'handled': 2019, 'che': 773, 'cuba': 1075, 'suffice': 4279, 'blew': 505, 'education': 1424, 'sandler': 3781, 'horrendous': 2162, 'mighty': 2836, 'daddy': 1096, 'folk': 1770, 'aids': 161, 'homosexual': 2145, 'adequate': 120, 'concern': 931, 'exercise': 1568, 'returned': 3666, 'lifestyle': 2593, 'ah': 158, 'native': 2972, 'staged': 4140, 'lying': 2690, 'bright': 581, 'nations': 2971, 'traveling': 4568, 'paying': 3217, 'clumsy': 866, 'produce': 3413, 'modesty': 2883, 'travesty': 4570, 'introduce': 2336, 'property': 3438, 'distribution': 1298, 'awake': 365, 'hopper': 2161, 'occasional': 3074, 'react': 3540, 'davies': 1125, 'south': 4087, 'nightmare': 3014, 'wide': 4880, 'overwhelming': 3157, 'conversation': 980, 'colorful': 878, 'frequent': 1831, 'frustrated': 1842, 'pearl': 3220, 'cringe': 1059, 'kidding': 2465, 'joined': 2413, 'renting': 3629, 'advise': 134, 'hates': 2048, 'robot': 3717, 'closed': 854, 'push': 3477, 'lights': 2597, 'disc': 1278, '18': 10, 'bat': 410, 'superhero': 4299, 'futuristic': 1857, 'reunion': 3669, 'robots': 3718, 'spots': 4132, 'leg': 2562, 'stunt': 4245, 'worn': 4948, 'accepted': 82, 'indie': 2276, 'aka': 168, 'clint': 850, 'dub': 1378, 'mayor': 2777, 'widow': 4883, 'stevens': 4183, 'opened': 3113, 'blind': 506, 'identify': 2216, 'cable': 644, 'promising': 3433, 'unfolds': 4651, 'blah': 496, 'superbly': 4297, 'pays': 3218, 'apes': 267, 'ape': 266, 'theyve': 4446, 'stretched': 4222, 'weakest': 4825, 'overdone': 3152, 'displays': 1293, 'adapted': 114, 'stealing': 4171, 'motivations': 2915, 'benefit': 465, 'niro': 3019, 'wholly': 4874, 'rival': 3706, 'faults': 1669, 'blues': 519, 'learning': 2552, 'murderous': 2942, 'latest': 2526, 'philip': 3252, 'remarkably': 3614, 'gifted': 1907, 'projects': 3428, 'unsettling': 4679, 'concerning': 933, 'pointed': 3317, 'loaded': 2632, 'unlikely': 4671, 'judy': 2426, 'web': 4833, 'glenn': 1918, 'corpse': 999, 'substance': 4258, 'elm': 1447, 'installment': 2303, 'lucky': 2683, 'grandmother': 1955, 'kurt': 2499, 'multi': 2935, 'props': 3439, 'gratuitous': 1961, 'seagal': 3839, 'producing': 3417, 'believing': 457, 'allowing': 191, 'farce': 1654, 'virtually': 4751, 'gag': 1861, 'spoiled': 4122, 'tiresome': 4502, 'eastwood': 1409, 'chaos': 755, 'notion': 3050, 'convincingly': 986, 'khan': 2459, 'creators': 1044, 'bargain': 400, '1999': 27, 'burning': 627, 'mario': 2738, 'santa': 3783, 'masterful': 2758, 'vegas': 4717, 'staying': 4168, 'photos': 3261, 'spoken': 4126, 'linda': 2609, 'swear': 4334, 'unoriginal': 4673, 'sum': 4289, 'storytelling': 4209, 'mere': 2814, 'moronic': 2907, 'inspiration': 2300, 'mall': 2720, 'cleverly': 842, 'photo': 3257, 'beer': 439, 'built': 618, 'macy': 2695, 'landscapes': 2514, 'proceedings': 3410, 'rambo': 3511, 'access': 83, 'comics': 895, 'unbearable': 4633, 'daring': 1114, 'conventional': 979, 'evident': 1547, 'official': 3094, 'magical': 2704, 'los': 2653, 'angeles': 233, 'edgar': 1417, 'motivation': 2914, 'ethan': 1528, 'endings': 1472, 'hills': 2109, 'australia': 356, 'complicated': 925, 'seeking': 3859, 'minimal': 2855, 'subtitles': 4259, 'silence': 3974, 'shining': 3933, 'amitabh': 216, 'beaten': 424, 'mummy': 2937, 'drew': 1360, 'ritter': 3705, 'hilariously': 2107, 'airplane': 166, 'contain': 962, 'bumbling': 622, 'kenneth': 2455, 'mars': 2746, 'arrested': 298, 'nightmares': 3015, 'solo': 4058, 'helicopter': 2076, 'balls': 390, 'lengthy': 2570, 'offering': 3089, 'response': 3654, 'shake': 3914, 'cliche': 843, 'incompetent': 2266, 'chaplin': 756, 'writes': 4970, 'mate': 2765, 'marty': 2749, 'attracted': 349, 'delightful': 1168, 'styles': 4250, 'technique': 4383, 'chair': 742, 'building': 615, 'tonight': 4519, 'suspects': 4328, 'depicting': 1184, 'concerns': 934, 'melodrama': 2797, 'stupidity': 4248, 'elvis': 1451, '1940s': 13, 'table': 4346, 'seeks': 3860, 'hardcore': 2034, 'rushed': 3760, 'capital': 673, 'thru': 4483, 'simmons': 3981, 'mysteries': 2954, 'kennedy': 2454, 'remarks': 3615, 'harvey': 2042, 'drawing': 1350, 'ruins': 3752, 'terry': 4415, 'emma': 1457, 'monkeys': 2891, 'disneys': 1290, 'lion': 2614, 'primarily': 3393, 'explored': 1595, 'yelling': 4980, 'forgot': 1796, 'jeremy': 2394, 'importantly': 2248, 'heights': 2073, 'worried': 4949, 'shine': 3931, 'strangers': 4214, 'deaf': 1134, 'drives': 1367, 'seed': 3856, 'armed': 293, 'akshay': 169, 'thugs': 4484, 'urban': 4688, 'norman': 3035, 'thoughtful': 4463, 'carter': 703, 'florida': 1761, 'fonda': 1777, 'francisco': 1819, 'dragon': 1344, 'maggie': 2702, 'affect': 136, 'choreographed': 801, 'stunts': 4246, 'arguably': 289, 'bud': 607, 'bull': 619, 'raising': 3509, 'safe': 3771, 'circle': 821, 'global': 1920, 'surrounded': 4318, 'reads': 3545, 'ho': 2127, 'aging': 153, 'rachel': 3500, 'wes': 4851, 'craven': 1034, 'scarecrow': 3804, 'fx': 1858, 'mildred': 2841, 'eager': 1396, 'sink': 3999, 'kay': 2447, 'vulnerable': 4768, 'equivalent': 1512, 'lust': 2689, 'crack': 1027, 'mediocre': 2791, 'greatly': 1967, 'ideal': 2214, 'reflection': 3585, 'stereotypical': 4180, 'divorce': 1301, 'wannabe': 4787, 'defined': 1160, 'grasp': 1960, 'lewis': 2586, 'terrorist': 4413, 'climactic': 848, 'ian': 2209, 'assault': 324, 'bold': 528, 'ruined': 3751, 'prostitute': 3440, 'unpleasant': 4674, 'enterprise': 1495, 'unknown': 4668, 'wouldve': 4959, 'rocket': 3721, 'returning': 3667, 'cried': 1054, 'panic': 3181, 'facing': 1620, 'bonus': 534, 'disjointed': 1287, 'develop': 1222, 'jaw': 2384, 'hamlet': 2013, 'branagh': 564, 'karen': 2444, 'psychotic': 3459, 'patients': 3212, 'worry': 4950, 'resemblance': 3645, 'emphasis': 1463, 'fish': 1738, 'raymond': 3534, 'gangsters': 1869, 'flaw': 1749, 'passionate': 3206, 'farm': 1656, 'previously': 3388, 'basketball': 409, 'racism': 3502, 'bacall': 377, 'dorothy': 1330, 'dealing': 1136, 'photographed': 3258, 'muslim': 2949, 'africa': 141, 'abusive': 75, 'charlotte': 766, 'victor': 4731, 'cg': 739, 'minds': 2852, 'developing': 1224, 'flashbacks': 1747, 'bollywood': 530, 'facts': 1624, 'instinct': 2308, 'carl': 692, 'resident': 3647, 'reactions': 3542, 'brenda': 575, 'hugh': 2186, 'monk': 2889, '70': 55, 'inane': 2258, 'blade': 495, 'columbo': 881, 'dracula': 1341, 'furthermore': 1854, 'complexity': 924, 'orange': 3125, 'rotten': 3740, 'brooklyn': 595, 'painting': 3175, 'argue': 290, 'streisand': 4218, 'clothing': 861, 'nicholson': 3011, 'uwe': 4703, 'nostalgia': 3038, 'tiger': 4491, 'suspicious': 4332, 'eccentric': 1414, 'inferior': 2285, 'neo': 2998, 'multiple': 2936, 'et': 1526, 'atlantis': 332, 'popcorn': 3331, 'laura': 2536, 'freeman': 1829, 'beneath': 464, 'drops': 1372, 'delight': 1167, 'tunes': 4603, 'ramones': 3512, 'bands': 392, 'perform': 3227, 'performed': 3230, 'genres': 1889, 'domino': 1319, 'report': 3635, 'females': 1694, 'marketing': 2741, 'depicts': 1186, 'taxi': 4371, 'imitation': 2241, 'truck': 4595, 'yellow': 4981, 'stan': 4142, 'spider': 4109, '3rd': 47, 'sends': 3876, 'frankenstein': 1822, 'communist': 907, 'empire': 1464, 'mitchell': 2875, 'laughably': 2531, 'angela': 232, 'landscape': 2513, 'cake': 648, 'earl': 1398, 'ninja': 3018, 'tends': 4402, 'possibilities': 3348, 'thankfully': 4422, 'tender': 4401, 'hollywoods': 2138, 'crocodile': 1065, 'coach': 868, 'pokemon': 3320, 'commercials': 903, 'failure': 1629, 'techniques': 4384, 'grim': 1974, 'sue': 4274, 'paltrow': 3178, 'plant': 3293, 'scooby': 3820, 'kitchen': 2485, 'walls': 4783, 'online': 3109, 'steel': 4173, 'ruby': 3749, 'desired': 1206, 'cure': 1081, 'cagney': 646, 'ruth': 3763, 'creativity': 1042, 'roots': 3738, 'valuable': 4708, 'cave': 727, 'slick': 4026, 'shirt': 3937, 'elizabeth': 1445, 'prince': 3396, 'astaire': 330, 'sally': 3776, 'bourne': 554, 'von': 4765, 'miles': 2843, 'ourselves': 3140, 'wondered': 4927, 'slight': 4027, 'authority': 360, 'rocky': 3723, 'friday': 1834, 'duty': 1390, 'rank': 3518, 'shortly': 3947, 'construction': 960, 'cameos': 658, 'eaten': 1412, 'demands': 1175, 'league': 2549, 'clues': 865, 'mentions': 2813, 'careful': 688, 'areas': 287, 'deceased': 1146, 'descent': 1193, 'hong': 2149, 'pushed': 3478, 'feminist': 1695, 'beatty': 427, 'formulaic': 1803, 'realizing': 3555, 'willis': 4890, 'consistent': 953, 'showdown': 3955, 'rooms': 3736, 'ensemble': 1492, 'toys': 4543, 'hart': 2041, 'greedy': 1969, 'copies': 992, 'popularity': 3334, 'spielberg': 4110, 'dalton': 1098, 'cities': 823, 'pamela': 3179, 'gandhi': 1866, 'brosnan': 597, 'lane': 2515, 'matthew': 2772, 'pants': 3182, 'struggles': 4235, 'judging': 2425, 'lol': 2640, 'francis': 1818, 'diane': 1238, 'clown': 862, 'lou': 2663, 'rolled': 3729, 'newspaper': 3006, 'rage': 3505, 'carpenter': 694, 'monkey': 2890, 'kubrick': 2496, 'simpson': 3987, 'fay': 1674, 'wacky': 4769, 'chapter': 757, 'displayed': 1292, 'distracting': 1297, 'aunt': 355, 'paulie': 3215, 'butler': 637, 'saga': 3773, 'attend': 344, 'hyde': 2206, 'guest': 1992, 'wendy': 4846, 'ham': 2011, 'ginger': 1908, 'singers': 3994, 'justin': 2440, 'mickey': 2831, 'alert': 178, 'destiny': 1212, '35': 45, 'bullet': 620, 'preview': 3386, 'waves': 4819, 'boxing': 556, 'simplicity': 3984, 'lumet': 2688, 'excessive': 1560, 'severe': 3906, 'robinson': 3716, 'montana': 2895, 'lucy': 2684, 'sin': 3988, 'bo': 521, 'greed': 1968, 'prom': 3429, 'fisher': 1739, 'hippie': 2115, 'intimate': 2331, 'elvira': 1450, 'outrageous': 3145, 'airport': 167, 'der': 1191, 'homer': 2144, 'tag': 4348, 'melting': 2799, 'championship': 745, 'dolph': 1317, 'unwatchable': 4682, 'threw': 4470, 'miike': 2837, 'doo': 1325, 'freak': 1824, 'eyre': 1614, 'rochester': 3719, 'square': 4136, 'ya': 4976, 'gerard': 1895, 'blob': 507, 'cube': 1076, 'andrews': 229, 'edie': 1419, 'rabbit': 3498, 'boll': 529, 'wizard': 4919}\n"
     ]
    }
   ],
   "source": [
    "print(str(vocabulary))"
   ]
  },
  {
   "cell_type": "markdown",
   "metadata": {},
   "source": [
    "Once you have added the endpoint name to the Lambda function, click on **Save**. Your Lambda function is now up and running. Next we need to create a way for our web app to execute the Lambda function."
   ]
  },
  {
   "cell_type": "markdown",
   "metadata": {},
   "source": [
    "### Setting up API Gateway\n",
    "\n",
    "Now that our Lambda function is set up, it is time to create a new API using API Gateway that will trigger the Lambda function we have just created.\n",
    "\n",
    "Using AWS Console, navigate to **Amazon API Gateway** and then click on **Get started**.\n",
    "\n",
    "On the next page, make sure that **New API** is selected and give the new api a name, for example, `sentiment_analysis_web_app`. Then, click on **Create API**.\n",
    "\n",
    "Now we have created an API, however it doesn't currently do anything. What we want it to do is to trigger the Lambda function that we created earlier.\n",
    "\n",
    "Select the **Actions** dropdown menu and click **Create Method**. A new blank method will be created, select its dropdown menu and select **POST**, then click on the check mark beside it.\n",
    "\n",
    "For the integration point, make sure that **Lambda Function** is selected and click on the **Use Lambda Proxy integration**. This option makes sure that the data that is sent to the API is then sent directly to the Lambda function with no processing. It also means that the return value must be a proper response object as it will also not be processed by API Gateway.\n",
    "\n",
    "Type the name of the Lambda function you created earlier into the **Lambda Function** text entry box and then click on **Save**. Click on **OK** in the pop-up box that then appears, giving permission to API Gateway to invoke the Lambda function you created.\n",
    "\n",
    "The last step in creating the API Gateway is to select the **Actions** dropdown and click on **Deploy API**. You will need to create a new Deployment stage and name it anything you like, for example `prod`.\n",
    "\n",
    "You have now successfully set up a public API to access your SageMaker model. Make sure to copy or write down the URL provided to invoke your newly created public API as this will be needed in the next step. This URL can be found at the top of the page, highlighted in blue next to the text **Invoke URL**."
   ]
  },
  {
   "cell_type": "markdown",
   "metadata": {},
   "source": [
    "## Step 7: Deploying our web app\n",
    "\n",
    "Now that we have a publicly available API, we can start using it in a web app. For our purposes, we have provided a simple static html file which can make use of the public api you created earlier.\n",
    "\n",
    "In the `website` folder there should be a file called `index.html`. Download the file to your computer and open that file up in a text editor of your choice. There should be a line which contains **\\*\\*REPLACE WITH PUBLIC API URL\\*\\***. Replace this string with the url that you wrote down in the last step and then save the file.\n",
    "\n",
    "Now, if you open `index.html` on your local computer, your browser will behave as a local web server and you can use the provided site to interact with your SageMaker model.\n",
    "\n",
    "If you'd like to go further, you can host this html file anywhere you'd like, for example using github or hosting a static site on Amazon's S3. Once you have done this you can share the link with anyone you'd like and have them play with it too!\n",
    "\n",
    "> **Important Note** In order for the web app to communicate with the SageMaker endpoint, the endpoint has to actually be deployed and running. This means that you are paying for it. Make sure that the endpoint is running when you want to use the web app but that you shut it down when you don't need it, otherwise you will end up with a surprisingly large AWS bill."
   ]
  },
  {
   "cell_type": "markdown",
   "metadata": {},
   "source": [
    "### Delete the endpoint\n",
    "\n",
    "Remember to always shut down your endpoint if you are no longer using it. You are charged for the length of time that the endpoint is running so if you forget and leave it on you could end up with an unexpectedly large bill."
   ]
  },
  {
   "cell_type": "code",
   "execution_count": 51,
   "metadata": {},
   "outputs": [],
   "source": [
    "xgb_predictor.delete_endpoint()"
   ]
  },
  {
   "cell_type": "markdown",
   "metadata": {},
   "source": [
    "## Optional: Clean up\n",
    "\n",
    "The default notebook instance on SageMaker doesn't have a lot of excess disk space available. As you continue to complete and execute notebooks you will eventually fill up this disk space, leading to errors which can be difficult to diagnose. Once you are completely finished using a notebook it is a good idea to remove the files that you created along the way. Of course, you can do this from the terminal or from the notebook hub if you would like. The cell below contains some commands to clean up the created files from within the notebook."
   ]
  },
  {
   "cell_type": "code",
   "execution_count": 52,
   "metadata": {},
   "outputs": [],
   "source": [
    "# First we will remove all of the files contained in the data_dir directory\n",
    "!rm $data_dir/*\n",
    "\n",
    "# And then we delete the directory itself\n",
    "!rmdir $data_dir\n",
    "\n",
    "# Similarly we remove the files in the cache_dir directory and the directory itself\n",
    "!rm $cache_dir/*\n",
    "!rmdir $cache_dir"
   ]
  },
  {
   "cell_type": "code",
   "execution_count": null,
   "metadata": {},
   "outputs": [],
   "source": []
  }
 ],
 "metadata": {
  "kernelspec": {
   "display_name": "conda_python3",
   "language": "python",
   "name": "conda_python3"
  },
  "language_info": {
   "codemirror_mode": {
    "name": "ipython",
    "version": 3
   },
   "file_extension": ".py",
   "mimetype": "text/x-python",
   "name": "python",
   "nbconvert_exporter": "python",
   "pygments_lexer": "ipython3",
   "version": "3.6.10"
  }
 },
 "nbformat": 4,
 "nbformat_minor": 2
}
