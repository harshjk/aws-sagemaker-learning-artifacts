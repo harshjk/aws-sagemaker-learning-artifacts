{
 "cells": [
  {
   "cell_type": "markdown",
   "metadata": {},
   "source": [
    "# Sentiment Analysis\n",
    "\n",
    "## Using XGBoost in SageMaker\n",
    "\n",
    "_Deep Learning Nanodegree Program | Deployment_\n",
    "\n",
    "---\n",
    "\n",
    "In this example of using Amazon's SageMaker service we will construct a random tree model to predict the sentiment of a movie review. You may have seen a version of this example in a pervious lesson although it would have been done using the sklearn package. Instead, we will be using the XGBoost package as it is provided to us by Amazon.\n",
    "\n",
    "## Instructions\n",
    "\n",
    "Some template code has already been provided for you, and you will need to implement additional functionality to successfully complete this notebook. You will not need to modify the included code beyond what is requested. Sections that begin with '**TODO**' in the header indicate that you need to complete or implement some portion within them. Instructions will be provided for each section and the specifics of the implementation are marked in the code block with a `# TODO: ...` comment. Please be sure to read the instructions carefully!\n",
    "\n",
    "In addition to implementing code, there will be questions for you to answer which relate to the task and your implementation. Each section where you will answer a question is preceded by a '**Question:**' header. Carefully read each question and provide your answer below the '**Answer:**' header by editing the Markdown cell.\n",
    "\n",
    "> **Note**: Code and Markdown cells can be executed using the **Shift+Enter** keyboard shortcut. In addition, a cell can be edited by typically clicking it (double-click for Markdown cells) or by pressing **Enter** while it is highlighted."
   ]
  },
  {
   "cell_type": "markdown",
   "metadata": {},
   "source": [
    "## Step 1: Downloading the data\n",
    "\n",
    "The dataset we are going to use is very popular among researchers in Natural Language Processing, usually referred to as the [IMDb dataset](http://ai.stanford.edu/~amaas/data/sentiment/). It consists of movie reviews from the website [imdb.com](http://www.imdb.com/), each labeled as either '**pos**itive', if the reviewer enjoyed the film, or '**neg**ative' otherwise.\n",
    "\n",
    "> Maas, Andrew L., et al. [Learning Word Vectors for Sentiment Analysis](http://ai.stanford.edu/~amaas/data/sentiment/). In _Proceedings of the 49th Annual Meeting of the Association for Computational Linguistics: Human Language Technologies_. Association for Computational Linguistics, 2011.\n",
    "\n",
    "We begin by using some Jupyter Notebook magic to download and extract the dataset."
   ]
  },
  {
   "cell_type": "code",
   "execution_count": 1,
   "metadata": {},
   "outputs": [
    {
     "name": "stdout",
     "output_type": "stream",
     "text": [
      "mkdir: cannot create directory ‘../data’: File exists\n",
      "--2020-07-17 22:11:04--  http://ai.stanford.edu/~amaas/data/sentiment/aclImdb_v1.tar.gz\n",
      "Resolving ai.stanford.edu (ai.stanford.edu)... 171.64.68.10\n",
      "Connecting to ai.stanford.edu (ai.stanford.edu)|171.64.68.10|:80... connected.\n",
      "HTTP request sent, awaiting response... 200 OK\n",
      "Length: 84125825 (80M) [application/x-gzip]\n",
      "Saving to: ‘../data/aclImdb_v1.tar.gz’\n",
      "\n",
      "../data/aclImdb_v1. 100%[===================>]  80.23M  22.2MB/s    in 4.2s    \n",
      "\n",
      "2020-07-17 22:11:08 (19.0 MB/s) - ‘../data/aclImdb_v1.tar.gz’ saved [84125825/84125825]\n",
      "\n"
     ]
    }
   ],
   "source": [
    "%mkdir ../data\n",
    "!wget -O ../data/aclImdb_v1.tar.gz http://ai.stanford.edu/~amaas/data/sentiment/aclImdb_v1.tar.gz\n",
    "!tar -zxf ../data/aclImdb_v1.tar.gz -C ../data"
   ]
  },
  {
   "cell_type": "markdown",
   "metadata": {},
   "source": [
    "## Step 2: Preparing the data\n",
    "\n",
    "The data we have downloaded is split into various files, each of which contains a single review. It will be much easier going forward if we combine these individual files into two large files, one for training and one for testing."
   ]
  },
  {
   "cell_type": "code",
   "execution_count": 2,
   "metadata": {},
   "outputs": [],
   "source": [
    "import os\n",
    "import glob\n",
    "\n",
    "def read_imdb_data(data_dir='../data/aclImdb'):\n",
    "    data = {}\n",
    "    labels = {}\n",
    "    \n",
    "    for data_type in ['train', 'test']:\n",
    "        data[data_type] = {}\n",
    "        labels[data_type] = {}\n",
    "        \n",
    "        for sentiment in ['pos', 'neg']:\n",
    "            data[data_type][sentiment] = []\n",
    "            labels[data_type][sentiment] = []\n",
    "            \n",
    "            path = os.path.join(data_dir, data_type, sentiment, '*.txt')\n",
    "            files = glob.glob(path)\n",
    "            \n",
    "            for f in files:\n",
    "                with open(f) as review:\n",
    "                    data[data_type][sentiment].append(review.read())\n",
    "                    # Here we represent a positive review by '1' and a negative review by '0'\n",
    "                    labels[data_type][sentiment].append(1 if sentiment == 'pos' else 0)\n",
    "                    \n",
    "            assert len(data[data_type][sentiment]) == len(labels[data_type][sentiment]), \\\n",
    "                    \"{}/{} data size does not match labels size\".format(data_type, sentiment)\n",
    "                \n",
    "    return data, labels"
   ]
  },
  {
   "cell_type": "code",
   "execution_count": 3,
   "metadata": {},
   "outputs": [
    {
     "name": "stdout",
     "output_type": "stream",
     "text": [
      "IMDB reviews: train = 12500 pos / 12500 neg, test = 12500 pos / 12500 neg\n"
     ]
    }
   ],
   "source": [
    "data, labels = read_imdb_data()\n",
    "print(\"IMDB reviews: train = {} pos / {} neg, test = {} pos / {} neg\".format(\n",
    "            len(data['train']['pos']), len(data['train']['neg']),\n",
    "            len(data['test']['pos']), len(data['test']['neg'])))"
   ]
  },
  {
   "cell_type": "code",
   "execution_count": 4,
   "metadata": {},
   "outputs": [],
   "source": [
    "from sklearn.utils import shuffle\n",
    "\n",
    "def prepare_imdb_data(data, labels):\n",
    "    \"\"\"Prepare training and test sets from IMDb movie reviews.\"\"\"\n",
    "    \n",
    "    #Combine positive and negative reviews and labels\n",
    "    data_train = data['train']['pos'] + data['train']['neg']\n",
    "    data_test = data['test']['pos'] + data['test']['neg']\n",
    "    labels_train = labels['train']['pos'] + labels['train']['neg']\n",
    "    labels_test = labels['test']['pos'] + labels['test']['neg']\n",
    "    \n",
    "    #Shuffle reviews and corresponding labels within training and test sets\n",
    "    data_train, labels_train = shuffle(data_train, labels_train)\n",
    "    data_test, labels_test = shuffle(data_test, labels_test)\n",
    "    \n",
    "    # Return a unified training data, test data, training labels, test labets\n",
    "    return data_train, data_test, labels_train, labels_test"
   ]
  },
  {
   "cell_type": "code",
   "execution_count": 5,
   "metadata": {},
   "outputs": [
    {
     "name": "stdout",
     "output_type": "stream",
     "text": [
      "IMDb reviews (combined): train = 25000, test = 25000\n"
     ]
    }
   ],
   "source": [
    "train_X, test_X, train_y, test_y = prepare_imdb_data(data, labels)\n",
    "print(\"IMDb reviews (combined): train = {}, test = {}\".format(len(train_X), len(test_X)))"
   ]
  },
  {
   "cell_type": "code",
   "execution_count": 6,
   "metadata": {},
   "outputs": [
    {
     "data": {
      "text/plain": [
       "\"That's right, you heard me. I am a huge fan of James Patterson. I own 10 of his books, and I have read the entire series about Lindsey Boxer. In my opinion, the screenwriter should be shot. <br /><br />What right did any film maker have to slaughter a terrific work of fiction and make it into a mockery of the mystery genre? If I ever thought that Harry Potter was butchered, then Michael O'Hara has proved me wrong. <br /><br />I can only pray that the next screenwriter who tackles this fabulous book will do it a great deal more justice. To Michael O'Hara and Russell Mulcahy: don't quit your day job.\""
      ]
     },
     "execution_count": 6,
     "metadata": {},
     "output_type": "execute_result"
    }
   ],
   "source": [
    "train_X[100]"
   ]
  },
  {
   "cell_type": "markdown",
   "metadata": {},
   "source": [
    "## Step 3: Processing the data\n",
    "\n",
    "Now that we have our training and testing datasets merged and ready to use, we need to start processing the raw data into something that will be useable by our machine learning algorithm. To begin with, we remove any html formatting that may appear in the reviews and perform some standard natural language processing in order to homogenize the data."
   ]
  },
  {
   "cell_type": "code",
   "execution_count": 7,
   "metadata": {},
   "outputs": [
    {
     "name": "stderr",
     "output_type": "stream",
     "text": [
      "[nltk_data] Downloading package stopwords to\n",
      "[nltk_data]     /home/ec2-user/nltk_data...\n",
      "[nltk_data]   Unzipping corpora/stopwords.zip.\n"
     ]
    }
   ],
   "source": [
    "import nltk\n",
    "nltk.download(\"stopwords\")\n",
    "from nltk.corpus import stopwords\n",
    "from nltk.stem.porter import *\n",
    "stemmer = PorterStemmer()"
   ]
  },
  {
   "cell_type": "code",
   "execution_count": 8,
   "metadata": {},
   "outputs": [],
   "source": [
    "import re\n",
    "from bs4 import BeautifulSoup\n",
    "\n",
    "def review_to_words(review):\n",
    "    text = BeautifulSoup(review, \"html.parser\").get_text() # Remove HTML tags\n",
    "    text = re.sub(r\"[^a-zA-Z0-9]\", \" \", text.lower()) # Convert to lower case\n",
    "    words = text.split() # Split string into words\n",
    "    words = [w for w in words if w not in stopwords.words(\"english\")] # Remove stopwords\n",
    "    words = [PorterStemmer().stem(w) for w in words] # stem\n",
    "    \n",
    "    return words"
   ]
  },
  {
   "cell_type": "code",
   "execution_count": 9,
   "metadata": {},
   "outputs": [],
   "source": [
    "import pickle\n",
    "\n",
    "cache_dir = os.path.join(\"../cache\", \"sentiment_analysis\")  # where to store cache files\n",
    "os.makedirs(cache_dir, exist_ok=True)  # ensure cache directory exists\n",
    "\n",
    "def preprocess_data(data_train, data_test, labels_train, labels_test,\n",
    "                    cache_dir=cache_dir, cache_file=\"preprocessed_data.pkl\"):\n",
    "    \"\"\"Convert each review to words; read from cache if available.\"\"\"\n",
    "\n",
    "    # If cache_file is not None, try to read from it first\n",
    "    cache_data = None\n",
    "    if cache_file is not None:\n",
    "        try:\n",
    "            with open(os.path.join(cache_dir, cache_file), \"rb\") as f:\n",
    "                cache_data = pickle.load(f)\n",
    "            print(\"Read preprocessed data from cache file:\", cache_file)\n",
    "        except:\n",
    "            pass  # unable to read from cache, but that's okay\n",
    "    \n",
    "    # If cache is missing, then do the heavy lifting\n",
    "    if cache_data is None:\n",
    "        # Preprocess training and test data to obtain words for each review\n",
    "        #words_train = list(map(review_to_words, data_train))\n",
    "        #words_test = list(map(review_to_words, data_test))\n",
    "        words_train = [review_to_words(review) for review in data_train]\n",
    "        words_test = [review_to_words(review) for review in data_test]\n",
    "        \n",
    "        # Write to cache file for future runs\n",
    "        if cache_file is not None:\n",
    "            cache_data = dict(words_train=words_train, words_test=words_test,\n",
    "                              labels_train=labels_train, labels_test=labels_test)\n",
    "            with open(os.path.join(cache_dir, cache_file), \"wb\") as f:\n",
    "                pickle.dump(cache_data, f)\n",
    "            print(\"Wrote preprocessed data to cache file:\", cache_file)\n",
    "    else:\n",
    "        # Unpack data loaded from cache file\n",
    "        words_train, words_test, labels_train, labels_test = (cache_data['words_train'],\n",
    "                cache_data['words_test'], cache_data['labels_train'], cache_data['labels_test'])\n",
    "    \n",
    "    return words_train, words_test, labels_train, labels_test"
   ]
  },
  {
   "cell_type": "code",
   "execution_count": 10,
   "metadata": {},
   "outputs": [
    {
     "name": "stdout",
     "output_type": "stream",
     "text": [
      "Wrote preprocessed data to cache file: preprocessed_data.pkl\n"
     ]
    }
   ],
   "source": [
    "# Preprocess data\n",
    "train_X, test_X, train_y, test_y = preprocess_data(train_X, test_X, train_y, test_y)"
   ]
  },
  {
   "cell_type": "markdown",
   "metadata": {},
   "source": [
    "### Extract Bag-of-Words features\n",
    "\n",
    "For the model we will be implementing, rather than using the reviews directly, we are going to transform each review into a Bag-of-Words feature representation. Keep in mind that 'in the wild' we will only have access to the training set so our transformer can only use the training set to construct a representation."
   ]
  },
  {
   "cell_type": "code",
   "execution_count": 11,
   "metadata": {},
   "outputs": [
    {
     "name": "stderr",
     "output_type": "stream",
     "text": [
      "/home/ec2-user/anaconda3/envs/python3/lib/python3.6/site-packages/sklearn/externals/joblib/__init__.py:15: FutureWarning: sklearn.externals.joblib is deprecated in 0.21 and will be removed in 0.23. Please import this functionality directly from joblib, which can be installed with: pip install joblib. If this warning is raised when loading pickled models, you may need to re-serialize those models with scikit-learn 0.21+.\n",
      "  warnings.warn(msg, category=FutureWarning)\n"
     ]
    }
   ],
   "source": [
    "import numpy as np\n",
    "from sklearn.feature_extraction.text import CountVectorizer\n",
    "from sklearn.externals import joblib\n",
    "# joblib is an enhanced version of pickle that is more efficient for storing NumPy arrays\n",
    "\n",
    "def extract_BoW_features(words_train, words_test, vocabulary_size=5000,\n",
    "                         cache_dir=cache_dir, cache_file=\"bow_features-0.pkl\"):\n",
    "    \"\"\"Extract Bag-of-Words for a given set of documents, already preprocessed into words.\"\"\"\n",
    "    \n",
    "    # If cache_file is not None, try to read from it first\n",
    "    cache_data = None\n",
    "    if cache_file is not None:\n",
    "        try:\n",
    "            with open(os.path.join(cache_dir, cache_file), \"rb\") as f:\n",
    "                cache_data = joblib.load(f)\n",
    "            print(\"Read features from cache file:\", cache_file)\n",
    "        except:\n",
    "            pass  # unable to read from cache, but that's okay\n",
    "    \n",
    "    # If cache is missing, then do the heavy lifting\n",
    "    if cache_data is None:\n",
    "        # Fit a vectorizer to training documents and use it to transform them\n",
    "        # NOTE: Training documents have already been preprocessed and tokenized into words;\n",
    "        #       pass in dummy functions to skip those steps, e.g. preprocessor=lambda x: x\n",
    "        vectorizer = CountVectorizer(max_features=vocabulary_size,\n",
    "                preprocessor=lambda x: x, tokenizer=lambda x: x)  # already preprocessed\n",
    "        features_train = vectorizer.fit_transform(words_train).toarray()\n",
    "\n",
    "        # Apply the same vectorizer to transform the test documents (ignore unknown words)\n",
    "        features_test = vectorizer.transform(words_test).toarray()\n",
    "        \n",
    "        # NOTE: Remember to convert the features using .toarray() for a compact representation\n",
    "        \n",
    "        # Write to cache file for future runs (store vocabulary as well)\n",
    "        if cache_file is not None:\n",
    "            vocabulary = vectorizer.vocabulary_\n",
    "            cache_data = dict(features_train=features_train, features_test=features_test,\n",
    "                             vocabulary=vocabulary)\n",
    "            with open(os.path.join(cache_dir, cache_file), \"wb\") as f:\n",
    "                joblib.dump(cache_data, f)\n",
    "            print(\"Wrote features to cache file:\", cache_file)\n",
    "    else:\n",
    "        # Unpack data loaded from cache file\n",
    "        features_train, features_test, vocabulary = (cache_data['features_train'],\n",
    "                cache_data['features_test'], cache_data['vocabulary'])\n",
    "    \n",
    "    # Return both the extracted features as well as the vocabulary\n",
    "    return features_train, features_test, vocabulary"
   ]
  },
  {
   "cell_type": "code",
   "execution_count": 12,
   "metadata": {},
   "outputs": [
    {
     "name": "stdout",
     "output_type": "stream",
     "text": [
      "Wrote features to cache file: bow_features-0.pkl\n"
     ]
    }
   ],
   "source": [
    "# Extract Bag of Words features for both training and test datasets\n",
    "train_X, test_X, vocabulary = extract_BoW_features(train_X, test_X)"
   ]
  },
  {
   "cell_type": "markdown",
   "metadata": {},
   "source": [
    "## Step 4: Classification using XGBoost\n",
    "\n",
    "Now that we have created the feature representation of our training (and testing) data, it is time to start setting up and using the XGBoost classifier provided by SageMaker.\n",
    "\n",
    "### Writing the dataset\n",
    "\n",
    "The XGBoost classifier that we will be using requires the dataset to be written to a file and stored using Amazon S3. To do this, we will start by splitting the training dataset into two parts, the data we will train the model with and a validation set. Then, we will write those datasets to a file and upload the files to S3. In addition, we will write the test set input to a file and upload the file to S3. This is so that we can use SageMakers Batch Transform functionality to test our model once we've fit it."
   ]
  },
  {
   "cell_type": "code",
   "execution_count": 13,
   "metadata": {},
   "outputs": [],
   "source": [
    "import pandas as pd\n",
    "\n",
    "val_X = pd.DataFrame(train_X[:10000])\n",
    "train_X = pd.DataFrame(train_X[10000:])\n",
    "\n",
    "val_y = pd.DataFrame(train_y[:10000])\n",
    "train_y = pd.DataFrame(train_y[10000:])\n",
    "\n",
    "test_y = pd.DataFrame(test_y)\n",
    "test_X = pd.DataFrame(test_X)"
   ]
  },
  {
   "cell_type": "markdown",
   "metadata": {},
   "source": [
    "The documentation for the XGBoost algorithm in SageMaker requires that the saved datasets should contain no headers or index and that for the training and validation data, the label should occur first for each sample.\n",
    "\n",
    "For more information about this and other algorithms, the SageMaker developer documentation can be found on __[Amazon's website.](https://docs.aws.amazon.com/sagemaker/latest/dg/)__"
   ]
  },
  {
   "cell_type": "code",
   "execution_count": 14,
   "metadata": {},
   "outputs": [],
   "source": [
    "# First we make sure that the local directory in which we'd like to store the training and validation csv files exists.\n",
    "data_dir = '../data/xgboost'\n",
    "if not os.path.exists(data_dir):\n",
    "    os.makedirs(data_dir)"
   ]
  },
  {
   "cell_type": "code",
   "execution_count": 39,
   "metadata": {},
   "outputs": [
    {
     "ename": "ValueError",
     "evalue": "All objects passed were None",
     "output_type": "error",
     "traceback": [
      "\u001b[0;31m---------------------------------------------------------------------------\u001b[0m",
      "\u001b[0;31mValueError\u001b[0m                                Traceback (most recent call last)",
      "\u001b[0;32m<ipython-input-39-6e18b80d65a3>\u001b[0m in \u001b[0;36m<module>\u001b[0;34m\u001b[0m\n\u001b[1;32m      4\u001b[0m \u001b[0mpd\u001b[0m\u001b[0;34m.\u001b[0m\u001b[0mDataFrame\u001b[0m\u001b[0;34m(\u001b[0m\u001b[0mtest_X\u001b[0m\u001b[0;34m)\u001b[0m\u001b[0;34m.\u001b[0m\u001b[0mto_csv\u001b[0m\u001b[0;34m(\u001b[0m\u001b[0mos\u001b[0m\u001b[0;34m.\u001b[0m\u001b[0mpath\u001b[0m\u001b[0;34m.\u001b[0m\u001b[0mjoin\u001b[0m\u001b[0;34m(\u001b[0m\u001b[0mdata_dir\u001b[0m\u001b[0;34m,\u001b[0m \u001b[0;34m'test.csv'\u001b[0m\u001b[0;34m)\u001b[0m\u001b[0;34m,\u001b[0m \u001b[0mheader\u001b[0m\u001b[0;34m=\u001b[0m\u001b[0;32mFalse\u001b[0m\u001b[0;34m,\u001b[0m \u001b[0mindex\u001b[0m\u001b[0;34m=\u001b[0m\u001b[0;32mFalse\u001b[0m\u001b[0;34m)\u001b[0m\u001b[0;34m\u001b[0m\u001b[0;34m\u001b[0m\u001b[0m\n\u001b[1;32m      5\u001b[0m \u001b[0;31m#pd.concat([test_y, test_X], axis=1).to_csv(os.path.join(data_dir, 'test.csv'), header=False, index=False)\u001b[0m\u001b[0;34m\u001b[0m\u001b[0;34m\u001b[0m\u001b[0;34m\u001b[0m\u001b[0m\n\u001b[0;32m----> 6\u001b[0;31m \u001b[0mpd\u001b[0m\u001b[0;34m.\u001b[0m\u001b[0mconcat\u001b[0m\u001b[0;34m(\u001b[0m\u001b[0;34m[\u001b[0m\u001b[0mval_y\u001b[0m\u001b[0;34m,\u001b[0m \u001b[0mval_X\u001b[0m\u001b[0;34m]\u001b[0m\u001b[0;34m,\u001b[0m \u001b[0maxis\u001b[0m\u001b[0;34m=\u001b[0m\u001b[0;36m1\u001b[0m\u001b[0;34m)\u001b[0m\u001b[0;34m.\u001b[0m\u001b[0mto_csv\u001b[0m\u001b[0;34m(\u001b[0m\u001b[0mos\u001b[0m\u001b[0;34m.\u001b[0m\u001b[0mpath\u001b[0m\u001b[0;34m.\u001b[0m\u001b[0mjoin\u001b[0m\u001b[0;34m(\u001b[0m\u001b[0mdata_dir\u001b[0m\u001b[0;34m,\u001b[0m \u001b[0;34m'validation.csv'\u001b[0m\u001b[0;34m)\u001b[0m\u001b[0;34m,\u001b[0m \u001b[0mheader\u001b[0m\u001b[0;34m=\u001b[0m\u001b[0;32mFalse\u001b[0m\u001b[0;34m,\u001b[0m \u001b[0mindex\u001b[0m\u001b[0;34m=\u001b[0m\u001b[0;32mFalse\u001b[0m\u001b[0;34m)\u001b[0m\u001b[0;34m\u001b[0m\u001b[0;34m\u001b[0m\u001b[0m\n\u001b[0m\u001b[1;32m      7\u001b[0m \u001b[0mpd\u001b[0m\u001b[0;34m.\u001b[0m\u001b[0mconcat\u001b[0m\u001b[0;34m(\u001b[0m\u001b[0;34m[\u001b[0m\u001b[0mtrain_y\u001b[0m\u001b[0;34m,\u001b[0m \u001b[0mtrain_X\u001b[0m\u001b[0;34m]\u001b[0m\u001b[0;34m,\u001b[0m \u001b[0maxis\u001b[0m\u001b[0;34m=\u001b[0m\u001b[0;36m1\u001b[0m\u001b[0;34m)\u001b[0m\u001b[0;34m.\u001b[0m\u001b[0mto_csv\u001b[0m\u001b[0;34m(\u001b[0m\u001b[0mos\u001b[0m\u001b[0;34m.\u001b[0m\u001b[0mpath\u001b[0m\u001b[0;34m.\u001b[0m\u001b[0mjoin\u001b[0m\u001b[0;34m(\u001b[0m\u001b[0mdata_dir\u001b[0m\u001b[0;34m,\u001b[0m \u001b[0;34m'train.csv'\u001b[0m\u001b[0;34m)\u001b[0m\u001b[0;34m,\u001b[0m \u001b[0mheader\u001b[0m\u001b[0;34m=\u001b[0m\u001b[0;32mFalse\u001b[0m\u001b[0;34m,\u001b[0m \u001b[0mindex\u001b[0m\u001b[0;34m=\u001b[0m\u001b[0;32mFalse\u001b[0m\u001b[0;34m)\u001b[0m\u001b[0;34m\u001b[0m\u001b[0;34m\u001b[0m\u001b[0m\n",
      "\u001b[0;32m~/anaconda3/envs/python3/lib/python3.6/site-packages/pandas/core/reshape/concat.py\u001b[0m in \u001b[0;36mconcat\u001b[0;34m(objs, axis, join, ignore_index, keys, levels, names, verify_integrity, sort, copy)\u001b[0m\n\u001b[1;32m    279\u001b[0m         \u001b[0mverify_integrity\u001b[0m\u001b[0;34m=\u001b[0m\u001b[0mverify_integrity\u001b[0m\u001b[0;34m,\u001b[0m\u001b[0;34m\u001b[0m\u001b[0;34m\u001b[0m\u001b[0m\n\u001b[1;32m    280\u001b[0m         \u001b[0mcopy\u001b[0m\u001b[0;34m=\u001b[0m\u001b[0mcopy\u001b[0m\u001b[0;34m,\u001b[0m\u001b[0;34m\u001b[0m\u001b[0;34m\u001b[0m\u001b[0m\n\u001b[0;32m--> 281\u001b[0;31m         \u001b[0msort\u001b[0m\u001b[0;34m=\u001b[0m\u001b[0msort\u001b[0m\u001b[0;34m,\u001b[0m\u001b[0;34m\u001b[0m\u001b[0;34m\u001b[0m\u001b[0m\n\u001b[0m\u001b[1;32m    282\u001b[0m     )\n\u001b[1;32m    283\u001b[0m \u001b[0;34m\u001b[0m\u001b[0m\n",
      "\u001b[0;32m~/anaconda3/envs/python3/lib/python3.6/site-packages/pandas/core/reshape/concat.py\u001b[0m in \u001b[0;36m__init__\u001b[0;34m(self, objs, axis, join, keys, levels, names, ignore_index, verify_integrity, copy, sort)\u001b[0m\n\u001b[1;32m    345\u001b[0m \u001b[0;34m\u001b[0m\u001b[0m\n\u001b[1;32m    346\u001b[0m         \u001b[0;32mif\u001b[0m \u001b[0mlen\u001b[0m\u001b[0;34m(\u001b[0m\u001b[0mobjs\u001b[0m\u001b[0;34m)\u001b[0m \u001b[0;34m==\u001b[0m \u001b[0;36m0\u001b[0m\u001b[0;34m:\u001b[0m\u001b[0;34m\u001b[0m\u001b[0;34m\u001b[0m\u001b[0m\n\u001b[0;32m--> 347\u001b[0;31m             \u001b[0;32mraise\u001b[0m \u001b[0mValueError\u001b[0m\u001b[0;34m(\u001b[0m\u001b[0;34m\"All objects passed were None\"\u001b[0m\u001b[0;34m)\u001b[0m\u001b[0;34m\u001b[0m\u001b[0;34m\u001b[0m\u001b[0m\n\u001b[0m\u001b[1;32m    348\u001b[0m \u001b[0;34m\u001b[0m\u001b[0m\n\u001b[1;32m    349\u001b[0m         \u001b[0;31m# consolidate data & figure out what our result ndim is going to be\u001b[0m\u001b[0;34m\u001b[0m\u001b[0;34m\u001b[0m\u001b[0;34m\u001b[0m\u001b[0m\n",
      "\u001b[0;31mValueError\u001b[0m: All objects passed were None"
     ]
    }
   ],
   "source": [
    "# First, save the test data to test.csv in the data_dir directory. Note that we do not save the associated ground truth\n",
    "# labels, instead we will use them later to compare with our model output.\n",
    "\n",
    "\n",
    "pd.concat([test_y, test_X], axis=1).to_csv(os.path.join(data_dir, 'test.csv'), header=False, index=False)\n",
    "pd.concat([val_y, val_X], axis=1).to_csv(os.path.join(data_dir, 'validation.csv'), header=False, index=False)\n",
    "pd.concat([train_y, train_X], axis=1).to_csv(os.path.join(data_dir, 'train.csv'), header=False, index=False)"
   ]
  },
  {
   "cell_type": "code",
   "execution_count": 16,
   "metadata": {},
   "outputs": [],
   "source": [
    "# To save a bit of memory we can set text_X, train_X, val_X, train_y and val_y to None.\n",
    "\n",
    "train_X = val_X = train_y = val_y = None"
   ]
  },
  {
   "cell_type": "markdown",
   "metadata": {},
   "source": [
    "### Uploading Training / Validation files to S3\n",
    "\n",
    "Amazon's S3 service allows us to store files that can be access by both the built-in training models such as the XGBoost model we will be using as well as custom models such as the one we will see a little later.\n",
    "\n",
    "For this, and most other tasks we will be doing using SageMaker, there are two methods we could use. The first is to use the low level functionality of SageMaker which requires knowing each of the objects involved in the SageMaker environment. The second is to use the high level functionality in which certain choices have been made on the user's behalf. The low level approach benefits from allowing the user a great deal of flexibility while the high level approach makes development much quicker. For our purposes we will opt to use the high level approach although using the low-level approach is certainly an option.\n",
    "\n",
    "Recall the method `upload_data()` which is a member of object representing our current SageMaker session. What this method does is upload the data to the default bucket (which is created if it does not exist) into the path described by the key_prefix variable. To see this for yourself, once you have uploaded the data files, go to the S3 console and look to see where the files have been uploaded.\n",
    "\n",
    "For additional resources, see the __[SageMaker API documentation](http://sagemaker.readthedocs.io/en/latest/)__ and in addition the __[SageMaker Developer Guide.](https://docs.aws.amazon.com/sagemaker/latest/dg/)__"
   ]
  },
  {
   "cell_type": "code",
   "execution_count": null,
   "metadata": {},
   "outputs": [],
   "source": [
    "import sagemaker\n",
    "\n",
    "session = sagemaker.Session() # Store the current SageMaker session\n",
    "\n",
    "# S3 prefix (which folder will we use)\n",
    "prefix = 'sentiment-xgboost'\n",
    "\n",
    "test_location = session.upload_data(os.path.join(data_dir, 'test.csv'), key_prefix=prefix)\n",
    "val_location = session.upload_data(os.path.join(data_dir, 'validation.csv'), key_prefix=prefix)\n",
    "train_location = session.upload_data(os.path.join(data_dir, 'train.csv'), key_prefix=prefix)"
   ]
  },
  {
   "cell_type": "markdown",
   "metadata": {},
   "source": [
    "### (TODO) Creating a hypertuned XGBoost model\n",
    "\n",
    "Now that the data has been uploaded it is time to create the XGBoost model. As in the Boston Housing notebook, the first step is to create an estimator object which will be used as the *base* of your hyperparameter tuning job."
   ]
  },
  {
   "cell_type": "code",
   "execution_count": 18,
   "metadata": {},
   "outputs": [],
   "source": [
    "from sagemaker import get_execution_role\n",
    "\n",
    "# Our current execution role is require when creating the model as the training\n",
    "# and inference code will need to access the model artifacts.\n",
    "role = get_execution_role()"
   ]
  },
  {
   "cell_type": "code",
   "execution_count": 19,
   "metadata": {},
   "outputs": [
    {
     "name": "stderr",
     "output_type": "stream",
     "text": [
      "'get_image_uri' method will be deprecated in favor of 'ImageURIProvider' class in SageMaker Python SDK v2.\n",
      "WARNING:root:There is a more up to date SageMaker XGBoost image. To use the newer image, please set 'repo_version'='1.0-1'. For example:\n",
      "\tget_image_uri(region, 'xgboost', '1.0-1').\n"
     ]
    }
   ],
   "source": [
    "# We need to retrieve the location of the container which is provided by Amazon for using XGBoost.\n",
    "# As a matter of convenience, the training and inference code both use the same container.\n",
    "from sagemaker.amazon.amazon_estimator import get_image_uri\n",
    "\n",
    "container = get_image_uri(session.boto_region_name, 'xgboost')"
   ]
  },
  {
   "cell_type": "code",
   "execution_count": 20,
   "metadata": {},
   "outputs": [
    {
     "name": "stderr",
     "output_type": "stream",
     "text": [
      "WARNING:root:Parameter image_name will be renamed to image_uri in SageMaker Python SDK v2.\n"
     ]
    }
   ],
   "source": [
    "# TODO: Create a SageMaker estimator using the container location determined in the previous cell.\n",
    "#       It is recommended that you use a single training instance of type ml.m4.xlarge. It is also\n",
    "#       recommended that you use 's3://{}/{}/output'.format(session.default_bucket(), prefix) as the\n",
    "#       output path.\n",
    "\n",
    "xgb = sagemaker.estimator.Estimator(container,\n",
    "                                   role,\n",
    "                                   train_instance_count=1,\n",
    "                                   train_instance_type='ml.m4.xlarge',\n",
    "                                   output_path='s3://{}/{}/output'.format(session.default_bucket(), prefix),\n",
    "                                   sagemaker_session=session)\n",
    "\n",
    "# TODO: Set the XGBoost hyperparameters in the xgb object. Don't forget that in this case we have a binary\n",
    "#       label so we should be using the 'binary:logistic' objective.\n",
    "xgb.set_hyperparameters(max_depth=5,\n",
    "                        eta=0.2,\n",
    "                        gamma=4,\n",
    "                        min_child_weight=6,\n",
    "                        subsample=0.8,\n",
    "                        silent=0,\n",
    "                        objective='binary:logistic',\n",
    "                        early_stopping_rounds=10,\n",
    "                        num_round=200)\n"
   ]
  },
  {
   "cell_type": "markdown",
   "metadata": {},
   "source": [
    "### (TODO) Create the hyperparameter tuner\n",
    "\n",
    "Now that the base estimator has been set up we need to construct a hyperparameter tuner object which we will use to request SageMaker construct a hyperparameter tuning job.\n",
    "\n",
    "**Note:** Training a single sentiment analysis XGBoost model takes longer than training a Boston Housing XGBoost model so if you don't want the hyperparameter tuning job to take too long, make sure to not set the total number of models (jobs) too high."
   ]
  },
  {
   "cell_type": "code",
   "execution_count": 30,
   "metadata": {},
   "outputs": [],
   "source": [
    "# First, make sure to import the relevant objects used to construct the tuner\n",
    "from sagemaker.tuner import IntegerParameter, ContinuousParameter, HyperparameterTuner\n",
    "\n",
    "# TODO: Create the hyperparameter tuner object\n",
    "\n",
    "xgb_hyperparameter_tuner = HyperparameterTuner(estimator = xgb, # The estimator object to use as the basis for the training jobs.\n",
    "                                               objective_metric_name = 'validation:rmse', # The metric used to compare trained models.\n",
    "                                               objective_type = 'Minimize', # Whether we wish to minimize or maximize the metric.\n",
    "                                               max_jobs = 6, # The total number of models to train\n",
    "                                               max_parallel_jobs = 3, # The number of models to train in parallel\n",
    "                                               hyperparameter_ranges = {\n",
    "                                                    'max_depth': IntegerParameter(3, 12),\n",
    "                                                    'eta'      : ContinuousParameter(0.05, 0.5),\n",
    "                                                    'min_child_weight': IntegerParameter(2, 8),\n",
    "                                                    'subsample': ContinuousParameter(0.5, 0.9),\n",
    "                                                    'gamma': ContinuousParameter(0, 10),\n",
    "                                                    'num_round': IntegerParameter(150, 1000)\n",
    "                                               })"
   ]
  },
  {
   "cell_type": "markdown",
   "metadata": {},
   "source": [
    "### Fit the hyperparameter tuner\n",
    "\n",
    "Now that the hyperparameter tuner object has been constructed, it is time to fit the various models and find the best performing model."
   ]
  },
  {
   "cell_type": "code",
   "execution_count": 31,
   "metadata": {},
   "outputs": [
    {
     "name": "stderr",
     "output_type": "stream",
     "text": [
      "WARNING:sagemaker:'s3_input' class will be renamed to 'TrainingInput' in SageMaker Python SDK v2.\n",
      "WARNING:sagemaker:'s3_input' class will be renamed to 'TrainingInput' in SageMaker Python SDK v2.\n"
     ]
    }
   ],
   "source": [
    "s3_input_train = sagemaker.s3_input(s3_data=train_location, content_type='csv')\n",
    "s3_input_validation = sagemaker.s3_input(s3_data=val_location, content_type='csv')"
   ]
  },
  {
   "cell_type": "code",
   "execution_count": 32,
   "metadata": {},
   "outputs": [],
   "source": [
    "xgb_hyperparameter_tuner.fit({'train': s3_input_train, 'validation': s3_input_validation})"
   ]
  },
  {
   "cell_type": "markdown",
   "metadata": {},
   "source": [
    "Remember that the tuning job is constructed and run in the background so if we want to see the progress of our training job we need to call the `wait()` method."
   ]
  },
  {
   "cell_type": "code",
   "execution_count": 33,
   "metadata": {},
   "outputs": [
    {
     "name": "stdout",
     "output_type": "stream",
     "text": [
      ".................................................................................................................................................................................................................................................................................................!\n"
     ]
    }
   ],
   "source": [
    "xgb_hyperparameter_tuner.wait()"
   ]
  },
  {
   "cell_type": "markdown",
   "metadata": {},
   "source": [
    "### (TODO) Testing the model\n",
    "\n",
    "Now that we've run our hyperparameter tuning job, it's time to see how well the best performing model actually performs. To do this we will use SageMaker's Batch Transform functionality. Batch Transform is a convenient way to perform inference on a large dataset in a way that is not realtime. That is, we don't necessarily need to use our model's results immediately and instead we can peform inference on a large number of samples. An example of this in industry might be peforming an end of month report. This method of inference can also be useful to us as it means to can perform inference on our entire test set. \n",
    "\n",
    "Remember that in order to create a transformer object to perform the batch transform job, we need a trained estimator object. We can do that using the `attach()` method, creating an estimator object which is attached to the best trained job."
   ]
  },
  {
   "cell_type": "code",
   "execution_count": 34,
   "metadata": {},
   "outputs": [
    {
     "name": "stderr",
     "output_type": "stream",
     "text": [
      "WARNING:root:Parameter image_name will be renamed to image_uri in SageMaker Python SDK v2.\n"
     ]
    },
    {
     "name": "stdout",
     "output_type": "stream",
     "text": [
      "2020-07-17 23:36:01 Starting - Preparing the instances for training\n",
      "2020-07-17 23:36:01 Downloading - Downloading input data\n",
      "2020-07-17 23:36:01 Training - Training image download completed. Training in progress.\n",
      "2020-07-17 23:36:01 Uploading - Uploading generated training model\n",
      "2020-07-17 23:36:01 Completed - Training job completed\u001b[34mArguments: train\u001b[0m\n",
      "\u001b[34m[2020-07-17:23:23:40:INFO] Running standalone xgboost training.\u001b[0m\n",
      "\u001b[34m[2020-07-17:23:23:40:INFO] Setting up HPO optimized metric to be : rmse\u001b[0m\n",
      "\u001b[34m[2020-07-17:23:23:40:INFO] File size need to be processed in the node: 238.47mb. Available memory size in the node: 8481.52mb\u001b[0m\n",
      "\u001b[34m[2020-07-17:23:23:40:INFO] Determined delimiter of CSV input is ','\u001b[0m\n",
      "\u001b[34m[23:23:40] S3DistributionType set as FullyReplicated\u001b[0m\n",
      "\u001b[34m[23:23:43] 15000x5000 matrix with 75000000 entries loaded from /opt/ml/input/data/train?format=csv&label_column=0&delimiter=,\u001b[0m\n",
      "\u001b[34m[2020-07-17:23:23:43:INFO] Determined delimiter of CSV input is ','\u001b[0m\n",
      "\u001b[34m[23:23:43] S3DistributionType set as FullyReplicated\u001b[0m\n",
      "\u001b[34m[23:23:44] 10000x5000 matrix with 50000000 entries loaded from /opt/ml/input/data/validation?format=csv&label_column=0&delimiter=,\u001b[0m\n",
      "\u001b[34m[23:23:49] src/tree/updater_prune.cc:74: tree pruning end, 1 roots, 132 extra nodes, 56 pruned nodes, max_depth=12\u001b[0m\n",
      "\u001b[34m[0]#011train-rmse:0.474649#011validation-rmse:0.477063\u001b[0m\n",
      "\u001b[34mMultiple eval metrics have been passed: 'validation-rmse' will be used for early stopping.\n",
      "\u001b[0m\n",
      "\u001b[34mWill train until validation-rmse hasn't improved in 10 rounds.\u001b[0m\n",
      "\u001b[34m[23:23:53] src/tree/updater_prune.cc:74: tree pruning end, 1 roots, 142 extra nodes, 52 pruned nodes, max_depth=12\u001b[0m\n",
      "\u001b[34m[1]#011train-rmse:0.454764#011validation-rmse:0.460009\u001b[0m\n",
      "\u001b[34m[23:23:57] src/tree/updater_prune.cc:74: tree pruning end, 1 roots, 136 extra nodes, 40 pruned nodes, max_depth=12\u001b[0m\n",
      "\u001b[34m[2]#011train-rmse:0.439472#011validation-rmse:0.44727\u001b[0m\n",
      "\u001b[34m[23:24:00] src/tree/updater_prune.cc:74: tree pruning end, 1 roots, 120 extra nodes, 62 pruned nodes, max_depth=12\u001b[0m\n",
      "\u001b[34m[3]#011train-rmse:0.426998#011validation-rmse:0.436899\u001b[0m\n",
      "\u001b[34m[23:24:04] src/tree/updater_prune.cc:74: tree pruning end, 1 roots, 128 extra nodes, 78 pruned nodes, max_depth=12\u001b[0m\n",
      "\u001b[34m[4]#011train-rmse:0.416493#011validation-rmse:0.428621\u001b[0m\n",
      "\u001b[34m[23:24:07] src/tree/updater_prune.cc:74: tree pruning end, 1 roots, 104 extra nodes, 34 pruned nodes, max_depth=12\u001b[0m\n",
      "\u001b[34m[5]#011train-rmse:0.407328#011validation-rmse:0.420906\u001b[0m\n",
      "\u001b[34m[23:24:11] src/tree/updater_prune.cc:74: tree pruning end, 1 roots, 124 extra nodes, 50 pruned nodes, max_depth=12\u001b[0m\n",
      "\u001b[34m[6]#011train-rmse:0.399568#011validation-rmse:0.415245\u001b[0m\n",
      "\u001b[34m[23:24:14] src/tree/updater_prune.cc:74: tree pruning end, 1 roots, 96 extra nodes, 54 pruned nodes, max_depth=12\u001b[0m\n",
      "\u001b[34m[7]#011train-rmse:0.392496#011validation-rmse:0.409669\u001b[0m\n",
      "\u001b[34m[23:24:18] src/tree/updater_prune.cc:74: tree pruning end, 1 roots, 114 extra nodes, 54 pruned nodes, max_depth=12\u001b[0m\n",
      "\u001b[34m[8]#011train-rmse:0.385916#011validation-rmse:0.405107\u001b[0m\n",
      "\u001b[34m[23:24:21] src/tree/updater_prune.cc:74: tree pruning end, 1 roots, 106 extra nodes, 68 pruned nodes, max_depth=12\u001b[0m\n",
      "\u001b[34m[9]#011train-rmse:0.38009#011validation-rmse:0.400684\u001b[0m\n",
      "\u001b[34m[23:24:25] src/tree/updater_prune.cc:74: tree pruning end, 1 roots, 80 extra nodes, 46 pruned nodes, max_depth=12\u001b[0m\n",
      "\u001b[34m[10]#011train-rmse:0.374839#011validation-rmse:0.396342\u001b[0m\n",
      "\u001b[34m[23:24:28] src/tree/updater_prune.cc:74: tree pruning end, 1 roots, 74 extra nodes, 46 pruned nodes, max_depth=12\u001b[0m\n",
      "\u001b[34m[11]#011train-rmse:0.369627#011validation-rmse:0.391873\u001b[0m\n",
      "\u001b[34m[23:24:31] src/tree/updater_prune.cc:74: tree pruning end, 1 roots, 80 extra nodes, 62 pruned nodes, max_depth=12\u001b[0m\n",
      "\u001b[34m[12]#011train-rmse:0.364796#011validation-rmse:0.387949\u001b[0m\n",
      "\u001b[34m[23:24:35] src/tree/updater_prune.cc:74: tree pruning end, 1 roots, 104 extra nodes, 74 pruned nodes, max_depth=12\u001b[0m\n",
      "\u001b[34m[13]#011train-rmse:0.360178#011validation-rmse:0.384475\u001b[0m\n",
      "\u001b[34m[23:24:38] src/tree/updater_prune.cc:74: tree pruning end, 1 roots, 78 extra nodes, 32 pruned nodes, max_depth=12\u001b[0m\n",
      "\u001b[34m[14]#011train-rmse:0.356241#011validation-rmse:0.381968\u001b[0m\n",
      "\u001b[34m[23:24:42] src/tree/updater_prune.cc:74: tree pruning end, 1 roots, 58 extra nodes, 58 pruned nodes, max_depth=12\u001b[0m\n",
      "\u001b[34m[15]#011train-rmse:0.352786#011validation-rmse:0.379263\u001b[0m\n",
      "\u001b[34m[23:24:45] src/tree/updater_prune.cc:74: tree pruning end, 1 roots, 126 extra nodes, 64 pruned nodes, max_depth=12\u001b[0m\n",
      "\u001b[34m[16]#011train-rmse:0.348447#011validation-rmse:0.376748\u001b[0m\n",
      "\u001b[34m[23:24:49] src/tree/updater_prune.cc:74: tree pruning end, 1 roots, 80 extra nodes, 42 pruned nodes, max_depth=12\u001b[0m\n",
      "\u001b[34m[17]#011train-rmse:0.344941#011validation-rmse:0.37469\u001b[0m\n",
      "\u001b[34m[23:24:52] src/tree/updater_prune.cc:74: tree pruning end, 1 roots, 76 extra nodes, 54 pruned nodes, max_depth=12\u001b[0m\n",
      "\u001b[34m[18]#011train-rmse:0.341851#011validation-rmse:0.372474\u001b[0m\n",
      "\u001b[34m[23:24:56] src/tree/updater_prune.cc:74: tree pruning end, 1 roots, 62 extra nodes, 60 pruned nodes, max_depth=12\u001b[0m\n",
      "\u001b[34m[19]#011train-rmse:0.339169#011validation-rmse:0.370392\u001b[0m\n",
      "\u001b[34m[23:24:59] src/tree/updater_prune.cc:74: tree pruning end, 1 roots, 82 extra nodes, 48 pruned nodes, max_depth=12\u001b[0m\n",
      "\u001b[34m[20]#011train-rmse:0.335783#011validation-rmse:0.367995\u001b[0m\n",
      "\u001b[34m[23:25:03] src/tree/updater_prune.cc:74: tree pruning end, 1 roots, 98 extra nodes, 42 pruned nodes, max_depth=12\u001b[0m\n",
      "\u001b[34m[21]#011train-rmse:0.33246#011validation-rmse:0.365985\u001b[0m\n",
      "\u001b[34m[23:25:06] src/tree/updater_prune.cc:74: tree pruning end, 1 roots, 98 extra nodes, 56 pruned nodes, max_depth=12\u001b[0m\n",
      "\u001b[34m[22]#011train-rmse:0.329494#011validation-rmse:0.364413\u001b[0m\n",
      "\u001b[34m[23:25:10] src/tree/updater_prune.cc:74: tree pruning end, 1 roots, 76 extra nodes, 54 pruned nodes, max_depth=12\u001b[0m\n",
      "\u001b[34m[23]#011train-rmse:0.326682#011validation-rmse:0.362286\u001b[0m\n",
      "\u001b[34m[23:25:13] src/tree/updater_prune.cc:74: tree pruning end, 1 roots, 54 extra nodes, 36 pruned nodes, max_depth=12\u001b[0m\n",
      "\u001b[34m[24]#011train-rmse:0.324276#011validation-rmse:0.360759\u001b[0m\n",
      "\u001b[34m[23:25:16] src/tree/updater_prune.cc:74: tree pruning end, 1 roots, 52 extra nodes, 46 pruned nodes, max_depth=12\u001b[0m\n",
      "\u001b[34m[25]#011train-rmse:0.322199#011validation-rmse:0.359156\u001b[0m\n",
      "\u001b[34m[23:25:20] src/tree/updater_prune.cc:74: tree pruning end, 1 roots, 44 extra nodes, 50 pruned nodes, max_depth=12\u001b[0m\n",
      "\u001b[34m[26]#011train-rmse:0.320266#011validation-rmse:0.357963\u001b[0m\n",
      "\u001b[34m[23:25:23] src/tree/updater_prune.cc:74: tree pruning end, 1 roots, 118 extra nodes, 78 pruned nodes, max_depth=12\u001b[0m\n",
      "\u001b[34m[27]#011train-rmse:0.317274#011validation-rmse:0.356872\u001b[0m\n",
      "\u001b[34m[23:25:27] src/tree/updater_prune.cc:74: tree pruning end, 1 roots, 62 extra nodes, 38 pruned nodes, max_depth=12\u001b[0m\n",
      "\u001b[34m[28]#011train-rmse:0.315141#011validation-rmse:0.355597\u001b[0m\n",
      "\u001b[34m[23:25:30] src/tree/updater_prune.cc:74: tree pruning end, 1 roots, 52 extra nodes, 42 pruned nodes, max_depth=12\u001b[0m\n",
      "\u001b[34m[29]#011train-rmse:0.313209#011validation-rmse:0.354546\u001b[0m\n",
      "\u001b[34m[23:25:34] src/tree/updater_prune.cc:74: tree pruning end, 1 roots, 92 extra nodes, 54 pruned nodes, max_depth=12\u001b[0m\n",
      "\u001b[34m[30]#011train-rmse:0.31068#011validation-rmse:0.353254\u001b[0m\n",
      "\u001b[34m[23:25:37] src/tree/updater_prune.cc:74: tree pruning end, 1 roots, 96 extra nodes, 64 pruned nodes, max_depth=12\u001b[0m\n",
      "\u001b[34m[31]#011train-rmse:0.308197#011validation-rmse:0.352144\u001b[0m\n",
      "\u001b[34m[23:25:41] src/tree/updater_prune.cc:74: tree pruning end, 1 roots, 50 extra nodes, 46 pruned nodes, max_depth=12\u001b[0m\n",
      "\u001b[34m[32]#011train-rmse:0.306623#011validation-rmse:0.350892\u001b[0m\n",
      "\u001b[34m[23:25:44] src/tree/updater_prune.cc:74: tree pruning end, 1 roots, 28 extra nodes, 32 pruned nodes, max_depth=12\u001b[0m\n",
      "\u001b[34m[33]#011train-rmse:0.305243#011validation-rmse:0.349875\u001b[0m\n",
      "\u001b[34m[23:25:48] src/tree/updater_prune.cc:74: tree pruning end, 1 roots, 54 extra nodes, 52 pruned nodes, max_depth=12\u001b[0m\n",
      "\u001b[34m[34]#011train-rmse:0.303579#011validation-rmse:0.34909\u001b[0m\n",
      "\u001b[34m[23:25:51] src/tree/updater_prune.cc:74: tree pruning end, 1 roots, 42 extra nodes, 36 pruned nodes, max_depth=12\u001b[0m\n",
      "\u001b[34m[35]#011train-rmse:0.302055#011validation-rmse:0.347804\u001b[0m\n",
      "\u001b[34m[23:25:54] src/tree/updater_prune.cc:74: tree pruning end, 1 roots, 46 extra nodes, 38 pruned nodes, max_depth=12\u001b[0m\n",
      "\u001b[34m[36]#011train-rmse:0.300385#011validation-rmse:0.346632\u001b[0m\n",
      "\u001b[34m[23:25:58] src/tree/updater_prune.cc:74: tree pruning end, 1 roots, 66 extra nodes, 46 pruned nodes, max_depth=12\u001b[0m\n",
      "\u001b[34m[37]#011train-rmse:0.298606#011validation-rmse:0.345474\u001b[0m\n",
      "\u001b[34m[23:26:01] src/tree/updater_prune.cc:74: tree pruning end, 1 roots, 44 extra nodes, 34 pruned nodes, max_depth=12\u001b[0m\n",
      "\u001b[34m[38]#011train-rmse:0.296969#011validation-rmse:0.343934\u001b[0m\n",
      "\u001b[34m[23:26:05] src/tree/updater_prune.cc:74: tree pruning end, 1 roots, 62 extra nodes, 44 pruned nodes, max_depth=12\u001b[0m\n",
      "\u001b[34m[39]#011train-rmse:0.295366#011validation-rmse:0.343417\u001b[0m\n",
      "\u001b[34m[23:26:08] src/tree/updater_prune.cc:74: tree pruning end, 1 roots, 44 extra nodes, 24 pruned nodes, max_depth=12\u001b[0m\n",
      "\u001b[34m[40]#011train-rmse:0.293952#011validation-rmse:0.342495\u001b[0m\n",
      "\u001b[34m[23:26:12] src/tree/updater_prune.cc:74: tree pruning end, 1 roots, 52 extra nodes, 26 pruned nodes, max_depth=12\u001b[0m\n",
      "\u001b[34m[41]#011train-rmse:0.292549#011validation-rmse:0.341592\u001b[0m\n",
      "\u001b[34m[23:26:15] src/tree/updater_prune.cc:74: tree pruning end, 1 roots, 50 extra nodes, 36 pruned nodes, max_depth=12\u001b[0m\n",
      "\u001b[34m[42]#011train-rmse:0.290981#011validation-rmse:0.340755\u001b[0m\n",
      "\u001b[34m[23:26:19] src/tree/updater_prune.cc:74: tree pruning end, 1 roots, 46 extra nodes, 42 pruned nodes, max_depth=12\u001b[0m\n",
      "\u001b[34m[43]#011train-rmse:0.289666#011validation-rmse:0.340152\u001b[0m\n",
      "\u001b[34m[23:26:22] src/tree/updater_prune.cc:74: tree pruning end, 1 roots, 30 extra nodes, 22 pruned nodes, max_depth=12\u001b[0m\n",
      "\u001b[34m[44]#011train-rmse:0.288648#011validation-rmse:0.339541\u001b[0m\n",
      "\u001b[34m[23:26:26] src/tree/updater_prune.cc:74: tree pruning end, 1 roots, 58 extra nodes, 42 pruned nodes, max_depth=12\u001b[0m\n",
      "\u001b[34m[45]#011train-rmse:0.287297#011validation-rmse:0.338886\u001b[0m\n",
      "\u001b[34m[23:26:29] src/tree/updater_prune.cc:74: tree pruning end, 1 roots, 46 extra nodes, 44 pruned nodes, max_depth=12\u001b[0m\n",
      "\u001b[34m[46]#011train-rmse:0.286166#011validation-rmse:0.338226\u001b[0m\n",
      "\u001b[34m[23:26:32] src/tree/updater_prune.cc:74: tree pruning end, 1 roots, 52 extra nodes, 36 pruned nodes, max_depth=12\u001b[0m\n",
      "\u001b[34m[47]#011train-rmse:0.284871#011validation-rmse:0.337566\u001b[0m\n",
      "\u001b[34m[23:26:36] src/tree/updater_prune.cc:74: tree pruning end, 1 roots, 36 extra nodes, 24 pruned nodes, max_depth=12\u001b[0m\n",
      "\u001b[34m[48]#011train-rmse:0.283905#011validation-rmse:0.336947\u001b[0m\n",
      "\u001b[34m[23:26:39] src/tree/updater_prune.cc:74: tree pruning end, 1 roots, 30 extra nodes, 22 pruned nodes, max_depth=12\u001b[0m\n",
      "\u001b[34m[49]#011train-rmse:0.28297#011validation-rmse:0.336065\u001b[0m\n",
      "\u001b[34m[23:26:43] src/tree/updater_prune.cc:74: tree pruning end, 1 roots, 38 extra nodes, 58 pruned nodes, max_depth=12\u001b[0m\n",
      "\u001b[34m[50]#011train-rmse:0.281919#011validation-rmse:0.335548\u001b[0m\n",
      "\u001b[34m[23:26:46] src/tree/updater_prune.cc:74: tree pruning end, 1 roots, 42 extra nodes, 38 pruned nodes, max_depth=12\u001b[0m\n",
      "\u001b[34m[51]#011train-rmse:0.28086#011validation-rmse:0.334864\u001b[0m\n",
      "\u001b[34m[23:26:50] src/tree/updater_prune.cc:74: tree pruning end, 1 roots, 54 extra nodes, 50 pruned nodes, max_depth=12\u001b[0m\n",
      "\u001b[34m[52]#011train-rmse:0.279543#011validation-rmse:0.334362\u001b[0m\n"
     ]
    },
    {
     "name": "stdout",
     "output_type": "stream",
     "text": [
      "\u001b[34m[23:26:53] src/tree/updater_prune.cc:74: tree pruning end, 1 roots, 46 extra nodes, 46 pruned nodes, max_depth=12\u001b[0m\n",
      "\u001b[34m[53]#011train-rmse:0.278344#011validation-rmse:0.33364\u001b[0m\n",
      "\u001b[34m[23:26:57] src/tree/updater_prune.cc:74: tree pruning end, 1 roots, 32 extra nodes, 32 pruned nodes, max_depth=12\u001b[0m\n",
      "\u001b[34m[54]#011train-rmse:0.277504#011validation-rmse:0.333061\u001b[0m\n",
      "\u001b[34m[23:27:00] src/tree/updater_prune.cc:74: tree pruning end, 1 roots, 52 extra nodes, 32 pruned nodes, max_depth=12\u001b[0m\n",
      "\u001b[34m[55]#011train-rmse:0.27648#011validation-rmse:0.33238\u001b[0m\n",
      "\u001b[34m[23:27:04] src/tree/updater_prune.cc:74: tree pruning end, 1 roots, 54 extra nodes, 44 pruned nodes, max_depth=12\u001b[0m\n",
      "\u001b[34m[56]#011train-rmse:0.275193#011validation-rmse:0.331744\u001b[0m\n",
      "\u001b[34m[23:27:07] src/tree/updater_prune.cc:74: tree pruning end, 1 roots, 32 extra nodes, 18 pruned nodes, max_depth=12\u001b[0m\n",
      "\u001b[34m[57]#011train-rmse:0.274263#011validation-rmse:0.331207\u001b[0m\n",
      "\u001b[34m[23:27:11] src/tree/updater_prune.cc:74: tree pruning end, 1 roots, 40 extra nodes, 24 pruned nodes, max_depth=12\u001b[0m\n",
      "\u001b[34m[58]#011train-rmse:0.273253#011validation-rmse:0.330842\u001b[0m\n",
      "\u001b[34m[23:27:14] src/tree/updater_prune.cc:74: tree pruning end, 1 roots, 64 extra nodes, 46 pruned nodes, max_depth=12\u001b[0m\n",
      "\u001b[34m[59]#011train-rmse:0.2719#011validation-rmse:0.330518\u001b[0m\n",
      "\u001b[34m[23:27:18] src/tree/updater_prune.cc:74: tree pruning end, 1 roots, 38 extra nodes, 30 pruned nodes, max_depth=12\u001b[0m\n",
      "\u001b[34m[60]#011train-rmse:0.271067#011validation-rmse:0.330001\u001b[0m\n",
      "\u001b[34m[23:27:21] src/tree/updater_prune.cc:74: tree pruning end, 1 roots, 32 extra nodes, 38 pruned nodes, max_depth=12\u001b[0m\n",
      "\u001b[34m[61]#011train-rmse:0.270207#011validation-rmse:0.329552\u001b[0m\n",
      "\u001b[34m[23:27:25] src/tree/updater_prune.cc:74: tree pruning end, 1 roots, 42 extra nodes, 60 pruned nodes, max_depth=12\u001b[0m\n",
      "\u001b[34m[62]#011train-rmse:0.269269#011validation-rmse:0.329242\u001b[0m\n",
      "\u001b[34m[23:27:28] src/tree/updater_prune.cc:74: tree pruning end, 1 roots, 54 extra nodes, 40 pruned nodes, max_depth=12\u001b[0m\n",
      "\u001b[34m[63]#011train-rmse:0.26824#011validation-rmse:0.329092\u001b[0m\n",
      "\u001b[34m[23:27:32] src/tree/updater_prune.cc:74: tree pruning end, 1 roots, 54 extra nodes, 28 pruned nodes, max_depth=12\u001b[0m\n",
      "\u001b[34m[64]#011train-rmse:0.267092#011validation-rmse:0.328691\u001b[0m\n",
      "\u001b[34m[23:27:35] src/tree/updater_prune.cc:74: tree pruning end, 1 roots, 38 extra nodes, 22 pruned nodes, max_depth=12\u001b[0m\n",
      "\u001b[34m[65]#011train-rmse:0.266268#011validation-rmse:0.328253\u001b[0m\n",
      "\u001b[34m[23:27:38] src/tree/updater_prune.cc:74: tree pruning end, 1 roots, 52 extra nodes, 32 pruned nodes, max_depth=12\u001b[0m\n",
      "\u001b[34m[66]#011train-rmse:0.265312#011validation-rmse:0.327715\u001b[0m\n",
      "\u001b[34m[23:27:42] src/tree/updater_prune.cc:74: tree pruning end, 1 roots, 30 extra nodes, 30 pruned nodes, max_depth=12\u001b[0m\n",
      "\u001b[34m[67]#011train-rmse:0.264538#011validation-rmse:0.327123\u001b[0m\n",
      "\u001b[34m[23:27:45] src/tree/updater_prune.cc:74: tree pruning end, 1 roots, 28 extra nodes, 42 pruned nodes, max_depth=12\u001b[0m\n",
      "\u001b[34m[68]#011train-rmse:0.263832#011validation-rmse:0.326738\u001b[0m\n",
      "\u001b[34m[23:27:49] src/tree/updater_prune.cc:74: tree pruning end, 1 roots, 38 extra nodes, 38 pruned nodes, max_depth=12\u001b[0m\n",
      "\u001b[34m[69]#011train-rmse:0.262943#011validation-rmse:0.326462\u001b[0m\n",
      "\u001b[34m[23:27:52] src/tree/updater_prune.cc:74: tree pruning end, 1 roots, 28 extra nodes, 24 pruned nodes, max_depth=12\u001b[0m\n",
      "\u001b[34m[70]#011train-rmse:0.262294#011validation-rmse:0.326115\u001b[0m\n",
      "\u001b[34m[23:27:56] src/tree/updater_prune.cc:74: tree pruning end, 1 roots, 34 extra nodes, 14 pruned nodes, max_depth=12\u001b[0m\n",
      "\u001b[34m[71]#011train-rmse:0.261501#011validation-rmse:0.325722\u001b[0m\n",
      "\u001b[34m[23:27:59] src/tree/updater_prune.cc:74: tree pruning end, 1 roots, 40 extra nodes, 34 pruned nodes, max_depth=12\u001b[0m\n",
      "\u001b[34m[72]#011train-rmse:0.260594#011validation-rmse:0.325499\u001b[0m\n",
      "\u001b[34m[23:28:03] src/tree/updater_prune.cc:74: tree pruning end, 1 roots, 32 extra nodes, 14 pruned nodes, max_depth=12\u001b[0m\n",
      "\u001b[34m[73]#011train-rmse:0.259953#011validation-rmse:0.325032\u001b[0m\n",
      "\u001b[34m[23:28:06] src/tree/updater_prune.cc:74: tree pruning end, 1 roots, 52 extra nodes, 24 pruned nodes, max_depth=12\u001b[0m\n",
      "\u001b[34m[74]#011train-rmse:0.258973#011validation-rmse:0.324521\u001b[0m\n",
      "\u001b[34m[23:28:09] src/tree/updater_prune.cc:74: tree pruning end, 1 roots, 38 extra nodes, 36 pruned nodes, max_depth=12\u001b[0m\n",
      "\u001b[34m[75]#011train-rmse:0.258155#011validation-rmse:0.324234\u001b[0m\n",
      "\u001b[34m[23:28:13] src/tree/updater_prune.cc:74: tree pruning end, 1 roots, 30 extra nodes, 38 pruned nodes, max_depth=12\u001b[0m\n",
      "\u001b[34m[76]#011train-rmse:0.257334#011validation-rmse:0.323994\u001b[0m\n",
      "\u001b[34m[23:28:16] src/tree/updater_prune.cc:74: tree pruning end, 1 roots, 26 extra nodes, 28 pruned nodes, max_depth=12\u001b[0m\n",
      "\u001b[34m[77]#011train-rmse:0.256753#011validation-rmse:0.323646\u001b[0m\n",
      "\u001b[34m[23:28:20] src/tree/updater_prune.cc:74: tree pruning end, 1 roots, 54 extra nodes, 52 pruned nodes, max_depth=12\u001b[0m\n",
      "\u001b[34m[78]#011train-rmse:0.255672#011validation-rmse:0.323179\u001b[0m\n",
      "\u001b[34m[23:28:23] src/tree/updater_prune.cc:74: tree pruning end, 1 roots, 26 extra nodes, 18 pruned nodes, max_depth=12\u001b[0m\n",
      "\u001b[34m[79]#011train-rmse:0.255242#011validation-rmse:0.322823\u001b[0m\n",
      "\u001b[34m[23:28:27] src/tree/updater_prune.cc:74: tree pruning end, 1 roots, 32 extra nodes, 34 pruned nodes, max_depth=12\u001b[0m\n",
      "\u001b[34m[80]#011train-rmse:0.254682#011validation-rmse:0.322598\u001b[0m\n",
      "\u001b[34m[23:28:30] src/tree/updater_prune.cc:74: tree pruning end, 1 roots, 28 extra nodes, 18 pruned nodes, max_depth=12\u001b[0m\n",
      "\u001b[34m[81]#011train-rmse:0.254209#011validation-rmse:0.322479\u001b[0m\n",
      "\u001b[34m[23:28:33] src/tree/updater_prune.cc:74: tree pruning end, 1 roots, 28 extra nodes, 14 pruned nodes, max_depth=12\u001b[0m\n",
      "\u001b[34m[82]#011train-rmse:0.253624#011validation-rmse:0.322445\u001b[0m\n",
      "\u001b[34m[23:28:37] src/tree/updater_prune.cc:74: tree pruning end, 1 roots, 32 extra nodes, 18 pruned nodes, max_depth=12\u001b[0m\n",
      "\u001b[34m[83]#011train-rmse:0.252989#011validation-rmse:0.322083\u001b[0m\n",
      "\u001b[34m[23:28:40] src/tree/updater_prune.cc:74: tree pruning end, 1 roots, 36 extra nodes, 32 pruned nodes, max_depth=12\u001b[0m\n",
      "\u001b[34m[84]#011train-rmse:0.252302#011validation-rmse:0.321884\u001b[0m\n",
      "\u001b[34m[23:28:44] src/tree/updater_prune.cc:74: tree pruning end, 1 roots, 42 extra nodes, 38 pruned nodes, max_depth=12\u001b[0m\n",
      "\u001b[34m[85]#011train-rmse:0.251565#011validation-rmse:0.321592\u001b[0m\n",
      "\u001b[34m[23:28:47] src/tree/updater_prune.cc:74: tree pruning end, 1 roots, 38 extra nodes, 18 pruned nodes, max_depth=12\u001b[0m\n",
      "\u001b[34m[86]#011train-rmse:0.250888#011validation-rmse:0.321312\u001b[0m\n",
      "\u001b[34m[23:28:51] src/tree/updater_prune.cc:74: tree pruning end, 1 roots, 32 extra nodes, 24 pruned nodes, max_depth=12\u001b[0m\n",
      "\u001b[34m[87]#011train-rmse:0.250267#011validation-rmse:0.321001\u001b[0m\n",
      "\u001b[34m[23:28:54] src/tree/updater_prune.cc:74: tree pruning end, 1 roots, 34 extra nodes, 20 pruned nodes, max_depth=12\u001b[0m\n",
      "\u001b[34m[88]#011train-rmse:0.249628#011validation-rmse:0.3207\u001b[0m\n",
      "\u001b[34m[23:28:57] src/tree/updater_prune.cc:74: tree pruning end, 1 roots, 30 extra nodes, 6 pruned nodes, max_depth=12\u001b[0m\n",
      "\u001b[34m[89]#011train-rmse:0.249075#011validation-rmse:0.320461\u001b[0m\n",
      "\u001b[34m[23:29:01] src/tree/updater_prune.cc:74: tree pruning end, 1 roots, 30 extra nodes, 10 pruned nodes, max_depth=12\u001b[0m\n",
      "\u001b[34m[90]#011train-rmse:0.248504#011validation-rmse:0.320359\u001b[0m\n",
      "\u001b[34m[23:29:04] src/tree/updater_prune.cc:74: tree pruning end, 1 roots, 42 extra nodes, 26 pruned nodes, max_depth=12\u001b[0m\n",
      "\u001b[34m[91]#011train-rmse:0.247798#011validation-rmse:0.320144\u001b[0m\n",
      "\u001b[34m[23:29:08] src/tree/updater_prune.cc:74: tree pruning end, 1 roots, 30 extra nodes, 38 pruned nodes, max_depth=12\u001b[0m\n",
      "\u001b[34m[92]#011train-rmse:0.247227#011validation-rmse:0.319964\u001b[0m\n",
      "\u001b[34m[23:29:11] src/tree/updater_prune.cc:74: tree pruning end, 1 roots, 34 extra nodes, 30 pruned nodes, max_depth=12\u001b[0m\n",
      "\u001b[34m[93]#011train-rmse:0.246633#011validation-rmse:0.319924\u001b[0m\n",
      "\u001b[34m[23:29:15] src/tree/updater_prune.cc:74: tree pruning end, 1 roots, 30 extra nodes, 22 pruned nodes, max_depth=12\u001b[0m\n",
      "\u001b[34m[94]#011train-rmse:0.246137#011validation-rmse:0.319786\u001b[0m\n",
      "\u001b[34m[23:29:18] src/tree/updater_prune.cc:74: tree pruning end, 1 roots, 28 extra nodes, 10 pruned nodes, max_depth=12\u001b[0m\n",
      "\u001b[34m[95]#011train-rmse:0.245657#011validation-rmse:0.319632\u001b[0m\n",
      "\u001b[34m[23:29:22] src/tree/updater_prune.cc:74: tree pruning end, 1 roots, 40 extra nodes, 46 pruned nodes, max_depth=12\u001b[0m\n",
      "\u001b[34m[96]#011train-rmse:0.245121#011validation-rmse:0.319338\u001b[0m\n",
      "\u001b[34m[23:29:25] src/tree/updater_prune.cc:74: tree pruning end, 1 roots, 46 extra nodes, 36 pruned nodes, max_depth=12\u001b[0m\n",
      "\u001b[34m[97]#011train-rmse:0.244307#011validation-rmse:0.319166\u001b[0m\n",
      "\u001b[34m[23:29:29] src/tree/updater_prune.cc:74: tree pruning end, 1 roots, 56 extra nodes, 36 pruned nodes, max_depth=12\u001b[0m\n",
      "\u001b[34m[98]#011train-rmse:0.243429#011validation-rmse:0.319051\u001b[0m\n",
      "\u001b[34m[23:29:32] src/tree/updater_prune.cc:74: tree pruning end, 1 roots, 30 extra nodes, 34 pruned nodes, max_depth=12\u001b[0m\n",
      "\u001b[34m[99]#011train-rmse:0.242831#011validation-rmse:0.318867\u001b[0m\n",
      "\u001b[34m[23:29:35] src/tree/updater_prune.cc:74: tree pruning end, 1 roots, 28 extra nodes, 32 pruned nodes, max_depth=12\u001b[0m\n",
      "\u001b[34m[100]#011train-rmse:0.242468#011validation-rmse:0.318952\u001b[0m\n",
      "\u001b[34m[23:29:39] src/tree/updater_prune.cc:74: tree pruning end, 1 roots, 46 extra nodes, 38 pruned nodes, max_depth=12\u001b[0m\n",
      "\u001b[34m[101]#011train-rmse:0.241631#011validation-rmse:0.318578\u001b[0m\n",
      "\u001b[34m[23:29:42] src/tree/updater_prune.cc:74: tree pruning end, 1 roots, 32 extra nodes, 44 pruned nodes, max_depth=12\u001b[0m\n",
      "\u001b[34m[102]#011train-rmse:0.241057#011validation-rmse:0.318167\u001b[0m\n",
      "\u001b[34m[23:29:46] src/tree/updater_prune.cc:74: tree pruning end, 1 roots, 36 extra nodes, 32 pruned nodes, max_depth=12\u001b[0m\n",
      "\u001b[34m[103]#011train-rmse:0.240349#011validation-rmse:0.31795\u001b[0m\n",
      "\u001b[34m[23:29:49] src/tree/updater_prune.cc:74: tree pruning end, 1 roots, 40 extra nodes, 32 pruned nodes, max_depth=12\u001b[0m\n",
      "\u001b[34m[104]#011train-rmse:0.239576#011validation-rmse:0.317685\u001b[0m\n",
      "\u001b[34m[23:29:53] src/tree/updater_prune.cc:74: tree pruning end, 1 roots, 44 extra nodes, 46 pruned nodes, max_depth=12\u001b[0m\n",
      "\u001b[34m[105]#011train-rmse:0.238871#011validation-rmse:0.317352\u001b[0m\n",
      "\u001b[34m[23:29:56] src/tree/updater_prune.cc:74: tree pruning end, 1 roots, 28 extra nodes, 30 pruned nodes, max_depth=12\u001b[0m\n",
      "\u001b[34m[106]#011train-rmse:0.238369#011validation-rmse:0.317109\u001b[0m\n",
      "\u001b[34m[23:30:00] src/tree/updater_prune.cc:74: tree pruning end, 1 roots, 26 extra nodes, 28 pruned nodes, max_depth=12\u001b[0m\n",
      "\u001b[34m[107]#011train-rmse:0.23786#011validation-rmse:0.3169\u001b[0m\n",
      "\u001b[34m[23:30:03] src/tree/updater_prune.cc:74: tree pruning end, 1 roots, 32 extra nodes, 32 pruned nodes, max_depth=12\u001b[0m\n",
      "\u001b[34m[108]#011train-rmse:0.237428#011validation-rmse:0.316807\u001b[0m\n",
      "\u001b[34m[23:30:07] src/tree/updater_prune.cc:74: tree pruning end, 1 roots, 40 extra nodes, 14 pruned nodes, max_depth=12\u001b[0m\n",
      "\u001b[34m[109]#011train-rmse:0.236772#011validation-rmse:0.316672\u001b[0m\n",
      "\u001b[34m[23:30:10] src/tree/updater_prune.cc:74: tree pruning end, 1 roots, 24 extra nodes, 30 pruned nodes, max_depth=12\u001b[0m\n",
      "\u001b[34m[110]#011train-rmse:0.236386#011validation-rmse:0.316539\u001b[0m\n",
      "\u001b[34m[23:30:13] src/tree/updater_prune.cc:74: tree pruning end, 1 roots, 36 extra nodes, 42 pruned nodes, max_depth=12\u001b[0m\n",
      "\u001b[34m[111]#011train-rmse:0.235784#011validation-rmse:0.316374\u001b[0m\n",
      "\u001b[34m[23:30:17] src/tree/updater_prune.cc:74: tree pruning end, 1 roots, 42 extra nodes, 10 pruned nodes, max_depth=12\u001b[0m\n",
      "\u001b[34m[112]#011train-rmse:0.235115#011validation-rmse:0.31642\u001b[0m\n",
      "\u001b[34m[23:30:20] src/tree/updater_prune.cc:74: tree pruning end, 1 roots, 30 extra nodes, 34 pruned nodes, max_depth=12\u001b[0m\n",
      "\u001b[34m[113]#011train-rmse:0.234585#011validation-rmse:0.316175\u001b[0m\n",
      "\u001b[34m[23:30:24] src/tree/updater_prune.cc:74: tree pruning end, 1 roots, 42 extra nodes, 42 pruned nodes, max_depth=12\u001b[0m\n",
      "\u001b[34m[114]#011train-rmse:0.233898#011validation-rmse:0.31617\u001b[0m\n",
      "\u001b[34m[23:30:27] src/tree/updater_prune.cc:74: tree pruning end, 1 roots, 34 extra nodes, 48 pruned nodes, max_depth=12\u001b[0m\n",
      "\u001b[34m[115]#011train-rmse:0.233321#011validation-rmse:0.315926\u001b[0m\n",
      "\u001b[34m[23:30:31] src/tree/updater_prune.cc:74: tree pruning end, 1 roots, 48 extra nodes, 28 pruned nodes, max_depth=12\u001b[0m\n",
      "\u001b[34m[116]#011train-rmse:0.232635#011validation-rmse:0.315967\u001b[0m\n",
      "\u001b[34m[23:30:34] src/tree/updater_prune.cc:74: tree pruning end, 1 roots, 24 extra nodes, 22 pruned nodes, max_depth=12\u001b[0m\n",
      "\u001b[34m[117]#011train-rmse:0.232354#011validation-rmse:0.315817\u001b[0m\n",
      "\u001b[34m[23:30:38] src/tree/updater_prune.cc:74: tree pruning end, 1 roots, 26 extra nodes, 36 pruned nodes, max_depth=12\u001b[0m\n",
      "\u001b[34m[118]#011train-rmse:0.231887#011validation-rmse:0.315709\u001b[0m\n",
      "\u001b[34m[23:30:41] src/tree/updater_prune.cc:74: tree pruning end, 1 roots, 46 extra nodes, 30 pruned nodes, max_depth=12\u001b[0m\n",
      "\u001b[34m[119]#011train-rmse:0.231119#011validation-rmse:0.31571\u001b[0m\n",
      "\u001b[34m[23:30:45] src/tree/updater_prune.cc:74: tree pruning end, 1 roots, 26 extra nodes, 34 pruned nodes, max_depth=12\u001b[0m\n",
      "\u001b[34m[120]#011train-rmse:0.230697#011validation-rmse:0.315662\u001b[0m\n",
      "\u001b[34m[23:30:48] src/tree/updater_prune.cc:74: tree pruning end, 1 roots, 26 extra nodes, 10 pruned nodes, max_depth=12\u001b[0m\n",
      "\u001b[34m[121]#011train-rmse:0.230292#011validation-rmse:0.315627\u001b[0m\n",
      "\u001b[34m[23:30:51] src/tree/updater_prune.cc:74: tree pruning end, 1 roots, 38 extra nodes, 54 pruned nodes, max_depth=12\u001b[0m\n",
      "\u001b[34m[122]#011train-rmse:0.229797#011validation-rmse:0.315439\u001b[0m\n",
      "\u001b[34m[23:30:55] src/tree/updater_prune.cc:74: tree pruning end, 1 roots, 32 extra nodes, 20 pruned nodes, max_depth=12\u001b[0m\n",
      "\u001b[34m[123]#011train-rmse:0.229259#011validation-rmse:0.315194\u001b[0m\n",
      "\u001b[34m[23:30:58] src/tree/updater_prune.cc:74: tree pruning end, 1 roots, 26 extra nodes, 22 pruned nodes, max_depth=12\u001b[0m\n",
      "\u001b[34m[124]#011train-rmse:0.228842#011validation-rmse:0.315306\u001b[0m\n",
      "\u001b[34m[23:31:02] src/tree/updater_prune.cc:74: tree pruning end, 1 roots, 30 extra nodes, 22 pruned nodes, max_depth=12\u001b[0m\n",
      "\u001b[34m[125]#011train-rmse:0.228467#011validation-rmse:0.315272\u001b[0m\n",
      "\u001b[34m[23:31:05] src/tree/updater_prune.cc:74: tree pruning end, 1 roots, 28 extra nodes, 30 pruned nodes, max_depth=12\u001b[0m\n",
      "\u001b[34m[126]#011train-rmse:0.22805#011validation-rmse:0.315089\u001b[0m\n",
      "\u001b[34m[23:31:09] src/tree/updater_prune.cc:74: tree pruning end, 1 roots, 48 extra nodes, 62 pruned nodes, max_depth=12\u001b[0m\n",
      "\u001b[34m[127]#011train-rmse:0.227119#011validation-rmse:0.314887\u001b[0m\n",
      "\u001b[34m[23:31:12] src/tree/updater_prune.cc:74: tree pruning end, 1 roots, 30 extra nodes, 44 pruned nodes, max_depth=12\u001b[0m\n",
      "\u001b[34m[128]#011train-rmse:0.226667#011validation-rmse:0.314812\u001b[0m\n",
      "\u001b[34m[23:31:16] src/tree/updater_prune.cc:74: tree pruning end, 1 roots, 40 extra nodes, 30 pruned nodes, max_depth=12\u001b[0m\n",
      "\u001b[34m[129]#011train-rmse:0.226073#011validation-rmse:0.31474\u001b[0m\n",
      "\u001b[34m[23:31:19] src/tree/updater_prune.cc:74: tree pruning end, 1 roots, 26 extra nodes, 20 pruned nodes, max_depth=12\u001b[0m\n",
      "\u001b[34m[130]#011train-rmse:0.225824#011validation-rmse:0.314697\u001b[0m\n",
      "\u001b[34m[23:31:22] src/tree/updater_prune.cc:74: tree pruning end, 1 roots, 38 extra nodes, 40 pruned nodes, max_depth=12\u001b[0m\n",
      "\u001b[34m[131]#011train-rmse:0.225245#011validation-rmse:0.314608\u001b[0m\n",
      "\u001b[34m[23:31:26] src/tree/updater_prune.cc:74: tree pruning end, 1 roots, 28 extra nodes, 28 pruned nodes, max_depth=12\u001b[0m\n",
      "\u001b[34m[132]#011train-rmse:0.224816#011validation-rmse:0.314379\u001b[0m\n",
      "\u001b[34m[23:31:29] src/tree/updater_prune.cc:74: tree pruning end, 1 roots, 28 extra nodes, 14 pruned nodes, max_depth=12\u001b[0m\n",
      "\u001b[34m[133]#011train-rmse:0.224393#011validation-rmse:0.314355\u001b[0m\n",
      "\u001b[34m[23:31:33] src/tree/updater_prune.cc:74: tree pruning end, 1 roots, 30 extra nodes, 26 pruned nodes, max_depth=12\u001b[0m\n",
      "\u001b[34m[134]#011train-rmse:0.223898#011validation-rmse:0.314027\u001b[0m\n",
      "\u001b[34m[23:31:36] src/tree/updater_prune.cc:74: tree pruning end, 1 roots, 36 extra nodes, 18 pruned nodes, max_depth=12\u001b[0m\n",
      "\u001b[34m[135]#011train-rmse:0.223495#011validation-rmse:0.313969\u001b[0m\n",
      "\u001b[34m[23:31:40] src/tree/updater_prune.cc:74: tree pruning end, 1 roots, 24 extra nodes, 20 pruned nodes, max_depth=12\u001b[0m\n",
      "\u001b[34m[136]#011train-rmse:0.223234#011validation-rmse:0.31386\u001b[0m\n",
      "\u001b[34m[23:31:43] src/tree/updater_prune.cc:74: tree pruning end, 1 roots, 24 extra nodes, 12 pruned nodes, max_depth=12\u001b[0m\n",
      "\u001b[34m[137]#011train-rmse:0.222967#011validation-rmse:0.313639\u001b[0m\n",
      "\u001b[34m[23:31:47] src/tree/updater_prune.cc:74: tree pruning end, 1 roots, 32 extra nodes, 26 pruned nodes, max_depth=12\u001b[0m\n",
      "\u001b[34m[138]#011train-rmse:0.222566#011validation-rmse:0.313553\u001b[0m\n",
      "\u001b[34m[23:31:50] src/tree/updater_prune.cc:74: tree pruning end, 1 roots, 28 extra nodes, 14 pruned nodes, max_depth=12\u001b[0m\n",
      "\u001b[34m[139]#011train-rmse:0.222236#011validation-rmse:0.313455\u001b[0m\n",
      "\u001b[34m[23:31:54] src/tree/updater_prune.cc:74: tree pruning end, 1 roots, 30 extra nodes, 18 pruned nodes, max_depth=12\u001b[0m\n",
      "\u001b[34m[140]#011train-rmse:0.221781#011validation-rmse:0.313134\u001b[0m\n",
      "\u001b[34m[23:31:57] src/tree/updater_prune.cc:74: tree pruning end, 1 roots, 32 extra nodes, 18 pruned nodes, max_depth=12\u001b[0m\n",
      "\u001b[34m[141]#011train-rmse:0.221337#011validation-rmse:0.313001\u001b[0m\n",
      "\u001b[34m[23:32:01] src/tree/updater_prune.cc:74: tree pruning end, 1 roots, 26 extra nodes, 46 pruned nodes, max_depth=12\u001b[0m\n",
      "\u001b[34m[142]#011train-rmse:0.220998#011validation-rmse:0.31307\u001b[0m\n",
      "\u001b[34m[23:32:05] src/tree/updater_prune.cc:74: tree pruning end, 1 roots, 34 extra nodes, 38 pruned nodes, max_depth=12\u001b[0m\n",
      "\u001b[34m[143]#011train-rmse:0.220601#011validation-rmse:0.312953\u001b[0m\n",
      "\u001b[34m[23:32:09] src/tree/updater_prune.cc:74: tree pruning end, 1 roots, 32 extra nodes, 22 pruned nodes, max_depth=12\u001b[0m\n",
      "\u001b[34m[144]#011train-rmse:0.220229#011validation-rmse:0.312835\u001b[0m\n",
      "\u001b[34m[23:32:12] src/tree/updater_prune.cc:74: tree pruning end, 1 roots, 28 extra nodes, 24 pruned nodes, max_depth=12\u001b[0m\n",
      "\u001b[34m[145]#011train-rmse:0.2199#011validation-rmse:0.312883\u001b[0m\n",
      "\u001b[34m[23:32:16] src/tree/updater_prune.cc:74: tree pruning end, 1 roots, 24 extra nodes, 20 pruned nodes, max_depth=12\u001b[0m\n",
      "\u001b[34m[146]#011train-rmse:0.219671#011validation-rmse:0.312728\u001b[0m\n",
      "\u001b[34m[23:32:19] src/tree/updater_prune.cc:74: tree pruning end, 1 roots, 24 extra nodes, 18 pruned nodes, max_depth=12\u001b[0m\n",
      "\u001b[34m[147]#011train-rmse:0.219398#011validation-rmse:0.3127\u001b[0m\n",
      "\u001b[34m[23:32:23] src/tree/updater_prune.cc:74: tree pruning end, 1 roots, 26 extra nodes, 38 pruned nodes, max_depth=10\u001b[0m\n",
      "\u001b[34m[148]#011train-rmse:0.219064#011validation-rmse:0.312564\u001b[0m\n",
      "\u001b[34m[23:32:26] src/tree/updater_prune.cc:74: tree pruning end, 1 roots, 30 extra nodes, 22 pruned nodes, max_depth=12\u001b[0m\n",
      "\u001b[34m[149]#011train-rmse:0.218634#011validation-rmse:0.312647\u001b[0m\n",
      "\u001b[34m[23:32:30] src/tree/updater_prune.cc:74: tree pruning end, 1 roots, 38 extra nodes, 42 pruned nodes, max_depth=12\u001b[0m\n",
      "\u001b[34m[150]#011train-rmse:0.218042#011validation-rmse:0.312306\u001b[0m\n",
      "\u001b[34m[23:32:33] src/tree/updater_prune.cc:74: tree pruning end, 1 roots, 24 extra nodes, 28 pruned nodes, max_depth=12\u001b[0m\n",
      "\u001b[34m[151]#011train-rmse:0.217726#011validation-rmse:0.31218\u001b[0m\n",
      "\u001b[34m[23:32:36] src/tree/updater_prune.cc:74: tree pruning end, 1 roots, 38 extra nodes, 30 pruned nodes, max_depth=12\u001b[0m\n",
      "\u001b[34m[152]#011train-rmse:0.217201#011validation-rmse:0.312203\u001b[0m\n",
      "\u001b[34m[23:32:40] src/tree/updater_prune.cc:74: tree pruning end, 1 roots, 24 extra nodes, 24 pruned nodes, max_depth=12\u001b[0m\n",
      "\u001b[34m[153]#011train-rmse:0.216867#011validation-rmse:0.312232\u001b[0m\n",
      "\u001b[34m[23:32:43] src/tree/updater_prune.cc:74: tree pruning end, 1 roots, 32 extra nodes, 20 pruned nodes, max_depth=12\u001b[0m\n",
      "\u001b[34m[154]#011train-rmse:0.216381#011validation-rmse:0.312264\u001b[0m\n",
      "\u001b[34m[23:32:47] src/tree/updater_prune.cc:74: tree pruning end, 1 roots, 26 extra nodes, 32 pruned nodes, max_depth=12\u001b[0m\n",
      "\u001b[34m[155]#011train-rmse:0.21615#011validation-rmse:0.312133\u001b[0m\n",
      "\u001b[34m[23:32:50] src/tree/updater_prune.cc:74: tree pruning end, 1 roots, 22 extra nodes, 36 pruned nodes, max_depth=10\u001b[0m\n",
      "\u001b[34m[156]#011train-rmse:0.21589#011validation-rmse:0.312136\u001b[0m\n",
      "\u001b[34m[23:32:54] src/tree/updater_prune.cc:74: tree pruning end, 1 roots, 46 extra nodes, 42 pruned nodes, max_depth=12\u001b[0m\n",
      "\u001b[34m[157]#011train-rmse:0.215271#011validation-rmse:0.311993\u001b[0m\n",
      "\u001b[34m[23:32:57] src/tree/updater_prune.cc:74: tree pruning end, 1 roots, 32 extra nodes, 34 pruned nodes, max_depth=12\u001b[0m\n",
      "\u001b[34m[158]#011train-rmse:0.214842#011validation-rmse:0.311948\u001b[0m\n",
      "\u001b[34m[23:33:01] src/tree/updater_prune.cc:74: tree pruning end, 1 roots, 30 extra nodes, 40 pruned nodes, max_depth=12\u001b[0m\n",
      "\u001b[34m[159]#011train-rmse:0.214457#011validation-rmse:0.311881\u001b[0m\n",
      "\u001b[34m[23:33:04] src/tree/updater_prune.cc:74: tree pruning end, 1 roots, 30 extra nodes, 30 pruned nodes, max_depth=12\u001b[0m\n",
      "\u001b[34m[160]#011train-rmse:0.214075#011validation-rmse:0.311829\u001b[0m\n",
      "\u001b[34m[23:33:08] src/tree/updater_prune.cc:74: tree pruning end, 1 roots, 22 extra nodes, 18 pruned nodes, max_depth=11\u001b[0m\n",
      "\u001b[34m[161]#011train-rmse:0.213792#011validation-rmse:0.31182\u001b[0m\n",
      "\u001b[34m[23:33:11] src/tree/updater_prune.cc:74: tree pruning end, 1 roots, 26 extra nodes, 30 pruned nodes, max_depth=12\u001b[0m\n",
      "\u001b[34m[162]#011train-rmse:0.213509#011validation-rmse:0.311736\u001b[0m\n",
      "\u001b[34m[23:33:14] src/tree/updater_prune.cc:74: tree pruning end, 1 roots, 24 extra nodes, 2 pruned nodes, max_depth=12\u001b[0m\n",
      "\u001b[34m[163]#011train-rmse:0.213242#011validation-rmse:0.311633\u001b[0m\n",
      "\u001b[34m[23:33:18] src/tree/updater_prune.cc:74: tree pruning end, 1 roots, 28 extra nodes, 32 pruned nodes, max_depth=12\u001b[0m\n",
      "\u001b[34m[164]#011train-rmse:0.212922#011validation-rmse:0.311738\u001b[0m\n",
      "\u001b[34m[23:33:21] src/tree/updater_prune.cc:74: tree pruning end, 1 roots, 20 extra nodes, 28 pruned nodes, max_depth=9\u001b[0m\n",
      "\u001b[34m[165]#011train-rmse:0.21268#011validation-rmse:0.311722\u001b[0m\n",
      "\u001b[34m[23:33:25] src/tree/updater_prune.cc:74: tree pruning end, 1 roots, 24 extra nodes, 22 pruned nodes, max_depth=12\u001b[0m\n",
      "\u001b[34m[166]#011train-rmse:0.212393#011validation-rmse:0.311525\u001b[0m\n",
      "\u001b[34m[23:33:28] src/tree/updater_prune.cc:74: tree pruning end, 1 roots, 26 extra nodes, 16 pruned nodes, max_depth=11\u001b[0m\n",
      "\u001b[34m[167]#011train-rmse:0.212126#011validation-rmse:0.311529\u001b[0m\n",
      "\u001b[34m[23:33:32] src/tree/updater_prune.cc:74: tree pruning end, 1 roots, 24 extra nodes, 20 pruned nodes, max_depth=12\u001b[0m\n",
      "\u001b[34m[168]#011train-rmse:0.211905#011validation-rmse:0.311493\u001b[0m\n",
      "\u001b[34m[23:33:35] src/tree/updater_prune.cc:74: tree pruning end, 1 roots, 32 extra nodes, 24 pruned nodes, max_depth=12\u001b[0m\n",
      "\u001b[34m[169]#011train-rmse:0.211566#011validation-rmse:0.311472\u001b[0m\n",
      "\u001b[34m[23:33:38] src/tree/updater_prune.cc:74: tree pruning end, 1 roots, 26 extra nodes, 34 pruned nodes, max_depth=12\u001b[0m\n",
      "\u001b[34m[170]#011train-rmse:0.211237#011validation-rmse:0.311354\u001b[0m\n",
      "\u001b[34m[23:33:42] src/tree/updater_prune.cc:74: tree pruning end, 1 roots, 32 extra nodes, 22 pruned nodes, max_depth=12\u001b[0m\n",
      "\u001b[34m[171]#011train-rmse:0.210852#011validation-rmse:0.311491\u001b[0m\n",
      "\u001b[34m[23:33:45] src/tree/updater_prune.cc:74: tree pruning end, 1 roots, 30 extra nodes, 18 pruned nodes, max_depth=12\u001b[0m\n",
      "\u001b[34m[172]#011train-rmse:0.210531#011validation-rmse:0.31157\u001b[0m\n",
      "\u001b[34m[23:33:49] src/tree/updater_prune.cc:74: tree pruning end, 1 roots, 24 extra nodes, 26 pruned nodes, max_depth=12\u001b[0m\n",
      "\u001b[34m[173]#011train-rmse:0.210287#011validation-rmse:0.311586\u001b[0m\n",
      "\u001b[34m[23:33:52] src/tree/updater_prune.cc:74: tree pruning end, 1 roots, 30 extra nodes, 42 pruned nodes, max_depth=12\u001b[0m\n",
      "\u001b[34m[174]#011train-rmse:0.209889#011validation-rmse:0.311455\u001b[0m\n",
      "\u001b[34m[23:33:56] src/tree/updater_prune.cc:74: tree pruning end, 1 roots, 28 extra nodes, 18 pruned nodes, max_depth=12\u001b[0m\n",
      "\u001b[34m[175]#011train-rmse:0.209602#011validation-rmse:0.311327\u001b[0m\n",
      "\u001b[34m[23:33:59] src/tree/updater_prune.cc:74: tree pruning end, 1 roots, 28 extra nodes, 38 pruned nodes, max_depth=12\u001b[0m\n",
      "\u001b[34m[176]#011train-rmse:0.209324#011validation-rmse:0.311165\u001b[0m\n",
      "\u001b[34m[23:34:03] src/tree/updater_prune.cc:74: tree pruning end, 1 roots, 24 extra nodes, 18 pruned nodes, max_depth=12\u001b[0m\n",
      "\u001b[34m[177]#011train-rmse:0.209047#011validation-rmse:0.311115\u001b[0m\n",
      "\u001b[34m[23:34:06] src/tree/updater_prune.cc:74: tree pruning end, 1 roots, 28 extra nodes, 26 pruned nodes, max_depth=12\u001b[0m\n",
      "\u001b[34m[178]#011train-rmse:0.208715#011validation-rmse:0.310932\u001b[0m\n",
      "\u001b[34m[23:34:09] src/tree/updater_prune.cc:74: tree pruning end, 1 roots, 24 extra nodes, 50 pruned nodes, max_depth=12\u001b[0m\n",
      "\u001b[34m[179]#011train-rmse:0.208426#011validation-rmse:0.31104\u001b[0m\n",
      "\u001b[34m[23:34:13] src/tree/updater_prune.cc:74: tree pruning end, 1 roots, 28 extra nodes, 16 pruned nodes, max_depth=12\u001b[0m\n",
      "\u001b[34m[180]#011train-rmse:0.20806#011validation-rmse:0.310955\u001b[0m\n",
      "\u001b[34m[23:34:16] src/tree/updater_prune.cc:74: tree pruning end, 1 roots, 24 extra nodes, 26 pruned nodes, max_depth=12\u001b[0m\n",
      "\u001b[34m[181]#011train-rmse:0.207823#011validation-rmse:0.310758\u001b[0m\n",
      "\u001b[34m[23:34:20] src/tree/updater_prune.cc:74: tree pruning end, 1 roots, 24 extra nodes, 36 pruned nodes, max_depth=11\u001b[0m\n",
      "\u001b[34m[182]#011train-rmse:0.207598#011validation-rmse:0.310591\u001b[0m\n",
      "\u001b[34m[23:34:23] src/tree/updater_prune.cc:74: tree pruning end, 1 roots, 30 extra nodes, 16 pruned nodes, max_depth=12\u001b[0m\n",
      "\u001b[34m[183]#011train-rmse:0.207212#011validation-rmse:0.310627\u001b[0m\n",
      "\u001b[34m[23:34:27] src/tree/updater_prune.cc:74: tree pruning end, 1 roots, 18 extra nodes, 26 pruned nodes, max_depth=9\u001b[0m\n",
      "\u001b[34m[184]#011train-rmse:0.20713#011validation-rmse:0.310572\u001b[0m\n",
      "\u001b[34m[23:34:30] src/tree/updater_prune.cc:74: tree pruning end, 1 roots, 28 extra nodes, 24 pruned nodes, max_depth=12\u001b[0m\n",
      "\u001b[34m[185]#011train-rmse:0.206845#011validation-rmse:0.310624\u001b[0m\n",
      "\u001b[34m[23:34:34] src/tree/updater_prune.cc:74: tree pruning end, 1 roots, 24 extra nodes, 14 pruned nodes, max_depth=12\u001b[0m\n",
      "\u001b[34m[186]#011train-rmse:0.206619#011validation-rmse:0.310626\u001b[0m\n",
      "\u001b[34m[23:34:37] src/tree/updater_prune.cc:74: tree pruning end, 1 roots, 22 extra nodes, 18 pruned nodes, max_depth=11\u001b[0m\n",
      "\u001b[34m[187]#011train-rmse:0.206446#011validation-rmse:0.31062\u001b[0m\n",
      "\u001b[34m[23:34:41] src/tree/updater_prune.cc:74: tree pruning end, 1 roots, 24 extra nodes, 32 pruned nodes, max_depth=12\u001b[0m\n",
      "\u001b[34m[188]#011train-rmse:0.206256#011validation-rmse:0.310481\u001b[0m\n",
      "\u001b[34m[23:34:44] src/tree/updater_prune.cc:74: tree pruning end, 1 roots, 32 extra nodes, 28 pruned nodes, max_depth=12\u001b[0m\n",
      "\u001b[34m[189]#011train-rmse:0.205988#011validation-rmse:0.310378\u001b[0m\n",
      "\u001b[34m[23:34:48] src/tree/updater_prune.cc:74: tree pruning end, 1 roots, 22 extra nodes, 22 pruned nodes, max_depth=11\u001b[0m\n",
      "\u001b[34m[190]#011train-rmse:0.20572#011validation-rmse:0.310373\u001b[0m\n",
      "\u001b[34m[23:34:51] src/tree/updater_prune.cc:74: tree pruning end, 1 roots, 18 extra nodes, 34 pruned nodes, max_depth=9\u001b[0m\n",
      "\u001b[34m[191]#011train-rmse:0.205553#011validation-rmse:0.310353\u001b[0m\n",
      "\u001b[34m[23:34:54] src/tree/updater_prune.cc:74: tree pruning end, 1 roots, 26 extra nodes, 42 pruned nodes, max_depth=12\u001b[0m\n",
      "\u001b[34m[192]#011train-rmse:0.205254#011validation-rmse:0.310414\u001b[0m\n",
      "\u001b[34m[23:34:58] src/tree/updater_prune.cc:74: tree pruning end, 1 roots, 18 extra nodes, 24 pruned nodes, max_depth=8\u001b[0m\n",
      "\u001b[34m[193]#011train-rmse:0.204964#011validation-rmse:0.310386\u001b[0m\n",
      "\u001b[34m[23:35:01] src/tree/updater_prune.cc:74: tree pruning end, 1 roots, 50 extra nodes, 28 pruned nodes, max_depth=12\u001b[0m\n",
      "\u001b[34m[194]#011train-rmse:0.204243#011validation-rmse:0.31033\u001b[0m\n",
      "\u001b[34m[23:35:05] src/tree/updater_prune.cc:74: tree pruning end, 1 roots, 26 extra nodes, 22 pruned nodes, max_depth=12\u001b[0m\n",
      "\u001b[34m[195]#011train-rmse:0.203955#011validation-rmse:0.310158\u001b[0m\n",
      "\u001b[34m[23:35:08] src/tree/updater_prune.cc:74: tree pruning end, 1 roots, 24 extra nodes, 28 pruned nodes, max_depth=12\u001b[0m\n",
      "\u001b[34m[196]#011train-rmse:0.203694#011validation-rmse:0.310097\u001b[0m\n",
      "\u001b[34m[23:35:12] src/tree/updater_prune.cc:74: tree pruning end, 1 roots, 24 extra nodes, 50 pruned nodes, max_depth=10\u001b[0m\n",
      "\u001b[34m[197]#011train-rmse:0.203534#011validation-rmse:0.310087\u001b[0m\n",
      "\u001b[34m[23:35:15] src/tree/updater_prune.cc:74: tree pruning end, 1 roots, 20 extra nodes, 50 pruned nodes, max_depth=7\u001b[0m\n",
      "\u001b[34m[198]#011train-rmse:0.203357#011validation-rmse:0.310066\u001b[0m\n",
      "\u001b[34m[23:35:19] src/tree/updater_prune.cc:74: tree pruning end, 1 roots, 28 extra nodes, 14 pruned nodes, max_depth=11\u001b[0m\n",
      "\u001b[34m[199]#011train-rmse:0.202961#011validation-rmse:0.310037\u001b[0m\n",
      "\u001b[34m[23:35:22] src/tree/updater_prune.cc:74: tree pruning end, 1 roots, 28 extra nodes, 22 pruned nodes, max_depth=12\u001b[0m\n",
      "\u001b[34m[200]#011train-rmse:0.202621#011validation-rmse:0.310044\u001b[0m\n",
      "\u001b[34m[23:35:26] src/tree/updater_prune.cc:74: tree pruning end, 1 roots, 24 extra nodes, 12 pruned nodes, max_depth=12\u001b[0m\n",
      "\u001b[34m[201]#011train-rmse:0.202399#011validation-rmse:0.310116\u001b[0m\n",
      "\u001b[34m[23:35:29] src/tree/updater_prune.cc:74: tree pruning end, 1 roots, 22 extra nodes, 40 pruned nodes, max_depth=11\u001b[0m\n",
      "\u001b[34m[202]#011train-rmse:0.202194#011validation-rmse:0.310107\u001b[0m\n",
      "\u001b[34m[23:35:33] src/tree/updater_prune.cc:74: tree pruning end, 1 roots, 18 extra nodes, 14 pruned nodes, max_depth=9\u001b[0m\n",
      "\u001b[34m[203]#011train-rmse:0.202042#011validation-rmse:0.310137\u001b[0m\n",
      "\u001b[34m[23:35:36] src/tree/updater_prune.cc:74: tree pruning end, 1 roots, 24 extra nodes, 42 pruned nodes, max_depth=9\u001b[0m\n",
      "\u001b[34m[204]#011train-rmse:0.201789#011validation-rmse:0.310129\u001b[0m\n",
      "\u001b[34m[23:35:39] src/tree/updater_prune.cc:74: tree pruning end, 1 roots, 24 extra nodes, 10 pruned nodes, max_depth=12\u001b[0m\n",
      "\u001b[34m[205]#011train-rmse:0.201602#011validation-rmse:0.310125\u001b[0m\n",
      "\u001b[34m[23:35:43] src/tree/updater_prune.cc:74: tree pruning end, 1 roots, 38 extra nodes, 42 pruned nodes, max_depth=12\u001b[0m\n",
      "\u001b[34m[206]#011train-rmse:0.201177#011validation-rmse:0.310272\u001b[0m\n",
      "\u001b[34m[23:35:46] src/tree/updater_prune.cc:74: tree pruning end, 1 roots, 24 extra nodes, 32 pruned nodes, max_depth=12\u001b[0m\n",
      "\u001b[34m[207]#011train-rmse:0.201001#011validation-rmse:0.310326\u001b[0m\n",
      "\u001b[34m[23:35:50] src/tree/updater_prune.cc:74: tree pruning end, 1 roots, 36 extra nodes, 34 pruned nodes, max_depth=12\u001b[0m\n",
      "\u001b[34m[208]#011train-rmse:0.200538#011validation-rmse:0.31027\u001b[0m\n",
      "\u001b[34m[23:35:53] src/tree/updater_prune.cc:74: tree pruning end, 1 roots, 34 extra nodes, 48 pruned nodes, max_depth=12\u001b[0m\n",
      "\u001b[34m[209]#011train-rmse:0.200164#011validation-rmse:0.310252\u001b[0m\n",
      "\u001b[34mStopping. Best iteration:\u001b[0m\n",
      "\u001b[34m[199]#011train-rmse:0.202961#011validation-rmse:0.310037\n",
      "\u001b[0m\n",
      "Training seconds: 794\n",
      "Billable seconds: 794\n"
     ]
    }
   ],
   "source": [
    "# TODO: Create a new estimator object attached to the best training job found during hyperparameter tuning\n",
    "\n",
    "xgb_attached = sagemaker.estimator.Estimator.attach(xgb_hyperparameter_tuner.best_training_job())"
   ]
  },
  {
   "cell_type": "markdown",
   "metadata": {},
   "source": [
    "Now that we have an estimator object attached to the correct training job, we can proceed as we normally would and create a transformer object."
   ]
  },
  {
   "cell_type": "code",
   "execution_count": 35,
   "metadata": {},
   "outputs": [
    {
     "name": "stderr",
     "output_type": "stream",
     "text": [
      "WARNING:sagemaker:Parameter image will be renamed to image_uri in SageMaker Python SDK v2.\n"
     ]
    }
   ],
   "source": [
    "# TODO: Create a transformer object from the attached estimator. Using an instance count of 1 and an instance type of ml.m4.xlarge\n",
    "#       should be more than enough.\n",
    "\n",
    "xgb_transformer = xgb_attached.transformer(instance_count = 1, instance_type = 'ml.m4.xlarge')"
   ]
  },
  {
   "cell_type": "code",
   "execution_count": 40,
   "metadata": {},
   "outputs": [],
   "source": [
    "pd.DataFrame(test_X).to_csv(os.path.join(data_dir, 'test.csv'), header=False, index=False)\n",
    "test_location = session.upload_data(os.path.join(data_dir, 'test.csv'), key_prefix=prefix)"
   ]
  },
  {
   "cell_type": "markdown",
   "metadata": {},
   "source": [
    "Next we actually perform the transform job. When doing so we need to make sure to specify the type of data we are sending so that it is serialized correctly in the background. In our case we are providing our model with csv data so we specify `text/csv`. Also, if the test data that we have provided is too large to process all at once then we need to specify how the data file should be split up. Since each line is a single entry in our data set we tell SageMaker that it can split the input on each line."
   ]
  },
  {
   "cell_type": "code",
   "execution_count": 41,
   "metadata": {},
   "outputs": [],
   "source": [
    "# TODO: Start the transform job. Make sure to specify the content type and the split type of the test data.\n",
    "xgb_transformer.transform(test_location, content_type='text/csv', split_type='Line')"
   ]
  },
  {
   "cell_type": "markdown",
   "metadata": {},
   "source": [
    "Currently the transform job is running but it is doing so in the background. Since we wish to wait until the transform job is done and we would like a bit of feedback we can run the `wait()` method."
   ]
  },
  {
   "cell_type": "code",
   "execution_count": 42,
   "metadata": {},
   "outputs": [
    {
     "name": "stdout",
     "output_type": "stream",
     "text": [
      ".......................\u001b[34mArguments: serve\u001b[0m\n",
      "\u001b[34m[2020-07-18 03:55:12 +0000] [1] [INFO] Starting gunicorn 19.7.1\u001b[0m\n",
      "\u001b[34m[2020-07-18 03:55:12 +0000] [1] [INFO] Listening at: http://0.0.0.0:8080 (1)\u001b[0m\n",
      "\u001b[34m[2020-07-18 03:55:12 +0000] [1] [INFO] Using worker: gevent\u001b[0m\n",
      "\u001b[34m[2020-07-18 03:55:12 +0000] [37] [INFO] Booting worker with pid: 37\u001b[0m\n",
      "\u001b[34m[2020-07-18 03:55:12 +0000] [38] [INFO] Booting worker with pid: 38\u001b[0m\n",
      "\u001b[34m[2020-07-18 03:55:13 +0000] [39] [INFO] Booting worker with pid: 39\u001b[0m\n",
      "\u001b[34m[2020-07-18 03:55:13 +0000] [40] [INFO] Booting worker with pid: 40\u001b[0m\n",
      "\u001b[34m[2020-07-18:03:55:13:INFO] Model loaded successfully for worker : 37\u001b[0m\n",
      "\u001b[34m[2020-07-18:03:55:13:INFO] Model loaded successfully for worker : 38\u001b[0m\n",
      "\u001b[34m[2020-07-18:03:55:13:INFO] Model loaded successfully for worker : 39\u001b[0m\n",
      "\u001b[34m[2020-07-18:03:55:13:INFO] Model loaded successfully for worker : 40\u001b[0m\n",
      "\u001b[32m2020-07-18T03:55:33.748:[sagemaker logs]: MaxConcurrentTransforms=4, MaxPayloadInMB=6, BatchStrategy=MULTI_RECORD\u001b[0m\n",
      "\u001b[34m[2020-07-18:03:55:36:INFO] Sniff delimiter as ','\u001b[0m\n",
      "\u001b[34m[2020-07-18:03:55:36:INFO] Determined delimiter of CSV input is ','\u001b[0m\n",
      "\u001b[34m[2020-07-18:03:55:36:INFO] Sniff delimiter as ','\u001b[0m\n",
      "\u001b[34m[2020-07-18:03:55:36:INFO] Determined delimiter of CSV input is ','\u001b[0m\n",
      "\u001b[34m[2020-07-18:03:55:37:INFO] Sniff delimiter as ','\u001b[0m\n",
      "\u001b[35m[2020-07-18:03:55:36:INFO] Sniff delimiter as ','\u001b[0m\n",
      "\u001b[35m[2020-07-18:03:55:36:INFO] Determined delimiter of CSV input is ','\u001b[0m\n",
      "\u001b[35m[2020-07-18:03:55:36:INFO] Sniff delimiter as ','\u001b[0m\n",
      "\u001b[35m[2020-07-18:03:55:36:INFO] Determined delimiter of CSV input is ','\u001b[0m\n",
      "\u001b[35m[2020-07-18:03:55:37:INFO] Sniff delimiter as ','\u001b[0m\n",
      "\u001b[34m[2020-07-18:03:55:37:INFO] Determined delimiter of CSV input is ','\u001b[0m\n",
      "\u001b[34m[2020-07-18:03:55:37:INFO] Sniff delimiter as ','\u001b[0m\n",
      "\u001b[34m[2020-07-18:03:55:37:INFO] Determined delimiter of CSV input is ','\u001b[0m\n",
      "\u001b[35m[2020-07-18:03:55:37:INFO] Determined delimiter of CSV input is ','\u001b[0m\n",
      "\u001b[35m[2020-07-18:03:55:37:INFO] Sniff delimiter as ','\u001b[0m\n",
      "\u001b[35m[2020-07-18:03:55:37:INFO] Determined delimiter of CSV input is ','\u001b[0m\n",
      "\u001b[34m[2020-07-18:03:55:39:INFO] Sniff delimiter as ','\u001b[0m\n",
      "\u001b[34m[2020-07-18:03:55:39:INFO] Determined delimiter of CSV input is ','\u001b[0m\n",
      "\u001b[34m[2020-07-18:03:55:39:INFO] Sniff delimiter as ','\u001b[0m\n",
      "\u001b[35m[2020-07-18:03:55:39:INFO] Sniff delimiter as ','\u001b[0m\n",
      "\u001b[35m[2020-07-18:03:55:39:INFO] Determined delimiter of CSV input is ','\u001b[0m\n",
      "\u001b[35m[2020-07-18:03:55:39:INFO] Sniff delimiter as ','\u001b[0m\n",
      "\u001b[34m[2020-07-18:03:55:39:INFO] Determined delimiter of CSV input is ','\u001b[0m\n",
      "\u001b[34m[2020-07-18:03:55:39:INFO] Sniff delimiter as ','\u001b[0m\n",
      "\u001b[34m[2020-07-18:03:55:39:INFO] Determined delimiter of CSV input is ','\u001b[0m\n",
      "\u001b[35m[2020-07-18:03:55:39:INFO] Determined delimiter of CSV input is ','\u001b[0m\n",
      "\u001b[35m[2020-07-18:03:55:39:INFO] Sniff delimiter as ','\u001b[0m\n",
      "\u001b[35m[2020-07-18:03:55:39:INFO] Determined delimiter of CSV input is ','\u001b[0m\n",
      "\u001b[34m[2020-07-18:03:55:39:INFO] Sniff delimiter as ','\u001b[0m\n",
      "\u001b[34m[2020-07-18:03:55:39:INFO] Determined delimiter of CSV input is ','\u001b[0m\n",
      "\u001b[35m[2020-07-18:03:55:39:INFO] Sniff delimiter as ','\u001b[0m\n",
      "\u001b[35m[2020-07-18:03:55:39:INFO] Determined delimiter of CSV input is ','\u001b[0m\n",
      "\u001b[34m[2020-07-18:03:55:41:INFO] Sniff delimiter as ','\u001b[0m\n",
      "\u001b[34m[2020-07-18:03:55:41:INFO] Determined delimiter of CSV input is ','\u001b[0m\n",
      "\u001b[34m[2020-07-18:03:55:42:INFO] Sniff delimiter as ','\u001b[0m\n",
      "\u001b[34m[2020-07-18:03:55:42:INFO] Determined delimiter of CSV input is ','\u001b[0m\n",
      "\u001b[34m[2020-07-18:03:55:42:INFO] Sniff delimiter as ','\u001b[0m\n",
      "\u001b[34m[2020-07-18:03:55:42:INFO] Determined delimiter of CSV input is ','\u001b[0m\n",
      "\u001b[34m[2020-07-18:03:55:42:INFO] Sniff delimiter as ','\u001b[0m\n",
      "\u001b[34m[2020-07-18:03:55:42:INFO] Determined delimiter of CSV input is ','\u001b[0m\n",
      "\u001b[35m[2020-07-18:03:55:41:INFO] Sniff delimiter as ','\u001b[0m\n",
      "\u001b[35m[2020-07-18:03:55:41:INFO] Determined delimiter of CSV input is ','\u001b[0m\n",
      "\u001b[35m[2020-07-18:03:55:42:INFO] Sniff delimiter as ','\u001b[0m\n",
      "\u001b[35m[2020-07-18:03:55:42:INFO] Determined delimiter of CSV input is ','\u001b[0m\n",
      "\u001b[35m[2020-07-18:03:55:42:INFO] Sniff delimiter as ','\u001b[0m\n",
      "\u001b[35m[2020-07-18:03:55:42:INFO] Determined delimiter of CSV input is ','\u001b[0m\n",
      "\u001b[35m[2020-07-18:03:55:42:INFO] Sniff delimiter as ','\u001b[0m\n",
      "\u001b[35m[2020-07-18:03:55:42:INFO] Determined delimiter of CSV input is ','\u001b[0m\n",
      "\u001b[34m[2020-07-18:03:55:44:INFO] Sniff delimiter as ','\u001b[0m\n",
      "\u001b[34m[2020-07-18:03:55:44:INFO] Determined delimiter of CSV input is ','\u001b[0m\n",
      "\u001b[34m[2020-07-18:03:55:44:INFO] Sniff delimiter as ','\u001b[0m\n",
      "\u001b[34m[2020-07-18:03:55:44:INFO] Determined delimiter of CSV input is ','\u001b[0m\n",
      "\u001b[34m[2020-07-18:03:55:44:INFO] Sniff delimiter as ','\u001b[0m\n",
      "\u001b[34m[2020-07-18:03:55:44:INFO] Determined delimiter of CSV input is ','\u001b[0m\n",
      "\u001b[34m[2020-07-18:03:55:44:INFO] Sniff delimiter as ','\u001b[0m\n",
      "\u001b[34m[2020-07-18:03:55:44:INFO] Determined delimiter of CSV input is ','\u001b[0m\n",
      "\u001b[35m[2020-07-18:03:55:44:INFO] Sniff delimiter as ','\u001b[0m\n",
      "\u001b[35m[2020-07-18:03:55:44:INFO] Determined delimiter of CSV input is ','\u001b[0m\n",
      "\u001b[35m[2020-07-18:03:55:44:INFO] Sniff delimiter as ','\u001b[0m\n",
      "\u001b[35m[2020-07-18:03:55:44:INFO] Determined delimiter of CSV input is ','\u001b[0m\n",
      "\u001b[35m[2020-07-18:03:55:44:INFO] Sniff delimiter as ','\u001b[0m\n",
      "\u001b[35m[2020-07-18:03:55:44:INFO] Determined delimiter of CSV input is ','\u001b[0m\n",
      "\u001b[35m[2020-07-18:03:55:44:INFO] Sniff delimiter as ','\u001b[0m\n",
      "\u001b[35m[2020-07-18:03:55:44:INFO] Determined delimiter of CSV input is ','\u001b[0m\n",
      "\u001b[34m[2020-07-18:03:55:49:INFO] Sniff delimiter as ','\u001b[0m\n",
      "\u001b[34m[2020-07-18:03:55:49:INFO] Determined delimiter of CSV input is ','\u001b[0m\n",
      "\u001b[34m[2020-07-18:03:55:49:INFO] Sniff delimiter as ','\u001b[0m\n",
      "\u001b[34m[2020-07-18:03:55:49:INFO] Determined delimiter of CSV input is ','\u001b[0m\n",
      "\u001b[34m[2020-07-18:03:55:49:INFO] Sniff delimiter as ','\u001b[0m\n",
      "\u001b[34m[2020-07-18:03:55:49:INFO] Determined delimiter of CSV input is ','\u001b[0m\n",
      "\u001b[34m[2020-07-18:03:55:49:INFO] Sniff delimiter as ','\u001b[0m\n",
      "\u001b[34m[2020-07-18:03:55:49:INFO] Determined delimiter of CSV input is ','\u001b[0m\n",
      "\u001b[35m[2020-07-18:03:55:49:INFO] Sniff delimiter as ','\u001b[0m\n",
      "\u001b[35m[2020-07-18:03:55:49:INFO] Determined delimiter of CSV input is ','\u001b[0m\n",
      "\u001b[35m[2020-07-18:03:55:49:INFO] Sniff delimiter as ','\u001b[0m\n",
      "\u001b[35m[2020-07-18:03:55:49:INFO] Determined delimiter of CSV input is ','\u001b[0m\n",
      "\u001b[35m[2020-07-18:03:55:49:INFO] Sniff delimiter as ','\u001b[0m\n",
      "\u001b[35m[2020-07-18:03:55:49:INFO] Determined delimiter of CSV input is ','\u001b[0m\n",
      "\u001b[35m[2020-07-18:03:55:49:INFO] Sniff delimiter as ','\u001b[0m\n",
      "\u001b[35m[2020-07-18:03:55:49:INFO] Determined delimiter of CSV input is ','\u001b[0m\n",
      "\u001b[34m[2020-07-18:03:55:51:INFO] Sniff delimiter as ','\u001b[0m\n",
      "\u001b[34m[2020-07-18:03:55:51:INFO] Determined delimiter of CSV input is ','\u001b[0m\n",
      "\u001b[34m[2020-07-18:03:55:51:INFO] Sniff delimiter as ','\u001b[0m\n",
      "\u001b[34m[2020-07-18:03:55:51:INFO] Determined delimiter of CSV input is ','\u001b[0m\n",
      "\u001b[35m[2020-07-18:03:55:51:INFO] Sniff delimiter as ','\u001b[0m\n",
      "\u001b[35m[2020-07-18:03:55:51:INFO] Determined delimiter of CSV input is ','\u001b[0m\n",
      "\u001b[35m[2020-07-18:03:55:51:INFO] Sniff delimiter as ','\u001b[0m\n",
      "\u001b[35m[2020-07-18:03:55:51:INFO] Determined delimiter of CSV input is ','\u001b[0m\n",
      "\u001b[34m[2020-07-18:03:55:51:INFO] Sniff delimiter as ','\u001b[0m\n",
      "\u001b[34m[2020-07-18:03:55:51:INFO] Determined delimiter of CSV input is ','\u001b[0m\n",
      "\u001b[34m[2020-07-18:03:55:52:INFO] Sniff delimiter as ','\u001b[0m\n",
      "\u001b[34m[2020-07-18:03:55:52:INFO] Determined delimiter of CSV input is ','\u001b[0m\n",
      "\u001b[35m[2020-07-18:03:55:51:INFO] Sniff delimiter as ','\u001b[0m\n",
      "\u001b[35m[2020-07-18:03:55:51:INFO] Determined delimiter of CSV input is ','\u001b[0m\n",
      "\u001b[35m[2020-07-18:03:55:52:INFO] Sniff delimiter as ','\u001b[0m\n",
      "\u001b[35m[2020-07-18:03:55:52:INFO] Determined delimiter of CSV input is ','\u001b[0m\n",
      "\u001b[34m[2020-07-18:03:55:54:INFO] Sniff delimiter as ','\u001b[0m\n",
      "\u001b[34m[2020-07-18:03:55:54:INFO] Determined delimiter of CSV input is ','\u001b[0m\n",
      "\u001b[34m[2020-07-18:03:55:54:INFO] Sniff delimiter as ','\u001b[0m\n",
      "\u001b[34m[2020-07-18:03:55:54:INFO] Determined delimiter of CSV input is ','\u001b[0m\n",
      "\u001b[34m[2020-07-18:03:55:54:INFO] Sniff delimiter as ','\u001b[0m\n",
      "\u001b[34m[2020-07-18:03:55:54:INFO] Determined delimiter of CSV input is ','\u001b[0m\n",
      "\u001b[34m[2020-07-18:03:55:54:INFO] Sniff delimiter as ','\u001b[0m\n",
      "\u001b[34m[2020-07-18:03:55:54:INFO] Determined delimiter of CSV input is ','\u001b[0m\n",
      "\u001b[35m[2020-07-18:03:55:54:INFO] Sniff delimiter as ','\u001b[0m\n",
      "\u001b[35m[2020-07-18:03:55:54:INFO] Determined delimiter of CSV input is ','\u001b[0m\n",
      "\u001b[35m[2020-07-18:03:55:54:INFO] Sniff delimiter as ','\u001b[0m\n",
      "\u001b[35m[2020-07-18:03:55:54:INFO] Determined delimiter of CSV input is ','\u001b[0m\n",
      "\u001b[35m[2020-07-18:03:55:54:INFO] Sniff delimiter as ','\u001b[0m\n",
      "\u001b[35m[2020-07-18:03:55:54:INFO] Determined delimiter of CSV input is ','\u001b[0m\n",
      "\u001b[35m[2020-07-18:03:55:54:INFO] Sniff delimiter as ','\u001b[0m\n",
      "\u001b[35m[2020-07-18:03:55:54:INFO] Determined delimiter of CSV input is ','\u001b[0m\n",
      "\u001b[34m[2020-07-18:03:55:56:INFO] Sniff delimiter as ','\u001b[0m\n",
      "\u001b[34m[2020-07-18:03:55:56:INFO] Determined delimiter of CSV input is ','\u001b[0m\n",
      "\u001b[34m[2020-07-18:03:55:56:INFO] Sniff delimiter as ','\u001b[0m\n",
      "\u001b[34m[2020-07-18:03:55:56:INFO] Determined delimiter of CSV input is ','\u001b[0m\n",
      "\u001b[34m[2020-07-18:03:55:56:INFO] Sniff delimiter as ','\u001b[0m\n",
      "\u001b[34m[2020-07-18:03:55:56:INFO] Determined delimiter of CSV input is ','\u001b[0m\n",
      "\u001b[35m[2020-07-18:03:55:56:INFO] Sniff delimiter as ','\u001b[0m\n",
      "\u001b[35m[2020-07-18:03:55:56:INFO] Determined delimiter of CSV input is ','\u001b[0m\n",
      "\u001b[35m[2020-07-18:03:55:56:INFO] Sniff delimiter as ','\u001b[0m\n",
      "\u001b[35m[2020-07-18:03:55:56:INFO] Determined delimiter of CSV input is ','\u001b[0m\n",
      "\u001b[35m[2020-07-18:03:55:56:INFO] Sniff delimiter as ','\u001b[0m\n",
      "\u001b[35m[2020-07-18:03:55:56:INFO] Determined delimiter of CSV input is ','\u001b[0m\n"
     ]
    },
    {
     "name": "stdout",
     "output_type": "stream",
     "text": [
      "\n",
      "\u001b[34m[2020-07-18:03:55:59:INFO] Sniff delimiter as ','\u001b[0m\n",
      "\u001b[34m[2020-07-18:03:55:59:INFO] Determined delimiter of CSV input is ','\u001b[0m\n",
      "\u001b[34m[2020-07-18:03:55:59:INFO] Sniff delimiter as ','\u001b[0m\n",
      "\u001b[34m[2020-07-18:03:55:59:INFO] Determined delimiter of CSV input is ','\u001b[0m\n",
      "\u001b[35m[2020-07-18:03:55:59:INFO] Sniff delimiter as ','\u001b[0m\n",
      "\u001b[35m[2020-07-18:03:55:59:INFO] Determined delimiter of CSV input is ','\u001b[0m\n",
      "\u001b[35m[2020-07-18:03:55:59:INFO] Sniff delimiter as ','\u001b[0m\n",
      "\u001b[35m[2020-07-18:03:55:59:INFO] Determined delimiter of CSV input is ','\u001b[0m\n"
     ]
    }
   ],
   "source": [
    "xgb_transformer.wait()"
   ]
  },
  {
   "cell_type": "markdown",
   "metadata": {},
   "source": [
    "Now the transform job has executed and the result, the estimated sentiment of each review, has been saved on S3. Since we would rather work on this file locally we can perform a bit of notebook magic to copy the file to the `data_dir`."
   ]
  },
  {
   "cell_type": "code",
   "execution_count": 43,
   "metadata": {},
   "outputs": [
    {
     "name": "stdout",
     "output_type": "stream",
     "text": [
      "Completed 256.0 KiB/373.3 KiB (698.0 KiB/s) with 1 file(s) remaining\r",
      "Completed 373.3 KiB/373.3 KiB (1012.2 KiB/s) with 1 file(s) remaining\r",
      "download: s3://sagemaker-us-east-1-929462117807/xgboost-200717-2320-001-7314fc7e-2020-07-18-03-51-37-937/test.csv.out to ../data/xgboost/test.csv.out\r\n"
     ]
    }
   ],
   "source": [
    "!aws s3 cp --recursive $xgb_transformer.output_path $data_dir"
   ]
  },
  {
   "cell_type": "markdown",
   "metadata": {},
   "source": [
    "The last step is now to read in the output from our model, convert the output to something a little more usable, in this case we want the sentiment to be either `1` (positive) or `0` (negative), and then compare to the ground truth labels."
   ]
  },
  {
   "cell_type": "code",
   "execution_count": 44,
   "metadata": {},
   "outputs": [],
   "source": [
    "predictions = pd.read_csv(os.path.join(data_dir, 'test.csv.out'), header=None)\n",
    "predictions = [round(num) for num in predictions.squeeze().values]"
   ]
  },
  {
   "cell_type": "code",
   "execution_count": 45,
   "metadata": {},
   "outputs": [
    {
     "data": {
      "text/plain": [
       "0.86928"
      ]
     },
     "execution_count": 45,
     "metadata": {},
     "output_type": "execute_result"
    }
   ],
   "source": [
    "from sklearn.metrics import accuracy_score\n",
    "accuracy_score(test_y, predictions)"
   ]
  },
  {
   "cell_type": "markdown",
   "metadata": {},
   "source": [
    "## Optional: Clean up\n",
    "\n",
    "The default notebook instance on SageMaker doesn't have a lot of excess disk space available. As you continue to complete and execute notebooks you will eventually fill up this disk space, leading to errors which can be difficult to diagnose. Once you are completely finished using a notebook it is a good idea to remove the files that you created along the way. Of course, you can do this from the terminal or from the notebook hub if you would like. The cell below contains some commands to clean up the created files from within the notebook."
   ]
  },
  {
   "cell_type": "code",
   "execution_count": 46,
   "metadata": {},
   "outputs": [],
   "source": [
    "# First we will remove all of the files contained in the data_dir directory\n",
    "!rm $data_dir/*\n",
    "\n",
    "# And then we delete the directory itself\n",
    "!rmdir $data_dir\n",
    "\n",
    "# Similarly we will remove the files in the cache_dir directory and the directory itself\n",
    "!rm $cache_dir/*\n",
    "!rmdir $cache_dir"
   ]
  },
  {
   "cell_type": "code",
   "execution_count": null,
   "metadata": {},
   "outputs": [],
   "source": []
  }
 ],
 "metadata": {
  "kernelspec": {
   "display_name": "conda_python3",
   "language": "python",
   "name": "conda_python3"
  },
  "language_info": {
   "codemirror_mode": {
    "name": "ipython",
    "version": 3
   },
   "file_extension": ".py",
   "mimetype": "text/x-python",
   "name": "python",
   "nbconvert_exporter": "python",
   "pygments_lexer": "ipython3",
   "version": "3.6.10"
  }
 },
 "nbformat": 4,
 "nbformat_minor": 2
}
